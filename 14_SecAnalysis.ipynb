{
 "cells": [
  {
   "cell_type": "code",
   "execution_count": 1,
   "metadata": {},
   "outputs": [],
   "source": [
    "from llama_index.llms import AzureOpenAI\n",
    "from llama_index.embeddings import AzureOpenAIEmbedding\n",
    "from llama_index import VectorStoreIndex, SimpleDirectoryReader, ServiceContext\n",
    "from llama_index import set_global_service_context\n",
    "from llama_index import download_loader\n",
    "from llama_index import GPTVectorStoreIndex\n",
    "from llama_index import SimpleDirectoryReader"
   ]
  },
  {
   "cell_type": "code",
   "execution_count": 2,
   "metadata": {},
   "outputs": [],
   "source": [
    "import openai\n",
    "from Utilities.envVars import *\n",
    "import os\n",
    "\n",
    "# Set OpenAI API key and endpoint\n",
    "azure_endpoint  = f\"{OpenAiEndPoint}\"\n",
    "api_key = OpenAiKey\n",
    "api_version = OpenAiVersion\n",
    "\n",
    "embeddingModelType = \"azureopenai\"\n",
    "temperature = 0.3\n",
    "tokenLength = 1000\n",
    "\n",
    "if (embeddingModelType == 'azureopenai'):\n",
    "        openai.api_type = \"azure\"\n",
    "        openai.api_key = OpenAiKey\n",
    "        openai.api_version = OpenAiVersion\n",
    "        openai.api_base = f\"{OpenAiEndPoint}\"\n",
    "\n",
    "        llm = AzureOpenAI(\n",
    "                model=\"gpt-35-turbo-16k\",\n",
    "                deployment_name=OpenAiChat,\n",
    "                api_key=api_key,\n",
    "                azure_endpoint=azure_endpoint,\n",
    "                api_version=api_version,\n",
    "                )\n",
    "        embeddings = AzureOpenAIEmbedding(\n",
    "                model=\"text-embedding-ada-002\",\n",
    "                deployment_name=OpenAiEmbedding,\n",
    "                api_key=api_key,\n",
    "                azure_endpoint=azure_endpoint,\n",
    "                api_version=api_version,\n",
    "                )\n",
    "        logging.info(\"LLM Setup done\")\n",
    "        service_context = ServiceContext.from_defaults(\n",
    "                llm=llm,\n",
    "                embed_model=embeddings,\n",
    "        )\n",
    "\n",
    "        set_global_service_context(service_context)\n",
    "elif embeddingModelType == \"openai\":\n",
    "       print (\"OpenAI\")"
   ]
  },
  {
   "cell_type": "code",
   "execution_count": 3,
   "metadata": {},
   "outputs": [],
   "source": [
    "# from llama_index import download_loader\n",
    "# SECFilingsLoader = download_loader('SECFilingsLoader')\n",
    "\n",
    "# loader = SECFilingsLoader(tickers=['TSLA'],amount=3,filing_type=\"10-K\")\n",
    "# loader.load_data()"
   ]
  },
  {
   "cell_type": "code",
   "execution_count": 4,
   "metadata": {},
   "outputs": [
    {
     "name": "stdout",
     "output_type": "stream",
     "text": [
      "Loaded 1 documents for year 2022\n",
      "> Source (Doc id: ba212719-142d-40d8-9478-36e8b0e90201): We also offer maintenance, installation, operation, financial and other services related to our p...\n",
      "\n",
      "> Source (Doc id: 7f9658f4-3342-4dba-b030-67d973a02d6c): In 2022, we had over 200 graduates from Tesla START programs, with an additional 100+ graduating ...\n",
      "query was: What are the risk factors of Tesla for the year 2022?\n",
      "answer was: The risk factors for Tesla in 2022 include the impact of macroeconomic conditions resulting from the global COVID-19 pandemic, such as government regulations and shifting social behaviors that may limit or close non-essential transportation and business activities. The pandemic-related issues have also exacerbated port congestion, intermittent supplier shutdowns and delays, and labor shortages, leading to increased expenses, supply chain challenges, and difficulty in hiring and retaining workers. Additionally, the company may face challenges in launching and ramping up production of its products and features, as well as controlling manufacturing costs. Rising interest rates may also potentially impact consumer spending and harm demand for Tesla's products.\n"
     ]
    }
   ],
   "source": [
    "documents = SimpleDirectoryReader(\"data\\\\TSLA\\\\2022\").load_data()\n",
    "print(f\"Loaded {len(documents)} documents for year 2022\")\n",
    "index = VectorStoreIndex.from_documents(documents)\n",
    "#index.query('What are the risk factors of Tesla for the year 2022?')\n",
    "retriever = index.as_retriever()\n",
    "queryEngine = index.as_query_engine()\n",
    "query = 'What are the risk factors of Tesla for the year 2022?'\n",
    "answer = queryEngine.query(query)\n",
    "print(answer.get_formatted_sources())\n",
    "print(\"query was:\", query)\n",
    "print(\"answer was:\", answer)\n"
   ]
  },
  {
   "cell_type": "code",
   "execution_count": 5,
   "metadata": {},
   "outputs": [
    {
     "name": "stdout",
     "output_type": "stream",
     "text": [
      "Loaded 1 documents for year 2022\n",
      "Created index for year 2022\n",
      "Loaded 1 documents for year 2021\n",
      "Created index for year 2021\n"
     ]
    }
   ],
   "source": [
    "from llama_index import ServiceContext\n",
    "#doc_set = {}\n",
    "index_set = {}\n",
    "all_docs = []\n",
    "years = [2022, 2021]\n",
    "for year in years:\n",
    "    year_docs = SimpleDirectoryReader(f\"Data\\\\TSLA\\\\{year}\").load_data()\n",
    "    for d in year_docs:\n",
    "        d.extra_info = {\"year\": year}\n",
    "    print(f\"Loaded {len(year_docs)} documents for year {year}\")\n",
    "    cur_index = VectorStoreIndex.from_documents(year_docs)\n",
    "    print(f\"Created index for year {year}\")\n",
    "    index_set[year] = cur_index\n",
    "    # insert year metadata into each year\n",
    "    #doc_set[year] = year_docs\n",
    "    all_docs.extend(year_docs)"
   ]
  },
  {
   "cell_type": "code",
   "execution_count": 6,
   "metadata": {},
   "outputs": [
    {
     "name": "stdout",
     "output_type": "stream",
     "text": [
      "Some of the biggest risk factors in 2020 were the worldwide impact of the COVID-19 pandemic, which led to temporary suspensions of operations at manufacturing facilities, shutdowns of suppliers, and temporary employee furloughs and compensation reductions. Additionally, there were challenges in product deliveries and deployments due to impediments to administrative activities. Global trade conditions and consumer trends originating from the pandemic also had adverse impacts, such as port congestion, intermittent supplier shutdowns and delays, and a shortfall of semiconductors. Labor shortages resulting from the pandemic, including worker absenteeism, also posed challenges in hiring and retaining manufacturing and service workers.\n",
      "Based on the given context information, there is no mention of any significant acquisitions.\n"
     ]
    }
   ],
   "source": [
    "response = index_set[2021].as_query_engine(similarity_top_k=3).query(\"What were some of the biggest risk factors in 2020?\")\n",
    "print(response)\n",
    "response = index_set[2022].as_query_engine(similarity_top_k=3).query(\"What were some of the significant acquisitions?\")\n",
    "print(response)"
   ]
  },
  {
   "cell_type": "code",
   "execution_count": 12,
   "metadata": {},
   "outputs": [
    {
     "name": "stdout",
     "output_type": "stream",
     "text": [
      "Some of the biggest risk factors in each year include:\n",
      "- In 2022, the risks include being impacted by macroeconomic conditions resulting from the global COVID-19 pandemic, delays in launching and ramping up production, and events outside of their control such as natural disasters, wars, and health epidemics.\n",
      "- In 2022, the risks include being impacted by events outside of their control such as natural disasters, wars, and health epidemics, as well as the potential impact of the global COVID-19 pandemic on economic markets, manufacturing operations, supply chains, employment, and consumer behavior.\n",
      "- In both years, the risks include being impacted by events outside of their control such as natural disasters, wars, and health epidemics, as well as the potential impact of the global COVID-19 pandemic. Additionally, there are risks related to government and economic incentives supporting the development and adoption of their products, and compliance with evolving laws and regulations.\n"
     ]
    }
   ],
   "source": [
    "# NOTE: this global index is a single vector store containing all documents\n",
    "# Only relevant for the section below: \"Can a single vector index answer questions across years?\"\n",
    "global_index = VectorStoreIndex.from_documents(all_docs)\n",
    "\n",
    "risk_query_str = \"What are some of the biggest risk factors in each year?\"\n",
    "response = global_index.as_query_engine(similarity_top_k=3).query(risk_query_str)\n",
    "print(str(response))"
   ]
  },
  {
   "cell_type": "code",
   "execution_count": 13,
   "metadata": {},
   "outputs": [
    {
     "name": "stdout",
     "output_type": "stream",
     "text": [
      "In 2022, the revenue increased compared to 2021. Automotive sales revenue increased by $23.09 billion, or 52%. Automotive leasing revenue increased by $834 million, or 51%. Services and other revenue increased by $2.29 billion, or 60%. Energy generation and storage revenue increased by $1.12 billion, or 40%.\n"
     ]
    }
   ],
   "source": [
    "risk_query_str = \"Compare the revenue from 2021 to 2022?\"\n",
    "response = global_index.as_query_engine(similarity_top_k=3).query(risk_query_str)\n",
    "print(str(response))"
   ]
  },
  {
   "cell_type": "code",
   "execution_count": 7,
   "metadata": {},
   "outputs": [
    {
     "name": "stdout",
     "output_type": "stream",
     "text": [
      "The current risk factors described in the context information are related to the impact of the global COVID-19 pandemic on the company's business. These risks include government regulations and shifting social behaviors that have limited or closed non-essential transportation, government functions, business activities, and person-to-person interactions. The company temporarily suspended operations at its manufacturing facilities worldwide and implemented temporary employee furloughs and compensation reductions during the scaled-back operations in the U.S. The specific year for these risk factors is not mentioned in the context information. Additionally, the context information does not provide risk factors for multiple years or any information about how these risk factors may be changing across years.\n"
     ]
    }
   ],
   "source": [
    "from llama_index import GPTListIndex, LLMPredictor\n",
    "from llama_index.composability import ComposableGraph\n",
    "\n",
    "# set summary text for each doc\n",
    "summaries = {}\n",
    "for year in years:\n",
    "    summaries[year] = f\"TSLA 10-k Filing for {year} fiscal year\"\n",
    "\n",
    "# set number of output tokens\n",
    "llm_predictor = LLMPredictor(llm)\n",
    "service_context = ServiceContext.from_defaults(llm_predictor=llm_predictor)\n",
    "\n",
    "graph = ComposableGraph.from_indices(\n",
    "    GPTListIndex,\n",
    "    [index_set[y] for y in years],\n",
    "    [summaries[y] for y in years],\n",
    "    service_context=service_context\n",
    ")\n",
    "\n",
    "risk_query_str = (\n",
    "    \"Describe the current risk factors. If the year is provided in the information, \"\n",
    "    \"provide that as well. If the context contains risk factors for multiple years, \"\n",
    "    \"explicitly provide the following:\\n\"\n",
    "    \"- A description of the risk factors for each year\\n\"\n",
    "    \"- A summary of how these risk factors are changing across years\"\n",
    ")\n",
    "\n",
    "query_configs = [\n",
    "    {\n",
    "        \"index_struct_type\": \"dict\",\n",
    "        \"query_mode\": \"default\",\n",
    "        \"query_kwargs\": {\n",
    "            \"similarity_top_k\": 3,\n",
    "            # \"include_summary\": True\n",
    "        }\n",
    "    },\n",
    "    {\n",
    "        \"index_struct_type\": \"list\",\n",
    "        \"query_mode\": \"default\",\n",
    "        \"query_kwargs\": {\n",
    "            \"response_mode\": \"tree_summarize\",\n",
    "        }\n",
    "    },\n",
    "]\n",
    "\n",
    "response_summary = graph.as_query_engine(query_configs=query_configs).query(risk_query_str)\n",
    "print(response_summary)"
   ]
  },
  {
   "cell_type": "code",
   "execution_count": 8,
   "metadata": {},
   "outputs": [],
   "source": [
    "# from llama_index import download_loader\n",
    "# from pathlib import Path\n",
    "\n",
    "# UnstructuredReader = download_loader(\"UnstructuredReader\", refresh_cache=True)\n",
    "\n",
    "# loader = UnstructuredReader()\n",
    "# doc_set = {}\n",
    "# all_docs = []\n",
    "# years = [2022, 2021, 2020, 2019]\n",
    "# for year in years:\n",
    "#     year_docs = loader.load_data(file=Path(f'Data\\\\UBER\\\\UBER_{year}.html'), split_documents=False)\n",
    "#     # insert year metadata into each year\n",
    "#     for d in year_docs:\n",
    "#         d.extra_info = {\"year\": year}\n",
    "#     doc_set[year] = year_docs\n",
    "#     all_docs.extend(year_docs)  \n",
    "\n",
    "# from llama_index import ServiceContext\n",
    "# service_context = ServiceContext.from_defaults(chunk_size=512)\n",
    "\n",
    "# # initialize simple vector indices + global vector index\n",
    "# # NOTE: don't run this cell if the indices are already loaded! \n",
    "# index_set = {}\n",
    "# for year in years:\n",
    "#     cur_index = GPTVectorStoreIndex.from_documents(doc_set[year], service_context=service_context)\n",
    "#     index_set[year] = cur_index\n",
    "#     #cur_index.save_to_disk(f'index_{year}.json')"
   ]
  },
  {
   "cell_type": "code",
   "execution_count": 9,
   "metadata": {},
   "outputs": [],
   "source": [
    "# response = index_set[2020].as_query_engine(similarity_top_k=3).query(\"What were some of the biggest risk factors in 2020?\")\n",
    "# print(response)\n",
    "\n",
    "# response = index_set[2020].as_query_engine(similarity_top_k=3).query(\"What were some of the significant acquisitions?\")\n",
    "# print(response)"
   ]
  },
  {
   "cell_type": "code",
   "execution_count": 10,
   "metadata": {},
   "outputs": [],
   "source": [
    "# # NOTE: this global index is a single vector store containing all documents\n",
    "# # Only relevant for the section below: \"Can a single vector index answer questions across years?\"\n",
    "# global_index = GPTVectorStoreIndex.from_documents(all_docs, service_context=service_context)\n",
    "\n",
    "# risk_query_str = \"What are some of the biggest risk factors in each year?\"\n",
    "# response = global_index.as_query_engine(similarity_top_k=3).query(risk_query_str)\n",
    "# print(str(response))"
   ]
  },
  {
   "cell_type": "code",
   "execution_count": 11,
   "metadata": {},
   "outputs": [],
   "source": [
    "# from llama_index import GPTListIndex, LLMPredictor\n",
    "# from langchain import OpenAI\n",
    "# from llama_index.composability import ComposableGraph\n",
    "\n",
    "# # set summary text for each doc\n",
    "# summaries = {}\n",
    "# for year in years:\n",
    "#     summaries[year] = f\"UBER 10-k Filing for {year} fiscal year\"\n",
    "\n",
    "# # set number of output tokens\n",
    "# llm_predictor = LLMPredictor(llm=OpenAI(temperature=0, max_tokens=512))\n",
    "# service_context = ServiceContext.from_defaults(llm_predictor=llm_predictor)\n",
    "\n",
    "# graph = ComposableGraph.from_indices(\n",
    "#     GPTListIndex,\n",
    "#     [index_set[y] for y in years],\n",
    "#     [summaries[y] for y in years],\n",
    "#     service_context=service_context\n",
    "# )\n",
    "\n",
    "# risk_query_str = (\n",
    "#     \"Describe the current risk factors. If the year is provided in the information, \"\n",
    "#     \"provide that as well. If the context contains risk factors for multiple years, \"\n",
    "#     \"explicitly provide the following:\\n\"\n",
    "#     \"- A description of the risk factors for each year\\n\"\n",
    "#     \"- A summary of how these risk factors are changing across years\"\n",
    "# )\n",
    "\n",
    "# query_configs = [\n",
    "#     {\n",
    "#         \"index_struct_type\": \"dict\",\n",
    "#         \"query_mode\": \"default\",\n",
    "#         \"query_kwargs\": {\n",
    "#             \"similarity_top_k\": 1,\n",
    "#             # \"include_summary\": True\n",
    "#         }\n",
    "#     },\n",
    "#     {\n",
    "#         \"index_struct_type\": \"list\",\n",
    "#         \"query_mode\": \"default\",\n",
    "#         \"query_kwargs\": {\n",
    "#             \"response_mode\": \"tree_summarize\",\n",
    "#         }\n",
    "#     },\n",
    "# ]\n",
    "\n",
    "# response_summary = graph.as_query_engine(query_configs=query_configs).query(risk_query_str)\n",
    "# print(response_summary)"
   ]
  },
  {
   "cell_type": "code",
   "execution_count": null,
   "metadata": {},
   "outputs": [],
   "source": []
  }
 ],
 "metadata": {
  "kernelspec": {
   "display_name": "Python 3",
   "language": "python",
   "name": "python3"
  },
  "language_info": {
   "codemirror_mode": {
    "name": "ipython",
    "version": 3
   },
   "file_extension": ".py",
   "mimetype": "text/x-python",
   "name": "python",
   "nbconvert_exporter": "python",
   "pygments_lexer": "ipython3",
   "version": "3.9.13"
  }
 },
 "nbformat": 4,
 "nbformat_minor": 2
}
