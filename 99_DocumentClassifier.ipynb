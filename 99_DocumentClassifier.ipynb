{
 "cells": [
  {
   "cell_type": "code",
   "execution_count": 41,
   "metadata": {},
   "outputs": [],
   "source": [
    "import logging\n",
    "import os\n",
    "import json\n",
    "import pandas as pd\n",
    "from requests import get, post\n",
    "from dotenv import load_dotenv  \n",
    "import time\n",
    "import ast\n",
    "import re\n",
    "from azure.core.credentials import AzureKeyCredential\n",
    "from azure.ai.formrecognizer import (\n",
    "        DocumentModelAdministrationClient,\n",
    "        ClassifierDocumentTypeDetails,\n",
    "        BlobSource,\n",
    "        BlobFileListSource,\n",
    "    )\n",
    "from azure.ai.documentintelligence.models import (\n",
    "                AzureBlobFileListContentSource,\n",
    "                ClassifierDocumentTypeDetails,\n",
    "                BuildDocumentClassifierRequest,\n",
    ")\n",
    "from azure.storage.blob import BlobServiceClient, ContainerSasPermissions, generate_container_sas\n",
    "from datetime import datetime, timezone, timedelta\n",
    "from azure.ai.documentintelligence import DocumentIntelligenceClient\n",
    "from azure.ai.documentintelligence import DocumentIntelligenceAdministrationClient\n",
    "from azure.ai.documentintelligence.models import AnalyzeResult\n",
    "import uuid"
   ]
  },
  {
   "cell_type": "code",
   "execution_count": 2,
   "metadata": {},
   "outputs": [
    {
     "data": {
      "text/plain": [
       "True"
      ]
     },
     "execution_count": 2,
     "metadata": {},
     "output_type": "execute_result"
    }
   ],
   "source": [
    "# Configure environment variables  \n",
    "load_dotenv(dotenv_path='./.env')"
   ]
  },
  {
   "cell_type": "code",
   "execution_count": 26,
   "metadata": {},
   "outputs": [],
   "source": [
    "def createContainerSasUrl(container_client):\n",
    "# [START create_container_sas_url]\n",
    "    # Define the SAS token permissions\n",
    "    sas_permissions=ContainerSasPermissions(read=True, list=True)\n",
    "\n",
    "    # Define the expiry time and start time for the SAS token\n",
    "    start_time = datetime.now(timezone.utc) - timedelta(minutes=1)\n",
    "    expiry_time = datetime.now(timezone.utc) + timedelta(minutes=5)\n",
    "\n",
    "    # Generate the container SAS token\n",
    "    container_sas_token = generate_container_sas(\n",
    "        container_client.account_name,\n",
    "        container_client.container_name,\n",
    "        account_key=container_client.credential.account_key,\n",
    "        permission=sas_permissions,\n",
    "        expiry=expiry_time,\n",
    "        start=start_time,\n",
    "    )\n",
    "    # Create the container sas URL by appending the token to the container url\n",
    "    container_sas_url = f\"{container_client.url}?{container_sas_token}\"\n",
    "\n",
    "    return container_sas_url"
   ]
  },
  {
   "cell_type": "code",
   "execution_count": 27,
   "metadata": {},
   "outputs": [],
   "source": [
    "def getDocTypes(container_client, container_sas_url):\n",
    "# [START get_doctypes]\n",
    "    doc_types = {}\n",
    "    doc_types_list = []\n",
    "\n",
    "    blob_list = container_client.walk_blobs()\n",
    "    for blob in blob_list:\n",
    "        if blob.name.endswith(\".jsonl\"):\n",
    "            doc_type = os.path.splitext(blob.name)[0]\n",
    "            doc_types_list.append(doc_type)\n",
    "\n",
    "    for doc_type in doc_types_list:\n",
    "        doc_types[doc_type] = ClassifierDocumentTypeDetails(\n",
    "            azure_blob_file_list_source=AzureBlobFileListContentSource(\n",
    "                container_url=container_sas_url, \n",
    "                file_list=f\"{doc_type}.jsonl\"\n",
    "            )\n",
    "        )\n",
    "    return doc_types"
   ]
  },
  {
   "cell_type": "code",
   "execution_count": 44,
   "metadata": {},
   "outputs": [],
   "source": [
    "def createDocClient():\n",
    "# [START create_clients]\n",
    "    FormRecognizerEndPoint = os.getenv('FormRecognizerEndPoint')\n",
    "    FormRecognizerKey = os.getenv('FormRecognizerKey')\n",
    "    connect_str = os.getenv(\"ClassifierConnectionString\")\n",
    "    container_name = \"classifier\"\n",
    "\n",
    "    document_model_admin_client = DocumentIntelligenceAdministrationClient(endpoint=FormRecognizerEndPoint, \n",
    "                                                                           credential=AzureKeyCredential(FormRecognizerKey))\n",
    "    blob_service_client = BlobServiceClient.from_connection_string(connect_str)\n",
    "    container_client = blob_service_client.get_container_client(container_name)\n",
    "    \n",
    "    return document_model_admin_client, container_client"
   ]
  },
  {
   "cell_type": "code",
   "execution_count": 35,
   "metadata": {},
   "outputs": [],
   "source": [
    "def printClassifierResult(result):\n",
    "# [START print_classifier_results]\n",
    "    classifierId = result.classifier_id\n",
    "    print(f\"Classifier ID: {result.classifier_id}\")\n",
    "    print(f\"API version used to build the classifier model: {result.api_version}\")\n",
    "    print(f\"Classifier description: {result.description}\")\n",
    "    print(f\"Document classes used for training the model:\")\n",
    "    for doc_type in result.doc_types.items():\n",
    "        print(f\"Document type: {doc_type}\")"
   ]
  },
  {
   "cell_type": "code",
   "execution_count": 33,
   "metadata": {},
   "outputs": [],
   "source": [
    "def buildClassifier():\n",
    "# [START build_classifier]\n",
    "    document_model_admin_client, container_client = createDocClient()\n",
    "    container_sas_url = createContainerSasUrl(container_client)\n",
    "\n",
    "    poller = document_model_admin_client.begin_build_classifier(\n",
    "        BuildDocumentClassifierRequest(\n",
    "            classifier_id=str(uuid.uuid4()),\n",
    "            doc_types= getDocTypes(container_client, container_sas_url),\n",
    "        )\n",
    "        #description=os.environ[\"CLASSIFIER_DESCRIPTION\"]\n",
    "    )\n",
    "    result = poller.result()\n",
    "    printClassifierResult(result)"
   ]
  },
  {
   "cell_type": "code",
   "execution_count": 34,
   "metadata": {},
   "outputs": [
    {
     "name": "stdout",
     "output_type": "stream",
     "text": [
      "Classifier ID: 07b4841c-455a-4e39-9c3f-c6460b4f5a61\n",
      "API version used to build the classifier model: 2024-02-29-preview\n",
      "Classifier description: None\n",
      "Document classes used for training the model:\n",
      "Document type: ('1040A', {'kind': 'azureBlobFileList', 'azureBlobFileListSource': {'containerUrl': 'https://dataaidocumentstor.blob.core.windows.net/classifier', 'fileList': '1040A.jsonl'}})\n",
      "Document type: ('1040B', {'kind': 'azureBlobFileList', 'azureBlobFileListSource': {'containerUrl': 'https://dataaidocumentstor.blob.core.windows.net/classifier', 'fileList': '1040B.jsonl'}})\n"
     ]
    }
   ],
   "source": [
    "buildClassifier()"
   ]
  },
  {
   "cell_type": "code",
   "execution_count": 42,
   "metadata": {},
   "outputs": [],
   "source": [
    "def classifyDocument(classifier_id, doc_path):\n",
    "    docClient = DocumentIntelligenceClient(endpoint=FormRecognizerEndPoint, credential=AzureKeyCredential(FormRecognizerKey))\n",
    "    with open(doc_path, \"rb\") as f:\n",
    "        poller = docClient.begin_classify_document(\n",
    "            classifier_id, classify_request=f, content_type=\"application/pdf\"\n",
    "        )\n",
    "    result: AnalyzeResult = poller.result()\n",
    "\n",
    "    print(\"----Classified documents----\")\n",
    "    if result.documents:\n",
    "        for doc in result.documents:\n",
    "            if doc.bounding_regions:\n",
    "                print(\n",
    "                    f\"Found document of type '{doc.doc_type or 'N/A'}' with a confidence of {doc.confidence} contained on \"\n",
    "                    f\"the following pages: {[region.page_number for region in doc.bounding_regions]}\"\n",
    "                )\n",
    "    # [END classify_document]"
   ]
  },
  {
   "cell_type": "code",
   "execution_count": 43,
   "metadata": {},
   "outputs": [
    {
     "name": "stdout",
     "output_type": "stream",
     "text": [
      "Classifying document Data/Classifier/1040A/IRS_1040_1_01.pdf...\n"
     ]
    },
    {
     "name": "stdout",
     "output_type": "stream",
     "text": [
      "----Classified documents----\n",
      "Found document of type '1040A' with a confidence of 0.498 contained on the following pages: [1, 2]\n",
      "DocumentClassifierDetails(classifier_id=13f642b9-a0b2-4375-b6b6-119cf1e0cbd2, description=IRS document classifier, created_on=2024-05-09 15:06:53+00:00, expires_on=2026-05-09 15:06:53+00:00, api_version=2023-07-31, doc_types={'IRS-1040-A': ClassifierDocumentTypeDetails(source_kind=azureBlobFileList, source=BlobFileListSource(container_url=https://dataaidocumentstor.blob.core.windows.net/classifier, file_list=IRS-1040-A.jsonl)), 'IRS-1040-B': ClassifierDocumentTypeDetails(source_kind=azureBlobFileList, source=BlobFileListSource(container_url=https://dataaidocumentstor.blob.core.windows.net/classifier, file_list=IRS-1040-B.jsonl))})\n"
     ]
    }
   ],
   "source": [
    "doc_path = \"Data/Classifier/1040A/IRS_1040_1_01.pdf\"\n",
    "print(f\"Classifying document {doc_path}...\")\n",
    "request = classifyDocument(classifierId, doc_path)\n",
    "print(result)"
   ]
  },
  {
   "cell_type": "code",
   "execution_count": null,
   "metadata": {},
   "outputs": [],
   "source": []
  }
 ],
 "metadata": {
  "kernelspec": {
   "display_name": "Python 3",
   "language": "python",
   "name": "python3"
  },
  "language_info": {
   "codemirror_mode": {
    "name": "ipython",
    "version": 3
   },
   "file_extension": ".py",
   "mimetype": "text/x-python",
   "name": "python",
   "nbconvert_exporter": "python",
   "pygments_lexer": "ipython3",
   "version": "3.11.0"
  }
 },
 "nbformat": 4,
 "nbformat_minor": 2
}
