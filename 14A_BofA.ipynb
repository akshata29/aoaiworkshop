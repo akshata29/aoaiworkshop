{
 "cells": [
  {
   "cell_type": "code",
   "execution_count": 1,
   "metadata": {},
   "outputs": [],
   "source": [
    "from pydantic import BaseModel\n",
    "from unstructured.partition.html import partition_html\n",
    "import pandas as pd\n",
    "\n",
    "pd.set_option(\"display.max_rows\", None)\n",
    "pd.set_option(\"display.max_columns\", None)\n",
    "pd.set_option(\"display.width\", None)\n",
    "pd.set_option(\"display.max_colwidth\", None)"
   ]
  },
  {
   "cell_type": "code",
   "execution_count": 32,
   "metadata": {},
   "outputs": [],
   "source": [
    "from llama_index.llms import AzureOpenAI\n",
    "from llama_index.embeddings import AzureOpenAIEmbedding\n",
    "from llama_index import VectorStoreIndex, SimpleDirectoryReader, ServiceContext\n",
    "from llama_index import set_global_service_context\n",
    "from llama_index import GPTVectorStoreIndex\n",
    "from llama_index import SimpleDirectoryReader\n",
    "from llama_index.tools import QueryEngineTool, ToolMetadata\n",
    "from llama_index.query_engine import SubQuestionQueryEngine\n",
    "from llama_index import StorageContext, load_index_from_storage"
   ]
  },
  {
   "cell_type": "code",
   "execution_count": 3,
   "metadata": {},
   "outputs": [],
   "source": [
    "import openai\n",
    "from Utilities.envVars import *\n",
    "import os\n",
    "\n",
    "# Set OpenAI API key and endpoint\n",
    "azure_endpoint  = f\"{OpenAiEndPoint}\"\n",
    "api_key = OpenAiKey\n",
    "api_version = OpenAiVersion\n",
    "\n",
    "embeddingModelType = \"azureopenai\"\n",
    "temperature = 0.3\n",
    "tokenLength = 1000\n",
    "\n",
    "if (embeddingModelType == 'azureopenai'):\n",
    "        openai.api_type = \"azure\"\n",
    "        openai.api_key = OpenAiKey\n",
    "        openai.api_version = OpenAiVersion\n",
    "        openai.api_base = f\"{OpenAiEndPoint}\"\n",
    "\n",
    "        llm = AzureOpenAI(\n",
    "                model=\"gpt-35-turbo-16k\",\n",
    "                deployment_name=OpenAiChat,\n",
    "                api_key=api_key,\n",
    "                azure_endpoint=azure_endpoint,\n",
    "                api_version=api_version,\n",
    "                )\n",
    "        embeddings = AzureOpenAIEmbedding(\n",
    "                model=\"text-embedding-ada-002\",\n",
    "                deployment_name=OpenAiEmbedding,\n",
    "                api_key=api_key,\n",
    "                azure_endpoint=azure_endpoint,\n",
    "                api_version=api_version,\n",
    "                )\n",
    "        logging.info(\"LLM Setup done\")\n",
    "        service_context = ServiceContext.from_defaults(\n",
    "                llm=llm,\n",
    "                embed_model=embeddings,\n",
    "        )\n",
    "\n",
    "        set_global_service_context(service_context)\n",
    "elif embeddingModelType == \"openai\":\n",
    "       print (\"OpenAI\")"
   ]
  },
  {
   "cell_type": "markdown",
   "metadata": {},
   "source": [
    "#### Data Loading"
   ]
  },
  {
   "cell_type": "code",
   "execution_count": 5,
   "metadata": {},
   "outputs": [],
   "source": [
    "bofA2018 = SimpleDirectoryReader(input_files=[\"data/BOFA/BofA 2018.pdf\"]).load_data()\n",
    "bofA2019 = SimpleDirectoryReader(input_files=[\"data/BOFA/BofA 2019.pdf\"]).load_data()\n",
    "bofA2020 = SimpleDirectoryReader(input_files=[\"data/BOFA/BofA 2020.pdf\"]).load_data()\n",
    "bofA2021 = SimpleDirectoryReader(input_files=[\"data/BOFA/BofA 2021.pdf\"]).load_data()\n",
    "bofA2022 = SimpleDirectoryReader(input_files=[\"data/BOFA/BofA 2022.pdf\"]).load_data()"
   ]
  },
  {
   "cell_type": "code",
   "execution_count": 7,
   "metadata": {},
   "outputs": [
    {
     "name": "stdout",
     "output_type": "stream",
     "text": [
      "Loaded 2018 10-K with 211 pages\n",
      "Loaded 2019 10-K with 501 pages\n",
      "Loaded 2020 10-K with 512 pages\n",
      "Loaded 2021 10-K with 611 pages\n",
      "Loaded 2022 10-K with 352 pages\n"
     ]
    }
   ],
   "source": [
    "print(f'Loaded 2018 10-K with {len(bofA2018)} pages')\n",
    "print(f'Loaded 2019 10-K with {len(bofA2019)} pages')\n",
    "print(f'Loaded 2020 10-K with {len(bofA2020)} pages')\n",
    "print(f'Loaded 2021 10-K with {len(bofA2021)} pages')\n",
    "print(f'Loaded 2022 10-K with {len(bofA2022)} pages')"
   ]
  },
  {
   "cell_type": "markdown",
   "metadata": {},
   "source": [
    "#### Now, we can build an (in-memory) VectorStoreIndex over the documents that we've loaded."
   ]
  },
  {
   "cell_type": "code",
   "execution_count": 8,
   "metadata": {},
   "outputs": [],
   "source": [
    "### Build the Index - One time\n",
    "\n",
    "# index_2018 = VectorStoreIndex.from_documents(bofA2018)\n",
    "# index_2019 = VectorStoreIndex.from_documents(bofA2019)\n",
    "# index_2020 = VectorStoreIndex.from_documents(bofA2020)\n",
    "# index_2021 = VectorStoreIndex.from_documents(bofA2021)\n",
    "# index_2022 = VectorStoreIndex.from_documents(bofA2022)\n",
    "\n",
    "# Persist the Index - One time\n",
    "# index_2018.storage_context.persist(persist_dir=\"Data/BOFA/2018\")\n",
    "# index_2019.storage_context.persist(persist_dir=\"Data/BOFA/2019\")\n",
    "# index_2020.storage_context.persist(persist_dir=\"Data/BOFA/2020\")\n",
    "# index_2021.storage_context.persist(persist_dir=\"Data/BOFA/2021\")\n",
    "# index_2022.storage_context.persist(persist_dir=\"Data/BOFA/2022\")"
   ]
  },
  {
   "cell_type": "code",
   "execution_count": 40,
   "metadata": {},
   "outputs": [
    {
     "name": "stderr",
     "output_type": "stream",
     "text": [
      "c:\\Users\\astalati\\AppData\\Local\\Programs\\Python\\Python39\\lib\\site-packages\\pypdf\\generic\\_base.py:401: RuntimeWarning: coroutine 'run_async_tasks.<locals>._gather' was never awaited\n",
      "  return int.__new__(cls, int(value))\n",
      "RuntimeWarning: Enable tracemalloc to get the object allocation traceback\n",
      "c:\\Users\\astalati\\AppData\\Local\\Programs\\Python\\Python39\\lib\\site-packages\\pypdf\\generic\\_base.py:401: RuntimeWarning: coroutine 'SubQuestionQueryEngine._aquery_subq' was never awaited\n",
      "  return int.__new__(cls, int(value))\n",
      "RuntimeWarning: Enable tracemalloc to get the object allocation traceback\n"
     ]
    }
   ],
   "source": [
    "# ### Build the Index - One time - JMPC\n",
    "\n",
    "# Jpmc2018 = SimpleDirectoryReader(input_files=[\"data/JPMC/JPMC2018.pdf\"]).load_data()\n",
    "# Jpmc2019 = SimpleDirectoryReader(input_files=[\"data/JPMC/JPMC2019.pdf\"]).load_data()\n",
    "# Jpmc2020 = SimpleDirectoryReader(input_files=[\"data/JPMC/JPMC2020.pdf\"]).load_data()\n",
    "# Jpmc2021 = SimpleDirectoryReader(input_files=[\"data/JPMC/JPMC2021.pdf\"]).load_data()\n",
    "# Jpmc2022 = SimpleDirectoryReader(input_files=[\"data/JPMC/JPMC2022.pdf\"]).load_data()\n",
    "\n",
    "# jpmc_2018 = VectorStoreIndex.from_documents(Jpmc2018)\n",
    "# jpmc_2019 = VectorStoreIndex.from_documents(Jpmc2019)\n",
    "# jpmc_2020 = VectorStoreIndex.from_documents(Jpmc2020)\n",
    "# jpmc_2021 = VectorStoreIndex.from_documents(Jpmc2021)\n",
    "# jpmc_2022 = VectorStoreIndex.from_documents(Jpmc2022)\n",
    "\n",
    "# jpmc_2018.storage_context.persist(persist_dir=\"Data/JPMC/2018\")\n",
    "# jpmc_2019.storage_context.persist(persist_dir=\"Data/JPMC/2019\")\n",
    "# jpmc_2020.storage_context.persist(persist_dir=\"Data/JPMC/2020\")\n",
    "# jpmc_2021.storage_context.persist(persist_dir=\"Data/JPMC/2021\")\n",
    "# jpmc_2022.storage_context.persist(persist_dir=\"Data/JPMC/2022\")"
   ]
  },
  {
   "cell_type": "code",
   "execution_count": 47,
   "metadata": {},
   "outputs": [],
   "source": [
    "# ### Build the Index - One time - MS\n",
    "\n",
    "# MS2018 = SimpleDirectoryReader(input_files=[\"data/MS/MS2018.pdf\"]).load_data()\n",
    "# MS2019 = SimpleDirectoryReader(input_files=[\"data/MS/MS2019.pdf\"]).load_data()\n",
    "# MS2020 = SimpleDirectoryReader(input_files=[\"data/MS/MS2020.pdf\"]).load_data()\n",
    "# MS2021 = SimpleDirectoryReader(input_files=[\"data/MS/MS2021.pdf\"]).load_data()\n",
    "# MS2022 = SimpleDirectoryReader(input_files=[\"data/MS/MS2022.pdf\"]).load_data()\n",
    "\n",
    "# MS_2018 = VectorStoreIndex.from_documents(MS2018)\n",
    "# MS_2019 = VectorStoreIndex.from_documents(MS2019)\n",
    "# MS_2020 = VectorStoreIndex.from_documents(MS2020)\n",
    "# MS_2021 = VectorStoreIndex.from_documents(MS2021)\n",
    "# MS_2022 = VectorStoreIndex.from_documents(MS2022)\n",
    "\n",
    "# MS_2018.storage_context.persist(persist_dir=\"Data/MS/2018\")\n",
    "# MS_2019.storage_context.persist(persist_dir=\"Data/MS/2019\")\n",
    "# MS_2020.storage_context.persist(persist_dir=\"Data/MS/2020\")\n",
    "# MS_2021.storage_context.persist(persist_dir=\"Data/MS/2021\")\n",
    "# MS_2022.storage_context.persist(persist_dir=\"Data/MS/2022\")"
   ]
  },
  {
   "cell_type": "code",
   "execution_count": 52,
   "metadata": {},
   "outputs": [],
   "source": [
    "# ### Build the Index - One time - GS\n",
    "\n",
    "# GS2018 = SimpleDirectoryReader(input_files=[\"data/GS/GS2018.pdf\"]).load_data()\n",
    "# GS2019 = SimpleDirectoryReader(input_files=[\"data/GS/GS2019.pdf\"]).load_data()\n",
    "# GS2020 = SimpleDirectoryReader(input_files=[\"data/GS/GS2020.pdf\"]).load_data()\n",
    "# GS2021 = SimpleDirectoryReader(input_files=[\"data/GS/GS2021.pdf\"]).load_data()\n",
    "# GS2022 = SimpleDirectoryReader(input_files=[\"data/GS/GS2022.pdf\"]).load_data()\n",
    "\n",
    "# GS_2018 = VectorStoreIndex.from_documents(GS2018)\n",
    "# GS_2019 = VectorStoreIndex.from_documents(GS2019)\n",
    "# GS_2020 = VectorStoreIndex.from_documents(GS2020)\n",
    "# GS_2021 = VectorStoreIndex.from_documents(GS2021)\n",
    "# GS_2022 = VectorStoreIndex.from_documents(GS2022)\n",
    "\n",
    "# GS_2018.storage_context.persist(persist_dir=\"Data/GS/2018\")\n",
    "# GS_2019.storage_context.persist(persist_dir=\"Data/GS/2019\")\n",
    "# GS_2020.storage_context.persist(persist_dir=\"Data/GS/2020\")\n",
    "# GS_2021.storage_context.persist(persist_dir=\"Data/GS/2021\")\n",
    "# GS_2022.storage_context.persist(persist_dir=\"Data/GS/2022\")"
   ]
  },
  {
   "cell_type": "code",
   "execution_count": 69,
   "metadata": {},
   "outputs": [],
   "source": [
    "# Load the Index - Every time\n",
    "# rebuild storage context\n",
    "storageContext = StorageContext.from_defaults(persist_dir=\"Data/BOFA/2018\")\n",
    "# load index\n",
    "bofa2018Index = load_index_from_storage(storageContext)\n",
    "\n",
    "storageContext = StorageContext.from_defaults(persist_dir=\"Data/BOFA/2019\")\n",
    "bofa2019Index = load_index_from_storage(storageContext)\n",
    "\n",
    "storageContext = StorageContext.from_defaults(persist_dir=\"Data/BOFA/2020\")\n",
    "bofa2020Index = load_index_from_storage(storageContext)\n",
    "\n",
    "storageContext = StorageContext.from_defaults(persist_dir=\"Data/BOFA/2021\")\n",
    "bofa2021Index = load_index_from_storage(storageContext)\n",
    "\n",
    "storageContext = StorageContext.from_defaults(persist_dir=\"Data/BOFA/2022\")\n",
    "bofa2022Index = load_index_from_storage(storageContext)"
   ]
  },
  {
   "cell_type": "code",
   "execution_count": 41,
   "metadata": {},
   "outputs": [],
   "source": [
    "# Load the Index - Every time\n",
    "# rebuild storage context\n",
    "storageContext = StorageContext.from_defaults(persist_dir=\"Data/JPMC/2018\")\n",
    "# load index\n",
    "jpmc2018Index = load_index_from_storage(storageContext)\n",
    "\n",
    "storageContext = StorageContext.from_defaults(persist_dir=\"Data/JPMC/2019\")\n",
    "jpmc2019Index = load_index_from_storage(storageContext)\n",
    "\n",
    "storageContext = StorageContext.from_defaults(persist_dir=\"Data/JPMC/2020\")\n",
    "jpmc2020Index = load_index_from_storage(storageContext)\n",
    "\n",
    "storageContext = StorageContext.from_defaults(persist_dir=\"Data/JPMC/2021\")\n",
    "jpmc2021Index = load_index_from_storage(storageContext)\n",
    "\n",
    "storageContext = StorageContext.from_defaults(persist_dir=\"Data/JPMC/2022\")\n",
    "jpmc2022Index = load_index_from_storage(storageContext)\n"
   ]
  },
  {
   "cell_type": "code",
   "execution_count": 53,
   "metadata": {},
   "outputs": [],
   "source": [
    "# Load the Index - Every time\n",
    "# rebuild storage context\n",
    "storageContext = StorageContext.from_defaults(persist_dir=\"Data/MS/2018\")\n",
    "# load index\n",
    "MS2018Index = load_index_from_storage(storageContext)\n",
    "\n",
    "storageContext = StorageContext.from_defaults(persist_dir=\"Data/MS/2019\")\n",
    "MS2019Index = load_index_from_storage(storageContext)\n",
    "\n",
    "storageContext = StorageContext.from_defaults(persist_dir=\"Data/MS/2020\")\n",
    "MS2020Index = load_index_from_storage(storageContext)\n",
    "\n",
    "storageContext = StorageContext.from_defaults(persist_dir=\"Data/MS/2021\")\n",
    "MS2021Index = load_index_from_storage(storageContext)\n",
    "\n",
    "storageContext = StorageContext.from_defaults(persist_dir=\"Data/MS/2022\")\n",
    "MS2022Index = load_index_from_storage(storageContext)\n"
   ]
  },
  {
   "cell_type": "code",
   "execution_count": 54,
   "metadata": {},
   "outputs": [],
   "source": [
    "# Load the Index - Every time\n",
    "# rebuild storage context\n",
    "storageContext = StorageContext.from_defaults(persist_dir=\"Data/GS/2018\")\n",
    "# load index\n",
    "GS2018Index = load_index_from_storage(storageContext)\n",
    "\n",
    "storageContext = StorageContext.from_defaults(persist_dir=\"Data/GS/2019\")\n",
    "GS2019Index = load_index_from_storage(storageContext)\n",
    "\n",
    "storageContext = StorageContext.from_defaults(persist_dir=\"Data/GS/2020\")\n",
    "GS2020Index = load_index_from_storage(storageContext)\n",
    "\n",
    "storageContext = StorageContext.from_defaults(persist_dir=\"Data/GS/2021\")\n",
    "GS2021Index = load_index_from_storage(storageContext)\n",
    "\n",
    "storageContext = StorageContext.from_defaults(persist_dir=\"Data/GS/2022\")\n",
    "GS2022Index = load_index_from_storage(storageContext)"
   ]
  },
  {
   "cell_type": "markdown",
   "metadata": {},
   "source": [
    "#### Simple QA\n",
    "Now we are ready to run some queries against our indices!\n",
    "To do so, we first configure a QueryEngine, which just captures a set of configurations for how we want to query the underlying index.\n",
    "\n",
    "For a VectorStoreIndex, the most common configuration to adjust is similarity_top_k which controls how many document chunks (which we call Node objects) are retrieved to use as context for answering our question."
   ]
  },
  {
   "cell_type": "code",
   "execution_count": 36,
   "metadata": {},
   "outputs": [],
   "source": [
    "bofa2018Engine = bofa2018Index.as_query_engine(similarity_top_k=3)\n",
    "bofa2019Engine = bofa2019Index.as_query_engine(similarity_top_k=3)\n",
    "bofa2020Engine = bofa2020Index.as_query_engine(similarity_top_k=3)\n",
    "bofa2021Engine = bofa2021Index.as_query_engine(similarity_top_k=3)\n",
    "bofa2022Engine = bofa2022Index.as_query_engine(similarity_top_k=3)"
   ]
  },
  {
   "cell_type": "code",
   "execution_count": 43,
   "metadata": {},
   "outputs": [],
   "source": [
    "jpmc2018Engine = jpmc2018Index.as_query_engine(similarity_top_k=3)\n",
    "jpmc2019Engine = jpmc2019Index.as_query_engine(similarity_top_k=3)\n",
    "jpmc2020Engine = jpmc2020Index.as_query_engine(similarity_top_k=3)\n",
    "jpmc2021Engine = jpmc2021Index.as_query_engine(similarity_top_k=3)\n",
    "jpmc2022Engine = jpmc2022Index.as_query_engine(similarity_top_k=3)"
   ]
  },
  {
   "cell_type": "code",
   "execution_count": 55,
   "metadata": {},
   "outputs": [],
   "source": [
    "MS2018Engine = MS2018Index.as_query_engine(similarity_top_k=3)\n",
    "MS2019Engine = MS2019Index.as_query_engine(similarity_top_k=3)\n",
    "MS2020Engine = MS2020Index.as_query_engine(similarity_top_k=3)\n",
    "MS2021Engine = MS2021Index.as_query_engine(similarity_top_k=3)\n",
    "MS2022Engine = MS2022Index.as_query_engine(similarity_top_k=3)"
   ]
  },
  {
   "cell_type": "code",
   "execution_count": 56,
   "metadata": {},
   "outputs": [],
   "source": [
    "GS2018Engine = GS2018Index.as_query_engine(similarity_top_k=3)\n",
    "GS2019Engine = GS2019Index.as_query_engine(similarity_top_k=3)\n",
    "GS2020Engine = GS2020Index.as_query_engine(similarity_top_k=3)\n",
    "GS2021Engine = GS2021Index.as_query_engine(similarity_top_k=3)\n",
    "GS2022Engine = GS2022Index.as_query_engine(similarity_top_k=3)"
   ]
  },
  {
   "cell_type": "code",
   "execution_count": 37,
   "metadata": {},
   "outputs": [
    {
     "name": "stdout",
     "output_type": "stream",
     "text": [
      "The revenue of BofA in 2021 is $89,113 million. This information can be found on page 92.\n"
     ]
    }
   ],
   "source": [
    "response = await bofa2021Engine.aquery('What is the revenue of BofA in 2021? Answer in millions with page reference')\n",
    "print(response)"
   ]
  },
  {
   "cell_type": "markdown",
   "metadata": {},
   "source": [
    "#### For more complex financial analysis, one often needs to reference multiple documents.\n",
    "\n",
    "As a example, let's take a look at how to do compare-and-contrast queries over both Lyft and Uber financials.\n",
    "For this, we build a SubQuestionQueryEngine, which breaks down a complex compare-and-contrast query, into simpler sub-questions to execute on respective sub query engine backed by individual indices."
   ]
  },
  {
   "cell_type": "code",
   "execution_count": 38,
   "metadata": {},
   "outputs": [],
   "source": [
    "query_engine_tools = [\n",
    "    QueryEngineTool(\n",
    "        query_engine=bofa2018Engine, \n",
    "        metadata=ToolMetadata(name='2018Bofa_10k', description='Provides information about Bank of America financials for year 2018')\n",
    "    ),\n",
    "    QueryEngineTool(\n",
    "        query_engine=bofa2019Engine, \n",
    "        metadata=ToolMetadata(name='2019Bofa_10k', description='Provides information about BofA financials for year 2019')\n",
    "    ),\n",
    "    QueryEngineTool(\n",
    "        query_engine=bofa2020Engine, \n",
    "        metadata=ToolMetadata(name='2020Bofa_10k', description='Provides information about BAC financials for year 2020')\n",
    "    ),\n",
    "    QueryEngineTool(\n",
    "        query_engine=bofa2021Engine, \n",
    "        metadata=ToolMetadata(name='2021Bofa_10k', description='Provides information about Bank of America financials for year 2021')\n",
    "    ),\n",
    "    QueryEngineTool(\n",
    "        query_engine=bofa2022Engine, \n",
    "        metadata=ToolMetadata(name='2022Bofa_10k', description='Provides information about BofA financials for year 2022')\n",
    "    ),\n",
    "]\n",
    "\n",
    "s_engine = SubQuestionQueryEngine.from_defaults(query_engine_tools=query_engine_tools)"
   ]
  },
  {
   "cell_type": "code",
   "execution_count": 39,
   "metadata": {},
   "outputs": [
    {
     "name": "stdout",
     "output_type": "stream",
     "text": [
      "Generated 10 sub questions.\n",
      "\u001b[1;3;38;2;237;90;200m[2018Bofa_10k] Q: What were the customer segments that grew the fastest in 2018?\n",
      "\u001b[0m\u001b[1;3;38;2;90;149;237m[2019Bofa_10k] Q: What were the customer segments that grew the fastest in 2019?\n",
      "\u001b[0m\u001b[1;3;38;2;11;159;203m[2020Bofa_10k] Q: What were the customer segments that grew the fastest in 2020?\n",
      "\u001b[0m\u001b[1;3;38;2;155;135;227m[2021Bofa_10k] Q: What were the customer segments that grew the fastest in 2021?\n",
      "\u001b[0m\u001b[1;3;38;2;237;90;200m[2022Bofa_10k] Q: What were the customer segments that grew the fastest in 2022?\n",
      "\u001b[0m\u001b[1;3;38;2;90;149;237m[2018Bofa_10k] Q: Which geographies experienced the fastest growth in 2018?\n",
      "\u001b[0m\u001b[1;3;38;2;11;159;203m[2019Bofa_10k] Q: Which geographies experienced the fastest growth in 2019?\n",
      "\u001b[0m\u001b[1;3;38;2;155;135;227m[2020Bofa_10k] Q: Which geographies experienced the fastest growth in 2020?\n",
      "\u001b[0m\u001b[1;3;38;2;237;90;200m[2021Bofa_10k] Q: Which geographies experienced the fastest growth in 2021?\n",
      "\u001b[0m\u001b[1;3;38;2;90;149;237m[2022Bofa_10k] Q: Which geographies experienced the fastest growth in 2022?\n",
      "\u001b[0m\u001b[1;3;38;2;155;135;227m[2021Bofa_10k] A: The customer segments that grew the fastest in 2021 were Global Markets and Global Banking.\n",
      "\u001b[0m\u001b[1;3;38;2;155;135;227m[2020Bofa_10k] A: Asia and Europe, Middle East and Africa experienced the fastest growth in 2020.\n",
      "\u001b[0m\u001b[1;3;38;2;237;90;200m[2018Bofa_10k] A: The customer segments that grew the fastest in 2018 were the residential mortgage and home equity segments.\n",
      "\u001b[0m\u001b[1;3;38;2;237;90;200m[2021Bofa_10k] A: Asia and Latin America and the Caribbean experienced the fastest growth in 2021.\n",
      "\u001b[0m\u001b[1;3;38;2;90;149;237m[2018Bofa_10k] A: The context information does not provide any information about the fastest growing geographies in 2018.\n",
      "\u001b[0m\u001b[1;3;38;2;11;159;203m[2019Bofa_10k] A: Asia and Europe, Middle East and Africa experienced the fastest growth in 2019.\n",
      "\u001b[0m\u001b[1;3;38;2;11;159;203m[2020Bofa_10k] A: The context information does not provide any specific information about the customer segments that grew the fastest in 2020.\n",
      "\u001b[0m\u001b[1;3;38;2;90;149;237m[2019Bofa_10k] A: The customer segments that grew the fastest in 2019 were residential mortgages and credit card loans.\n",
      "\u001b[0m\u001b[1;3;38;2;237;90;200m[2022Bofa_10k] A: The customer segments that grew the fastest in 2022 were the non-U.S. commercial loan portfolio and the commercial real estate portfolio.\n",
      "\u001b[0m\u001b[1;3;38;2;90;149;237m[2022Bofa_10k] A: Asia and Europe, Middle East and Africa experienced the fastest growth in 2022.\n",
      "\u001b[0mThe customer segments that grew the fastest were residential mortgages and home equity in 2018, residential mortgages and credit card loans in 2019, Global Markets and Global Banking in 2021, and the non-U.S. commercial loan portfolio and commercial real estate portfolio in 2022. As for the geographies that experienced the fastest growth, Asia and Europe, Middle East and Africa were consistently mentioned in 2019, 2020, 2021, and 2022. Additionally, Latin America and the Caribbean were mentioned as experiencing fast growth in 2021.\n"
     ]
    }
   ],
   "source": [
    "response = await s_engine.aquery('Compare and contrast the customer segments and geographies that grew the fastest')\n",
    "print(response)"
   ]
  },
  {
   "cell_type": "code",
   "execution_count": 22,
   "metadata": {},
   "outputs": [
    {
     "name": "stdout",
     "output_type": "stream",
     "text": [
      "Generated 2 sub questions.\n",
      "\u001b[1;3;38;2;237;90;200m[2020Bofa_10k] Q: What was the revenue of BofA in 2020?\n",
      "\u001b[0m\u001b[1;3;38;2;90;149;237m[2021Bofa_10k] Q: What was the revenue of BofA in 2021?\n",
      "\u001b[0m\u001b[1;3;38;2;90;149;237m[2021Bofa_10k] A: The revenue of BofA in 2021 was $94,883 million.\n",
      "\u001b[0m\u001b[1;3;38;2;237;90;200m[2020Bofa_10k] A: The revenue of Bank of America in 2020 was $42.2 billion.\n",
      "\u001b[0mThe revenue growth of BofA from 2020 to 2021 was $52,683 million.\n"
     ]
    }
   ],
   "source": [
    "response = await s_engine.aquery('Compare revenue growth of BofA from 2020 to 2021.  Show the growth comparision in millions')\n",
    "print(response)"
   ]
  },
  {
   "cell_type": "code",
   "execution_count": 25,
   "metadata": {},
   "outputs": [
    {
     "name": "stdout",
     "output_type": "stream",
     "text": [
      "Generated 2 sub questions.\n",
      "\u001b[1;3;38;2;237;90;200m[2021Bofa_10k] Q: What are the risk factors in 2021?\n",
      "\u001b[0m\u001b[1;3;38;2;90;149;237m[2020Bofa_10k] Q: What are the risk factors in 2020?\n",
      "\u001b[0m\u001b[1;3;38;2;90;149;237m[2020Bofa_10k] A: The risk factors in 2020 include the adverse effects of the pandemic on businesses and financial conditions, negative economic conditions leading to decreased demand and lower fees, volatility and disruptions in the capital and credit markets, potential downgrades to credit ratings, operational losses, potential disruptions to business continuity, potential harm from participation in government relief programs, and uncertainty regarding the magnitude and duration of the pandemic and its future impacts on the global economy. Additionally, there are risks related to competition, the development and introduction of new products and services, the failure of models and strategies to properly manage risk, the management and aggregation of data, and the impacts of climate change.\n",
      "\u001b[0m\u001b[1;3;38;2;237;90;200m[2021Bofa_10k] A: The risk factors in 2021 include political, economic, market, reputational, operational, compliance, legal, regulatory, and other risks in the jurisdictions where the company operates. These risks are especially elevated in emerging markets. Additionally, there are risks related to geopolitical stress, economic weakness, ongoing public health uncertainties, global supply chain disruptions, labor shortages, wage pressures, elevated inflation, foreign exchange rate fluctuations, and changes in legislation. The pandemic and fiscal policy responses to it have also increased government debt levels, raising the risk of volatility and significant valuation changes. The impacts of the pandemic, including decreased demand for products and services, lower fees, increased noninterest expense, and credit losses, continue to adversely affect the company's businesses and results of operations. The pandemic has also resulted in supply chain disruptions, labor shortages, inflationary pressure, and potential economic downturns. The company's ability to attract and retain qualified employees is critical to its success. Failure to properly manage data may result in the inability to manage risk and business needs, errors in operations, inaccurate reporting, and non-compliance with laws and regulations.\n",
      "\u001b[0mThe risk factors in 2021 and 2020 share some similarities but also have some differences. Both years have risk factors related to the adverse effects of the pandemic on businesses and financial conditions, as well as negative economic conditions leading to decreased demand and lower fees. Both years also have risks related to operational losses, potential disruptions to business continuity, and uncertainty regarding the magnitude and duration of the pandemic and its future impacts on the global economy.\n",
      "\n",
      "However, there are also some differences between the risk factors in 2021 and 2020. In 2021, there are additional risks related to geopolitical stress, ongoing public health uncertainties, global supply chain disruptions, labor shortages, wage pressures, elevated inflation, foreign exchange rate fluctuations, and changes in legislation. The pandemic and fiscal policy responses to it have also increased government debt levels, raising the risk of volatility and significant valuation changes. In contrast, the risk factors in 2020 include volatility and disruptions in the capital and credit markets, potential downgrades to credit ratings, potential harm from participation in government relief programs, and risks related to competition, the development and introduction of new products and services, the failure of models and strategies to properly manage risk, and the impacts of climate change.\n"
     ]
    },
    {
     "name": "stderr",
     "output_type": "stream",
     "text": [
      "C:\\Users\\astalati\\AppData\\Local\\Temp\\ipykernel_21172\\2489184936.py:1: RuntimeWarning: coroutine 'BaseQueryEngine.aquery' was never awaited\n",
      "  response = await s_engine.aquery(\"Can you compare and contrast the risk factors in 2021 vs. 2020?\")\n",
      "RuntimeWarning: Enable tracemalloc to get the object allocation traceback\n"
     ]
    }
   ],
   "source": [
    "response = await s_engine.aquery(\"Can you compare and contrast the risk factors in 2021 vs. 2020?\")\n",
    "print(response)"
   ]
  },
  {
   "cell_type": "code",
   "execution_count": 27,
   "metadata": {},
   "outputs": [
    {
     "name": "stdout",
     "output_type": "stream",
     "text": [
      "Generated 2 sub questions.\n",
      "\u001b[1;3;38;2;237;90;200m[2020Bofa_10k] Q: What is the cash flow in 2020?\n",
      "\u001b[0m\u001b[1;3;38;2;90;149;237m[2022Bofa_10k] Q: What is the cash flow in 2022?\n",
      "\u001b[0m\u001b[1;3;38;2;237;90;200m[2020Bofa_10k] A: The cash flow in 2020 is $218,903 million.\n",
      "\u001b[0m\u001b[1;3;38;2;90;149;237m[2022Bofa_10k] A: The cash flow in 2022 is a net cash used in operating activities of $6,327 million.\n",
      "\u001b[0mThe cash flow in 2022 is a net cash used in operating activities of $6,327 million, while the cash flow in 2020 is $218,903 million.\n"
     ]
    }
   ],
   "source": [
    "response = await s_engine.aquery(\"Can you compare and contrast the cash flow in 2022 vs. 2020?\")\n",
    "print(response)"
   ]
  },
  {
   "cell_type": "code",
   "execution_count": 28,
   "metadata": {},
   "outputs": [
    {
     "name": "stdout",
     "output_type": "stream",
     "text": [
      "Generated 5 sub questions.\n",
      "\u001b[1;3;38;2;237;90;200m[2018Bofa_10k] Q: What is the revenue of the equity derivatives business in 2018?\n",
      "\u001b[0m\u001b[1;3;38;2;90;149;237m[2019Bofa_10k] Q: What is the revenue of the equity derivatives business in 2019?\n",
      "\u001b[0m\u001b[1;3;38;2;11;159;203m[2020Bofa_10k] Q: What is the revenue of the equity derivatives business in 2020?\n",
      "\u001b[0m\u001b[1;3;38;2;155;135;227m[2021Bofa_10k] Q: What is the revenue of the equity derivatives business in 2021?\n",
      "\u001b[0m\u001b[1;3;38;2;237;90;200m[2022Bofa_10k] Q: What is the revenue of the equity derivatives business in 2022?\n",
      "\u001b[0m\u001b[1;3;38;2;11;159;203m[2020Bofa_10k] A: The revenue of the equity derivatives business in 2020 was $5,425 million.\n",
      "\u001b[0m\u001b[1;3;38;2;90;149;237m[2019Bofa_10k] A: The revenue of the equity derivatives business in 2019 was $4,501 million.\n",
      "\u001b[0m\u001b[1;3;38;2;237;90;200m[2022Bofa_10k] A: The revenue of the equity derivatives business in 2022 is $6,572 million.\n",
      "\u001b[0m\u001b[1;3;38;2;155;135;227m[2021Bofa_10k] A: The revenue of the equity derivatives business in 2021 is $6,410 million.\n",
      "\u001b[0m\u001b[1;3;38;2;237;90;200m[2018Bofa_10k] A: The revenue of the equity derivatives business in 2018 was $4,876 million.\n",
      "\u001b[0mThe revenue of the equity derivatives business has shown a generally positive trend over the years. It increased from $4,876 million in 2018 to $6,572 million in 2022. However, there were some fluctuations in between, with revenue decreasing slightly in 2019 to $4,501 million before rebounding and reaching $5,425 million in 2020. The highest revenue was recorded in 2021 at $6,410 million. Overall, the equity derivatives business has experienced growth and generated increasing revenue over the years.\n"
     ]
    }
   ],
   "source": [
    "response = await s_engine.aquery(\"compare the results of the equity derivatives business over all years?\")\n",
    "print(response)"
   ]
  },
  {
   "cell_type": "code",
   "execution_count": 44,
   "metadata": {},
   "outputs": [],
   "source": [
    "query_engine_tools1 = [\n",
    "    QueryEngineTool(\n",
    "        query_engine=bofa2018Engine, \n",
    "        metadata=ToolMetadata(name='2018Bofa_10k', description='Provides information about Bank of America financials for year 2018')\n",
    "    ),\n",
    "    QueryEngineTool(\n",
    "        query_engine=bofa2019Engine, \n",
    "        metadata=ToolMetadata(name='2019Bofa_10k', description='Provides information about BofA financials for year 2019')\n",
    "    ),\n",
    "    QueryEngineTool(\n",
    "        query_engine=bofa2020Engine, \n",
    "        metadata=ToolMetadata(name='2020Bofa_10k', description='Provides information about BAC financials for year 2020')\n",
    "    ),\n",
    "    QueryEngineTool(\n",
    "        query_engine=bofa2021Engine, \n",
    "        metadata=ToolMetadata(name='2021Bofa_10k', description='Provides information about Bank of America financials for year 2021')\n",
    "    ),\n",
    "    QueryEngineTool(\n",
    "        query_engine=bofa2022Engine, \n",
    "        metadata=ToolMetadata(name='2022Bofa_10k', description='Provides information about BofA financials for year 2022')\n",
    "    ),\n",
    "    QueryEngineTool(\n",
    "        query_engine=jpmc2018Engine, \n",
    "        metadata=ToolMetadata(name='2018jpmc_10k', description='Provides information about JP Morgan Chase financials for year 2018')\n",
    "    ),\n",
    "    QueryEngineTool(\n",
    "        query_engine=jpmc2019Engine, \n",
    "        metadata=ToolMetadata(name='2019jpmc_10k', description='Provides information about JPMC financials for year 2019')\n",
    "    ),\n",
    "    QueryEngineTool(\n",
    "        query_engine=jpmc2020Engine, \n",
    "        metadata=ToolMetadata(name='2020jpmc_10k', description='Provides information about JP Morgan financials for year 2020')\n",
    "    ),\n",
    "    QueryEngineTool(\n",
    "        query_engine=jpmc2021Engine, \n",
    "        metadata=ToolMetadata(name='2021jpmc_10k', description='Provides information about JPMC financials for year 2021')\n",
    "    ),\n",
    "    QueryEngineTool(\n",
    "        query_engine=jpmc2022Engine, \n",
    "        metadata=ToolMetadata(name='2022jpmc_10k', description='Provides information about J P Morgan Chase financials for year 2022')\n",
    "    ),\n",
    "]\n",
    "\n",
    "s1_engine = SubQuestionQueryEngine.from_defaults(query_engine_tools=query_engine_tools1)"
   ]
  },
  {
   "cell_type": "code",
   "execution_count": 45,
   "metadata": {},
   "outputs": [
    {
     "name": "stdout",
     "output_type": "stream",
     "text": [
      "Generated 2 sub questions.\n",
      "\u001b[1;3;38;2;237;90;200m[2022Bofa_10k] Q: What is the revenue of the equity derivatives business for BoFA in 2022?\n",
      "\u001b[0m\u001b[1;3;38;2;90;149;237m[2022jpmc_10k] Q: What is the revenue of the equity derivatives business for JPMC in 2022?\n",
      "\u001b[0m\u001b[1;3;38;2;237;90;200m[2022Bofa_10k] A: The revenue of the equity derivatives business for BoFA in 2022 is $6,572 million.\n",
      "\u001b[0m\u001b[1;3;38;2;90;149;237m[2022jpmc_10k] A: The revenue of the equity derivatives business for JPMC in 2022 is not provided in the given context information.\n",
      "\u001b[0mThe results of the equity derivatives business for BoFA in 2022 are provided as $6,572 million. However, the revenue of the equity derivatives business for JPMC in 2022 is not provided in the given context information. Therefore, a direct comparison of the results between BoFA and JPMC for 2022 cannot be made based on the given information.\n"
     ]
    }
   ],
   "source": [
    "response = await s1_engine.aquery(\"compare the results of the equity derivatives business between BoFA and JPMC for 2022?\")\n",
    "print(response)"
   ]
  },
  {
   "cell_type": "code",
   "execution_count": 46,
   "metadata": {},
   "outputs": [
    {
     "name": "stdout",
     "output_type": "stream",
     "text": [
      "Generated 2 sub questions.\n",
      "\u001b[1;3;38;2;237;90;200m[2022Bofa_10k] Q: What is the cash flow of BoFA for 2022?\n",
      "\u001b[0m\u001b[1;3;38;2;90;149;237m[2022jpmc_10k] Q: What is the cash flow of JPMC for 2022?\n",
      "\u001b[0m\u001b[1;3;38;2;90;149;237m[2022jpmc_10k] A: The cash flow of JPMC for 2022 is a net decrease of $173.6 billion.\n",
      "\u001b[0m\u001b[1;3;38;2;237;90;200m[2022Bofa_10k] A: The cash flow of Bank of America (BoFA) for 2022 is a net cash used in operating activities of $6,327 million, a net cash used in investing activities of $2,529 million, and a net cash provided by financing activities of $106,039 million.\n",
      "\u001b[0mThe cash flow results for Bank of America (BoFA) and JPMC for 2022 show that BoFA had a net cash used in operating activities of $6,327 million, a net cash used in investing activities of $2,529 million, and a net cash provided by financing activities of $106,039 million. On the other hand, JPMC had a net decrease of $173.6 billion. Therefore, based on the provided information, BoFA had a more positive cash flow result compared to JPMC for 2022.\n"
     ]
    }
   ],
   "source": [
    "response = await s1_engine.aquery(\"compare the results of the cash flow business between BoFA and JPMC for 2022?\")\n",
    "print(response)"
   ]
  },
  {
   "cell_type": "code",
   "execution_count": 57,
   "metadata": {},
   "outputs": [],
   "source": [
    "query_engine_tools2 = [\n",
    "    QueryEngineTool(\n",
    "        query_engine=bofa2018Engine, \n",
    "        metadata=ToolMetadata(name='2018Bofa_10k', description='Provides information about Bank of America financials for year 2018')\n",
    "    ),\n",
    "    QueryEngineTool(\n",
    "        query_engine=bofa2019Engine, \n",
    "        metadata=ToolMetadata(name='2019Bofa_10k', description='Provides information about BofA financials for year 2019')\n",
    "    ),\n",
    "    QueryEngineTool(\n",
    "        query_engine=bofa2020Engine, \n",
    "        metadata=ToolMetadata(name='2020Bofa_10k', description='Provides information about BAC financials for year 2020')\n",
    "    ),\n",
    "    QueryEngineTool(\n",
    "        query_engine=bofa2021Engine, \n",
    "        metadata=ToolMetadata(name='2021Bofa_10k', description='Provides information about Bank of America financials for year 2021')\n",
    "    ),\n",
    "    QueryEngineTool(\n",
    "        query_engine=bofa2022Engine, \n",
    "        metadata=ToolMetadata(name='2022Bofa_10k', description='Provides information about BofA financials for year 2022')\n",
    "    ),\n",
    "    QueryEngineTool(\n",
    "        query_engine=jpmc2018Engine, \n",
    "        metadata=ToolMetadata(name='2018jpmc_10k', description='Provides information about JP Morgan Chase financials for year 2018')\n",
    "    ),\n",
    "    QueryEngineTool(\n",
    "        query_engine=jpmc2019Engine, \n",
    "        metadata=ToolMetadata(name='2019jpmc_10k', description='Provides information about JPMC financials for year 2019')\n",
    "    ),\n",
    "    QueryEngineTool(\n",
    "        query_engine=jpmc2020Engine, \n",
    "        metadata=ToolMetadata(name='2020jpmc_10k', description='Provides information about JP Morgan financials for year 2020')\n",
    "    ),\n",
    "    QueryEngineTool(\n",
    "        query_engine=jpmc2021Engine, \n",
    "        metadata=ToolMetadata(name='2021jpmc_10k', description='Provides information about JPMC financials for year 2021')\n",
    "    ),\n",
    "    QueryEngineTool(\n",
    "        query_engine=jpmc2022Engine, \n",
    "        metadata=ToolMetadata(name='2022jpmc_10k', description='Provides information about J P Morgan Chase financials for year 2022')\n",
    "    ),\n",
    "    QueryEngineTool(\n",
    "        query_engine=MS2018Engine, \n",
    "        metadata=ToolMetadata(name='2018MS_10k', description='Provides information about JP Morgan Chase financials for year 2018')\n",
    "    ),\n",
    "    QueryEngineTool(\n",
    "        query_engine=MS2019Engine, \n",
    "        metadata=ToolMetadata(name='2019MS_10k', description='Provides information about MS financials for year 2019')\n",
    "    ),\n",
    "    QueryEngineTool(\n",
    "        query_engine=MS2020Engine, \n",
    "        metadata=ToolMetadata(name='2020MS_10k', description='Provides information about JP Morgan financials for year 2020')\n",
    "    ),\n",
    "    QueryEngineTool(\n",
    "        query_engine=MS2021Engine, \n",
    "        metadata=ToolMetadata(name='2021MS_10k', description='Provides information about MS financials for year 2021')\n",
    "    ),\n",
    "    QueryEngineTool(\n",
    "        query_engine=MS2022Engine, \n",
    "        metadata=ToolMetadata(name='2022MS_10k', description='Provides information about J P Morgan Chase financials for year 2022')\n",
    "    ),\n",
    "    QueryEngineTool(\n",
    "        query_engine=GS2018Engine, \n",
    "        metadata=ToolMetadata(name='2018GS_10k', description='Provides information about JP Morgan Chase financials for year 2018')\n",
    "    ),\n",
    "    QueryEngineTool(\n",
    "        query_engine=GS2019Engine, \n",
    "        metadata=ToolMetadata(name='2019GS_10k', description='Provides information about GS financials for year 2019')\n",
    "    ),\n",
    "    QueryEngineTool(\n",
    "        query_engine=GS2020Engine, \n",
    "        metadata=ToolMetadata(name='2020GS_10k', description='Provides information about JP Morgan financials for year 2020')\n",
    "    ),\n",
    "    QueryEngineTool(\n",
    "        query_engine=GS2021Engine, \n",
    "        metadata=ToolMetadata(name='2021GS_10k', description='Provides information about GS financials for year 2021')\n",
    "    ),\n",
    "    QueryEngineTool(\n",
    "        query_engine=GS2022Engine, \n",
    "        metadata=ToolMetadata(name='2022GS_10k', description='Provides information about J P Morgan Chase financials for year 2022')\n",
    "    ),\n",
    "]\n",
    "\n",
    "s2_engine = SubQuestionQueryEngine.from_defaults(query_engine_tools=query_engine_tools2)"
   ]
  },
  {
   "cell_type": "code",
   "execution_count": 58,
   "metadata": {},
   "outputs": [
    {
     "name": "stdout",
     "output_type": "stream",
     "text": [
      "Generated 20 sub questions.\n",
      "\u001b[1;3;38;2;237;90;200m[2018Bofa_10k] Q: What is the revenue of the equity derivatives business for Bank of America in 2018?\n",
      "\u001b[0m\u001b[1;3;38;2;90;149;237m[2019Bofa_10k] Q: What is the revenue of the equity derivatives business for Bank of America in 2019?\n",
      "\u001b[0m\u001b[1;3;38;2;11;159;203m[2020Bofa_10k] Q: What is the revenue of the equity derivatives business for Bank of America in 2020?\n",
      "\u001b[0m\u001b[1;3;38;2;155;135;227m[2021Bofa_10k] Q: What is the revenue of the equity derivatives business for Bank of America in 2021?\n",
      "\u001b[0m\u001b[1;3;38;2;237;90;200m[2022Bofa_10k] Q: What is the revenue of the equity derivatives business for Bank of America in 2022?\n",
      "\u001b[0m\u001b[1;3;38;2;90;149;237m[2018jpmc_10k] Q: What is the revenue of the equity derivatives business for JP Morgan Chase in 2018?\n",
      "\u001b[0m\u001b[1;3;38;2;11;159;203m[2019jpmc_10k] Q: What is the revenue of the equity derivatives business for JP Morgan Chase in 2019?\n",
      "\u001b[0m\u001b[1;3;38;2;155;135;227m[2020jpmc_10k] Q: What is the revenue of the equity derivatives business for JP Morgan Chase in 2020?\n",
      "\u001b[0m\u001b[1;3;38;2;237;90;200m[2021jpmc_10k] Q: What is the revenue of the equity derivatives business for JP Morgan Chase in 2021?\n",
      "\u001b[0m\u001b[1;3;38;2;90;149;237m[2022jpmc_10k] Q: What is the revenue of the equity derivatives business for JP Morgan Chase in 2022?\n",
      "\u001b[0m\u001b[1;3;38;2;11;159;203m[2018MS_10k] Q: What is the revenue of the equity derivatives business for Morgan Stanley in 2018?\n",
      "\u001b[0m\u001b[1;3;38;2;155;135;227m[2019MS_10k] Q: What is the revenue of the equity derivatives business for Morgan Stanley in 2019?\n",
      "\u001b[0m\u001b[1;3;38;2;237;90;200m[2020MS_10k] Q: What is the revenue of the equity derivatives business for Morgan Stanley in 2020?\n",
      "\u001b[0m\u001b[1;3;38;2;90;149;237m[2021MS_10k] Q: What is the revenue of the equity derivatives business for Morgan Stanley in 2021?\n",
      "\u001b[0m\u001b[1;3;38;2;11;159;203m[2022MS_10k] Q: What is the revenue of the equity derivatives business for Morgan Stanley in 2022?\n",
      "\u001b[0m\u001b[1;3;38;2;155;135;227m[2018GS_10k] Q: What is the revenue of the equity derivatives business for Goldman Sachs in 2018?\n",
      "\u001b[0m\u001b[1;3;38;2;237;90;200m[2019GS_10k] Q: What is the revenue of the equity derivatives business for Goldman Sachs in 2019?\n",
      "\u001b[0m\u001b[1;3;38;2;90;149;237m[2020GS_10k] Q: What is the revenue of the equity derivatives business for Goldman Sachs in 2020?\n",
      "\u001b[0m\u001b[1;3;38;2;11;159;203m[2021GS_10k] Q: What is the revenue of the equity derivatives business for Goldman Sachs in 2021?\n",
      "\u001b[0m\u001b[1;3;38;2;155;135;227m[2022GS_10k] Q: What is the revenue of the equity derivatives business for Goldman Sachs in 2022?\n",
      "\u001b[0m\u001b[1;3;38;2;155;135;227m[2020jpmc_10k] A: The revenue of the equity derivatives business for JP Morgan Chase in 2020 is not provided in the given context information.\n",
      "\u001b[0m\u001b[1;3;38;2;90;149;237m[2020GS_10k] A: The net revenues of the Equities business for Goldman Sachs in 2020 were $9.57 billion.\n",
      "\u001b[0m\u001b[1;3;38;2;11;159;203m[2020Bofa_10k] A: The revenue of the equity derivatives business for Bank of America in 2020 was $5,425 million.\n",
      "\u001b[0m\u001b[1;3;38;2;237;90;200m[2021jpmc_10k] A: The revenue of the equity derivatives business for JP Morgan Chase in 2021 is $10,529 million.\n",
      "\u001b[0m\u001b[1;3;38;2;155;135;227m[2019MS_10k] A: Based on the given context information, the revenue of the equity derivatives business for Morgan Stanley in 2019 is not provided.\n",
      "\u001b[0m\u001b[1;3;38;2;90;149;237m[2021MS_10k] A: The context information does not provide specific information about the revenue of the equity derivatives business for Morgan Stanley in 2021.\n",
      "\u001b[0m\u001b[1;3;38;2;90;149;237m[2018jpmc_10k] A: The revenue of the equity derivatives business for JP Morgan Chase in 2018 is not provided in the given context information.\n",
      "\u001b[0m\u001b[1;3;38;2;11;159;203m[2022MS_10k] A: Based on the given context information, the revenue of the equity derivatives business for Morgan Stanley in 2022 is not provided.\n",
      "\u001b[0m\u001b[1;3;38;2;90;149;237m[2019Bofa_10k] A: The revenue of the equity derivatives business for Bank of America in 2019 was not provided in the given context information.\n",
      "\u001b[0m\u001b[1;3;38;2;237;90;200m[2018Bofa_10k] A: The revenue of the equity derivatives business for Bank of America in 2018 was $4,876 million.\n",
      "\u001b[0m\u001b[1;3;38;2;90;149;237m[2022jpmc_10k] A: The revenue of the equity derivatives business for JP Morgan Chase in 2022 was not provided in the given context information.\n",
      "\u001b[0m\u001b[1;3;38;2;155;135;227m[2018GS_10k] A: The revenue of the equity derivatives business for Goldman Sachs in 2018 is not provided in the given context information.\n",
      "\u001b[0m\u001b[1;3;38;2;237;90;200m[2020MS_10k] A: Based on the provided context information, the revenue of the equity derivatives business for Morgan Stanley in 2020 is not explicitly mentioned.\n",
      "\u001b[0m\u001b[1;3;38;2;237;90;200m[2022Bofa_10k] A: The revenue of the equity derivatives business for Bank of America in 2022 is not provided in the given context information.\n",
      "\u001b[0m\u001b[1;3;38;2;155;135;227m[2022GS_10k] A: The revenue of the equity derivatives business for Goldman Sachs in 2022 is not provided in the given context information.\n",
      "\u001b[0m\u001b[1;3;38;2;11;159;203m[2021GS_10k] A: The revenue of the equity derivatives business for Goldman Sachs in 2021 is not provided in the given context information.\n",
      "\u001b[0m\u001b[1;3;38;2;155;135;227m[2021Bofa_10k] A: The revenue of the equity derivatives business for Bank of America in 2021 is not provided in the given context information.\n",
      "\u001b[0m\u001b[1;3;38;2;237;90;200m[2019GS_10k] A: The revenue of the equity derivatives business for Goldman Sachs in 2019 is not provided in the given context information.\n",
      "\u001b[0m\u001b[1;3;38;2;11;159;203m[2019jpmc_10k] A: The revenue of the equity derivatives business for JP Morgan Chase in 2019 is not provided in the given context information.\n",
      "\u001b[0m\u001b[1;3;38;2;11;159;203m[2018MS_10k] A: The revenue of the equity derivatives business for Morgan Stanley in 2018 is not provided in the given context information.\n",
      "\u001b[0mThe context information does not provide specific revenue figures for the equity derivatives business for all the companies mentioned (Bank of America, JP Morgan Chase, Morgan Stanley, and Goldman Sachs) across all the years (2018, 2019, 2020, 2021, and 2022). Therefore, it is not possible to directly compare the results of the equity derivatives business between all the companies based on the given context information.\n"
     ]
    }
   ],
   "source": [
    "response = await s2_engine.aquery(\"compare the results of the equity derivatives business between all the companies.\")\n",
    "print(response)"
   ]
  },
  {
   "cell_type": "code",
   "execution_count": 62,
   "metadata": {},
   "outputs": [
    {
     "name": "stdout",
     "output_type": "stream",
     "text": [
      "Generated 20 sub questions.\n",
      "\u001b[1;3;38;2;237;90;200m[2018Bofa_10k] Q: What is the net revenue for Bank of America in 2018?\n",
      "\u001b[0m\u001b[1;3;38;2;90;149;237m[2019Bofa_10k] Q: What is the net revenue for Bank of America in 2019?\n",
      "\u001b[0m\u001b[1;3;38;2;11;159;203m[2020Bofa_10k] Q: What is the net revenue for Bank of America in 2020?\n",
      "\u001b[0m\u001b[1;3;38;2;155;135;227m[2021Bofa_10k] Q: What is the net revenue for Bank of America in 2021?\n",
      "\u001b[0m\u001b[1;3;38;2;237;90;200m[2022Bofa_10k] Q: What is the net revenue for Bank of America in 2022?\n",
      "\u001b[0m\u001b[1;3;38;2;90;149;237m[2018jpmc_10k] Q: What is the net revenue for JP Morgan Chase in 2018?\n",
      "\u001b[0m\u001b[1;3;38;2;11;159;203m[2019jpmc_10k] Q: What is the net revenue for JP Morgan Chase in 2019?\n",
      "\u001b[0m\u001b[1;3;38;2;155;135;227m[2020jpmc_10k] Q: What is the net revenue for JP Morgan Chase in 2020?\n",
      "\u001b[0m\u001b[1;3;38;2;237;90;200m[2021jpmc_10k] Q: What is the net revenue for JP Morgan Chase in 2021?\n",
      "\u001b[0m\u001b[1;3;38;2;90;149;237m[2022jpmc_10k] Q: What is the net revenue for JP Morgan Chase in 2022?\n",
      "\u001b[0m\u001b[1;3;38;2;11;159;203m[2018MS_10k] Q: What is the net revenue for MS in 2018?\n",
      "\u001b[0m\u001b[1;3;38;2;155;135;227m[2019MS_10k] Q: What is the net revenue for MS in 2019?\n",
      "\u001b[0m\u001b[1;3;38;2;237;90;200m[2020MS_10k] Q: What is the net revenue for MS in 2020?\n",
      "\u001b[0m\u001b[1;3;38;2;90;149;237m[2021MS_10k] Q: What is the net revenue for MS in 2021?\n",
      "\u001b[0m\u001b[1;3;38;2;11;159;203m[2022MS_10k] Q: What is the net revenue for MS in 2022?\n",
      "\u001b[0m\u001b[1;3;38;2;155;135;227m[2018GS_10k] Q: What is the net revenue for GS in 2018?\n",
      "\u001b[0m\u001b[1;3;38;2;237;90;200m[2019GS_10k] Q: What is the net revenue for GS in 2019?\n",
      "\u001b[0m\u001b[1;3;38;2;90;149;237m[2020GS_10k] Q: What is the net revenue for GS in 2020?\n",
      "\u001b[0m\u001b[1;3;38;2;11;159;203m[2021GS_10k] Q: What is the net revenue for GS in 2021?\n",
      "\u001b[0m\u001b[1;3;38;2;155;135;227m[2022GS_10k] Q: What is the net revenue for GS in 2022?\n",
      "\u001b[0m\u001b[1;3;38;2;155;135;227m[2019MS_10k] A: The net revenue for MS in 2019 was $41,419 million.\n",
      "\u001b[0m\u001b[1;3;38;2;237;90;200m[2018Bofa_10k] A: The net revenue for Bank of America in 2018 was $19.6 billion.\n",
      "\u001b[0m\u001b[1;3;38;2;11;159;203m[2019jpmc_10k] A: The net revenue for JP Morgan Chase in 2019 was $115.6 billion.\n",
      "\u001b[0m\u001b[1;3;38;2;11;159;203m[2021GS_10k] A: The net revenue for GS in 2021 was $59.34 billion.\n",
      "\u001b[0m\u001b[1;3;38;2;155;135;227m[2021Bofa_10k] A: The net revenue for Bank of America in 2021 is $89,113 million.\n",
      "\u001b[0m\u001b[1;3;38;2;155;135;227m[2018GS_10k] A: The net revenue for GS in 2018 was $36.62 billion.\n",
      "\u001b[0m\u001b[1;3;38;2;11;159;203m[2022MS_10k] A: The net revenue for MS in 2022 is $53,668 million.\n",
      "\u001b[0m\u001b[1;3;38;2;11;159;203m[2018MS_10k] A: The net revenue for MS in 2018 was $40,107 million.\n",
      "\u001b[0m\u001b[1;3;38;2;90;149;237m[2019Bofa_10k] A: The net revenue for Bank of America in 2019 is not provided in the given context information.\n",
      "\u001b[0m\u001b[1;3;38;2;90;149;237m[2018jpmc_10k] A: The net revenue for JP Morgan Chase in 2018 was $109.0 billion.\n",
      "\u001b[0m\u001b[1;3;38;2;237;90;200m[2021jpmc_10k] A: The net revenue for JP Morgan Chase in 2021 was $121.6 billion.\n",
      "\u001b[0m\u001b[1;3;38;2;237;90;200m[2019GS_10k] A: The net revenue for GS in 2019 was $14.78 billion.\n",
      "\u001b[0m\u001b[1;3;38;2;90;149;237m[2020GS_10k] A: The net revenue for GS in 2020 was $44.56 billion.\n",
      "\u001b[0m\u001b[1;3;38;2;11;159;203m[2020Bofa_10k] A: The net revenue for Bank of America in 2020 was $85.5 billion.\n",
      "\u001b[0m\u001b[1;3;38;2;90;149;237m[2021MS_10k] A: The net revenue for MS in 2021 was $59.8 billion.\n",
      "\u001b[0m\u001b[1;3;38;2;90;149;237m[2022jpmc_10k] A: The net revenue for JP Morgan Chase in 2022 was $128.7 billion.\n",
      "\u001b[0m\u001b[1;3;38;2;155;135;227m[2020jpmc_10k] A: The net revenue for JP Morgan Chase in 2020 was $119.5 billion.\n",
      "\u001b[0m\u001b[1;3;38;2;237;90;200m[2020MS_10k] A: The net revenue for MS in 2020 was $48,198 million.\n",
      "\u001b[0m\u001b[1;3;38;2;237;90;200m[2022Bofa_10k] A: The net revenue for Bank of America in 2022 is $21,748 million.\n",
      "\u001b[0m\u001b[1;3;38;2;155;135;227m[2022GS_10k] A: The net revenue for GS in 2022 was $47.37 billion.\n",
      "\u001b[0mThe net revenue for Bank of America in 2018 was $19.6 billion, in 2019 it is not provided, in 2020 it was $85.5 billion, in 2021 it was $89,113 million, and in 2022 it was $21,748 million. \n",
      "The net revenue for JP Morgan Chase in 2018 was $109.0 billion, in 2019 it was $115.6 billion, in 2020 it was $119.5 billion, in 2021 it was $121.6 billion, and in 2022 it was $128.7 billion. \n",
      "The net revenue for MS in 2018 was $40,107 million, in 2019 it was $41,419 million, in 2020 it was $48,198 million, in 2021 it was $59.8 billion, and in 2022 it was $53,668 million. \n",
      "The net revenue for GS in 2018 was $36.62 billion, in 2019 it was $14.78 billion, in 2020 it was $44.56 billion, in 2021 it was $59.34 billion, and in 2022 it was $47.37 billion.\n"
     ]
    }
   ],
   "source": [
    "response = await s2_engine.aquery(\"compare the results of the net revenue for all the companies.\")\n",
    "print(response)"
   ]
  },
  {
   "cell_type": "code",
   "execution_count": 80,
   "metadata": {},
   "outputs": [],
   "source": [
    "from llama_index import GPTListIndex, LLMPredictor\n",
    "from llama_index.composability import ComposableGraph\n",
    "from llama_index.indices.query.query_transform import DecomposeQueryTransform\n",
    "llm_predictor = LLMPredictor(llm)\n",
    "\n",
    "decompose_transform = DecomposeQueryTransform(\n",
    "   llm_predictor,\n",
    "   verbose=True\n",
    ")\n",
    "\n",
    "vectorIndicies = {}\n",
    "vectorIndicies[('Bank of America', '2018')] = bofa2018Index\n",
    "vectorIndicies[('Bank of America', '2019')] = bofa2019Index\n",
    "vectorIndicies[('Bank of America', '2020')] = bofa2020Index\n",
    "vectorIndicies[('Bank of America', '2021')] = bofa2021Index\n",
    "vectorIndicies[('Bank of America', '2022')] = bofa2022Index\n",
    "\n",
    "vectorIndicies[('J P Morgan Chase', '2018')] = jpmc2018Index\n",
    "vectorIndicies[('J P Morgan Chase', '2019')] = jpmc2019Index\n",
    "vectorIndicies[('J P Morgan Chase', '2020')] = jpmc2020Index\n",
    "vectorIndicies[('J P Morgan Chase', '2021')] = jpmc2021Index\n",
    "vectorIndicies[('J P Morgan Chase', '2022')] = jpmc2022Index\n",
    "\n",
    "vectorIndicies[('Morgan Stanley', '2018')] = MS2018Index\n",
    "vectorIndicies[('Morgan Stanley', '2019')] = MS2019Index\n",
    "vectorIndicies[('Morgan Stanley', '2020')] = MS2020Index\n",
    "vectorIndicies[('Morgan Stanley', '2021')] = MS2021Index\n",
    "vectorIndicies[('Morgan Stanley', '2022')] = MS2022Index\n",
    "\n",
    "vectorIndicies[('Goldman Sachs', '2018')] = GS2018Index\n",
    "vectorIndicies[('Goldman Sachs', '2019')] = GS2019Index\n",
    "vectorIndicies[('Goldman Sachs', '2020')] = GS2020Index\n",
    "vectorIndicies[('Goldman Sachs', '2021')] = GS2021Index\n",
    "vectorIndicies[('Goldman Sachs', '2022')] = GS2022Index\n",
    "\n",
    "# set summary text for each doc\n",
    "years = [2018, 2019, 2020, 2021, 2022]\n",
    "companies = ['Bank of America', 'J P Morgan Chase', 'Morgan Stanley', 'Goldman Sachs']\n",
    "summaries = {}\n",
    "for company in companies:\n",
    "    for year in years:\n",
    "        summaries[(company, year)] = f\"{company} 10-k Filing for {year} fiscal year\"\n",
    "\n",
    "\n",
    "graph = ComposableGraph.from_indices(\n",
    "    GPTListIndex,\n",
    "    [index for _, index in vectorIndicies.items()],\n",
    "    [summary for _, summary in summaries.items()],\n",
    ")"
   ]
  },
  {
   "cell_type": "code",
   "execution_count": 93,
   "metadata": {},
   "outputs": [],
   "source": [
    "query_configs = [\n",
    "    {\n",
    "        \"index_struct_type\": \"dict\",\n",
    "        \"query_mode\": \"default\",\n",
    "        \"query_kwargs\": {\n",
    "            \"similarity_top_k\": 3,\n",
    "            # \"include_summary\": True\n",
    "        },\n",
    "        #\"query_transform\": decompose_transform\n",
    "    },\n",
    "    {\n",
    "        \"index_struct_type\": \"list\",\n",
    "        \"query_mode\": \"default\",\n",
    "        \"query_kwargs\": {\n",
    "            \"response_mode\": \"tree_summarize\",\n",
    "            \"verbose\": True\n",
    "        }\n",
    "    },\n",
    "]"
   ]
  },
  {
   "cell_type": "code",
   "execution_count": 101,
   "metadata": {},
   "outputs": [
    {
     "name": "stdout",
     "output_type": "stream",
     "text": [
      "The operating cash flow for the given context is $24,381 million in 2018.\n"
     ]
    }
   ],
   "source": [
    "response = vectorIndicies[('Bank of America', '2018')].as_query_engine(similarity_top_k=3).query(\"What is the operating cash flow?\")\n",
    "print(response)"
   ]
  },
  {
   "cell_type": "code",
   "execution_count": 102,
   "metadata": {},
   "outputs": [
    {
     "name": "stdout",
     "output_type": "stream",
     "text": [
      "The operating cash flow for the given context is $14,202 million.\n"
     ]
    }
   ],
   "source": [
    "response = vectorIndicies[('Morgan Stanley', '2020')].as_query_engine(similarity_top_k=3).query(\"What is the operating cash flow?\")\n",
    "print(response)"
   ]
  },
  {
   "cell_type": "code",
   "execution_count": 82,
   "metadata": {},
   "outputs": [
    {
     "name": "stdout",
     "output_type": "stream",
     "text": [
      "The current risk factors described in the context information are related to various aspects such as financial markets, economic conditions, fiscal and monetary policies, regulatory policies, global uncertainties, and the impact of the COVID-19 pandemic. These risk factors can adversely affect businesses, financial institutions, and the global economy. The specific year for these risk factors is not provided in the information. Therefore, it is not possible to provide a specific description of the risk factors for each year or summarize how these risk factors are changing across years.\n"
     ]
    }
   ],
   "source": [
    "risk_query_str = (\n",
    "    \"Describe the current risk factors. If the year is provided in the information, \"\n",
    "    \"provide that as well. If the context contains risk factors for multiple years, \"\n",
    "    \"explicitly provide the following:\\n\"\n",
    "    \"- A description of the risk factors for each year\\n\"\n",
    "    \"- A summary of how these risk factors are changing across years\"\n",
    ")\n",
    "response_summary = graph.as_query_engine(query_configs=query_configs).query(risk_query_str)\n",
    "print(response_summary)"
   ]
  },
  {
   "cell_type": "code",
   "execution_count": 94,
   "metadata": {},
   "outputs": [
    {
     "name": "stdout",
     "output_type": "stream",
     "text": [
      "I'm sorry, but I cannot provide information about the results of the equity derivatives business between Bank of America (BoFA) and JPMorgan Chase (JPMC) for 2022. The provided context information does not mention any specific details or comparisons regarding the equity derivatives business of these two banks.\n"
     ]
    }
   ],
   "source": [
    "risk_query_str = (\"compare the results of the equity derivatives business between BoFA and JPMC for 2022?\")\n",
    "response_summary = graph.as_query_engine(query_configs=query_configs).query(risk_query_str)\n",
    "print(response_summary)"
   ]
  },
  {
   "cell_type": "markdown",
   "metadata": {},
   "source": [
    "#### Storing the data in Cognitive Search"
   ]
  },
  {
   "cell_type": "code",
   "execution_count": 111,
   "metadata": {},
   "outputs": [],
   "source": [
    "# set up Azure Cognitive Search\n",
    "from azure.search.documents.indexes import SearchIndexClient\n",
    "from azure.search.documents import SearchClient\n",
    "from azure.core.credentials import AzureKeyCredential\n",
    "from azure.search.documents import SearchClient\n",
    "from llama_index.vector_stores import CognitiveSearchVectorStore\n",
    "from llama_index.vector_stores.cogsearch import (\n",
    "    IndexManagement,\n",
    "    MetadataIndexFieldType,\n",
    "    CognitiveSearchVectorStore,\n",
    ")\n",
    "\n",
    "indexName = \"secllama\"\n",
    "SearchServiceCredential = AzureKeyCredential(SearchKey)\n",
    "\n",
    "# Use index client to demonstrate creating an index\n",
    "indexClient = SearchIndexClient(\n",
    "    endpoint=f\"https://{SearchService}.search.windows.net\",\n",
    "    credential=SearchServiceCredential,\n",
    ")\n",
    "\n",
    "# Use search client to demonstration using existing index\n",
    "searchClient = SearchClient(\n",
    "    endpoint=f\"https://{SearchService}.search.windows.net\",\n",
    "    index_name=indexName,\n",
    "    credential=SearchServiceCredential,\n",
    ")\n",
    "\n",
    "vectorStore = CognitiveSearchVectorStore(\n",
    "    search_or_index_client=indexClient,\n",
    "    index_name=indexName,\n",
    "    #filterable_metadata_field_keys=metadata_fields,\n",
    "    index_management=IndexManagement.CREATE_IF_NOT_EXISTS,\n",
    "    id_field_key=\"id\",\n",
    "    chunk_field_key=\"content\",\n",
    "    embedding_field_key=\"embedding\",\n",
    "    metadata_string_field_key=\"li_jsonMetadata\",\n",
    "    doc_id_field_key=\"li_doc_id\",\n",
    ")"
   ]
  },
  {
   "cell_type": "code",
   "execution_count": 112,
   "metadata": {},
   "outputs": [],
   "source": [
    "vectorStoreContext = StorageContext.from_defaults(vector_store=vectorStore)\n",
    "boaIndex2018 = VectorStoreIndex.from_documents(bofA2018, storage_context=vectorStoreContext)\n",
    "boaIndex2019 = VectorStoreIndex.from_documents(bofA2019, storage_context=vectorStoreContext)\n",
    "boaIndex2020 = VectorStoreIndex.from_documents(bofA2020, storage_context=vectorStoreContext)\n",
    "boaIndex2021 = VectorStoreIndex.from_documents(bofA2021, storage_context=vectorStoreContext)\n",
    "boaIndex2022 = VectorStoreIndex.from_documents(bofA2022, storage_context=vectorStoreContext)"
   ]
  },
  {
   "cell_type": "code",
   "execution_count": 116,
   "metadata": {},
   "outputs": [
    {
     "name": "stdout",
     "output_type": "stream",
     "text": [
      "The cash flow for the given context information is as follows:\n",
      "\n",
      "2018: Net cash provided by operating activities - $24,381 million\n",
      "Net cash used in investing activities - $2,163 million\n",
      "Net cash used in financing activities - $21,824 million\n",
      "\n",
      "2017: Net cash provided by operating activities - $8,402 million\n",
      "Net cash used in investing activities - $6,776 million\n",
      "Net cash used in financing activities - $17,127 million\n",
      "\n",
      "2016: Net cash used in operating activities - $2,007 million\n",
      "Net cash used in investing activities - $65,789 million\n",
      "Net cash used in financing activities - $9,980 million\n"
     ]
    }
   ],
   "source": [
    "# Query Data\n",
    "queryEngine = boaIndex2022.as_query_engine(similarity_top_k=3)\n",
    "response = queryEngine.query(\"What is the cash flow?\")\n",
    "print(response)"
   ]
  },
  {
   "cell_type": "code",
   "execution_count": null,
   "metadata": {},
   "outputs": [],
   "source": []
  }
 ],
 "metadata": {
  "kernelspec": {
   "display_name": "Python 3",
   "language": "python",
   "name": "python3"
  },
  "language_info": {
   "codemirror_mode": {
    "name": "ipython",
    "version": 3
   },
   "file_extension": ".py",
   "mimetype": "text/x-python",
   "name": "python",
   "nbconvert_exporter": "python",
   "pygments_lexer": "ipython3",
   "version": "3.9.13"
  }
 },
 "nbformat": 4,
 "nbformat_minor": 2
}
