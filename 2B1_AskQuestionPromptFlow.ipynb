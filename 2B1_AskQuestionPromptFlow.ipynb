{
 "cells": [
  {
   "cell_type": "markdown",
   "metadata": {},
   "source": [
    "### Install dependent packages"
   ]
  },
  {
   "cell_type": "code",
   "execution_count": 1,
   "metadata": {},
   "outputs": [],
   "source": [
    "#!pip install \"./promptflow-0.0.102743149-py3-none-any.whl\"\n",
    "#!pip install \"./promptflow_tools-0.1.0b4-py3-none-any.whl\"\n",
    "#!pip install \"./embeddingstore-0.0.101742157-py3-none-any.whl\""
   ]
  },
  {
   "cell_type": "code",
   "execution_count": 18,
   "metadata": {},
   "outputs": [],
   "source": [
    "import json\n",
    "from promptflow import PFClient\n",
    "from promptflow.entities import AzureOpenAIConnection\n",
    "\n",
    "# client can help manage your runs and connections.\n",
    "pf = PFClient()"
   ]
  },
  {
   "cell_type": "code",
   "execution_count": 17,
   "metadata": {},
   "outputs": [
    {
     "name": "stdout",
     "output_type": "stream",
     "text": [
      "{\n",
      "    \"name\": \"llmopsqa_default_20230902_105506_362773\",\n",
      "    \"created_on\": \"2023-09-02T10:55:06.362652\",\n",
      "    \"status\": \"Completed\",\n",
      "    \"display_name\": \"llmopsqa_default_20230902_105506_362773\",\n",
      "    \"description\": null,\n",
      "    \"tags\": null,\n",
      "    \"properties\": {\n",
      "        \"flow_path\": \"D:/repos/chatpdf/Workshop/promptflow/llmopsqa\",\n",
      "        \"output_path\": \"C:/Users/astalati/.promptflow/.runs/llmopsqa_default_20230902_105506_362773\"\n",
      "    },\n",
      "    \"flow_name\": \"llmopsqa\",\n",
      "    \"data\": \"D:/repos/chatpdf/Workshop/promptflow/llmopsqa/data.jsonl\",\n",
      "    \"output\": \"C:/Users/astalati/.promptflow/.runs/llmopsqa_default_20230902_105506_362773/flow_outputs/output.jsonl\"\n",
      "}\n"
     ]
    }
   ],
   "source": [
    "# Execute the promptflow run that will be used in the Github Actions\n",
    "!pf run create -f \"./promptflow/llmopsqa/run.yml\""
   ]
  },
  {
   "cell_type": "code",
   "execution_count": 2,
   "metadata": {},
   "outputs": [],
   "source": [
    "import os  \n",
    "import json  \n",
    "import openai\n",
    "from Utilities.envVars import *"
   ]
  },
  {
   "cell_type": "code",
   "execution_count": 4,
   "metadata": {},
   "outputs": [
    {
     "name": "stdout",
     "output_type": "stream",
     "text": [
      "{\n",
      "    \"name\": \"aoaicg\",\n",
      "    \"module\": \"promptflow.connections\",\n",
      "    \"created_date\": \"2023-09-01T18:37:51.175647\",\n",
      "    \"last_modified_date\": \"2023-09-01T18:37:51.175647\",\n",
      "    \"type\": \"cognitive_search\",\n",
      "    \"api_key\": \"******\",\n",
      "    \"api_base\": \"https://dataaioaicg.search.windows.net\",\n",
      "    \"api_version\": \"2023-07-01-Preview\"\n",
      "}\n"
     ]
    }
   ],
   "source": [
    "# Create the Cognitive search connection using CLI\n",
    "!pf connection create -f \"./promptflow/aoaicg.yml"
   ]
  },
  {
   "cell_type": "code",
   "execution_count": 20,
   "metadata": {},
   "outputs": [
    {
     "name": "stdout",
     "output_type": "stream",
     "text": [
      "{\n",
      "    \"name\": \"entaoai\",\n",
      "    \"module\": \"promptflow.connections\",\n",
      "    \"created_date\": \"2023-09-01T18:42:17.454175\",\n",
      "    \"last_modified_date\": \"2023-09-03T17:21:44.729985\",\n",
      "    \"type\": \"custom\",\n",
      "    \"configs\": {\n",
      "        \"OpenAiEmbedding\": \"embedding\",\n",
      "        \"OpenAiVersion\": \"2023-07-01-preview\",\n",
      "        \"OpenAiChat\": \"chat\",\n",
      "        \"OpenAiChat16k\": \"chat16k\",\n",
      "        \"OpenAiEndPoint\": \"https://dataaiapim.azure-api.net\",\n",
      "        \"CosmosEndpoint\": \"https://dataaichatgpt.documents.azure.com:443/\",\n",
      "        \"CosmosDatabase\": \"aoai\",\n",
      "        \"CosmosContainer\": \"chatgpt\",\n",
      "        \"PineconeEnv\": \"us-east-1-aws\",\n",
      "        \"VsIndexName\": \"oaiembed\",\n",
      "        \"RedisAddress\": \"dataairedis.southcentralus.azurecontainer.io\",\n",
      "        \"RedisPort\": \"6379\",\n",
      "        \"KbIndexName\": \"aoaikb\",\n",
      "        \"SearchService\": \"dataaioaicg\"\n",
      "    },\n",
      "    \"secrets\": {\n",
      "        \"OpenAiKey\": \"******\",\n",
      "        \"CosmosKey\": \"******\",\n",
      "        \"SearchKey\": \"******\",\n",
      "        \"PineconeKey\": \"******\",\n",
      "        \"RedisPassword\": \"******\"\n",
      "    }\n",
      "}\n"
     ]
    },
    {
     "name": "stderr",
     "output_type": "stream",
     "text": [
      "[2023-09-03 17:21:44,728][promptflow][WARNING] - Connection with name entaoai already exists. Updating it.\n"
     ]
    }
   ],
   "source": [
    "# Create the Cognitive search connection using CLI\n",
    "!pf connection create -f \"./promptflow/entaoai.yml"
   ]
  },
  {
   "cell_type": "code",
   "execution_count": 21,
   "metadata": {},
   "outputs": [
    {
     "name": "stdout",
     "output_type": "stream",
     "text": [
      "{\n",
      "    \"name\": \"llmops\",\n",
      "    \"module\": \"promptflow.connections\",\n",
      "    \"created_date\": \"2023-09-02T10:34:23.499527\",\n",
      "    \"last_modified_date\": \"2023-09-03T17:21:49.519480\",\n",
      "    \"type\": \"custom\",\n",
      "    \"configs\": {\n",
      "        \"OpenAiEmbedding\": \"embedding\",\n",
      "        \"OpenAiVersion\": \"2023-07-01-preview\",\n",
      "        \"OpenAiChat\": \"chat\",\n",
      "        \"OpenAiChat16k\": \"chat16k\",\n",
      "        \"OpenAiEndPoint\": \"https://dataaiapim.azure-api.net\"\n",
      "    },\n",
      "    \"secrets\": {\n",
      "        \"OpenAiKey\": \"******\"\n",
      "    }\n",
      "}\n"
     ]
    },
    {
     "name": "stderr",
     "output_type": "stream",
     "text": [
      "[2023-09-03 17:21:49,517][promptflow][WARNING] - Connection with name llmops already exists. Updating it.\n"
     ]
    }
   ],
   "source": [
    "# Create the Cognitive search connection using CLI\n",
    "!pf connection create -f \"./promptflow/llmops.yml"
   ]
  },
  {
   "cell_type": "code",
   "execution_count": 3,
   "metadata": {},
   "outputs": [
    {
     "name": "stdout",
     "output_type": "stream",
     "text": [
      "successfully created connection\n",
      "name: aoai\n",
      "module: promptflow.connections\n",
      "created_date: '2023-09-01T18:34:36.615912'\n",
      "last_modified_date: '2023-09-01T18:34:36.615912'\n",
      "type: azure_open_ai\n",
      "api_key: '******'\n",
      "api_base: https://dataaiapim.azure-api.net\n",
      "api_type: azure\n",
      "api_version: '2023-05-15'\n",
      "\n"
     ]
    }
   ],
   "source": [
    "# Create the connection using the SDK\n",
    "try:\n",
    "    conn_name = \"aoai\"\n",
    "    conn = pf.connections.get(name=conn_name)\n",
    "    print(\"using existing connection\")\n",
    "except:\n",
    "    # Follow https://learn.microsoft.com/en-us/azure/ai-services/openai/how-to/create-resource?pivots=web-portal to create an Azure Open AI resource.\n",
    "    connection = AzureOpenAIConnection(\n",
    "        name=conn_name,\n",
    "        api_key=OpenAiKey,\n",
    "        api_base=OpenAiEndPoint,\n",
    "        api_type=\"azure\",\n",
    "        api_version=OpenAiVersion,\n",
    "    )\n",
    "\n",
    "    conn = pf.connections.create_or_update(connection)\n",
    "    print(\"successfully created connection\")\n",
    "\n",
    "print(conn)"
   ]
  },
  {
   "cell_type": "code",
   "execution_count": 9,
   "metadata": {},
   "outputs": [],
   "source": [
    "flow = \"./promptflow/questionanswering\""
   ]
  },
  {
   "cell_type": "code",
   "execution_count": 10,
   "metadata": {},
   "outputs": [],
   "source": [
    "# Test flow\n",
    "flowInput = {\n",
    "    \"question\": \"How are overseas subsidiaries and affiliated companies integrated into the consolidation process?\",\n",
    "    \"chainType\": \"stuff\",\n",
    "    \"indexType\": \"cogsearchvs\",\n",
    "    \"indexNs\": \"3738d6dc992c4229a5a52efe84af4d3d\",\n",
    "    \"postBody\": {\n",
    "        \"values\": [\n",
    "            {\n",
    "                \"recordId\": 0,\n",
    "                \"data\": {\n",
    "                    \"text\": \"\",\n",
    "                    \"approach\": \"rtr\",\n",
    "                    \"overrides\": {\n",
    "                        \"semantic_ranker\": True,\n",
    "                        \"semantic_captions\": False,\n",
    "                        \"top\": 3,\n",
    "                        \"temperature\": 0,\n",
    "                        \"promptTemplate\": \"You are an AI assistant tasked with answering questions and summarizing information from \\n        earning call transcripts, annual reports, SEC filings and financial statements.\\n        Your answer should accurately capture the key information in the document while avoiding the omission of any domain-specific words. \\n        Please generate a concise and comprehensive information that includes details such as reporting year and amount in millions.\\n        Ensure that it is easy to understand for business professionals and provides an accurate representation of the financial statement history. \\n        \\n        Please remember to use clear language and maintain the integrity of the original information without missing any important details\\n\\n        QUESTION: {question}\\n        =========\\n        {summaries}\\n        =========\\n        \",\n",
    "                        \"chainType\": \"stuff\",\n",
    "                        \"tokenLength\": 1000,\n",
    "                        \"embeddingModelType\": \"azureopenai\",\n",
    "                        \"deploymentType\": \"gpt3516k\"\n",
    "                    }\n",
    "                }\n",
    "            }\n",
    "        ]\n",
    "    }\n",
    "}"
   ]
  },
  {
   "cell_type": "code",
   "execution_count": 11,
   "metadata": {},
   "outputs": [
    {
     "name": "stderr",
     "output_type": "stream",
     "text": [
      "2023-08-25 21:27:51 -0500   72984 embeddingstore.tool      INFO     [VectorDBLookup] EmbeddingStore.Tool.Init started\n",
      "2023-08-25 21:27:51 -0500   72984 embeddingstore.service   INFO     [VectorDBLookup] EmbeddingStore.Client.Init started\n",
      "2023-08-25 21:27:51 -0500   72984 embeddingstore.service   INFO     [VectorDBLookup] Agent instance: CogSearchClient initialized\n",
      "2023-08-25 21:27:51 -0500   72984 embeddingstore.service   INFO     [VectorDBLookup] EmbeddingStore.Client.Init completed\n",
      "2023-08-25 21:27:51 -0500   72984 embeddingstore.tool      INFO     [VectorDBLookup] Adapter instance: ConnectionBasedAdapter initialized\n",
      "2023-08-25 21:27:51 -0500   72984 embeddingstore.service   INFO     [VectorDBLookup] EmbeddingStore.Client.Load started\n",
      "2023-08-25 21:27:51 -0500   72984 embeddingstore.service   INFO     [VectorDBLookup] EmbeddingStore.Client.Load completed\n",
      "2023-08-25 21:27:51 -0500   72984 embeddingstore.tool      INFO     [VectorDBLookup] EmbeddingStore.Tool.Init completed\n"
     ]
    },
    {
     "name": "stdout",
     "output_type": "stream",
     "text": [
      "2023-08-25 21:27:51 -0500   72984 execution          INFO     Start to run 9 nodes with concurrency level 16.\n",
      "2023-08-25 21:27:51 -0500   72984 execution.flow     INFO     Executing node parse_postBody. node run id: 2fbc7cca-5ae3-431f-a560-d122bdf5db2d_parse_postBody_0\n",
      "2023-08-25 21:27:51 -0500   72984 execution.flow     INFO     Executing node embed_the_question. node run id: 2fbc7cca-5ae3-431f-a560-d122bdf5db2d_embed_the_question_0\n",
      "2023-08-25 21:27:51 -0500   72984 execution.flow     INFO     Node parse_postBody completes.\n",
      "2023-08-25 21:27:51 -0500   72984 execution.flow     INFO     Executing node create_llm. node run id: 2fbc7cca-5ae3-431f-a560-d122bdf5db2d_create_llm_0\n",
      "2023-08-25 21:27:51 -0500   72984 execution.flow     INFO     Executing node extract_topk. node run id: 2fbc7cca-5ae3-431f-a560-d122bdf5db2d_extract_topk_0\n",
      "2023-08-25 21:27:51 -0500   72984 execution.flow     INFO     Executing node extract_prompttemplate. node run id: 2fbc7cca-5ae3-431f-a560-d122bdf5db2d_extract_prompttemplate_0\n",
      "2023-08-25 21:27:51 -0500   72984 execution.flow     WARNING  Output of create_llm is not json serializable, use str to store it.\n",
      "2023-08-25 21:27:51 -0500   72984 execution.flow     INFO     Node extract_topk completes.\n",
      "2023-08-25 21:27:51 -0500   72984 execution.flow     INFO     Node extract_prompttemplate completes.\n",
      "2023-08-25 21:27:51 -0500   72984 execution.flow     INFO     Node create_llm completes.\n",
      "2023-08-25 21:27:52 -0500   72984 execution.flow     INFO     Node embed_the_question completes.\n",
      "2023-08-25 21:27:52 -0500   72984 execution.flow     INFO     Executing node search_question_from_vectordb. node run id: 2fbc7cca-5ae3-431f-a560-d122bdf5db2d_search_question_from_vectordb_0\n"
     ]
    },
    {
     "name": "stderr",
     "output_type": "stream",
     "text": [
      "2023-08-25 21:27:52 -0500   72984 embeddingstore.tool      INFO     [VectorDBLookup] EmbeddingStore.Tool.Search started\n",
      "2023-08-25 21:27:52 -0500   72984 embeddingstore.service   INFO     [VectorDBLookup] EmbeddingStore.Client.SearchByEmbedding started\n",
      "2023-08-25 21:27:52 -0500   72984 embeddingstore.service   INFO     [VectorDBLookup] EmbeddingStore.Client.SearchByEmbedding completed\n",
      "2023-08-25 21:27:52 -0500   72984 embeddingstore.tool      INFO     [VectorDBLookup] EmbeddingStore.Tool.Search completed\n"
     ]
    },
    {
     "name": "stdout",
     "output_type": "stream",
     "text": [
      "2023-08-25 21:27:52 -0500   72984 execution.flow     INFO     Node search_question_from_vectordb completes.\n",
      "2023-08-25 21:27:52 -0500   72984 execution.flow     INFO     Executing node generate_prompt_context. node run id: 2fbc7cca-5ae3-431f-a560-d122bdf5db2d_generate_prompt_context_0\n",
      "2023-08-25 21:27:53 -0500   72984 execution.flow     WARNING  Output of generate_prompt_context is not json serializable, use str to store it.\n",
      "2023-08-25 21:27:53 -0500   72984 execution.flow     INFO     Node generate_prompt_context completes.\n",
      "2023-08-25 21:27:53 -0500   72984 execution.flow     INFO     Executing node answer_the_question. node run id: 2fbc7cca-5ae3-431f-a560-d122bdf5db2d_answer_the_question_0\n",
      "2023-08-25 21:27:59 -0500   72984 execution.flow     WARNING  Input 'llm' of answer_the_question is not json serializable, use str to store it.\n",
      "2023-08-25 21:27:59 -0500   72984 execution.flow     WARNING  Input 'retrievedDocs' of answer_the_question is not json serializable, use str to store it.\n",
      "2023-08-25 21:27:59 -0500   72984 execution.flow     INFO     Node answer_the_question completes.\n",
      "2023-08-25 21:27:59 -0500   72984 execution.flow     INFO     Executing node followup_questions. node run id: 2fbc7cca-5ae3-431f-a560-d122bdf5db2d_followup_questions_0\n",
      "2023-08-25 21:27:59 -0500   72984 execution.flow     WARNING  Input 'llm' of followup_questions is not json serializable, use str to store it.\n",
      "2023-08-25 21:27:59 -0500   72984 execution.flow     WARNING  Input 'retrievedDocs' of followup_questions is not json serializable, use str to store it.\n",
      "2023-08-25 21:27:59 -0500   72984 execution.flow     INFO     Node followup_questions completes.\n",
      "Flow result: {'output': {'data_points': ['Amounts  less  than  ¥1  million  have been  rounded  down.  As  a  result,  the  totals  in  Japanese  yen  shown  in  the \\n\\nfinancial statements do not necessarily agree with the sum of the individual amounts.   \\n\\nThe translation of the Japanese yen amounts into U.S. dollars is included solely for the convenience of readers \\noutside  Japan,  using  the  prevailing  exchange  rate  at  March  31,  2023  which  was  ¥133.54  to  US$1.  These \\ntranslations should not be construed as representations that the Japanese yen amounts have been, could have been, \\nor could in the future be, converted into U.S. dollars at that rate. \\n\\n―14― \\n\\n \\n \\n \\n \\n \\n \\n \\n \\n \\n\\x0c(Significant Accounting Policies for Preparing Consolidated Financial Statements) \\n\\n1. Scope of consolidation \\n\\n(1) Consolidated subsidiaries \\n\\nThe number of consolidated subsidiaries at March 31, 2023 was 184. \\n\\nPrincipal companies: \\n\\nSumitomo Mitsui Banking Corporation (“SMBC”) \\nSMBC Trust Bank Ltd. \\nSMBC Nikko Securities Inc. \\nSumitomo Mitsui Card Company, Limited \\nSMBC Finance Service Co., Ltd.   \\nSMBC Consumer Finance Co., Ltd. \\nThe Japan Research Institute, Limited \\nSumitomo Mitsui DS Asset Management Company, Limited \\nSMBC Bank International plc \\nSMBC Bank EU AG \\nSumitomo Mitsui Banking Corporation (China) Limited \\nPT Bank BTPN Tbk \\nSMBC Americas Holdings, Inc. \\nSMBC Guarantee Co., Ltd. \\n\\nChanges in the consolidated subsidiaries in the fiscal year ended March 31, 2023 were as follows: \\n\\n8  companies  were  newly  included  in  the  scope  of  consolidation  as  a  result  of  new  establishment  and  for \\n\\nother reasons. \\n\\n5 companies were excluded from the scope of consolidation because of liquidation and for other reasons. \\n\\n(2) Unconsolidated subsidiaries \\n\\nPrincipal company: SBCS Co., Ltd. \\n\\n5  of  the  unconsolidated  subsidiaries  were  investment  partnerships,  and  neither  their  assets  nor  profit/loss \\nwere  substantially  attributable  to  subsidiaries,  and  thus  were  excluded  from  the  scope  of  consolidation \\npursuant  to  Article  5,  Paragraph  1,  Item  2  of  the  Ordinance  on  the  Terminology,  Forms,  and  Preparation \\nMethods of Consolidated Financial Statements. \\n\\nOther  unconsolidated  subsidiaries  were  excluded  from  the  scope  of  consolidation  because  their  total \\namounts in terms of total assets, ordinary income, net income and retained earnings were immaterial, as such, \\nthey did not hinder a rational judgment of the financial position and results of operations of the Company and \\nits consolidated subsidiaries when excluded from the scope of consolidation. \\n\\n2. Application of the equity method \\n\\n(1) Unconsolidated subsidiaries accounted for by the equity method \\n\\nThe number of unconsolidated subsidiaries accounted for by the equity method at March 31, 2023 was 5. \\n\\nPrincipal company: SBCS Co., Ltd. \\n\\n―15― \\n\\n \\n \\n \\n \\n \\n \\n \\n \\n \\n \\n \\n \\n \\n \\n\\x0c(2) Equity method affiliates \\n\\nThe number of affiliates accounted for by the equity method at March 31, 2023 was 303. \\n\\nPrincipal companies: \\n\\nSumitomo Mitsui Finance and Leasing Company, Limited \\nSumitomo Mitsui Auto Service Company, Limited \\n\\nChanges in the equity method affiliates in the fiscal year ended March 31, 2023 were as follows: \\n\\n201 companies became equity method affiliates due to acquisition of stock and for other reasons.   \\nVietnam Export Import Commercial Joint Stock Bank and 4 other companies were excluded from the scope \\n\\nof equity method affiliates due to sale of stocks and for other reasons. \\n\\n(3) Unconsolidated subsidiaries not accounted for by the equity method \\n\\n5  unconsolidated  subsidiaries  not  accounted  for  by  the  equity  method  were  investment  partnerships,  and \\nneither their assets nor profit/loss were substantially attributable to subsidiaries, and thus were excluded from \\nthe scope of equity method pursuant to Article 10, Paragraph 1, Item 2 of the Ordinance on the Terminology, \\nForms, and Preparation Methods of Consolidated Financial Statements. \\n\\n(4) Affiliates not accounted for by the equity method \\n\\nPrincipal company: Park Square Capital / SMBC Loan Programme S. à r. l. \\n\\nAffiliates  not  accounted  for  by  the  equity  method  were  also  excluded  from  the  scope  of  equity  method \\nbecause their total amounts in terms of net income and retained earnings were immaterial, and as such, they \\ndid not hinder a rational judgment of the financial position and results of operations of the Company and its \\nconsolidated subsidiaries when excluded from the scope of equity method. \\n\\n3. The balance sheet dates of consolidated subsidiaries \\n\\n(1) The balance sheet dates of the consolidated subsidiaries at March 31, 2023 were as follows: \\n\\nJune 30 \\nOctober 31 \\nDecember 31 \\nMarch 31 \\n\\n1 \\n2 \\n93 \\n88 \\n\\n(2) The subsidiary with balance sheets dated June 30 is consolidated using the financial statements as of December \\n31, the subsidiaries with balance sheets dated October 31 are consolidated using the financial statements as of \\nJanuary  31,  and  certain  subsidiaries  with  balance  sheets  dated  December  31  are  consolidated  using  the \\nfinancial statements as of March 31. Other subsidiaries are consolidated using the financial statements as of \\ntheir respective balance sheet dates. \\n\\nAppropriate  adjustments  are  made  to  material  transactions  during  the  periods  between  their  respective \\n\\nbalance sheet dates and the consolidated closing date. \\n\\n4. Accounting policies \\n\\n(1) Standards for recognition and measurement of trading assets/liabilities and trading income/losses \\n\\nTransactions for trading purposes (seeking gains arising from short-term changes in interest rates, currency \\nexchange  rates,  or  market  prices  of  securities  and  other  market  related  indices  or  from  variation  among \\nmarkets) are included in “Trading assets” or “Trading liabilities” on the consolidated balance sheets on a trade \\ndate basis. Profits and losses on trading-purpose transactions are recognized on a trade date basis, and recorded \\nas “Trading income” and “Trading losses” on the consolidated statements of income. \\n\\nSecurities and monetary claims purchased for trading purposes are stated at the fiscal year-end market value, \\nand financial derivatives such as swaps, futures and options are stated at amounts that would be settled if the \\ntransactions were terminated at the consolidated balance sheet date. \\n\\n―16― \\n\\n \\n \\n \\n \\n \\n   \\n \\n \\n \\n \\n \\n \\n \\n \\n \\n \\n \\n \\n \\n\\x0c“Trading income” and “Trading losses” include interest received or paid during the fiscal year. The year-on-\\nyear  valuation  differences  of  securities  and  monetary  claims  are  also  recorded  in  the  above-mentioned \\naccounts. As for the derivatives, assuming that the settlement will be made in cash, the year-on-year valuation \\ndifferences are also recorded in the above-mentioned accounts. \\n\\nIn  terms  of  the  evaluation  of  specific  market  risks  and  credit  risks  for  derivative  transactions,  those  fair \\nvalues are calculated by group basis of the financial assets and liabilities based on net asset or liability after \\noffsetting. \\n\\n(2) Standards for recognition and measurement of securities \\n\\n1) Debt securities that are classified as held-to-maturity securities and are carried at amortized cost (based on \\nstraight-line method) using the moving-average method. Investments in affiliates that are not accounted for \\nby the equity method are carried at cost using the moving-average method. Other securities are carried at \\nfair value (cost of securities sold is calculated using primarily the moving average method). Stocks with no \\nmarket prices are carried at cost using the moving-average method.   \\n\\nNet  unrealized  gains  (losses)  on  other  securities  are  included  in  “Net  assets”  except  for  the  amount \\n\\nreflected on the gains or losses by applying fair value hedge accounting.   \\n\\n2) Securities included in money held in trust are carried in the same method as in (1) and (2), 1) above.', 'As for the individual hedges, SMBC also assesses the effectiveness of such individual hedges. \\n\\n2) Hedging against currency fluctuations \\n\\nSMBC, which is a consolidated subsidiary of the Company, applies deferred hedge accounting stipulated \\nin  “Treatment  of  Accounting  and  Auditing  Concerning  Accounting  for  Foreign  Currency  Transactions  in \\nBanking  Industry”  (JICPA  Industry  Committee  Practical  Guideline  No.  25,  October  8,  2020)  to  currency \\nswap  and  foreign  exchange  swap  transactions  executed for  the  purpose  of  lending  or  borrowing  funds  in \\ndifferent currencies. \\n\\nPursuant to JICPA Industry Committee Practical Guideline No. 25, SMBC assesses the effectiveness of \\ncurrency  swap  and  foreign  exchange  swap  transactions  executed  for  the  purpose  of  offsetting  the  risk  of \\nchanges in currency exchange rates by verifying that there are foreign-currency monetary claims and debts \\ncorresponding to the foreign-currency positions. \\n\\nIn order to hedge risk arising from volatility of exchange rates for stocks of subsidiaries and affiliates and \\nother  securities  (excluding  bonds)  denominated  in  foreign  currencies,  SMBC  applies  deferred  hedge \\naccounting  or  fair  value  hedge  accounting,  on  the  conditions  that  the  hedged  securities  are  designated  in \\nadvance and that sufficient on-balance (actual) or off-balance (forward) liability exposure exists to cover the \\ncost of the hedged securities denominated in the same foreign currencies. \\n\\n3) Hedging against share price fluctuations \\n\\nSMBC,  which  is  a  consolidated  subsidiary,  applies  fair  value  hedge  accounting  to  individual  hedges \\noffsetting  the  price  fluctuation  of  the  shares  that  are  classified  under  other  securities,  and  accordingly \\nevaluates the effectiveness of such individual hedges. \\n\\n4) Transactions between consolidated subsidiaries \\n\\nAs for derivative transactions between consolidated subsidiaries or internal transactions between trading \\naccounts  and  other  accounts  (or  among  internal  sections),  SMBC  manages  the  interest  rate  swaps  and \\ncurrency swaps that are designated as hedging instruments in accordance with the non-arbitrary and strict \\ncriteria for external transactions stipulated in JICPA Industry Committee Practical Guidelines No. 24 and No. \\n25. Therefore, SMBC accounts for the gains or losses that arise from interest rate swaps and currency swaps \\nin its earnings or defers them, rather than eliminating them. \\n\\nCertain other consolidated subsidiaries apply the deferred hedge accounting, fair value hedge accounting \\n\\nor the special treatment for interest rate swaps. \\n\\n―21― \\n\\n \\n \\n \\n \\n \\n \\n \\n \\n \\n \\n \\n \\n \\n \\n \\n \\n\\x0c(18) Amortization of goodwill \\n\\nGoodwill  is  amortized  using  the  straight-line  method  over  a  period  in  which  its  benefit  is  expected  to  be \\nrealized, not to exceed 20 years. Immaterial goodwill is charged or credited to income directly when incurred. \\n\\n(19) Scope of “Cash and cash equivalents” on consolidated statements of cash flows \\n\\nFor the purpose of presenting the consolidated statements of cash flows, “Cash and cash equivalents” are \\n\\ncash on hand, non-interest earning deposits with banks and deposits with the Bank of Japan.   \\n\\n(20) Adoption of the group tax sharing system \\n\\nThe Company and certain consolidated domestic subsidiaries apply the group tax sharing system. \\n\\n―22― \\n\\n \\n \\n \\n \\n \\n \\n \\n\\x0c(Significant Accounting Estimates) \\n\\n1. Reserve for possible loan losses \\n\\n(1)  The  amount  recorded in  the consolidated financial  statements for  the fiscal  year  ended March 31,  2022  and \\n\\n2023 \\n\\nYear ended March 31 \\nReserve for possible loan losses   \\n\\nMillions of yen   \\n\\n2022   \\n\\n2023 \\n\\n  ¥ \\n\\n817,784    ¥ \\n\\n750,369 \\n\\n(2) Information on details of the significant accounting estimates for the identified item \\n\\nBased on the assessment of all claims including loans and bills discounted conducted in accordance with the \\nself-assessment  procedures,  and  borrower  category  determined  depending  on  their  credit  risk  status,  the \\nfollowing amounts are recorded as a reserve for possible loan losses. \\n\\n- The estimated amount of expected loss calculated for each borrower category based on the average value of \\nhistorical loan-loss ratio or probability of default over a certain past period is recorded as a reserve for loan \\nlosses \\n\\n-  As  for  claims  classified  as  substandard  or  lower  level  classifications  whose  cash  flows  from  collection  of \\nprincipals and interest can rationally be estimated, the Discounted Cash Flows (“DCF”) method is applied for \\nones  with  large  borrowers  of  those  claims  and  the  amount  calculated  by  the  DCF  method  is  recorded  as  a \\nreserve for loan losses \\n\\n- As for expected loss based on the future prospects with high probability, but cannot be reflected in historical \\nloan-losses  and  in  any  individual  borrower  category,  the  amount  deemed  necessary  based  on  an  overall \\nassessment is recorded as a reserve for loan losses   \\n\\nReserve for possible loan losses recorded by the method above involves the following uncertainties in the \\n\\nprocess of estimation, hence requiring high-level managerial judgment. \\n\\n-  Consideration  for  qualitative  factors  including  forward-looking  information  in  determining  borrower \\ncategory \\n\\n- Reasonable estimation of future individual cash flows in the DCF method \\n\\n-  Determination  of  a  method  for  estimating  expected  loss  based  on  future  prospect  in  consideration  of  the \\nlatest economic environment and risk factors, and of the targeted portfolio \\n\\nThese may be affected by changes in economic environment, which have a potentially significant impact on \\n\\nthe amount of reserve for possible loan losses for the next fiscal year. \\n\\n(Note)  For  the  estimation  of  the  reserve  for  possible  loan  losses  specifically  related  to  the  current \\ninternational situation involving Ukraine, the tightening monetary policies overseas, and COVID-19, refer to \\n(Additional Information). \\n\\n―23― \\n\\n \\n \\n \\n \\n \\n \\n \\n \\n \\n \\n \\n \\n \\n \\n \\n \\n \\n \\n \\n   \\n   \\n\\x0c2. Impairment loss for fixed assets \\n\\n(1)  The  amount  recorded in  the consolidated financial  statements for  the fiscal  year  ended March 31,  2022  and \\n\\n2023 \\n\\nYear ended March 31 \\nTangible fixed assets   \\nIntangible fixed assets   \\nLosses on impairment of fixed assets   \\n\\n  ¥ \\n\\nMillions of yen   \\n\\n2022 \\n\\n2023   \\n\\n1,457,254    ¥ \\n898,817   \\n108,920   \\n\\n1,494,527 \\n897,848 \\n59,045 \\n\\n(2) Information on details of the significant accounting estimates for the identified item   \\n\\n(Grouping of assets) \\n\\nAs  for  land  and  buildings,  etc.,  at  SMBC,  a  consolidated  subsidiary  of  the  Company,  a  branch  is  the \\nsmallest unit of asset group, and intangible fixed assets and assets of Head Office, etc. which do not produce \\nindependent  cash  flows are treated as  corporate  assets. Corporate  assets that  are  reasonably deemed  to be \\nused  solely  by  each  business  unit  are  identified  as  each  business  unit’s  corporate  assets,  and  conducted \\nimpairment  assessments  on  a  business  unit  basis  together  with  other  related  fixed  assets.  As  for  other \\ncorporate assets, impairment is recognized on a company level. \\n\\n(Identifying indication of impairment, and testing and calculating recognition of impairment loss) \\n\\nFixed assets that have an indication of impairment are tested for recognition of impairment loss, and if \\nrecognition is required, their book values are reduced to the recoverable amount and the reduced amount is \\nrecorded as impairment loss. Recoverable amount is either net realizable value, which is deducting expected \\ndisposal  cost  from  fair  value  of  the  fixed  asset,  or  value  in  use  which  is  the  present  value  of  cash  flows \\nexpected to derive from the continuous use and disposal of the fixed asset after use.', 'Management is responsible for the preparation and fair presentation of the consolidated financial statements \\nin accordance with accounting principles generally accepted in Japan, and for such internal control as \\nmanagement determines is necessary to enable the preparation of consolidated financial statements that are \\nfree from material misstatement, whether due to fraud or error. \\n\\nIn preparing the consolidated financial statements, management is responsible for assessing the Group’s \\nability to continue as a going concern, disclosing, as applicable, matters related to going concern in \\naccordance with accounting principles generally accepted in Japan.  \\n\\nThe Audit Committee is responsible for overseeing the directors and the corporate executive officers’ \\nperformance of their duties with regard to the design, implementation and maintenance of the Group’s \\nfinancial reporting process.   \\n\\n \\n \\n \\n \\n \\n\\x0cAuditor’s Responsibilities for the Audit of the Consolidated Financial Statements \\n\\nOur objectives are to obtain reasonable assurance about whether the consolidated financial statements as a \\nwhole are free from material misstatement, whether due to fraud or error, and to issue an auditor’s report \\nthat includes our opinion. Reasonable assurance is a high level of assurance, but is not a guarantee that an \\naudit conducted in accordance with auditing standards generally accepted in Japan will always detect a \\nmaterial misstatement when it exists. Misstatements can arise from fraud or error and are considered \\nmaterial if, individually or in the aggregate, they could reasonably be expected to influence the economic \\ndecisions of users taken on the basis of these consolidated financial statements.  \\n\\nAs part of our audit in accordance with auditing standards generally accepted in Japan, we exercise \\nprofessional judgment and maintain professional skepticism throughout the audit. We also: \\n\\n\\uf09e \\n\\nIdentify and assess the risks of material misstatement of the consolidated financial statements, whether \\ndue to fraud or error, design and perform audit procedures responsive to those risks, and obtain audit \\nevidence that is sufficient and appropriate to provide a basis for our opinion. The risk of not detecting a \\nmaterial misstatement resulting from fraud is higher than for one resulting from error, as fraud may \\ninvolve collusion, forgery, intentional omissions, misrepresentations, or the override of internal \\ncontrol.  \\n\\n\\uf09e  Obtain an understanding of internal control relevant to the audit in order to design audit procedures \\n\\nthat are appropriate in the circumstances, while the objective of the audit is not to express an opinion \\non the effectiveness of the Group’s internal control.  \\n\\n\\uf09e \\n\\nEvaluate the appropriateness of accounting policies used and the reasonableness of accounting \\nestimates and related disclosures made by management.  \\n\\n\\uf09e  Conclude on the appropriateness of management’s use of the going concern basis of accounting and \\nbased on the audit evidence obtained, whether a material uncertainty exists related to events or \\nconditions that may cast significant doubt on the Group’s ability to continue as a going concern. If we \\nconclude that a material uncertainty exists, we are required to draw attention in our auditor’s report to \\nthe related disclosures in the consolidated financial statements or, if such disclosures are inadequate, to \\nmodify our opinion. Our conclusions are based on the audit evidence obtained up to the date of our \\nauditor’s report. However, future events or conditions may cause the Group to cease to continue as a \\ngoing concern.  \\n\\n\\uf09e \\n\\nEvaluate whether the presentation and disclosures in the consolidated financial statements are in \\naccordance with accounting standards generally accepted in Japan, the overall presentation, structure \\nand content of the consolidated financial statements, including the disclosures, and whether the \\nconsolidated financial statements represent the underlying transactions and events in a manner that \\nachieves fair presentation. \\n\\n\\uf09e  Obtain sufficient appropriate audit evidence regarding the financial information of the entities or \\n\\nbusiness activities within the Group to express an opinion on the consolidated financial statements. We \\nare responsible for the direction, supervision and performance of the group audit. We remain solely \\nresponsible for our audit opinion.  \\n\\nWe communicate with the Audit Committee regarding, among other matters, the planned scope and timing \\nof the audit, significant audit findings, including any significant deficiencies in internal control that we \\nidentify during our audit.  \\n\\nWe also provide the Audit Committee with a statement that we have complied with relevant ethical \\nrequirements regarding independence, and communicate with them all relationships and other matters that \\nmay reasonably be thought to bear on our independence, and where applicable, related safeguards. \\n\\nFrom the matters communicated with the Audit Committee, we determine those matters that were of most \\nsignificance in the audit of the consolidated financial statements of the current period and are therefore the \\nkey audit matters. We describe these matters in our auditor’s report unless law or regulation precludes \\npublic disclosure about the matter or when, in extremely rare circumstances, we determine that a matter \\nshould not be communicated in our report because the adverse consequences of doing so would reasonably \\nbe expected to outweigh the public interest benefits of such communication. \\n\\n \\n \\n \\n\\x0cConvenience Translation \\n\\nThe U.S. dollar amounts in the accompanying consolidated financial statements with respect to the year \\nended March 31, 2023 are presented solely for convenience. Our audit also included the translation of yen \\namounts into U.S. dollar amounts and, in our opinion, such translation has been made on the basis \\ndescribed in basis of presentation in the notes to the consolidated financial statements. \\n\\nInterest required to be disclosed by the Certified Public Accountants Act of Japan  \\n\\nWe do not have any interest in the Group which is required to be disclosed pursuant to the provisions of the \\nCertified Public Accountants Act of Japan. \\n\\n \\n \\n \\n \\n \\n\\x0c/S/ Toshihiro Otsuka \\nDesignated Engagement Partner \\nCertified Public Accountant \\n\\n/S/ Kazuhide Niki \\nDesignated Engagement Partner \\nCertified Public Accountant \\n\\n/S/ Bumbee Nishi \\nDesignated Engagement Partner \\nCertified Public Accountant \\n\\nKPMG AZSA LLC \\nTokyo Office, Japan \\nJune 21, 2023   \\n\\nNotes to the Reader of Independent Auditor’s Report:   \\nThis is a copy of the Independent Auditor’s Report and the original copies are kept separately by the \\nCompany and KPMG AZSA LLC.'], 'answer': 'Overseas subsidiaries and affiliated companies are integrated into the consolidation process based on certain criteria. The number of consolidated subsidiaries as of March 31, 2023, was 184. These subsidiaries include companies such as Sumitomo Mitsui Banking Corporation (SMBC), SMBC Trust Bank Ltd., SMBC Nikko Securities Inc., Sumitomo Mitsui Card Company, Limited, and others. \\n\\nIn the fiscal year ended March 31, 2023, eight companies were newly included in the scope of consolidation, while five companies were excluded due to liquidation and other reasons. \\n\\nUnconsolidated subsidiaries are also considered in the consolidation process. The principal unconsolidated subsidiary is SBCS Co., Ltd. Five unconsolidated subsidiaries were investment partnerships and were excluded from the scope of consolidation. Other unconsolidated subsidiaries were excluded because their total amounts in terms of total assets, ordinary income, net income, and retained earnings were immaterial. \\n\\nThe equity method is applied to certain unconsolidated subsidiaries and affiliates. As of March 31, 2023, there were five unconsolidated subsidiaries accounted for by the equity method and 303 equity method affiliates. Changes in the equity method affiliates in the fiscal year ended March 31, 2023, included 201 companies becoming equity method affiliates and five companies being excluded from the scope of equity method affiliates. \\n\\nThe balance sheet dates of consolidated subsidiaries vary, with some subsidiaries having balance sheet dates of June 30, October 31, December 31, and March 31. Adjustments are made to material transactions during the periods between their respective balance sheet dates and the consolidated closing date. \\n\\nThe accounting policies for trading assets/liabilities and trading income/losses are based on recognized standards. Transactions for trading purposes are included in \"Trading assets\" or \"Trading liabilities\" on the consolidated balance sheets, and profits and losses on trading-purpose transactions are recognized on a trade date basis. Securities and monetary claims purchased for trading purposes are stated at the fiscal year-end market value, and financial derivatives are stated at amounts that would be settled if the transactions were terminated at the consolidated balance sheet date. \\n\\nThe consolidated financial statements are prepared in accordance with accounting principles generally accepted in Japan. Management is responsible for the preparation and fair presentation of the consolidated financial statements, and auditors provide reasonable assurance about whether the statements are free from material misstatement. The auditors also evaluate the appropriateness of accounting policies, assess the risks of material misstatement, and communicate significant audit findings to the Audit Committee.', 'thoughts': \"<br><br>Prompt:<br>You are an AI assistant tasked with answering questions and summarizing information from <br>        earning call transcripts, annual reports, SEC filings and financial statements.<br>        Your answer should accurately capture the key information in the document while avoiding the omission of any domain-specific words. <br>        Please generate a concise and comprehensive information that includes details such as reporting year and amount in millions.<br>        Ensure that it is easy to understand for business professionals and provides an accurate representation of the financial statement history. <br>        <br>        Please remember to use clear language and maintain the integrity of the original information without missing any important details<br><br>        QUESTION: How are overseas subsidiaries and affiliated companies integrated into the consolidation process?<br>        =========<br>        ['Amounts  less  than  ¥1  million  have been  rounded  down.  As  a  result,  the  totals  in  Japanese  yen  shown  in  the \\\\n\\\\nfinancial statements do not necessarily agree with the sum of the individual amounts.   \\\\n\\\\nThe translation of the Japanese yen amounts into U.S. dollars is included solely for the convenience of readers \\\\noutside  Japan,  using  the  prevailing  exchange  rate  at  March  31,  2023  which  was  ¥133.54  to  US$1.  These \\\\ntranslations should not be construed as representations that the Japanese yen amounts have been, could have been, \\\\nor could in the future be, converted into U.S. dollars at that rate. \\\\n\\\\n―14― \\\\n\\\\n \\\\n \\\\n \\\\n \\\\n \\\\n \\\\n \\\\n \\\\n \\\\n\\\\x0c(Significant Accounting Policies for Preparing Consolidated Financial Statements) \\\\n\\\\n1. Scope of consolidation \\\\n\\\\n(1) Consolidated subsidiaries \\\\n\\\\nThe number of consolidated subsidiaries at March 31, 2023 was 184. \\\\n\\\\nPrincipal companies: \\\\n\\\\nSumitomo Mitsui Banking Corporation (“SMBC”) \\\\nSMBC Trust Bank Ltd. \\\\nSMBC Nikko Securities Inc. \\\\nSumitomo Mitsui Card Company, Limited \\\\nSMBC Finance Service Co., Ltd.   \\\\nSMBC Consumer Finance Co., Ltd. \\\\nThe Japan Research Institute, Limited \\\\nSumitomo Mitsui DS Asset Management Company, Limited \\\\nSMBC Bank International plc \\\\nSMBC Bank EU AG \\\\nSumitomo Mitsui Banking Corporation (China) Limited \\\\nPT Bank BTPN Tbk \\\\nSMBC Americas Holdings, Inc. \\\\nSMBC Guarantee Co., Ltd. \\\\n\\\\nChanges in the consolidated subsidiaries in the fiscal year ended March 31, 2023 were as follows: \\\\n\\\\n8  companies  were  newly  included  in  the  scope  of  consolidation  as  a  result  of  new  establishment  and  for \\\\n\\\\nother reasons. \\\\n\\\\n5 companies were excluded from the scope of consolidation because of liquidation and for other reasons. \\\\n\\\\n(2) Unconsolidated subsidiaries \\\\n\\\\nPrincipal company: SBCS Co., Ltd. \\\\n\\\\n5  of  the  unconsolidated  subsidiaries  were  investment  partnerships,  and  neither  their  assets  nor  profit/loss \\\\nwere  substantially  attributable  to  subsidiaries,  and  thus  were  excluded  from  the  scope  of  consolidation \\\\npursuant  to  Article  5,  Paragraph  1,  Item  2  of  the  Ordinance  on  the  Terminology,  Forms,  and  Preparation \\\\nMethods of Consolidated Financial Statements. \\\\n\\\\nOther  unconsolidated  subsidiaries  were  excluded  from  the  scope  of  consolidation  because  their  total \\\\namounts in terms of total assets, ordinary income, net income and retained earnings were immaterial, as such, \\\\nthey did not hinder a rational judgment of the financial position and results of operations of the Company and \\\\nits consolidated subsidiaries when excluded from the scope of consolidation. \\\\n\\\\n2. Application of the equity method \\\\n\\\\n(1) Unconsolidated subsidiaries accounted for by the equity method \\\\n\\\\nThe number of unconsolidated subsidiaries accounted for by the equity method at March 31, 2023 was 5. \\\\n\\\\nPrincipal company: SBCS Co., Ltd. \\\\n\\\\n―15― \\\\n\\\\n \\\\n \\\\n \\\\n \\\\n \\\\n \\\\n \\\\n \\\\n \\\\n \\\\n \\\\n \\\\n \\\\n \\\\n\\\\x0c(2) Equity method affiliates \\\\n\\\\nThe number of affiliates accounted for by the equity method at March 31, 2023 was 303. \\\\n\\\\nPrincipal companies: \\\\n\\\\nSumitomo Mitsui Finance and Leasing Company, Limited \\\\nSumitomo Mitsui Auto Service Company, Limited \\\\n\\\\nChanges in the equity method affiliates in the fiscal year ended March 31, 2023 were as follows: \\\\n\\\\n201 companies became equity method affiliates due to acquisition of stock and for other reasons.   \\\\nVietnam Export Import Commercial Joint Stock Bank and 4 other companies were excluded from the scope \\\\n\\\\nof equity method affiliates due to sale of stocks and for other reasons. \\\\n\\\\n(3) Unconsolidated subsidiaries not accounted for by the equity method \\\\n\\\\n5  unconsolidated  subsidiaries  not  accounted  for  by  the  equity  method  were  investment  partnerships,  and \\\\nneither their assets nor profit/loss were substantially attributable to subsidiaries, and thus were excluded from \\\\nthe scope of equity method pursuant to Article 10, Paragraph 1, Item 2 of the Ordinance on the Terminology, \\\\nForms, and Preparation Methods of Consolidated Financial Statements. \\\\n\\\\n(4) Affiliates not accounted for by the equity method \\\\n\\\\nPrincipal company: Park Square Capital / SMBC Loan Programme S. à r. l. \\\\n\\\\nAffiliates  not  accounted  for  by  the  equity  method  were  also  excluded  from  the  scope  of  equity  method \\\\nbecause their total amounts in terms of net income and retained earnings were immaterial, and as such, they \\\\ndid not hinder a rational judgment of the financial position and results of operations of the Company and its \\\\nconsolidated subsidiaries when excluded from the scope of equity method. \\\\n\\\\n3. The balance sheet dates of consolidated subsidiaries \\\\n\\\\n(1) The balance sheet dates of the consolidated subsidiaries at March 31, 2023 were as follows: \\\\n\\\\nJune 30 \\\\nOctober 31 \\\\nDecember 31 \\\\nMarch 31 \\\\n\\\\n1 \\\\n2 \\\\n93 \\\\n88 \\\\n\\\\n(2) The subsidiary with balance sheets dated June 30 is consolidated using the financial statements as of December \\\\n31, the subsidiaries with balance sheets dated October 31 are consolidated using the financial statements as of \\\\nJanuary  31,  and  certain  subsidiaries  with  balance  sheets  dated  December  31  are  consolidated  using  the \\\\nfinancial statements as of March 31. Other subsidiaries are consolidated using the financial statements as of \\\\ntheir respective balance sheet dates. \\\\n\\\\nAppropriate  adjustments  are  made  to  material  transactions  during  the  periods  between  their  respective \\\\n\\\\nbalance sheet dates and the consolidated closing date. \\\\n\\\\n4. Accounting policies \\\\n\\\\n(1) Standards for recognition and measurement of trading assets/liabilities and trading income/losses \\\\n\\\\nTransactions for trading purposes (seeking gains arising from short-term changes in interest rates, currency \\\\nexchange  rates,  or  market  prices  of  securities  and  other  market  related  indices  or  from  variation  among \\\\nmarkets) are included in “Trading assets” or “Trading liabilities” on the consolidated balance sheets on a trade \\\\ndate basis. Profits and losses on trading-purpose transactions are recognized on a trade date basis, and recorded \\\\nas “Trading income” and “Trading losses” on the consolidated statements of income. \\\\n\\\\nSecurities and monetary claims purchased for trading purposes are stated at the fiscal year-end market value, \\\\nand financial derivatives such as swaps, futures and options are stated at amounts that would be settled if the \\\\ntransactions were terminated at the consolidated balance sheet date. \\\\n\\\\n―16― \\\\n\\\\n \\\\n \\\\n \\\\n \\\\n \\\\n   \\\\n \\\\n \\\\n \\\\n \\\\n \\\\n \\\\n \\\\n \\\\n \\\\n \\\\n \\\\n \\\\n \\\\n\\\\x0c“Trading income” and “Trading losses” include interest received or paid during the fiscal year. The year-on-\\\\nyear  valuation  differences  of  securities  and  monetary  claims  are  also  recorded  in  the  above-mentioned \\\\naccounts. As for the derivatives, assuming that the settlement will be made in cash, the year-on-year valuation \\\\ndifferences are also recorded in the above-mentioned accounts. \\\\n\\\\nIn  terms  of  the  evaluation  of  specific  market  risks  and  credit  risks  for  derivative  transactions,  those  fair \\\\nvalues are calculated by group basis of the financial assets and liabilities based on net asset or liability after \\\\noffsetting. \\\\n\\\\n(2) Standards for recognition and measurement of securities \\\\n\\\\n1) Debt securities that are classified as held-to-maturity securities and are carried at amortized cost (based on \\\\nstraight-line method) using the moving-average method. Investments in affiliates that are not accounted for \\\\nby the equity method are carried at cost using the moving-average method. Other securities are carried at \\\\nfair value (cost of securities sold is calculated using primarily the moving average method). Stocks with no \\\\nmarket prices are carried at cost using the moving-average method.   \\\\n\\\\nNet  unrealized  gains  (losses)  on  other  securities  are  included  in  “Net  assets”  except  for  the  amount \\\\n\\\\nreflected on the gains or losses by applying fair value hedge accounting.   \\\\n\\\\n2) Securities included in money held in trust are carried in the same method as in (1) and (2), 1) above.', 'As for the individual hedges, SMBC also assesses the effectiveness of such individual hedges. \\\\n\\\\n2) Hedging against currency fluctuations \\\\n\\\\nSMBC, which is a consolidated subsidiary of the Company, applies deferred hedge accounting stipulated \\\\nin  “Treatment  of  Accounting  and  Auditing  Concerning  Accounting  for  Foreign  Currency  Transactions  in \\\\nBanking  Industry”  (JICPA  Industry  Committee  Practical  Guideline  No.  25,  October  8,  2020)  to  currency \\\\nswap  and  foreign  exchange  swap  transactions  executed for  the  purpose  of  lending  or  borrowing  funds  in \\\\ndifferent currencies. \\\\n\\\\nPursuant to JICPA Industry Committee Practical Guideline No. 25, SMBC assesses the effectiveness of \\\\ncurrency  swap  and  foreign  exchange  swap  transactions  executed  for  the  purpose  of  offsetting  the  risk  of \\\\nchanges in currency exchange rates by verifying that there are foreign-currency monetary claims and debts \\\\ncorresponding to the foreign-currency positions. \\\\n\\\\nIn order to hedge risk arising from volatility of exchange rates for stocks of subsidiaries and affiliates and \\\\nother  securities  (excluding  bonds)  denominated  in  foreign  currencies,  SMBC  applies  deferred  hedge \\\\naccounting  or  fair  value  hedge  accounting,  on  the  conditions  that  the  hedged  securities  are  designated  in \\\\nadvance and that sufficient on-balance (actual) or off-balance (forward) liability exposure exists to cover the \\\\ncost of the hedged securities denominated in the same foreign currencies. \\\\n\\\\n3) Hedging against share price fluctuations \\\\n\\\\nSMBC,  which  is  a  consolidated  subsidiary,  applies  fair  value  hedge  accounting  to  individual  hedges \\\\noffsetting  the  price  fluctuation  of  the  shares  that  are  classified  under  other  securities,  and  accordingly \\\\nevaluates the effectiveness of such individual hedges. \\\\n\\\\n4) Transactions between consolidated subsidiaries \\\\n\\\\nAs for derivative transactions between consolidated subsidiaries or internal transactions between trading \\\\naccounts  and  other  accounts  (or  among  internal  sections),  SMBC  manages  the  interest  rate  swaps  and \\\\ncurrency swaps that are designated as hedging instruments in accordance with the non-arbitrary and strict \\\\ncriteria for external transactions stipulated in JICPA Industry Committee Practical Guidelines No. 24 and No. \\\\n25. Therefore, SMBC accounts for the gains or losses that arise from interest rate swaps and currency swaps \\\\nin its earnings or defers them, rather than eliminating them. \\\\n\\\\nCertain other consolidated subsidiaries apply the deferred hedge accounting, fair value hedge accounting \\\\n\\\\nor the special treatment for interest rate swaps. \\\\n\\\\n―21― \\\\n\\\\n \\\\n \\\\n \\\\n \\\\n \\\\n \\\\n \\\\n \\\\n \\\\n \\\\n \\\\n \\\\n \\\\n \\\\n \\\\n \\\\n\\\\x0c(18) Amortization of goodwill \\\\n\\\\nGoodwill  is  amortized  using  the  straight-line  method  over  a  period  in  which  its  benefit  is  expected  to  be \\\\nrealized, not to exceed 20 years. Immaterial goodwill is charged or credited to income directly when incurred. \\\\n\\\\n(19) Scope of “Cash and cash equivalents” on consolidated statements of cash flows \\\\n\\\\nFor the purpose of presenting the consolidated statements of cash flows, “Cash and cash equivalents” are \\\\n\\\\ncash on hand, non-interest earning deposits with banks and deposits with the Bank of Japan.   \\\\n\\\\n(20) Adoption of the group tax sharing system \\\\n\\\\nThe Company and certain consolidated domestic subsidiaries apply the group tax sharing system. \\\\n\\\\n―22― \\\\n\\\\n \\\\n \\\\n \\\\n \\\\n \\\\n \\\\n \\\\n\\\\x0c(Significant Accounting Estimates) \\\\n\\\\n1. Reserve for possible loan losses \\\\n\\\\n(1)  The  amount  recorded in  the consolidated financial  statements for  the fiscal  year  ended March 31,  2022  and \\\\n\\\\n2023 \\\\n\\\\nYear ended March 31 \\\\nReserve for possible loan losses   \\\\n\\\\nMillions of yen   \\\\n\\\\n2022   \\\\n\\\\n2023 \\\\n\\\\n  ¥ \\\\n\\\\n817,784    ¥ \\\\n\\\\n750,369 \\\\n\\\\n(2) Information on details of the significant accounting estimates for the identified item \\\\n\\\\nBased on the assessment of all claims including loans and bills discounted conducted in accordance with the \\\\nself-assessment  procedures,  and  borrower  category  determined  depending  on  their  credit  risk  status,  the \\\\nfollowing amounts are recorded as a reserve for possible loan losses. \\\\n\\\\n- The estimated amount of expected loss calculated for each borrower category based on the average value of \\\\nhistorical loan-loss ratio or probability of default over a certain past period is recorded as a reserve for loan \\\\nlosses \\\\n\\\\n-  As  for  claims  classified  as  substandard  or  lower  level  classifications  whose  cash  flows  from  collection  of \\\\nprincipals and interest can rationally be estimated, the Discounted Cash Flows (“DCF”) method is applied for \\\\nones  with  large  borrowers  of  those  claims  and  the  amount  calculated  by  the  DCF  method  is  recorded  as  a \\\\nreserve for loan losses \\\\n\\\\n- As for expected loss based on the future prospects with high probability, but cannot be reflected in historical \\\\nloan-losses  and  in  any  individual  borrower  category,  the  amount  deemed  necessary  based  on  an  overall \\\\nassessment is recorded as a reserve for loan losses   \\\\n\\\\nReserve for possible loan losses recorded by the method above involves the following uncertainties in the \\\\n\\\\nprocess of estimation, hence requiring high-level managerial judgment. \\\\n\\\\n-  Consideration  for  qualitative  factors  including  forward-looking  information  in  determining  borrower \\\\ncategory \\\\n\\\\n- Reasonable estimation of future individual cash flows in the DCF method \\\\n\\\\n-  Determination  of  a  method  for  estimating  expected  loss  based  on  future  prospect  in  consideration  of  the \\\\nlatest economic environment and risk factors, and of the targeted portfolio \\\\n\\\\nThese may be affected by changes in economic environment, which have a potentially significant impact on \\\\n\\\\nthe amount of reserve for possible loan losses for the next fiscal year. \\\\n\\\\n(Note)  For  the  estimation  of  the  reserve  for  possible  loan  losses  specifically  related  to  the  current \\\\ninternational situation involving Ukraine, the tightening monetary policies overseas, and COVID-19, refer to \\\\n(Additional Information). \\\\n\\\\n―23― \\\\n\\\\n \\\\n \\\\n \\\\n \\\\n \\\\n \\\\n \\\\n \\\\n \\\\n \\\\n \\\\n \\\\n \\\\n \\\\n \\\\n \\\\n \\\\n \\\\n \\\\n   \\\\n   \\\\n\\\\x0c2. Impairment loss for fixed assets \\\\n\\\\n(1)  The  amount  recorded in  the consolidated financial  statements for  the fiscal  year  ended March 31,  2022  and \\\\n\\\\n2023 \\\\n\\\\nYear ended March 31 \\\\nTangible fixed assets   \\\\nIntangible fixed assets   \\\\nLosses on impairment of fixed assets   \\\\n\\\\n  ¥ \\\\n\\\\nMillions of yen   \\\\n\\\\n2022 \\\\n\\\\n2023   \\\\n\\\\n1,457,254    ¥ \\\\n898,817   \\\\n108,920   \\\\n\\\\n1,494,527 \\\\n897,848 \\\\n59,045 \\\\n\\\\n(2) Information on details of the significant accounting estimates for the identified item   \\\\n\\\\n(Grouping of assets) \\\\n\\\\nAs  for  land  and  buildings,  etc.,  at  SMBC,  a  consolidated  subsidiary  of  the  Company,  a  branch  is  the \\\\nsmallest unit of asset group, and intangible fixed assets and assets of Head Office, etc. which do not produce \\\\nindependent  cash  flows are treated as  corporate  assets. Corporate  assets that  are  reasonably deemed  to be \\\\nused  solely  by  each  business  unit  are  identified  as  each  business  unit’s  corporate  assets,  and  conducted \\\\nimpairment  assessments  on  a  business  unit  basis  together  with  other  related  fixed  assets.  As  for  other \\\\ncorporate assets, impairment is recognized on a company level. \\\\n\\\\n(Identifying indication of impairment, and testing and calculating recognition of impairment loss) \\\\n\\\\nFixed assets that have an indication of impairment are tested for recognition of impairment loss, and if \\\\nrecognition is required, their book values are reduced to the recoverable amount and the reduced amount is \\\\nrecorded as impairment loss. Recoverable amount is either net realizable value, which is deducting expected \\\\ndisposal  cost  from  fair  value  of  the  fixed  asset,  or  value  in  use  which  is  the  present  value  of  cash  flows \\\\nexpected to derive from the continuous use and disposal of the fixed asset after use.', 'Management is responsible for the preparation and fair presentation of the consolidated financial statements \\\\nin accordance with accounting principles generally accepted in Japan, and for such internal control as \\\\nmanagement determines is necessary to enable the preparation of consolidated financial statements that are \\\\nfree from material misstatement, whether due to fraud or error. \\\\n\\\\nIn preparing the consolidated financial statements, management is responsible for assessing the Group’s \\\\nability to continue as a going concern, disclosing, as applicable, matters related to going concern in \\\\naccordance with accounting principles generally accepted in Japan.  \\\\n\\\\nThe Audit Committee is responsible for overseeing the directors and the corporate executive officers’ \\\\nperformance of their duties with regard to the design, implementation and maintenance of the Group’s \\\\nfinancial reporting process.   \\\\n\\\\n \\\\n \\\\n \\\\n \\\\n \\\\n\\\\x0cAuditor’s Responsibilities for the Audit of the Consolidated Financial Statements \\\\n\\\\nOur objectives are to obtain reasonable assurance about whether the consolidated financial statements as a \\\\nwhole are free from material misstatement, whether due to fraud or error, and to issue an auditor’s report \\\\nthat includes our opinion. Reasonable assurance is a high level of assurance, but is not a guarantee that an \\\\naudit conducted in accordance with auditing standards generally accepted in Japan will always detect a \\\\nmaterial misstatement when it exists. Misstatements can arise from fraud or error and are considered \\\\nmaterial if, individually or in the aggregate, they could reasonably be expected to influence the economic \\\\ndecisions of users taken on the basis of these consolidated financial statements.  \\\\n\\\\nAs part of our audit in accordance with auditing standards generally accepted in Japan, we exercise \\\\nprofessional judgment and maintain professional skepticism throughout the audit. We also: \\\\n\\\\n\\\\uf09e \\\\n\\\\nIdentify and assess the risks of material misstatement of the consolidated financial statements, whether \\\\ndue to fraud or error, design and perform audit procedures responsive to those risks, and obtain audit \\\\nevidence that is sufficient and appropriate to provide a basis for our opinion. The risk of not detecting a \\\\nmaterial misstatement resulting from fraud is higher than for one resulting from error, as fraud may \\\\ninvolve collusion, forgery, intentional omissions, misrepresentations, or the override of internal \\\\ncontrol.  \\\\n\\\\n\\\\uf09e  Obtain an understanding of internal control relevant to the audit in order to design audit procedures \\\\n\\\\nthat are appropriate in the circumstances, while the objective of the audit is not to express an opinion \\\\non the effectiveness of the Group’s internal control.  \\\\n\\\\n\\\\uf09e \\\\n\\\\nEvaluate the appropriateness of accounting policies used and the reasonableness of accounting \\\\nestimates and related disclosures made by management.  \\\\n\\\\n\\\\uf09e  Conclude on the appropriateness of management’s use of the going concern basis of accounting and \\\\nbased on the audit evidence obtained, whether a material uncertainty exists related to events or \\\\nconditions that may cast significant doubt on the Group’s ability to continue as a going concern. If we \\\\nconclude that a material uncertainty exists, we are required to draw attention in our auditor’s report to \\\\nthe related disclosures in the consolidated financial statements or, if such disclosures are inadequate, to \\\\nmodify our opinion. Our conclusions are based on the audit evidence obtained up to the date of our \\\\nauditor’s report. However, future events or conditions may cause the Group to cease to continue as a \\\\ngoing concern.  \\\\n\\\\n\\\\uf09e \\\\n\\\\nEvaluate whether the presentation and disclosures in the consolidated financial statements are in \\\\naccordance with accounting standards generally accepted in Japan, the overall presentation, structure \\\\nand content of the consolidated financial statements, including the disclosures, and whether the \\\\nconsolidated financial statements represent the underlying transactions and events in a manner that \\\\nachieves fair presentation. \\\\n\\\\n\\\\uf09e  Obtain sufficient appropriate audit evidence regarding the financial information of the entities or \\\\n\\\\nbusiness activities within the Group to express an opinion on the consolidated financial statements. We \\\\nare responsible for the direction, supervision and performance of the group audit. We remain solely \\\\nresponsible for our audit opinion.  \\\\n\\\\nWe communicate with the Audit Committee regarding, among other matters, the planned scope and timing \\\\nof the audit, significant audit findings, including any significant deficiencies in internal control that we \\\\nidentify during our audit.  \\\\n\\\\nWe also provide the Audit Committee with a statement that we have complied with relevant ethical \\\\nrequirements regarding independence, and communicate with them all relationships and other matters that \\\\nmay reasonably be thought to bear on our independence, and where applicable, related safeguards. \\\\n\\\\nFrom the matters communicated with the Audit Committee, we determine those matters that were of most \\\\nsignificance in the audit of the consolidated financial statements of the current period and are therefore the \\\\nkey audit matters. We describe these matters in our auditor’s report unless law or regulation precludes \\\\npublic disclosure about the matter or when, in extremely rare circumstances, we determine that a matter \\\\nshould not be communicated in our report because the adverse consequences of doing so would reasonably \\\\nbe expected to outweigh the public interest benefits of such communication. \\\\n\\\\n \\\\n \\\\n \\\\n\\\\x0cConvenience Translation \\\\n\\\\nThe U.S. dollar amounts in the accompanying consolidated financial statements with respect to the year \\\\nended March 31, 2023 are presented solely for convenience. Our audit also included the translation of yen \\\\namounts into U.S. dollar amounts and, in our opinion, such translation has been made on the basis \\\\ndescribed in basis of presentation in the notes to the consolidated financial statements. \\\\n\\\\nInterest required to be disclosed by the Certified Public Accountants Act of Japan  \\\\n\\\\nWe do not have any interest in the Group which is required to be disclosed pursuant to the provisions of the \\\\nCertified Public Accountants Act of Japan. \\\\n\\\\n \\\\n \\\\n \\\\n \\\\n \\\\n\\\\x0c/S/ Toshihiro Otsuka \\\\nDesignated Engagement Partner \\\\nCertified Public Accountant \\\\n\\\\n/S/ Kazuhide Niki \\\\nDesignated Engagement Partner \\\\nCertified Public Accountant \\\\n\\\\n/S/ Bumbee Nishi \\\\nDesignated Engagement Partner \\\\nCertified Public Accountant \\\\n\\\\nKPMG AZSA LLC \\\\nTokyo Office, Japan \\\\nJune 21, 2023   \\\\n\\\\nNotes to the Reader of Independent Auditor’s Report:   \\\\nThis is a copy of the Independent Auditor’s Report and the original copies are kept separately by the \\\\nCompany and KPMG AZSA LLC.']<br>        =========<br>        \", 'sources': '\\n2023_e_fy.pdf', 'nextQuestions': '<>\\n<>\\n<>', 'error': ''}}\n"
     ]
    }
   ],
   "source": [
    "# Execute flow\n",
    "flowResult = pf.test(flow=flow, inputs=flowInput)\n",
    "print(f\"Flow result: {flowResult}\")"
   ]
  },
  {
   "cell_type": "code",
   "execution_count": 34,
   "metadata": {},
   "outputs": [
    {
     "name": "stderr",
     "output_type": "stream",
     "text": [
      "Unknown input(s) of parse_postBody: {'question': 'How are the consolidated financial statements prepared for the company?', 'chainType': 'stuff', 'indexType': 'cogsearchvs', 'indexNs': '3738d6dc992c4229a5a52efe84af4d3d'}\n"
     ]
    },
    {
     "name": "stdout",
     "output_type": "stream",
     "text": [
      "2023-08-25 21:03:24 -0500   72296 execution.flow     INFO     Executing node parse_postBody. node run id: 1fdba555-baa3-493f-8222-a0d5800844f6_parse_postBody_3c684288-e3f2-4522-925d-7806dce208a0\n",
      "2023-08-25 21:03:24 -0500   72296 execution.flow     INFO     Node parse_postBody completes.\n",
      "Node result: {'semantic_ranker': True, 'semantic_captions': False, 'top': 3, 'temperature': 0, 'promptTemplate': 'You are an AI assistant tasked with answering questions and summarizing information from \\n        earning call transcripts, annual reports, SEC filings and financial statements.\\n        Your answer should accurately capture the key information in the document while avoiding the omission of any domain-specific words. \\n        Please generate a concise and comprehensive information that includes details such as reporting year and amount in millions.\\n        Ensure that it is easy to understand for business professionals and provides an accurate representation of the financial statement history. \\n        \\n        Please remember to use clear language and maintain the integrity of the original information without missing any important details\\n\\n        QUESTION: {question}\\n        =========\\n        {summaries}\\n        =========\\n        ', 'chainType': 'stuff', 'tokenLength': 1000, 'embeddingModelType': 'azureopenai', 'deploymentType': 'gpt3516k'}\n"
     ]
    }
   ],
   "source": [
    "# Test single node in the flow\n",
    "nodeName = \"parse_postBody\"\n",
    "flowResult = pf.test(flow=flow, inputs=flowInput, node=nodeName)\n",
    "print(f\"Node result: {flowResult}\")"
   ]
  },
  {
   "cell_type": "markdown",
   "metadata": {},
   "source": [
    "#### Serve the Flow as endpoint"
   ]
  },
  {
   "cell_type": "code",
   "execution_count": 37,
   "metadata": {},
   "outputs": [
    {
     "name": "stdout",
     "output_type": "stream",
     "text": [
      "^C\n"
     ]
    }
   ],
   "source": [
    "!pf flow serve --source ./promptflow/questionanswering --port 8080 --host localhost"
   ]
  },
  {
   "cell_type": "markdown",
   "metadata": {},
   "source": [
    "#### Verify the Run for Azure"
   ]
  },
  {
   "cell_type": "code",
   "execution_count": 109,
   "metadata": {},
   "outputs": [],
   "source": [
    "import json\n",
    "\n",
    "# Import required libraries\n",
    "from azure.identity import DefaultAzureCredential, InteractiveBrowserCredential\n",
    "\n",
    "# azure version promptflow apis\n",
    "from promptflow.azure import PFClient"
   ]
  },
  {
   "cell_type": "code",
   "execution_count": 110,
   "metadata": {},
   "outputs": [],
   "source": [
    "try:\n",
    "    credential = DefaultAzureCredential()\n",
    "    # Check if given credential can get token successfully.\n",
    "    credential.get_token(\"https://management.azure.com/.default\")\n",
    "except Exception as ex:\n",
    "    # Fall back to InteractiveBrowserCredential in case DefaultAzureCredential not work\n",
    "    credential = InteractiveBrowserCredential()"
   ]
  },
  {
   "cell_type": "code",
   "execution_count": 111,
   "metadata": {},
   "outputs": [
    {
     "name": "stderr",
     "output_type": "stream",
     "text": [
      "Found the config file in: D:\\repos\\chatpdf\\.azureml\\config.json\n"
     ]
    },
    {
     "name": "stdout",
     "output_type": "stream",
     "text": [
      "<promptflow.azure._pf_client.PFClient object at 0x00000251C9AE08E0>\n"
     ]
    }
   ],
   "source": [
    "try:\n",
    "    pfAzure = PFClient.from_config(credential=credential)\n",
    "except Exception as ex:\n",
    "    # NOTE: Update following workspace information if not correctly configure before\n",
    "    client_config = {\n",
    "        \"subscription_id\": \"e2171f6d-2650-45e6-af7e-6d6e44ca92b1\",\n",
    "        \"resource_group\": \"dataai\",\n",
    "        \"workspace_name\": \"dataaiamlwks\",\n",
    "    }\n",
    "\n",
    "    if client_config[\"subscription_id\"].startswith(\"<\"):\n",
    "        print(\n",
    "            \"please update your <SUBSCRIPTION_ID> <RESOURCE_GROUP> <AML_WORKSPACE_NAME> in notebook cell\"\n",
    "        )\n",
    "        raise ex\n",
    "    else:  # write and reload from config file\n",
    "        import json, os\n",
    "\n",
    "        config_path = \"../.azureml/config.json\"\n",
    "        os.makedirs(os.path.dirname(config_path), exist_ok=True)\n",
    "        with open(config_path, \"w\") as fo:\n",
    "            fo.write(json.dumps(client_config))\n",
    "        pf = PFClient.from_config(credential=credential, path=config_path)\n",
    "print(pf)"
   ]
  },
  {
   "cell_type": "code",
   "execution_count": 112,
   "metadata": {},
   "outputs": [
    {
     "name": "stderr",
     "output_type": "stream",
     "text": [
      "Found the config file in: D:\\repos\\chatpdf\\.azureml\\config.json\n"
     ]
    }
   ],
   "source": [
    "# Get a handle to workspace\n",
    "pfAzure = PFClient.from_config(credential=credential)\n",
    "runtime = \"entaoai\""
   ]
  },
  {
   "cell_type": "code",
   "execution_count": 113,
   "metadata": {},
   "outputs": [],
   "source": [
    "# load flow\n",
    "flow = \"./promptflow/questionanswering\"\n",
    "data = \"./promptflow/questionanswering/data.jsonl\""
   ]
  },
  {
   "cell_type": "code",
   "execution_count": 114,
   "metadata": {},
   "outputs": [
    {
     "name": "stdout",
     "output_type": "stream",
     "text": [
      "Portal url: https://ml.azure.com/prompts/flow/bulkrun/run/qaragcogsearchlc_default_20230829_160747_931594/details?wsid=/subscriptions/e2171f6d-2650-45e6-af7e-6d6e44ca92b1/resourceGroups/dataai/providers/Microsoft.MachineLearningServices/workspaces/dataaiamlwks&flight=promptfilestorage,PFSourceRun=false\n",
      "name: qaragcogsearchlc_default_20230829_160747_931594\n",
      "created_on: '2023-08-29T21:09:08.544542+00:00'\n",
      "status: Preparing\n",
      "display_name: qaragcogsearchlc_default_20230829_160747_931594\n",
      "description: null\n",
      "tags: {}\n",
      "properties:\n",
      "  azureml.promptflow.runtime_name: dataaichatpdf\n",
      "  azureml.promptflow.runtime_version: 20230827.v3\n",
      "  azureml.promptflow.definition_file_name: flow.dag.yaml\n",
      "  azureml.promptflow.session_id: admin_1f0013422d2ec4263824b3af46d0411605b1ba5d884033e76ffa7e6eb109189b\n",
      "  azureml.promptflow.snapshot_id: e242a4d3-3f8c-444c-92ef-244d5ac152f5\n",
      "creation_context:\n",
      "  userObjectId: 1dfbcdc6-0c17-466c-af61-9b52edef28df\n",
      "  userPuId: 100320023FE78391\n",
      "  userIdp: null\n",
      "  userAltSecId: null\n",
      "  userIss: https://sts.windows.net/b82069fa-ada8-453a-817b-e6348d534d88/\n",
      "  userTenantId: b82069fa-ada8-453a-817b-e6348d534d88\n",
      "  userName: Ashish Talati\n",
      "  upn: null\n",
      "start_time: null\n",
      "end_time: null\n",
      "duration: null\n",
      "portal_url: https://ml.azure.com/prompts/flow/bulkrun/run/qaragcogsearchlc_default_20230829_160747_931594/details?wsid=/subscriptions/e2171f6d-2650-45e6-af7e-6d6e44ca92b1/resourceGroups/dataai/providers/Microsoft.MachineLearningServices/workspaces/dataaiamlwks&flight=promptfilestorage,PFSourceRun=false\n",
      "data: azureml://datastores/workspaceblobstore/paths/LocalUpload/1523dbc2af98b998f561376ebe35aefd/data.jsonl\n",
      "data_portal_url: https://ml.azure.com/data/datastore/workspaceblobstore/edit?wsid=/subscriptions/e2171f6d-2650-45e6-af7e-6d6e44ca92b1/resourceGroups/dataai/providers/Microsoft.MachineLearningServices/workspaces/dataaiamlwks&activeFilePath=LocalUpload/1523dbc2af98b998f561376ebe35aefd/data.jsonl#browseTab\n",
      "output: null\n",
      "output_portal_url: null\n",
      "\n"
     ]
    }
   ],
   "source": [
    "# create run\n",
    "baseRun = pfAzure.run(\n",
    "    flow=flow,\n",
    "    data=data,\n",
    "    runtime=runtime,\n",
    ")\n",
    "print(baseRun)"
   ]
  },
  {
   "cell_type": "code",
   "execution_count": 115,
   "metadata": {},
   "outputs": [
    {
     "name": "stdout",
     "output_type": "stream",
     "text": [
      "2023-08-29 21:09:10 +0000      32 promptflow-runtime INFO     [qaragcogsearchlc_default_20230829_160747_931594] Receiving v2 bulk run request 96f99510-1991-486f-b232-98ed5ce4c75e: {\"flow_id\": \"qaragcogsearchlc_default_20230829_160747_931594\", \"flow_run_id\": \"qaragcogsearchlc_default_20230829_160747_931594\", \"flow_source\": {\"flow_source_type\": 1, \"flow_source_info\": {\"snapshot_id\": \"e242a4d3-3f8c-444c-92ef-244d5ac152f5\"}, \"flow_dag_file\": \"flow.dag.yaml\"}, \"connections\": \"**data_scrubbed**\", \"log_path\": \"https://dataaiamlwksstor.blob.core.windows.net/azureml/ExperimentRun/dcid.qaragcogsearchlc_default_20230829_160747_931594/logs/azureml/executionlogs.txt?sv=2019-07-07&sr=b&sig=**data_scrubbed**&skoid=a086a3b3-4cc4-48f1-aa45-ac3ad0465982&sktid=b82069fa-ada8-453a-817b-e6348d534d88&skt=2023-08-29T20%3A59%3A06Z&ske=2023-08-31T05%3A09%3A06Z&sks=b&skv=2019-07-07&st=2023-08-29T20%3A59%3A09Z&se=2023-08-30T05%3A09%3A09Z&sp=rcw\", \"app_insights_instrumentation_key\": \"InstrumentationKey=**data_scrubbed**;IngestionEndpoint=https://southcentralus-0.in.applicationinsights.azure.com/;LiveEndpoint=https://southcentralus.livediagnostics.monitor.azure.com/\", \"data_inputs\": {\"data\": \"azureml://datastores/workspaceblobstore/paths/LocalUpload/1523dbc2af98b998f561376ebe35aefd/data.jsonl\"}, \"azure_storage_setting\": {\"azure_storage_mode\": 1, \"storage_account_name\": \"dataaiamlwksstor\", \"blob_container_name\": \"azureml-blobstore-759f8dd2-8d99-4322-9c3f-a777bcf2cf5c\", \"flow_artifacts_root_path\": \"promptflow/PromptFlowArtifacts/qaragcogsearchlc_default_20230829_160747_931594\", \"blob_container_sas_token\": \"?sv=2019-07-07&sr=c&sig=**data_scrubbed**&skoid=a086a3b3-4cc4-48f1-aa45-ac3ad0465982&sktid=b82069fa-ada8-453a-817b-e6348d534d88&skt=2023-08-29T21%3A09%3A09Z&ske=2023-09-05T21%3A09%3A09Z&sks=b&skv=2019-07-07&se=2023-09-05T21%3A09%3A09Z&sp=racwl\", \"output_datastore_name\": \"workspaceblobstore\"}}\n",
      "2023-08-29 21:09:10 +0000      32 promptflow-runtime INFO     Running <function RunHistoryClient.get_run at 0x7fb3213b5310>, 3 more tries to go.\n",
      "2023-08-29 21:09:10 +0000      32 promptflow-runtime INFO     Running <function RunHistoryClient.update_run_status at 0x7fb3213b51f0>, 3 more tries to go.\n",
      "2023-08-29 21:09:10 +0000      32 promptflow-runtime INFO     Updating qaragcogsearchlc_default_20230829_160747_931594 to Status.Preparing...\n",
      "2023-08-29 21:09:10 +0000      32 promptflow-runtime INFO     Starting to check process 175 status for run qaragcogsearchlc_default_20230829_160747_931594\n",
      "2023-08-29 21:09:11 +0000      32 promptflow-runtime INFO     Start checking run status for bulk run qaragcogsearchlc_default_20230829_160747_931594\n",
      "2023-08-29 21:09:11 +0000     175 promptflow-runtime INFO     [32--175] Start processing flowV2......\n",
      "2023-08-29 21:09:11 +0000     175 promptflow-runtime INFO     Setting mlflow tracking uri...\n",
      "2023-08-29 21:09:11 +0000     175 promptflow-runtime INFO     Validating 'AzureML Data Scientist' user authentication...\n",
      "2023-08-29 21:09:11 +0000     175 promptflow-runtime INFO     Running <function RuntimeConfig.validate_by_get_dummy_run at 0x7fb3401aa940>, 5 more tries to go.\n",
      "2023-08-29 21:09:11 +0000      32 promptflow-runtime INFO     Start checking run status for run qaragcogsearchlc_default_20230829_160747_931594\n",
      "2023-08-29 21:09:11 +0000     175 promptflow-runtime INFO     Successfully validated 'AzureML Data Scientist' user authentication.\n",
      "2023-08-29 21:09:11 +0000     175 promptflow-runtime INFO     Using AzureMLRunStorageV2\n",
      "2023-08-29 21:09:11 +0000     175 promptflow-runtime INFO     Setting mlflow tracking uri to 'azureml://southcentralus.api.azureml.ms/mlflow/v1.0/subscriptions/e2171f6d-2650-45e6-af7e-6d6e44ca92b1/resourceGroups/dataai/providers/Microsoft.MachineLearningServices/workspaces/dataaiamlwks'\n",
      "2023-08-29 21:09:11 +0000     175 promptflow-runtime INFO     Running <function MlflowHelper.get_host_creds at 0x7fb3587310d0>, 5 more tries to go.\n",
      "2023-08-29 21:09:11 +0000     175 promptflow-runtime INFO     Initialized blob service client for AzureMLRunTracker.\n",
      "2023-08-29 21:09:11 +0000     175 promptflow-runtime INFO     Running <function SnapshotsClient.download_snapshot at 0x7fb3585fe040>, 3 more tries to go.\n",
      "2023-08-29 21:09:11 +0000     175 promptflow-runtime INFO     Get snapshot sas url for e242a4d3-3f8c-444c-92ef-244d5ac152f5...\n",
      "2023-08-29 21:09:18 +0000     175 promptflow-runtime INFO     Downloading snapshot e242a4d3-3f8c-444c-92ef-244d5ac152f5 from uri https://dataaiamlwksstor.blob.core.windows.net/snapshotzips/dataaiamlwks:759f8dd2-8d99-4322-9c3f-a777bcf2cf5c:snapshotzip/e242a4d3-3f8c-444c-92ef-244d5ac152f5.zip...\n",
      "2023-08-29 21:09:18 +0000     175 promptflow-runtime INFO     Downloaded file /service/app/37979/requests/qaragcogsearchlc_default_20230829_160747_931594/e242a4d3-3f8c-444c-92ef-244d5ac152f5.zip with size 274639 for snapshot e242a4d3-3f8c-444c-92ef-244d5ac152f5.\n",
      "2023-08-29 21:09:18 +0000     175 promptflow-runtime INFO     Download snapshot e242a4d3-3f8c-444c-92ef-244d5ac152f5 completed.\n",
      "2023-08-29 21:09:18 +0000     175 promptflow-runtime INFO     Running <function prepare_data at 0x7fb3401ab820>, 3 more tries to go.\n",
      "2023-08-29 21:09:18 +0000     175 promptflow-runtime INFO     Resolve data from url finished in 0.4863220490005915 seconds\n",
      "2023-08-29 21:09:20 +0000     175 promptflow-runtime INFO     Flow run is not terminated, skip persisting flow run record.\n",
      "2023-08-29 21:09:20 +0000     175 promptflow-runtime INFO     Starting the aml run 'qaragcogsearchlc_default_20230829_160747_931594'...\n",
      "2023-08-29 21:09:21 +0000     175 promptflow-runtime INFO     Flow run is not terminated, skip persisting flow run record.\n",
      "2023-08-29 21:09:21 +0000     175 promptflow-runtime INFO     Flow run is not terminated, skip persisting flow run record.\n",
      "2023-08-29 21:09:21 +0000     175 promptflow-runtime INFO     Flow run is not terminated, skip persisting flow run record.\n",
      "2023-08-29 21:09:21 +0000     206 execution          INFO     Start to run 8 nodes with concurrency level 2.\n",
      "2023-08-29 21:09:21 +0000     212 execution          INFO     Start to run 8 nodes with concurrency level 2.\n",
      "2023-08-29 21:09:21 +0000     220 execution          INFO     Start to run 8 nodes with concurrency level 2.\n",
      "2023-08-29 21:09:25 +0000     175 execution.bulk     INFO     Finished 1 / 3 lines.\n",
      "2023-08-29 21:09:26 +0000     175 execution          INFO     Process 2 queue empty, exit.\n",
      "2023-08-29 21:09:29 +0000     175 execution.bulk     INFO     Finished 2 / 3 lines.\n",
      "2023-08-29 21:09:29 +0000     175 execution.bulk     INFO     Finished 3 / 3 lines.\n",
      "2023-08-29 21:09:30 +0000     175 execution          INFO     Process 0 queue empty, exit.\n",
      "2023-08-29 21:09:30 +0000     175 execution          INFO     Process 1 queue empty, exit.\n",
      "2023-08-29 21:09:31 +0000      32 promptflow-runtime INFO     Run qaragcogsearchlc_default_20230829_160747_931594 is in progress, Execution status: Running\n",
      "2023-08-29 21:09:36 +0000     175 execution.bulk     INFO     Upload status summary metrics for run qaragcogsearchlc_default_20230829_160747_931594 finished in 5.882359320999967 seconds\n",
      "2023-08-29 21:09:36 +0000     175 promptflow-runtime INFO     Successfully write run properties {\"azureml.promptflow.total_tokens\": 34970} with run id 'qaragcogsearchlc_default_20230829_160747_931594'\n",
      "2023-08-29 21:09:36 +0000     175 execution.bulk     INFO     Upload RH properties for run qaragcogsearchlc_default_20230829_160747_931594 finished in 0.05629097100245417 seconds\n",
      "2023-08-29 21:09:36 +0000     175 promptflow-runtime INFO     Running <function AssetClient.create_unregistered_output at 0x7fb3587829d0>, 3 more tries to go.\n",
      "2023-08-29 21:09:36 +0000     175 promptflow-runtime INFO     Creating unregistered output Asset for Run qaragcogsearchlc_default_20230829_160747_931594...\n",
      "2023-08-29 21:09:36 +0000     175 promptflow-runtime INFO     Created debug_info Asset: azureml://locations/southcentralus/workspaces/759f8dd2-8d99-4322-9c3f-a777bcf2cf5c/data/azureml_qaragcogsearchlc_default_20230829_160747_931594_output_data_debug_info/versions/1\n",
      "2023-08-29 21:09:36 +0000     175 promptflow-runtime INFO     Running <function AssetClient.create_unregistered_output at 0x7fb3587829d0>, 3 more tries to go.\n",
      "2023-08-29 21:09:36 +0000     175 promptflow-runtime INFO     Creating unregistered output Asset for Run qaragcogsearchlc_default_20230829_160747_931594...\n",
      "2023-08-29 21:09:36 +0000     175 promptflow-runtime INFO     Created flow_outputs output Asset: azureml://locations/southcentralus/workspaces/759f8dd2-8d99-4322-9c3f-a777bcf2cf5c/data/azureml_qaragcogsearchlc_default_20230829_160747_931594_output_data_flow_outputs/versions/1\n",
      "2023-08-29 21:09:36 +0000     175 promptflow-runtime INFO     Running <function ArtifactClient.register_artifact at 0x7fb358782d30>, 3 more tries to go.\n",
      "2023-08-29 21:09:36 +0000     175 promptflow-runtime INFO     Creating Artifact for Run qaragcogsearchlc_default_20230829_160747_931594...\n",
      "2023-08-29 21:09:37 +0000     175 promptflow-runtime INFO     Created instance_results.jsonl Artifact.\n",
      "2023-08-29 21:09:37 +0000     175 promptflow-runtime INFO     Running <function RunHistoryClient.patch_run at 0x7fb3213b50d0>, 3 more tries to go.\n",
      "2023-08-29 21:09:37 +0000     175 promptflow-runtime INFO     Patching qaragcogsearchlc_default_20230829_160747_931594...\n",
      "2023-08-29 21:09:37 +0000     175 promptflow-runtime INFO     Ending the aml run 'qaragcogsearchlc_default_20230829_160747_931594' with status 'Completed'...\n",
      "2023-08-29 21:09:37 +0000      32 promptflow-runtime INFO     Process 175 finished\n",
      "2023-08-29 21:09:37 +0000      32 promptflow-runtime INFO     [32] Child process finished!\n",
      "2023-08-29 21:09:37 +0000      32 promptflow-runtime INFO     [qaragcogsearchlc_default_20230829_160747_931594] End processing bulk run\n",
      "2023-08-29 21:09:51 +0000      32 promptflow-runtime INFO     Run qaragcogsearchlc_default_20230829_160747_931594 is in progress, Execution status: Completed\n",
      "======= Run Summary =======\n",
      "Run name: \"qaragcogsearchlc_default_20230829_160747_931594\"\n",
      "Run status: \"Completed\"\n",
      "Start time: \"2023-08-29 21:09:21.045610+00:00\"\n",
      "Duration: \"0:00:16.311139\"\n",
      "Run url: \"https://ml.azure.com/prompts/flow/bulkrun/run/qaragcogsearchlc_default_20230829_160747_931594/details?wsid=/subscriptions/e2171f6d-2650-45e6-af7e-6d6e44ca92b1/resourceGroups/dataai/providers/Microsoft.MachineLearningServices/workspaces/dataaiamlwks&flight=promptfilestorage,PFSourceRun=false\""
     ]
    },
    {
     "data": {
      "text/plain": [
       "<promptflow._sdk.entities._run.Run at 0x251cc6a9310>"
      ]
     },
     "execution_count": 115,
     "metadata": {},
     "output_type": "execute_result"
    }
   ],
   "source": [
    "pfAzure.stream(baseRun)"
   ]
  },
  {
   "cell_type": "code",
   "execution_count": 116,
   "metadata": {},
   "outputs": [
    {
     "data": {
      "text/html": [
       "<div>\n",
       "<style scoped>\n",
       "    .dataframe tbody tr th:only-of-type {\n",
       "        vertical-align: middle;\n",
       "    }\n",
       "\n",
       "    .dataframe tbody tr th {\n",
       "        vertical-align: top;\n",
       "    }\n",
       "\n",
       "    .dataframe thead th {\n",
       "        text-align: right;\n",
       "    }\n",
       "</style>\n",
       "<table border=\"1\" class=\"dataframe\">\n",
       "  <thead>\n",
       "    <tr style=\"text-align: right;\">\n",
       "      <th></th>\n",
       "      <th>inputs.question</th>\n",
       "      <th>inputs.indexType</th>\n",
       "      <th>inputs.indexNs</th>\n",
       "      <th>inputs.postBody</th>\n",
       "      <th>inputs.chainType</th>\n",
       "      <th>outputs.output</th>\n",
       "    </tr>\n",
       "  </thead>\n",
       "  <tbody>\n",
       "    <tr>\n",
       "      <th>0</th>\n",
       "      <td>What accounting principles are used for the co...</td>\n",
       "      <td>cogsearchvs</td>\n",
       "      <td>3738d6dc992c4229a5a52efe84af4d3d</td>\n",
       "      <td>{'values': [{'recordId': 0, 'data': {'text': '...</td>\n",
       "      <td>stuff</td>\n",
       "      <td>{'data_points': ['Management is responsible fo...</td>\n",
       "    </tr>\n",
       "    <tr>\n",
       "      <th>1</th>\n",
       "      <td>What is the scope of consolidation for Sumitom...</td>\n",
       "      <td>cogsearchvs</td>\n",
       "      <td>3738d6dc992c4229a5a52efe84af4d3d</td>\n",
       "      <td>{'values': [{'recordId': 0, 'data': {'text': '...</td>\n",
       "      <td>stuff</td>\n",
       "      <td>{'data_points': ['SUMITOMO MITSUI FINANCIAL GR...</td>\n",
       "    </tr>\n",
       "    <tr>\n",
       "      <th>2</th>\n",
       "      <td>How are overseas subsidiaries and affiliated c...</td>\n",
       "      <td>cogsearchvs</td>\n",
       "      <td>3738d6dc992c4229a5a52efe84af4d3d</td>\n",
       "      <td>{'values': [{'recordId': 0, 'data': {'text': '...</td>\n",
       "      <td>stuff</td>\n",
       "      <td>{'data_points': ['Amounts  less  than  ¥1  mil...</td>\n",
       "    </tr>\n",
       "  </tbody>\n",
       "</table>\n",
       "</div>"
      ],
      "text/plain": [
       "                                     inputs.question inputs.indexType  \\\n",
       "0  What accounting principles are used for the co...      cogsearchvs   \n",
       "1  What is the scope of consolidation for Sumitom...      cogsearchvs   \n",
       "2  How are overseas subsidiaries and affiliated c...      cogsearchvs   \n",
       "\n",
       "                     inputs.indexNs  \\\n",
       "0  3738d6dc992c4229a5a52efe84af4d3d   \n",
       "1  3738d6dc992c4229a5a52efe84af4d3d   \n",
       "2  3738d6dc992c4229a5a52efe84af4d3d   \n",
       "\n",
       "                                     inputs.postBody inputs.chainType  \\\n",
       "0  {'values': [{'recordId': 0, 'data': {'text': '...            stuff   \n",
       "1  {'values': [{'recordId': 0, 'data': {'text': '...            stuff   \n",
       "2  {'values': [{'recordId': 0, 'data': {'text': '...            stuff   \n",
       "\n",
       "                                      outputs.output  \n",
       "0  {'data_points': ['Management is responsible fo...  \n",
       "1  {'data_points': ['SUMITOMO MITSUI FINANCIAL GR...  \n",
       "2  {'data_points': ['Amounts  less  than  ¥1  mil...  "
      ]
     },
     "execution_count": 116,
     "metadata": {},
     "output_type": "execute_result"
    }
   ],
   "source": [
    "details = pfAzure.get_details(baseRun)\n",
    "details.head(10)"
   ]
  },
  {
   "cell_type": "code",
   "execution_count": 103,
   "metadata": {},
   "outputs": [
    {
     "name": "stdout",
     "output_type": "stream",
     "text": [
      "Web View: https://ml.azure.com/prompts/flow/bulkrun/runs/outputs?wsid=/subscriptions/e2171f6d-2650-45e6-af7e-6d6e44ca92b1/resourceGroups/dataai/providers/Microsoft.MachineLearningServices/workspaces/dataaiamlwks&flight=promptfilestorage,PFPackageTools,PFRunList,PromptBatchRunDesignV2,PFSourceRun&runId=qaragcogsearchlc_default_20230829_143328_978054\n"
     ]
    }
   ],
   "source": [
    "pfAzure.visualize(baseRun)"
   ]
  },
  {
   "cell_type": "code",
   "execution_count": null,
   "metadata": {},
   "outputs": [],
   "source": []
  }
 ],
 "metadata": {
  "kernelspec": {
   "display_name": "Python 3",
   "language": "python",
   "name": "python3"
  },
  "language_info": {
   "codemirror_mode": {
    "name": "ipython",
    "version": 3
   },
   "file_extension": ".py",
   "mimetype": "text/x-python",
   "name": "python",
   "nbconvert_exporter": "python",
   "pygments_lexer": "ipython3",
   "version": "3.9.13"
  },
  "orig_nbformat": 4
 },
 "nbformat": 4,
 "nbformat_minor": 2
}
