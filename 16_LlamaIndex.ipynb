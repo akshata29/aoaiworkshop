{
 "cells": [
  {
   "cell_type": "code",
   "execution_count": 44,
   "metadata": {},
   "outputs": [],
   "source": [
    "from pydantic import BaseModel\n",
    "import pandas as pd\n",
    "\n",
    "pd.set_option(\"display.max_rows\", None)\n",
    "pd.set_option(\"display.max_columns\", None)\n",
    "pd.set_option(\"display.width\", None)\n",
    "pd.set_option(\"display.max_colwidth\", None)"
   ]
  },
  {
   "cell_type": "code",
   "execution_count": 45,
   "metadata": {},
   "outputs": [],
   "source": [
    "from llama_index.llms import AzureOpenAI\n",
    "from llama_index.embeddings import AzureOpenAIEmbedding\n",
    "from llama_index import VectorStoreIndex, SimpleDirectoryReader, ServiceContext\n",
    "from llama_index import set_global_service_context\n",
    "from llama_index import GPTVectorStoreIndex\n",
    "from llama_index import SimpleDirectoryReader\n",
    "from llama_index.tools import QueryEngineTool, ToolMetadata\n",
    "from llama_index.query_engine import SubQuestionQueryEngine\n",
    "from llama_index import StorageContext, load_index_from_storage"
   ]
  },
  {
   "cell_type": "code",
   "execution_count": 46,
   "metadata": {},
   "outputs": [],
   "source": [
    "import openai\n",
    "from Utilities.envVars import *\n",
    "import os\n",
    "\n",
    "# Set OpenAI API key and endpoint\n",
    "azure_endpoint  = f\"{OpenAiEndPoint}\"\n",
    "api_key = OpenAiKey\n",
    "api_version = OpenAiVersion\n",
    "\n",
    "AZURE_OPENAI_API_KEY=OpenAiKey\n",
    "AZURE_OPENAI_ENDPOINT=OpenAiEndPoint\n",
    "OPENAI_API_VERSION=OpenAiVersion\n",
    "\n",
    "embeddingModelType = \"azureopenai\"\n",
    "temperature = 0.3\n",
    "tokenLength = 1000\n",
    "\n",
    "if (embeddingModelType == 'azureopenai'):\n",
    "        llm = AzureOpenAI(\n",
    "                model=\"gpt-35-turbo-16k\",\n",
    "                deployment_name=OpenAiChat16k,\n",
    "                api_key=AZURE_OPENAI_API_KEY,\n",
    "                azure_endpoint=AZURE_OPENAI_ENDPOINT,\n",
    "                api_version=OPENAI_API_VERSION,\n",
    "                )\n",
    "        embeddings = AzureOpenAIEmbedding(\n",
    "                model=\"text-embedding-ada-002\",\n",
    "                deployment_name=OpenAiEmbedding,\n",
    "                api_key=AZURE_OPENAI_API_KEY,\n",
    "                azure_endpoint=AZURE_OPENAI_ENDPOINT,\n",
    "                api_version=OPENAI_API_VERSION,\n",
    "                )\n",
    "        logging.info(\"LLM Setup done\")\n",
    "elif embeddingModelType == \"openai\":\n",
    "       print (\"OpenAI\")"
   ]
  },
  {
   "cell_type": "code",
   "execution_count": 47,
   "metadata": {},
   "outputs": [],
   "source": [
    "# set up Azure Cognitive Search\n",
    "from azure.search.documents.indexes import SearchIndexClient\n",
    "from azure.search.documents import SearchClient\n",
    "from azure.core.credentials import AzureKeyCredential\n",
    "\n",
    "SearchEndPoint = f\"https://{SearchService}.search.windows.net\"\n",
    "\n",
    "# Index name to use\n",
    "indexName = \"edgardatavector\"\n",
    "\n",
    "# Use index client to demonstrate creating an index\n",
    "indexClient = SearchIndexClient(\n",
    "    endpoint=SearchEndPoint,\n",
    "    credential=AzureKeyCredential(SearchKey),\n",
    ")\n",
    "# Use search client to demonstration using existing index\n",
    "searchClient = SearchClient(\n",
    "    endpoint=SearchEndPoint,\n",
    "    index_name=indexName,\n",
    "    credential=AzureKeyCredential(SearchKey),\n",
    ")"
   ]
  },
  {
   "cell_type": "code",
   "execution_count": 48,
   "metadata": {},
   "outputs": [],
   "source": [
    "# searchClient1 = SearchClient(endpoint=f\"https://{SearchService}.search.windows.net\",\n",
    "#         index_name=\"edgardata\",\n",
    "#         credential=AzureKeyCredential(SearchKey))\n",
    "# r = searchClient1.search(  \n",
    "#         search_text=\"\",\n",
    "#         filter=\"cik eq '\" + \"72971\" + \"' and filingType eq '\" + \"10-K\" + \"' and filingYear eq '\" + \"2023\" + \"'\",\n",
    "#         select=['id', 'cik', 'company', 'filingType', 'filingDate',\n",
    "#                                                                                                             'periodOfReport', 'sic', 'stateOfInc', 'fiscalYearEnd',\n",
    "#                                                                                                             'filingHtmlIndex', 'htmFilingLink', 'completeTextFilingLink',\n",
    "#                                                                                                             'item1', 'item1A', 'item1B', 'item2', 'item3', 'item4', 'item5',\n",
    "#                                                                                                             'item6', 'item7', 'item7A', 'item8', 'item9', 'item9A', 'item9B',\n",
    "#                                                                                                             'item10', 'item11', 'item12', 'item13', 'item14', 'item15',\n",
    "#                                                                                                             'sourcefile'],\n",
    "#         semantic_configuration_name=\"semanticConfig\",\n",
    "#         include_total_count=True\n",
    "#     )"
   ]
  },
  {
   "cell_type": "code",
   "execution_count": 49,
   "metadata": {},
   "outputs": [],
   "source": [
    "# for filing in r:\n",
    "#     lastSecData = filing['item1'] + '\\n' + filing['item1A'] + '\\n' + filing['item1B'] + '\\n' + filing['item2'] + '\\n' + filing['item3'] + '\\n' + filing['item4'] + '\\n' + \\\n",
    "#                     filing['item5'] + '\\n' + filing['item6'] + '\\n' + filing['item7'] + '\\n' + filing['item7A'] + '\\n' + filing['item8'] + '\\n' + \\\n",
    "#                     filing['item9'] + '\\n' + filing['item9A'] + '\\n' + filing['item9B'] + '\\n' + filing['item10'] + '\\n' + filing['item11'] + '\\n' + filing['item12'] + '\\n' + \\\n",
    "#                     filing['item13'] + '\\n' + filing['item14'] + '\\n' + filing['item15']"
   ]
  },
  {
   "cell_type": "code",
   "execution_count": 7,
   "metadata": {},
   "outputs": [],
   "source": [
    "# from llama_index import Document\n",
    "# documents = []\n",
    "# documents.append(Document(text=lastSecData, metadata={\"symbol\": \"WFC\", \"cik\": \"72971\", \"filingYear\": \"2023\", \"filingType\": \"10-K\"}))"
   ]
  },
  {
   "cell_type": "code",
   "execution_count": 50,
   "metadata": {},
   "outputs": [],
   "source": [
    "from azure.search.documents import SearchClient\n",
    "from llama_index.vector_stores import CognitiveSearchVectorStore\n",
    "from llama_index.vector_stores.cogsearch import (\n",
    "    IndexManagement,\n",
    "    MetadataIndexFieldType,\n",
    "    CognitiveSearchVectorStore,\n",
    ")\n",
    "\n",
    "# Example of a complex mapping, metadata field 'theme' is mapped to a differently name index field 'topic' with its type explicitly set\n",
    "metadata_fields = {\n",
    "    \"symbol\": \"symbol\",\n",
    "    \"cik\": \"cik\",\n",
    "    \"filingYear\": \"filingYear\",\n",
    "    \"filingType\": \"filingType\",\n",
    "}\n",
    "\n",
    "vectorStore = CognitiveSearchVectorStore(\n",
    "    search_or_index_client=indexClient,\n",
    "    index_name=indexName,\n",
    "    filterable_metadata_field_keys=metadata_fields,\n",
    "    index_management=IndexManagement.CREATE_IF_NOT_EXISTS,\n",
    "    id_field_key=\"id\",\n",
    "    chunk_field_key=\"content\",\n",
    "    embedding_field_key=\"contentVector\",\n",
    "    metadata_string_field_key=\"jsonMetadata\",\n",
    "    doc_id_field_key=\"docId\",\n",
    ")"
   ]
  },
  {
   "cell_type": "code",
   "execution_count": 51,
   "metadata": {},
   "outputs": [],
   "source": [
    "from llama_index.text_splitter import SentenceSplitter\n",
    "sentenceSplitter = SentenceSplitter(chunk_size=4000, chunk_overlap=1000)\n",
    "serviceContext = ServiceContext.from_defaults(\n",
    "        llm=llm,\n",
    "        embed_model=embeddings,\n",
    "        node_parser=None,\n",
    "        text_splitter=sentenceSplitter,\n",
    ")\n",
    "storageContext = StorageContext.from_defaults(vector_store=vectorStore)"
   ]
  },
  {
   "cell_type": "code",
   "execution_count": 45,
   "metadata": {},
   "outputs": [],
   "source": [
    "# qaIndex = VectorStoreIndex.from_documents(\n",
    "#     documents, storage_context=storageContext, service_context=serviceContext\n",
    "# )"
   ]
  },
  {
   "cell_type": "markdown",
   "metadata": {},
   "source": [
    "#### Load existing documents from Index otherwise"
   ]
  },
  {
   "cell_type": "code",
   "execution_count": 52,
   "metadata": {},
   "outputs": [],
   "source": [
    "qaIndex = VectorStoreIndex.from_documents(\n",
    "    [], storage_context=storageContext, service_context=serviceContext\n",
    ")"
   ]
  },
  {
   "cell_type": "code",
   "execution_count": 68,
   "metadata": {},
   "outputs": [
    {
     "data": {
      "text/plain": [
       "Response(response='Yes, there is mention of the impact of the COVID-19 pandemic in the provided context information. It states that the pandemic has led to economic issues, such as declining or adverse economic conditions, reduced business activity, and changes in consumer and business behavior. These factors have affected the demand for products and services, the ability of borrowers to repay loans, and overall financial market performance. The context also mentions that the pandemic has resulted in increased regulatory oversight, changes in law or governmental policy, and the implementation of financial assistance or relief programs. Additionally, it highlights the risks associated with reduced workforces, supply chain disruptions, and changes to the labor market.', source_nodes=[NodeWithScore(node=TextNode(id_='5e3d20ef-ea31-4f7e-baf3-d2179b407a5a', embedding=None, metadata={'symbol': 'PNC', 'cik': '713676', 'filingYear': '2022', 'filingType': '10-K'}, excluded_embed_metadata_keys=[], excluded_llm_metadata_keys=[], relationships={<NodeRelationship.SOURCE: '1'>: RelatedNodeInfo(node_id='dc1fa258-ceb1-4b15-be2d-7ce331061901', node_type=<ObjectType.DOCUMENT: '4'>, metadata={'symbol': 'PNC', 'cik': '713676', 'filingYear': '2022', 'filingType': '10-K'}, hash='6c85dff6deebdd543e7918c543b16b5bf5391171d9190e26c9e88850e47c01ea'), <NodeRelationship.PREVIOUS: '2'>: RelatedNodeInfo(node_id='9f884538-ca16-4f6d-aaf8-6705910c89f8', node_type=<ObjectType.TEXT: '1'>, metadata={'symbol': 'PNC', 'cik': '713676', 'filingYear': '2022', 'filingType': '10-K'}, hash='63421eef17308cf8c94c2d284acc0882e4d155519149cecffccb28938d7f0c24'), <NodeRelationship.NEXT: '3'>: RelatedNodeInfo(node_id='4c83c473-6dd8-4f0d-9fad-dfb1a3643d77', node_type=<ObjectType.TEXT: '1'>, metadata={}, hash='d9f70636d2bacbab1042b4686b8fc5ad75727d24ba4958adc2f2b8cec8b65e7c')}, text='For consumer borrowers, payment behavior upon expiration of government stimulus, including recently expired enhanced unemployment benefits, is still difficult to predict. As a result, there is a likelihood that certain of our commercial and consumer customers or counterparties will become delinquent on their loans or other obligations to us, which, in turn, will result in a higher level of non-performing loans and net charge-offs. In addition, given the uncertainty about the length and severity of the pandemic and the strength or reversal of the economic rebound, our provision for credit losses may be more volatile period-to-period with a corresponding increase in period-to-period volatility in our net income.\\n•There has been and there is likely to continue to be a decrease in the demand for certain of our products and services which could be further exacerbated if customers lose confidence due to concerns regarding the economy, including as a result of inflationary pressures or supply chain disruptions.\\n•While customer deposits have grown, aiding our liquidity, future changes in behavior resulting in declining deposit balances would likely increase our funding costs and reduce our net interest income and liquidity resources.\\n•Some of the legislation responsive to the outbreak, including the CARES Act and the Consolidated Appropriations Act, provides for certain commercial and consumer protections which have altered and may continue to alter the profitability of the transactions in which we engage. These laws may be extended or increased in scope, and other laws may be enacted in response to the pandemic that have similar or broader effects on us.\\n•Other laws related to employee benefits and the treatment of employees have negatively impacted and may continue to negatively impact us by increasing administrative, compensation and benefits costs by, for example, mandating coverage of certain COVID-19 related testing without cost sharing or mandating additional paid or unpaid leave. Further governmental action that is taken to mitigate the economic effects of the pandemic, as well as additional compensation or benefit actions taken by PNC, could adversely affect our financial condition and results of operations, possibly materially, in other ways that are not known now.\\n•We rely on our employees, third party vendors and service providers and other counterparties, both domestically and abroad, to support many aspects of our business. Reduced workforces which may be caused by, among other things, illness, quarantine, stay at home or other government mandates, decisions regarding mandatory vaccination, proof of vaccination or face covering requirements, difficulties transitioning back to an in-office environment or substantial changes in the labor market (including labor availability and wage inflation) could result in an adverse impact to our operations and financial performance. These risks are also faced by many of our customers which could adversely affect their operations and financial performance and increase our credit risk or decrease the demand for our products and services. Many of these risks are likely to persist after the pandemic as a result of permanent changes to the labor market.\\n•In support of our employees, customers and communities, we have taken and may continue to take steps beyond or in addition to those required by governmental or regulatory minimums which may further adversely impact our profitability. For example, we have provided and may continue to provide additional relief or forbearance to customers, health and wellness benefits to employees (including significant company approved leave) or financial support for community initiatives to assist those in need because of the outbreak. The actual or perceived failure to provide sufficient services, support or relief to those businesses or individuals in need or properly implement legislation responsive to the outbreak or our voluntary commitments could negatively impact our reputation with adverse consequences to our business. In addition, such actual or perceived failure, or operational and other issues that arise in connection with the implementation of government-mandated or other financial assistance or relief programs present elevated levels of financial, legal and reputational risk, including fraud, governmental and regulatory inquiries, investigations and enforcement actions, as well as private lawsuits. Participation by PNC in governmental programs, such as the CARES Act and the Consolidated Appropriations Act, including the PPP, also have exposed and may continue to expose us to governmental investigation and action or public scrutiny and criticism.\\nRefer to our other Risk Factors in this Item 1A for information regarding other factors that have and are likely to continue to affect our business and financial performance as a result of the pandemic.\\nRisks Related to the Economy and Other External Factors, Including Regulation\\nOur business and financial performance are vulnerable to the impact of adverse economic conditions.\\nAs a financial services company, our business and overall financial performance are affected to a significant extent by economic conditions, primarily in the U.S.\\nDeclining or adverse economic conditions and adverse changes in investor, consumer and business sentiment generally result in reduced business activity, which may decrease the demand for our products and services or reduce the number of creditworthy borrowers. The ability of borrowers to repay loans is often weakened as a result of economic downturns and higher inflation and unemployment. In addition, periods of inflation may affect certain of our costs or expenses (including increasing our cost of capital and labor), erode consumer and customer purchasing power, confidence and spending and may also reduce our tolerance for extending credit. Increases in costs or expenses impacting our customers’ operations and financial performance, such as the interest rate payable on their debt obligations, could increase our credit risk or decrease the demand for our products and services. Recently, there has been\\n16 The PNC Financial Services Group, Inc. - 2021 Form 10-K\\ninflation at higher levels than seen in many decades, and significant supply chain constraints have increased costs and impacted operations for us and many of our customers. These conditions may not abate in the near term and their continuation could materially adversely affect our operations and financial performance. Such economic conditions also may lead to turmoil and volatility in financial markets, often with at least some financial asset categories losing value. Any of these effects would likely have an adverse impact on our earnings, with the significance of the impact generally depending on the nature and severity of the adverse economic conditions.\\nEven when economic conditions are relatively good or stable, specific economic factors can negatively affect our business and performance. This can be especially true when the factors relate to particular segments of the economy. For example, shifting consumer behavior with respect to retail purchases being made over the internet rather than in physical stores has negatively impacted performance by some retailers. This likely decreases demand for financial services in that sector, possibly harming the creditworthiness of some shopping mall operators, retail companies and others with whom we do business. As another example, declines in leisure recreation and travel because of the COVID-19 pandemic have adversely affected and may continue to adversely affect restaurants, casinos, hotels, convention centers, cruise lines, airlines and other travel/transportation companies. In addition, remote work has adversely affected and may continue to adversely affect commercial real estate, as well as businesses whose customers have historically been office workers. Affected companies have experienced and may continue to experience lower levels of business and possible declining creditworthiness.\\nGiven the geographic scope of our business and operations, we are most exposed to issues within the U.S. economy and financial markets. Our foreign business activities continue to be a relatively small part of our overall business. As a result, the direct impact on our business and performance from economic conditions outside the U.S. is not likely to be significant, although the impact would increase if we expand our foreign business more than nominally. We are, however, susceptible to the risk that such economic conditions could negatively affect our business and financial performance. Primarily, this risk results from the possibility that poor economic conditions or financial market disruptions affecting other major economies would also affect the U.S.\\nThroughout the remainder of this Risk Factors section, we address specific ways in which economic issues could create risk for us and result in adverse impacts on our business and financial performance. In particular, the COVID-19 pandemic has led to economic issues of the types described here and presents the risk of further such impacts. See the immediately preceding Risk Factor for a discussion of risks associated with the COVID-19 pandemic.\\nThe impact of government legislation, regulation and policy and other political factors on the economy could have an adverse effect on our business and financial performance.\\nChanges in law or governmental policy affecting the economy, business activity, or personal spending, investing or saving activities may cause consumers and businesses to alter behavior in ways that impact demand for our products and services. Such changes may also alter the profitability of the transactions in which we engage or result in increased regulatory burden and associated costs. PNC may alter the types or terms of the products and services we offer to reflect such changes. Uncertainty regarding future law or policy may have similar impacts. Changes in the U.S. presidential administration and Congress have led and will likely continue to lead to changes in law or policy, including the level of regulation and supervision of financial institutions. For example, it is possible that Congress amends or repeals all or certain aspects of the Tax Cuts and Jobs Act of 2017 which could adversely affect us, including through a complete or partial repeal of the reduction in the statutory corporate income tax rate. In addition, changes in key personnel at the agencies that regulate us, including the federal banking regulators, may result in differing interpretations of existing rules and guidelines and potentially more stringent enforcement and severe penalties. Moreover, a change in regulatory practices that increases the time frames to obtain regulatory approvals for acquisitions and other activities or makes them more difficult to obtain could affect our ability to make acquisitions or introduce new products and services.\\nConcern regarding the ability of Congress and the President collectively to reach agreement on federal budgetary matters (including the debt ceiling), or prolonged stalemates leading to total or partial governmental shutdowns, also can have adverse economic consequences and create the risk of economic instability or market volatility, with potential adverse consequences to our business and financial performance.\\nThe policies of the Federal Reserve and other governmental agencies have a significant impact on interest rates and overall financial market performance, which are important to our business and financial performance.\\nThe monetary policies of the Federal Reserve have a significant impact on interest rates, the value of financial instruments and other assets and liabilities, and overall financial market performance. These policies can thus affect the activities and results of operations of financial companies such as PNC. An important function of the Federal Reserve is to monitor the national supply of bank credit and set certain interest rates. The actions of the Federal Reserve influence the rates of interest that we charge on loans and that we pay on borrowings and interest-bearing deposits. Rates of interest can also affect the value of our on-balance sheet and off-balance sheet financial instruments. Although we may not accurately predict the nature or timing of future changes in monetary policies or the precise effects that they may have on our activities and financial results, we anticipate that the FOMC will raise the federal funds rate by 0.25 percentage points five times in 2022 to reach a range of 1.25% to 1.50% by the end of the year, and then further increase the federal funds rate in 2023.\\nThe PNC Financial Services Group, Inc. - 2021 Form 10-K 17\\nIn addition, monetary policy actions by governmental authorities in the European Union or other countries could have an impact on global interest rates, which could affect rates in the U.S. as well as rates on instruments denominated in currencies other than the U.S. dollar, any of which could have one or more of the potential effects on us described above.\\nSome of the potential impacts on our business and results of governmental monetary policy are described in Risk Factors under the heading “Risks Related to the Business of Banking.” The Federal Reserve has lowered its benchmark rates to historically low levels as a result of the COVID-19 pandemic. See the Risk Factor headed “The COVID-19 pandemic has had and is likely to continue to have an adverse effect, possibly materially, on our overall business and financial performance.”\\nAs a regulated financial services firm, we are subject to numerous governmental regulations and comprehensive oversight by a variety of regulatory agencies and enforcement authorities. These regulations and the way they are implemented can have a significant impact on our businesses and operations and our ability to grow and expand.\\nThe PNC Financial Services Group, Inc. is a BHC and a financial holding company, with the Federal Reserve as its primary regulator. PNC Bank is a federally chartered bank, with the OCC as its primary regulator. In addition, our businesses are subject to regulation by multiple other banking, consumer protection, securities and derivatives regulatory bodies. We are also subject to the jurisdiction of criminal and civil enforcement authorities.\\nAs a result, we are subject to numerous laws and regulations involving both our business and organization, with multiple regulators or agencies having supervisory or enforcement oversight over aspects of our business. These laws, regulations and supervisory activities are intended to promote the safety and soundness of financial institutions, financial market stability, the transparency and liquidity of financial markets, and consumer and investor protection and prevent money laundering and terrorist financing and are not primarily intended to protect PNC security holders. In addition to regulation in the U.S., we are also subject to foreign regulation to a limited extent as a result of our business activities outside the U.S.\\nApplicable laws and regulations restrict our permissible activities and investments and require compliance with provisions designed to protect loan, deposit, brokerage, fiduciary, and other customers, and for the protection of customer information, among other things. We also are subject to laws and regulations designed to combat money laundering, terrorist financing, and transactions with persons, companies or foreign governments designated by U.S. authorities. Over time, the scope of the laws and regulations affecting our businesses, as well as the number of requirements or limitations imposed by legislative or regulatory actions, has increased, and we expect to continue to face substantial regulatory oversight and new or revised regulatory requirements or initiatives. Legislative or regulatory actions can result in increased compliance costs, reduced business opportunities, or new requirements and limitations on how we conduct our business. In particular, the financial services industry continues to face heightened scrutiny, particularly with respect to BSA and AML compliance requirements and consumer compliance and protection matters.\\nThe Federal Reserve requires a BHC to act as a source of financial and managerial strength for its subsidiary banks. The Federal Reserve could require PNC to commit resources to PNC Bank when doing so is not otherwise in the interests of PNC or its shareholders or creditors.\\nFederal law grants substantial supervisory and enforcement powers to federal banking regulators. The results of routine and non-routine supervisory or examination activities by our regulators, including actual or perceived compliance failures, could result in limitations on our ability to enter into certain transactions, engage in new activities, expand geographically, make acquisitions or obtain necessary regulatory approvals in connection therewith. These activities also could result in significant fines, penalties or required corrective actions, some of which could be expensive and difficult to implement. In addition, another financial institution’s violation of law or regulation may give rise to an investigation of the same or similar activities of PNC.\\nAs we expand our product and service offerings into additional markets, domestic or foreign, either through organic growth or acquisition, we have faced and will continue to face increases in state or foreign regulation affecting our operations. Different approaches to regulation by different jurisdictions could materially increase our compliance costs or risks of non-compliance.\\nA failure to comply, or to have adequate policies and procedures designed to comply, with regulatory requirements and expectations exposes us to the risk of damages, fines and regulatory penalties and other regulatory or enforcement actions or consequences, such as limitations on activities otherwise permissible for us or additional requirements for engaging in new activities and could also injure our reputation with customers and others with whom we do business. We also rely on third parties who may expose us to compliance risk. A failure to comply with regulatory requirements or deficiencies in risk management practices could be incorporated in our confidential supervisory ratings which could limit PNC’s ability to expand or require additional approvals before engaging in certain business activities.\\nSee the immediately following Risk Factor for a discussion of risks associated with capital and liquidity regulation. Also see Supervision and Regulation in Item 1 of this Report for more information concerning the regulation of PNC, including those areas that have been receiving a high level of regulatory focus. Note 20 Regulatory Matters in the Notes to Consolidated Financial Statements in Item 8 of this Report also discusses some of the regulation applicable to us.\\n18 The PNC Financial Services Group, Inc. - 2021 Form 10-K\\nWe are subject to regulatory capital and liquidity standards that affect our business, operations and ability to pay dividends or otherwise return capital to shareholders.\\nPNC and PNC Bank are subject to regulatory capital and liquidity requirements established by the Federal Reserve and the OCC, respectively. These regulatory capital and liquidity requirements are typically developed at an international level by the Basel Committee and then applied, with adjustments, in each country by the appropriate domestic regulatory bodies. Domestic regulatory agencies can apply stricter capital and liquidity standards than those developed by the Basel Committee. In several instances, the U.S. banking agencies have done so with respect to U.S. banking organizations.\\nRequirements to maintain specified levels of capital and liquidity, and regulatory expectations as to the quality of our capital and liquidity, impact our business activities and may prevent us from taking advantage of opportunities in the best interest of shareholders or force us to take actions contrary to their interests. For example, PNC’s ability to pay or increase dividends or otherwise return capital to shareholders is subject to PNC’s compliance with its SCB, which is determined at least annually through the Federal Reserve’s CCAR process. The Federal Reserve can also impose additional limitations on capital distributions, such as the limitations on distributions imposed in response to the COVID-19 pandemic. In addition, dividends from PNC Bank and, to a lesser extent, non-bank subsidiaries are PNC’s principal source of funds to, among other things, pay dividends on and make repurchases of its capital stock. Many of our subsidiaries are subject to laws that restrict dividend payments or authorize regulatory bodies to prohibit or limit dividends to PNC. Limitations on PNC’s ability to receive dividends from its subsidiaries, including PNC Bank, could have a material adverse effect on its liquidity and ability to pay dividends on and make repurchases of its capital stock.\\nCapital and liquidity requirements may also impact the amount and type of loans we make. We may be constrained in our ability to expand, either organically or through acquisitions. We may be forced to sell or refrain from acquiring assets where the capital requirements appear inconsistent with the assets’ underlying risks. In addition, liquidity standards require us to maintain holdings of highly liquid short-term investments, thereby reducing our ability to invest in longer-term or less liquid assets, even if more desirable from an earnings, balance sheet or interest rate risk management perspective.\\nThe Basel Committee continues to engage in capital- and liquidity-related initiatives. See the Supervision and Regulation section included in Item 1 of this Report. As it is unclear, at this time, whether or how these initiatives will be implemented in the U.S., we are unable to estimate what potential impact such initiatives may have on us.\\nRegulatory capital and liquidity requirements are subject to regular review and revision by the Basel Committee and the U.S.', start_char_idx=15778, end_char_idx=38049, text_template='{metadata_str}\\n\\n{content}', metadata_template='{key}: {value}', metadata_seperator='\\n'), score=0.8303375), NodeWithScore(node=TextNode(id_='4c83c473-6dd8-4f0d-9fad-dfb1a3643d77', embedding=None, metadata={'symbol': 'PNC', 'cik': '713676', 'filingYear': '2022', 'filingType': '10-K'}, excluded_embed_metadata_keys=[], excluded_llm_metadata_keys=[], relationships={<NodeRelationship.SOURCE: '1'>: RelatedNodeInfo(node_id='dc1fa258-ceb1-4b15-be2d-7ce331061901', node_type=<ObjectType.DOCUMENT: '4'>, metadata={'symbol': 'PNC', 'cik': '713676', 'filingYear': '2022', 'filingType': '10-K'}, hash='6c85dff6deebdd543e7918c543b16b5bf5391171d9190e26c9e88850e47c01ea'), <NodeRelationship.PREVIOUS: '2'>: RelatedNodeInfo(node_id='5e3d20ef-ea31-4f7e-baf3-d2179b407a5a', node_type=<ObjectType.TEXT: '1'>, metadata={'symbol': 'PNC', 'cik': '713676', 'filingYear': '2022', 'filingType': '10-K'}, hash='414be0f998c3905be867bfc94a3a05f7d050646cb5e0a4c27ca324c913038d8e'), <NodeRelationship.NEXT: '3'>: RelatedNodeInfo(node_id='b50360e4-5526-4bbc-8670-59a87dcffa40', node_type=<ObjectType.TEXT: '1'>, metadata={}, hash='ae65205c887622be006af762cec664628786a15f64df524236491e30d7af563a')}, text=\"The results of routine and non-routine supervisory or examination activities by our regulators, including actual or perceived compliance failures, could result in limitations on our ability to enter into certain transactions, engage in new activities, expand geographically, make acquisitions or obtain necessary regulatory approvals in connection therewith. These activities also could result in significant fines, penalties or required corrective actions, some of which could be expensive and difficult to implement. In addition, another financial institution’s violation of law or regulation may give rise to an investigation of the same or similar activities of PNC.\\nAs we expand our product and service offerings into additional markets, domestic or foreign, either through organic growth or acquisition, we have faced and will continue to face increases in state or foreign regulation affecting our operations. Different approaches to regulation by different jurisdictions could materially increase our compliance costs or risks of non-compliance.\\nA failure to comply, or to have adequate policies and procedures designed to comply, with regulatory requirements and expectations exposes us to the risk of damages, fines and regulatory penalties and other regulatory or enforcement actions or consequences, such as limitations on activities otherwise permissible for us or additional requirements for engaging in new activities and could also injure our reputation with customers and others with whom we do business. We also rely on third parties who may expose us to compliance risk. A failure to comply with regulatory requirements or deficiencies in risk management practices could be incorporated in our confidential supervisory ratings which could limit PNC’s ability to expand or require additional approvals before engaging in certain business activities.\\nSee the immediately following Risk Factor for a discussion of risks associated with capital and liquidity regulation. Also see Supervision and Regulation in Item 1 of this Report for more information concerning the regulation of PNC, including those areas that have been receiving a high level of regulatory focus. Note 20 Regulatory Matters in the Notes to Consolidated Financial Statements in Item 8 of this Report also discusses some of the regulation applicable to us.\\n18 The PNC Financial Services Group, Inc. - 2021 Form 10-K\\nWe are subject to regulatory capital and liquidity standards that affect our business, operations and ability to pay dividends or otherwise return capital to shareholders.\\nPNC and PNC Bank are subject to regulatory capital and liquidity requirements established by the Federal Reserve and the OCC, respectively. These regulatory capital and liquidity requirements are typically developed at an international level by the Basel Committee and then applied, with adjustments, in each country by the appropriate domestic regulatory bodies. Domestic regulatory agencies can apply stricter capital and liquidity standards than those developed by the Basel Committee. In several instances, the U.S. banking agencies have done so with respect to U.S. banking organizations.\\nRequirements to maintain specified levels of capital and liquidity, and regulatory expectations as to the quality of our capital and liquidity, impact our business activities and may prevent us from taking advantage of opportunities in the best interest of shareholders or force us to take actions contrary to their interests. For example, PNC’s ability to pay or increase dividends or otherwise return capital to shareholders is subject to PNC’s compliance with its SCB, which is determined at least annually through the Federal Reserve’s CCAR process. The Federal Reserve can also impose additional limitations on capital distributions, such as the limitations on distributions imposed in response to the COVID-19 pandemic. In addition, dividends from PNC Bank and, to a lesser extent, non-bank subsidiaries are PNC’s principal source of funds to, among other things, pay dividends on and make repurchases of its capital stock. Many of our subsidiaries are subject to laws that restrict dividend payments or authorize regulatory bodies to prohibit or limit dividends to PNC. Limitations on PNC’s ability to receive dividends from its subsidiaries, including PNC Bank, could have a material adverse effect on its liquidity and ability to pay dividends on and make repurchases of its capital stock.\\nCapital and liquidity requirements may also impact the amount and type of loans we make. We may be constrained in our ability to expand, either organically or through acquisitions. We may be forced to sell or refrain from acquiring assets where the capital requirements appear inconsistent with the assets’ underlying risks. In addition, liquidity standards require us to maintain holdings of highly liquid short-term investments, thereby reducing our ability to invest in longer-term or less liquid assets, even if more desirable from an earnings, balance sheet or interest rate risk management perspective.\\nThe Basel Committee continues to engage in capital- and liquidity-related initiatives. See the Supervision and Regulation section included in Item 1 of this Report. As it is unclear, at this time, whether or how these initiatives will be implemented in the U.S., we are unable to estimate what potential impact such initiatives may have on us.\\nRegulatory capital and liquidity requirements are subject to regular review and revision by the Basel Committee and the U.S. banking agencies. For example, under the 2019 Tailoring Rules, certain BHCs are classified as Category I, Category II, Category III or Category IV firms. While PNC and PNC Bank currently are Category III firms, if PNC or PNC Bank would become a Category I or II institution, we would be subject to more stringent capital and liquidity standards which would likely increase some of the potential adverse effects described above. Future changes to the capital and liquidity rules to require PNC or PNC Bank to maintain more or higher quality capital or greater liquidity would also likely increase some of the potential adverse effects described above.\\nThe regulatory capital and liquidity frameworks as well as certain other prudential requirements and standards that are applicable to PNC are discussed in the Supervision and Regulation section included in Item 1 of this Report and the Liquidity and Capital Management portion of the Risk Management section of Item 7 of this Report.\\nA downgrade in our credit ratings could significantly impact our liquidity, funding costs and access to the capital markets.\\nOur credit ratings are based on a number of factors, including the financial strength of PNC and PNC Bank, and factors outside of our control, such as conditions affecting the financial services industry generally. Reductions in one or more of our credit ratings could adversely affect our ability to borrow funds and increase our cost of capital and limit the number of investors or counterparties willing to do business with or lend to us. For example, downgrades could negatively impact our right to continue to service mortgages. Downgrades could also adversely affect our ability to attract or retain customers, including deposits. In addition, a downgrade in our credit ratings could trigger obligations to make cash or collateral payments under derivative contracts with certain counterparties. There can be no assurance that we will maintain our current ratings and outlooks. For information on our credit ratings, see the Liquidity and Capital Management portion of the Risk Management section of Item 7 of this Report.\\nThe scheduled discontinuance of LIBOR presents risks to the financial instruments originated, held or serviced by PNC that use LIBOR as a reference rate.\\nAs a large financial institution, a significant portion of our transactions involve variable or adjusting interest rates that are calculated by adding a contractually defined credit spread to a base or reference rate. For many years, LIBOR has been used as a reference rate for a substantial majority of our transactions involving variable or adjustable interest, including those in which we lend money, issue securities, or purchase and sell securities issued by others, as well as many derivative transactions that we enter into to manage our or our customers’ risk. We also service financial instruments entered into by others that use LIBOR as the reference rate.\\nAs announced by ICE Benchmark Administration Limited and the U.K. Financial Conduct Authority, non-USD LIBOR ceased to be available at year end 2021 and we currently anticipate that the most widely used USD LIBOR tenor settings will cease after June 30, 2023. Accordingly, we are preparing for LIBOR cessation and, based upon guidance communicated by the Federal Reserve and other official sector representatives, PNC stopped entering into new USD LIBOR contracts as of December 31, 2021, subject to certain limited exceptions.\\nThe PNC Financial Services Group, Inc. - 2021 Form 10-K 19\\nCurrently, SOFR is the alternative reference rate replacing LIBOR for most types of transactions. SOFR is viewed as a “riskless rate” as it is derived from rates on overnight U.S. Treasury repurchase transactions, which are essentially overnight loans secured by U.S. Treasury securities, and are largely viewed as not presenting credit risk. The BSBY is another alternative reference rate that is in use primarily in the loan market. BSBY is intended to reflect large banks’ marginal wholesale cost of funds and is a credit-sensitive rate with a forward-looking term structure.\\nChanging to SOFR or another riskless rate could result in a value transfer between contracting parties to instruments originally based on LIBOR. Historically, in periods of economic or financial industry stress, riskless rates that are analogous to SOFR have been relatively stable. In contrast, LIBOR, which is designed to reflect the credit risk of banks, has widened relative to riskless rates, reflecting increased uncertainty regarding the creditworthiness of banks. Accordingly, if SOFR behaves like its historical analogs, an instrument that transitions from LIBOR to SOFR may not yield identical economic outcomes for each contracting party to an instrument had the instrument continued to reference LIBOR. Similarly, SOFR, because it is riskless, tends to be a lower rate than LIBOR. To address these differences between LIBOR and SOFR, certain industry-recommended LIBOR fallback provisions include a concept of an adjustment spread that is applied when a LIBOR-based contract falls back to SOFR and that is calculated based on a five-year median look-back of the historical spot difference between the applicable LIBOR tenor and the applicable SOFR tenor. However, because any such adjustment spread is and will be based on a historical median, such adjustment spreads have not, and are likely in the future to not, reflect the spot difference between LIBOR and SOFR at certain points in time and there may be a value transfer between the contracting parties over the life of the instrument because the all-in rate applied to a contract, even taking into account the spread adjustment, might have behaved differently over the life of the instrument in the absence of LIBOR cessation.\\nAny value transfer could be financially adverse or beneficial to us or to our other contracting parties to that instrument (such as a borrower, derivative counterparty or bond holder). Impacts from a change in reference rate would likely include changes to the yield on, and value of, loans or securities held by us, amounts paid on securities we have issued, amounts received and paid on derivative instruments we have entered into and the trading market for LIBOR-based securities. Any theoretical benefit to us could result in counterparty dissatisfaction, which, in turn could lead to litigation, potentially as class actions, or other adverse consequences, including dissatisfied customers or impaired relationships with financial institution counterparties resulting in loss of business. As a result, over the life of a transaction that transitions from LIBOR to a new reference rate, our monetary obligations to our counterparty (or their obligations to us) and the yield we receive (or pay) from the transaction with that counterparty may change from that which would have resulted from a continuation of LIBOR.\\nChanging from LIBOR to BSBY substantially reduces the value transfer risks, and we use, and intend to continue to use, BSBY as a reference rate for a portion of our loan portfolio. Our ability to use BSBY more broadly is limited by the current and anticipated widespread use of SOFR in capital and derivatives markets and because SOFR is the preferred rate among certain domestic and global official sector entities.\\nAnother set of risks associated with LIBOR cessation relates to how the transition from LIBOR to another rate will be effected. For some instruments, the method of transitioning to a new reference rate may be challenging, especially where the contract does not provide for a transition upon LIBOR cessation or the relevant contractual language relating to a potential transition is ambiguous or inadequate under the circumstances.\\nFor example, most LIBOR-based interest rate derivative contracts executed prior to January 25, 2021, do not include adequate fallbacks for LIBOR cessation. In response, ISDA published a protocol pursuant to which industry participants can agree with any other industry participant that adheres to the protocol to include ISDA’s new LIBOR fallback provisions into legacy derivative contracts. Although we have adhered to the ISDA protocol, we believe many “end users” of swaps (i.e., our borrowers who have hedged their interest rate payment obligations) will not adhere. In addition, there are differences between the new ISDA fallback provisions and the fallback provisions that have been proposed for loans, which differences could result in a mismatch between the reference rate or other economics in our borrowers’ legacy derivative contracts and their loans for which such derivative contracts are intended as a hedge. For these end-user counterparties, one-on-one negotiation with each counterparty will be necessary to amend legacy swaps to adequately address LIBOR cessation. If we are unable to agree to appropriate LIBOR cessation provisions with these swaps’ counterparties, recently enacted New York State legislation will incorporate fallback provisions into these derivative contracts. However, these statutory fallback provisions may not align with fallback provisions in a loan for which one of these derivative contracts is intended as a hedge. As a result, addressing transition under these circumstances may be challenging or ineffective, could result in litigation, and in some cases may involve concession on our part that has the effect of reducing the value of the instrument to us.\\nWe have other contracts that do contemplate LIBOR cessation but do so in a manner that may create other risks. For example, some contracts provide for selecting replacement rates in a manner that presents significant challenges (such as by assuming that there would be a rate calculated substantially in the same manner as LIBOR is) or that gives us or another party absolute discretion to select a rate. Some provide for determination of a reference rate without providing for adjustment of the credit spread. In these types of cases, there will likely be uncertainty surrounding transition, with all of the risks described in this Risk Factor.\\nTransitioning from LIBOR to alternative rates also may result in operational errors during the transition such that the replacement rate is not applied in a timely manner or is incorrectly applied. This is particularly true given the volume of contracts that will require transition and the diversity of potential approaches to transition and given the possibility that the period during which the transition will need to take place may have a short duration. Similarly, our failure to successfully implement transition from LIBOR to alternative rates could result in regulatory scrutiny and actions by our regulators including fines and other supervisory sanctions. It is\\n20 The PNC Financial Services Group, Inc. - 2021 Form 10-K\\nalso possible that LIBOR quotes will become unavailable prior to the currently anticipated cessation dates. In that case, the risks associated with the transition to an alternative reference rate will be accelerated and magnified. These risks may also be increased due to the shorter time for preparing for the transition.\\nTransitioning from LIBOR to alternative rates also impacts certain of our hedge accounting strategies. Uncertainty about the application of ASC 848 Reference Rate Reform to pooled cash flow hedge strategies introduces accounting risk that could affect the extent to which we are able to apply this accounting in the future. See Note 1 Accounting Policies in the Notes to Consolidated Financial Statements in Item 8 of this Report for more information about reference rate reform accounting standards impacts.\\nTo address LIBOR cessation and the associated risks, we have established an enterprise LIBOR transition program, described in the Market Risk Management portion of the Risk Management section in Item 7 of this Report. Any failure of this program to appropriately assess and mitigate risk and deliver in a timely manner on operationalizing our ability to transition from LIBOR could magnify the risks previously outlined.\\nNew customer privacy initiatives will impose additional operational burdens on PNC, may limit our ability to pursue desirable business initiatives and increase the risks associated with any future use of customer data.\\nRecently there has been an increase in legislative and regulatory efforts to protect the privacy of consumer data. These initiatives, among other things, limit how companies can use customer data and impose obligations on companies in their management of such data. Financial services companies such as PNC necessarily gather, maintain and use a significant amount of customer data. These types of initiatives increase compliance complexity and related costs, result in significant financial penalties for compliance failures, and limit our ability to develop new products or respond to technological changes. Such legal requirements also could heighten the reputational impact of perceived misuses of customer data by us, our vendors or others who gain unauthorized access to our customer data. Other jurisdictions may adopt similar requirements that impose different and potentially inconsistent compliance burdens. The impacts will be greater to the extent requirements vary across jurisdictions.\\nClimate change and societal responses to climate change could adversely affect our business and performance, including indirectly through impacts on our customers.\\nThere continues to be significant concern on the part of scientists, public leadership and many individuals regarding climate change and its impacts on virtually all aspects of life over the short- and long-term. These concerns over the current or anticipated impacts of climate change have led and will continue to lead to governmental efforts around the world to mitigate those impacts. Consumers and businesses also are changing their behavior as a result of these concerns. Climate change concerns also create transition risk for PNC arising from the process of adjusting to these concerns, including transitioning to a low-carbon economy. PNC and its customers will need to respond to new laws and regulations as well as consumer and business preferences as a result. We and our customers may face cost increases, asset value reductions, operating process changes and the like, as a result of climate change and governmental actions or societal responses to climate change. The impact on our customers will likely vary depending on their specific attributes, including their reliance on or role in carbon intensive activities as well as their exposure to the effects of climate change. Among the impacts to PNC could be a drop in demand for our products and services, particularly in certain sectors, or increased losses due to the impact of climate change (such as severe weather events) on PNC's operations or the collateral that secures customer borrowings. In addition, we could face reductions in creditworthiness on the part of some customers or in the value of assets securing loans, pressure from individuals or groups to cease doing business with certain companies or sectors, or additional regulatory restrictions or costs associated with providing products or services to certain companies or sectors. Environmental regulations or changes in the supply, demand or available sources of energy or other resources may affect the availability or cost of goods and services necessary to run our business. The Risk Factor headed “We are at risk for an adverse impact on our business due to damage to our reputation” has further discussion of risks associated with activist pressure.\", start_char_idx=32507, end_char_idx=53752, text_template='{metadata_str}\\n\\n{content}', metadata_template='{key}: {value}', metadata_seperator='\\n'), score=0.813716)], metadata={'5e3d20ef-ea31-4f7e-baf3-d2179b407a5a': {'symbol': 'PNC', 'cik': '713676', 'filingYear': '2022', 'filingType': '10-K'}, '4c83c473-6dd8-4f0d-9fad-dfb1a3643d77': {'symbol': 'PNC', 'cik': '713676', 'filingYear': '2022', 'filingType': '10-K'}})"
      ]
     },
     "execution_count": 68,
     "metadata": {},
     "output_type": "execute_result"
    }
   ],
   "source": [
    "queryEngine = qaIndex.as_query_engine()\n",
    "response = queryEngine.query(\"Is there any mentioned on impact due to Covid 19?\")\n",
    "response"
   ]
  },
  {
   "cell_type": "markdown",
   "metadata": {},
   "source": [
    "#### Get another document "
   ]
  },
  {
   "cell_type": "code",
   "execution_count": 54,
   "metadata": {},
   "outputs": [],
   "source": [
    "# searchClient1 = SearchClient(endpoint=f\"https://{SearchService}.search.windows.net\",\n",
    "#         index_name=\"edgardata\",\n",
    "#         credential=AzureKeyCredential(SearchKey))\n",
    "# r = searchClient1.search(  \n",
    "#         search_text=\"\",\n",
    "#         filter=\"cik eq '\" + \"713676\" + \"' and filingType eq '\" + \"10-K\" + \"' and filingYear eq '\" + \"2023\" + \"'\",\n",
    "#         select=['id', 'cik', 'company', 'filingType', 'filingDate',\n",
    "#                                                                                                             'periodOfReport', 'sic', 'stateOfInc', 'fiscalYearEnd',\n",
    "#                                                                                                             'filingHtmlIndex', 'htmFilingLink', 'completeTextFilingLink',\n",
    "#                                                                                                             'item1', 'item1A', 'item1B', 'item2', 'item3', 'item4', 'item5',\n",
    "#                                                                                                             'item6', 'item7', 'item7A', 'item8', 'item9', 'item9A', 'item9B',\n",
    "#                                                                                                             'item10', 'item11', 'item12', 'item13', 'item14', 'item15',\n",
    "#                                                                                                             'sourcefile'],\n",
    "#         semantic_configuration_name=\"semanticConfig\",\n",
    "#         include_total_count=True\n",
    "#     )"
   ]
  },
  {
   "cell_type": "code",
   "execution_count": 55,
   "metadata": {},
   "outputs": [],
   "source": [
    "# for filing in r:\n",
    "#     lastSecData = filing['item1'] + '\\n' + filing['item1A'] + '\\n' + filing['item1B'] + '\\n' + filing['item2'] + '\\n' + filing['item3'] + '\\n' + filing['item4'] + '\\n' + \\\n",
    "#                     filing['item5'] + '\\n' + filing['item6'] + '\\n' + filing['item7'] + '\\n' + filing['item7A'] + '\\n' + filing['item8'] + '\\n' + \\\n",
    "#                     filing['item9'] + '\\n' + filing['item9A'] + '\\n' + filing['item9B'] + '\\n' + filing['item10'] + '\\n' + filing['item11'] + '\\n' + filing['item12'] + '\\n' + \\\n",
    "#                     filing['item13'] + '\\n' + filing['item14'] + '\\n' + filing['item15']"
   ]
  },
  {
   "cell_type": "code",
   "execution_count": 56,
   "metadata": {},
   "outputs": [],
   "source": [
    "# from llama_index import Document\n",
    "# documents = []\n",
    "# documents.append(Document(text=lastSecData, metadata={\"symbol\": \"PNC\", \"cik\": \"713676\", \"filingYear\": \"2023\", \"filingType\": \"10-K\"}))"
   ]
  },
  {
   "cell_type": "code",
   "execution_count": 57,
   "metadata": {},
   "outputs": [],
   "source": [
    "# qaIndex = VectorStoreIndex.from_documents(\n",
    "#     documents, storage_context=storageContext, service_context=serviceContext\n",
    "# )"
   ]
  },
  {
   "cell_type": "code",
   "execution_count": 58,
   "metadata": {},
   "outputs": [],
   "source": [
    "# queryEngine = qaIndex.as_query_engine()\n",
    "# response = queryEngine.query(\"Is there any mentioned on impact due to Covid 19?\")\n",
    "# response"
   ]
  },
  {
   "cell_type": "markdown",
   "metadata": {},
   "source": [
    "### Create subQuery Engine"
   ]
  },
  {
   "cell_type": "code",
   "execution_count": 59,
   "metadata": {},
   "outputs": [],
   "source": [
    "from llama_index.schema import TextNode\n",
    "from llama_index.vector_stores.types import ExactMatchFilter, MetadataFilters\n",
    "\n",
    "pncFilters = MetadataFilters(\n",
    "    filters=[ExactMatchFilter(key=\"symbol\", value=\"PNC\"), \n",
    "             ExactMatchFilter(key=\"filingYear\", value=\"2023\"), \n",
    "             ExactMatchFilter(key=\"filingType\", value=\"10-K\")]\n",
    ")\n",
    "wfcFilters = MetadataFilters(\n",
    "    filters=[ExactMatchFilter(key=\"symbol\", value=\"WFC\"), \n",
    "             ExactMatchFilter(key=\"filingYear\", value=\"2023\"), \n",
    "             ExactMatchFilter(key=\"filingType\", value=\"10-K\")]\n",
    ")\n",
    "wfcEng = qaIndex.as_query_engine(filters=wfcFilters, similarity_top_k=3)\n",
    "pncEng = qaIndex.as_query_engine(filters=pncFilters, similarity_top_k=3)\n",
    "\n",
    "# pncRetriever = qaIndex.as_retriever(filters=pncFilters)\n",
    "# wfcRetriever = qaIndex.as_retriever(filters=wfcFilters)\n",
    "\n",
    "# from llama_index.query_engine import RetrieverQueryEngine\n",
    "# from llama_index.query_engine import BaseQueryEngine\n",
    "\n",
    "# pncEngine = RetrieverQueryEngine(\n",
    "#     retriever=pncRetriever,\n",
    "# )\n",
    "# wfcEngine = RetrieverQueryEngine(\n",
    "#     retriever=wfcRetriever,\n",
    "# )"
   ]
  },
  {
   "cell_type": "code",
   "execution_count": 79,
   "metadata": {},
   "outputs": [],
   "source": [
    "question = \"Summarize the future growth and business risk\""
   ]
  },
  {
   "cell_type": "code",
   "execution_count": 73,
   "metadata": {},
   "outputs": [
    {
     "name": "stdout",
     "output_type": "stream",
     "text": [
      "The future growth and business risk for PNC are influenced by various factors. In terms of future growth, PNC's financial performance is impacted significantly by market interest rates and movements in those rates. Changes in interest rates can affect net interest income, the ability of borrowers to meet obligations, demand for interest rate-based products and services, and the effectiveness of hedging strategies. Higher interest rates can enhance net interest income but may also decrease the value of fixed-rate financial instruments and impact the value of asset classes such as real estate. On the other hand, lower interest rates can have a negative impact on net interest margin and net interest income. PNC's growth is also influenced by the creditworthiness of its customers and counterparties. Credit risk is inherent in the financial services business, and PNC manages credit risk through assessing and monitoring the creditworthiness of customers, diversifying its loan portfolio, and obtaining and monitoring collateral for certain exposures. Weakness in the economy or financial markets can impact borrowers' ability to repay loans and increase credit risk. PNC also faces risks related to the concentration and mix of its assets, as heightened credit exposure to a particular industry, geography, asset class, or financial market can materially affect the company. In terms of business risk, PNC faces operational risk, including the risk of inadequate or failed internal processes or systems, human errors or misconduct, and adverse external events. PNC has an operational risk management framework in place to identify, assess, manage, and monitor operational risks across various domains such as operations, compliance, data management, technology and systems, information security, business continuity, and third-party risk. PNC also manages conduct, reputational, and strategic risks through a strong risk culture, code of conduct, and compliance programs. Compliance risk is overseen by Enterprise Compliance, which monitors and tests compliance risk issues and ensures compliance with laws, regulations, and self-regulatory standards. Information security risk is managed through a comprehensive cybersecurity program that protects information assets and detects and responds to threats. Overall, PNC's future growth is influenced by market conditions, interest rates, creditworthiness of customers, and its ability to effectively manage operational, conduct, reputational, and strategic risks.\n"
     ]
    }
   ],
   "source": [
    "response = pncEng.query(question)\n",
    "print(response.response)"
   ]
  },
  {
   "cell_type": "code",
   "execution_count": 74,
   "metadata": {},
   "outputs": [
    {
     "data": {
      "text/plain": [
       "Response(response=\"The future growth of Wells Fargo & Company is subject to various factors and risks. The company operates in a highly competitive financial services industry and faces competition from banks, nonbank institutions, and technological advancements. Changes in regulations and legislation could restrict the company's ability to diversify, make acquisitions, and pay dividends. The company's growth is also influenced by economic, market, and political conditions. Additionally, the company is committed to promoting diversity, equity, and inclusion and has implemented various programs and initiatives in this regard. However, the company is also exposed to risks such as credit risk, market risk, operational risk, and regulatory risk. The company's financial performance and ability to grow are dependent on its ability to effectively manage these risks and adapt to changing market conditions.\", source_nodes=[NodeWithScore(node=TextNode(id_='f40c05a7-86d7-449d-8d9a-d3248f2a02e0', embedding=None, metadata={'symbol': 'WFC', 'cik': '72971', 'filingYear': '2023', 'filingType': '10-K'}, excluded_embed_metadata_keys=[], excluded_llm_metadata_keys=[], relationships={<NodeRelationship.SOURCE: '1'>: RelatedNodeInfo(node_id='01de5867-b9af-427e-95ab-5e96a2afb941', node_type=<ObjectType.DOCUMENT: '4'>, metadata={'symbol': 'WFC', 'cik': '72971', 'filingYear': '2023', 'filingType': '10-K'}, hash='9b10520ac2bd34b8a6c6210939167ceb7d79acec2e6a78c8e138e239ecfbca27'), <NodeRelationship.PREVIOUS: '2'>: RelatedNodeInfo(node_id='11c0aeb0-1f61-414d-aeb1-dd18794749aa', node_type=<ObjectType.TEXT: '1'>, metadata={'symbol': 'WFC', 'cik': '72971', 'filingYear': '2023', 'filingType': '10-K'}, hash='a5e34778d7f4147e6e9abfa6bf9e0fa12a233f4d4375372bea6cbd5b9947bb4c'), <NodeRelationship.NEXT: '3'>: RelatedNodeInfo(node_id='2e01958c-79ca-4301-8b9c-f87c46c71648', node_type=<ObjectType.TEXT: '1'>, metadata={}, hash='0164e76f31889e1b01a1d1bb80ada68c3e36eae8ca0a8de164fa91640c5cfcca')}, text=\"Because we are a financial holding company, if any of our subsidiary banks receives a rating under the Community Reinvestment Act of 1977, as amended (CRA), of less than satisfactory, we will be prohibited, until the rating is raised to satisfactory or better, from engaging in new activities or acquiring companies other than BHCs, banks or savings associations, except that we could engage in new activities, or acquire companies engaged in activities, that are closely related to banking under the BHC Act. CRA performance is also taken into account by regulators in reviewing applications to establish bank branches. In addition, if the FRB finds that the Company or any one of our subsidiary banks is not well capitalized or well managed, we would be required to enter into an agreement with the FRB to comply with all applicable capital and management requirements and which may contain additional limitations or conditions. Until corrected, we could be prohibited from engaging in any new activity or acquiring companies engaged in activities that are not closely related to banking under the BHC Act without prior FRB approval. If we fail to correct any such condition within a prescribed period, the FRB could order us to divest our banking subsidiaries or, in the alternative, to cease engaging in activities other than those closely related to banking under the BHC Act.\\nInterstate Banking. Under the Riegle-Neal Interstate Banking and Branching Act (Riegle-Neal Act), a BHC may acquire banks in states other than its home state, subject to any state requirement that the bank has been organized and operating for a minimum period of time, not to exceed five years, and the requirement that the BHC not control, prior to or following the proposed acquisition, more than 10% of the total amount of\\ndeposits of insured depository institutions nationwide or, unless the acquisition is the bank holding company’s initial entry into the state, more than 30% of such deposits in the state (or such lesser or greater amount set by the state). The Riegle-Neal Act also authorizes banks to merge across state lines, subject to the same deposit limits noted above, thereby creating interstate branches. Banks are also permitted to acquire and to establish new branches in other states.\\nRegulatory Approval. In determining whether to approve a proposed bank acquisition, federal banking regulators will consider, among other factors, the effect of the acquisition on competition, financial condition, and future prospects including current and projected capital ratios and levels, the competence, experience, and integrity of management and record of compliance with laws and regulations, the convenience and needs of the communities to be served, including the acquiring institution’s record of compliance under the CRA, the effectiveness of the acquiring institution in combating money laundering activities and the risk to the stability of the United States banking system.\\nDividend Restrictions\\nThe Parent is a legal entity separate and distinct from its subsidiary banks and other subsidiaries. A significant source of funds to pay dividends on our common and preferred stock and principal and interest on our debt is dividends from the Parent’s subsidiaries. Various federal and state statutory provisions and regulations limit the amount of dividends the Parent’s subsidiary banks and certain other subsidiaries may pay without regulatory approval. Federal banking regulators have the authority to prohibit the Parent’s subsidiary banks from engaging in unsafe or unsound practices in conducting their businesses. The payment of dividends, depending on the financial condition of the bank in question, could be deemed an unsafe or unsound practice. The ability of the Parent’s subsidiary banks to pay dividends in the future is currently, and could be further, influenced by bank regulatory policies and capital requirements. For information about the restrictions applicable to the Parent’s subsidiary banks, see Note 25 (Regulatory Capital Requirements and Other Restrictions) to Financial Statements included in the 2022 Annual Report to Shareholders.\\nFurthermore, under a Support Agreement dated June 28, 2017, as amended and restated on June 26, 2019 (the “Support Agreement”), among the Parent, WFC Holdings, LLC, an intermediate holding company and subsidiary of the Parent (the “IHC”), Wells Fargo Bank, N.A., Wells Fargo Securities, LLC, Wells Fargo Clearing Services, LLC, and certain other subsidiaries of the Parent designated from time to time as material entities for resolution planning purposes or identified from time to time as related support entities in our resolution plan, the IHC may be restricted from making dividend payments to the Parent if certain liquidity and/or capital metrics fall below defined triggers, or if the Parent’s board of directors authorizes it to file a case under the U.S. Bankruptcy Code. Any such restriction could materially and adversely impact the Parent’s liquidity and its ability to satisfy its debt and other obligations, as well as its ability to make dividend payments on its common and preferred stock. See the “Regulatory Matters” and “Risk Factors” sections of the 2022 Annual Report to Shareholders for additional information on the Support Agreement.\\nIn addition to these restrictions on the ability of our subsidiary banks to pay dividends to us, the FRB requires large BHCs, including Wells Fargo, to submit annual capital plans describing planned capital distributions, such as the payment of\\ndividends. Large BHCs, like Wells Fargo, and their insured depository institutions also must comply with various capital requirements, including the reforms known as Basel III, as well as rules that require leverage and supplementary leverage ratio requirements. We are also subject to the FRB's rule implementing an additional capital surcharge on those U.S. banking organizations, such as the Company, that are designated as global systemically important banks (G-SIBs). The failure to meet any of these requirements could result in limitations or restrictions on our ability to make capital distributions.\\nIn addition, the FRB’s enhanced supervision regulations for large BHCs, like Wells Fargo, impose capital distribution restrictions, including on the payment of dividends, upon the occurrence of capital, stress test, risk management, or liquidity risk management triggers. For more information on regulations or arrangements that may impose capital distribution restrictions on the Company and its subsidiaries, see the “Capital Management,” “Regulatory Matters” and “Risk Factors” sections of the 2022 Annual Report to Shareholders.\\nHolding Company Structure\\nTransfer of Funds from Subsidiary Banks. The Parent’s subsidiary banks are subject to restrictions under federal law that limit the transfer of funds or other assets from such subsidiaries to the Parent and its nonbank subsidiaries (including affiliates) in so-called “covered transactions.” In general, covered transactions include loans and other extensions of credit, investments and asset purchases, as well as certain other transactions involving the transfer of value from a subsidiary bank to an affiliate or for the benefit of an affiliate. Unless an exemption applies, covered transactions by a subsidiary bank with a single affiliate are limited to 10% of the subsidiary bank’s capital and surplus and, with respect to all covered transactions with affiliates in the aggregate, to 20% of the subsidiary bank’s capital and surplus. Also, loans and extensions of credit to affiliates generally must be secured by qualifying collateral. A bank’s transactions with its nonbank affiliates are also generally required to be on arm’s length terms. The Company is also subject to lending limits and qualitative requirements on loans to executive officers, directors and principal shareholders of the Parent and its subsidiary banks.\\nSource of Strength. The FRB has a policy that a BHC is expected to act as a source of financial and managerial strength to each of its subsidiary banks and, under appropriate circumstances, to commit resources to support each such subsidiary bank. This support may be required at times when the BHC may not have the resources to provide the support.\\nThe OCC may order an assessment of the Parent if the capital of one of its national bank subsidiaries were to become impaired. If the Parent failed to pay the assessment within three months, the OCC could order the sale of the Parent’s stock in the national bank to cover the deficiency.\\nDepositor Preference. In the event of the “liquidation or other resolution” of an insured depository institution, the claims of deposits payable in the United States (including the claims of the FDIC as subrogee of insured depositors) and certain claims for administrative expenses of the FDIC as a receiver will have priority over other general unsecured claims against the institution. If an insured depository institution fails, claims of insured and uninsured U.S. depositors, along with claims of the FDIC, will have priority in payment ahead of unsecured creditors, including the Parent, and depositors whose deposits are solely payable at such insured depository institution’s non-U.S. offices.\\nLiability of Commonly Controlled Institutions. The Company’s subsidiaries include banks in the U.S., such as Wells Fargo Bank, N.A., that are insured by the FDIC. Under the Federal Deposit Insurance Act, insured depository institutions can be held liable for any loss incurred, or reasonably expected to be incurred, by the FDIC due to the default of an insured depository institution controlled by the same BHC, and for any assistance provided by the FDIC to an insured depository institution that is in danger of default and that is controlled by the same BHC. “Default” means generally the appointment of a conservator or receiver. “In danger of default” means generally the existence of certain conditions indicating that a default is likely to occur in the absence of regulatory assistance.\\nDodd-Frank Act\\nThe Dodd-Frank Act and the numerous rules to implement its provisions have resulted in enhanced regulation and supervision of large BHCs, such as Wells Fargo. This includes, among other things, rules to promote financial stability and prevent or mitigate the risks that may arise from the material distress or failure of a large BHC; enhance consumer protections; prohibit proprietary trading; and implement enhanced prudential requirements for large BHCs regarding risk-based capital and leverage, risk and liquidity management, stress testing, and recovery and resolution planning. The Dodd-Frank Act, including current and future rules implementing its provisions and the interpretation of those rules, has affected, and we expect will continue to affect, most of our businesses in some way, either directly through regulation of specific activities or indirectly through regulation of concentration risks, capital or liquidity. For more information about the Dodd-Frank Act and its effect on our business, see the “Regulatory Matters” and “Risk Factors” sections of the 2022 Annual Report to Shareholders.\\nCapital and Liquidity Requirements and Capital Planning\\nThe Company and each of our insured depository institutions are subject to various regulatory capital adequacy and liquidity requirements administered by federal banking regulators. The capital rules, among other things, establish required minimum ratios relating capital to different categories of assets and exposures. Federal banking regulators have also imposed a leverage ratio and supplementary leverage ratio on large BHCs, like Wells Fargo, and their insured depository institutions, as well as a liquidity coverage ratio and a net stable funding ratio. The FRB has also finalized rules to address the amount of equity and unsecured long-term debt a G-SIB must hold to improve its resolvability and resiliency, often referred to as total loss absorbing capacity.\\nFrom time to time, federal banking regulators propose changes and amendments to, and issue interpretations of, risk-based capital requirements and related reporting instructions. In addition, the FRB closely monitors capital levels of the institutions it supervises and may require such institutions to modify capital levels based on FRB determinations. Such determinations, proposals or interpretations could, if implemented in the future, affect our reported capital ratios and net risk-adjusted assets.\\nAs an additional means to identify problems in the financial management of depository institutions, the Federal Deposit Insurance Act (FDI Act) requires federal banking regulators to establish certain non-capital safety and soundness standards for institutions for which they are the primary federal regulator. The standards relate generally to operations and management, asset quality, interest rate exposure, executive compensation and risk\\nmanagement. Federal banking regulators are authorized to take action against institutions that fail to meet such standards.\\nThe FDI Act requires federal banking regulators to take “prompt corrective action” with respect to FDIC-insured depository institutions that do not meet minimum capital requirements. A depository institution’s treatment for purposes of the prompt corrective action provisions will depend upon how its capital levels compare to various capital measures and certain other factors, as established by regulation.\\nIn addition, the FRB’s capital plan rule establishes capital planning and other requirements that govern capital distributions, including dividends and share repurchases, by certain BHCs, including Wells Fargo. Federal banking regulators also require stress tests to evaluate whether an institution has sufficient capital to continue to operate during periods of adverse economic and financial conditions.\\nFor more information on our capital requirements and planning, see the “Capital Management” section of the 2022 Annual Report to Shareholders.\\nDeposit Insurance Assessments\\nThe Company’s subsidiaries include banks, such as Wells Fargo Bank, N.A., that are insured by the FDIC. Through the Deposit Insurance Fund (DIF) maintained by the FDIC, the FDIC insures the deposits of our insured banks up to prescribed limits for each depositor and funds the DIF through assessments on member banks. To maintain the DIF, member institutions are assessed an insurance premium based on an assessment base and an assessment rate.\\nThe FDIC has adopted a comprehensive, long-range plan for DIF management, targeting a designated reserve ratio of 2%. For the year ended December 31, 2022, the Company's FDIC deposit insurance assessments totaled $679 million.\\nThe FDIC may terminate a depository institution’s deposit insurance upon a finding that the institution’s financial condition is unsafe or unsound or that the institution or its directors have engaged in unsafe or unsound practices or have violated any applicable law, regulation, order or condition enacted or imposed by the institution’s regulatory agency. The termination of deposit insurance for one or more of our bank subsidiaries could have a material adverse effect on our earnings, depending on the collective size of the particular banks involved.\\nFiscal and Monetary Policies\\nOur business and earnings are affected significantly by the fiscal and monetary policies of the federal government and its agencies. We are particularly affected by the monetary policies of the FRB, which regulates the supply of money and credit in the United States. Among the instruments of monetary policy available to the FRB are (a) conducting open market operations in United States government securities, (b) changing the discount rates of borrowings of depository institutions, (c) imposing or changing reserve requirements against depository institutions’ deposits, and (d) imposing or changing reserve requirements against certain borrowings by banks and their affiliates. These methods are used in varying degrees and combinations to directly affect the availability of bank loans and deposits, as well as the interest rates charged on loans and paid on deposits. The policies of the FRB may have a material effect on our business, results of operations and financial condition.\\nPrivacy Provisions of the Gramm-Leach-Bliley Act and Restrictions on Affiliate Marketing\\nFederal banking regulators, as required under the Gramm-Leach-Bliley Act (the GLB Act), have adopted rules limiting the ability of\\nbanks and other financial institutions to disclose nonpublic information about consumers to nonaffiliated third parties. The rules require disclosure of privacy policies to consumers and, in some circumstances, allow consumers to prevent disclosure of certain personal information to nonaffiliated third parties. The privacy provisions of the GLB Act affect how consumer information is transmitted through diversified financial services companies and conveyed to outside vendors. Federal financial regulators have issued regulations under the Fair and Accurate Credit Transactions Act that have the effect of increasing the length of the waiting period, after privacy disclosures are provided to new customers, before information can be shared among different affiliated companies for the purpose of marketing products and services by those affiliated companies.\\nSarbanes-Oxley Act of 2002\\nThe Sarbanes-Oxley Act of 2002 (Sarbanes-Oxley) implemented a broad range of corporate governance and accounting measures to increase corporate responsibility, to provide for enhanced penalties for accounting and auditing improprieties at publicly traded companies, and to protect investors by improving the accuracy and reliability of disclosures under federal securities laws. We are subject to Sarbanes-Oxley because we are required to file periodic reports with the SEC under the Securities Exchange Act of 1934. Among other things, Sarbanes-Oxley and/or its implementing regulations established membership requirements and additional responsibilities for our audit committee, imposed restrictions on the relationship between us and our outside auditors (including restrictions on the types of non-audit services our auditors may provide to us), imposed additional responsibilities for our external financial statements on our chief executive officer and chief financial officer, expanded the disclosure requirements for our corporate insiders, required our management to evaluate our disclosure controls and procedures and our internal control over financial reporting, and required our independent registered public accounting firm to issue a report on our internal control over financial reporting.\\nUSA PATRIOT Act\\nThe Uniting and Strengthening America by Providing Appropriate Tools Required to Intercept and Obstruct Terrorism Act of 2001 (USA PATRIOT Act) is intended to strengthen the ability of U.S. law enforcement agencies and intelligence communities to work together to combat terrorism on a variety of fronts. The USA PATRIOT Act has significant implications for depository institutions, brokers, dealers and other businesses involved in the transfer of money. The USA PATRIOT Act requires the implementation of policies and procedures relating to anti-money laundering, economic sanctions, suspicious activities, and currency transaction reporting and due diligence on customers. The USA PATRIOT Act also requires federal banking regulators to evaluate the effectiveness of an applicant in combating money laundering in determining whether to approve a proposed bank acquisition.\\nFuture Legislation or Regulation\\nEconomic, market and political conditions during the past several years have led to a significant amount of legislation and regulation in the U.S. and abroad affecting the financial services industry, as well as heightened expectations and scrutiny of financial services companies from banking regulators. Further legislative changes and additional regulations may change our operating environment in substantial and unpredictable ways. Such legislation and regulations could increase our cost of doing business, affect our compensation structure, restrict or expand\\nthe activities in which we may engage or affect the competitive balance among banks, savings associations, credit unions, and other financial institutions. We cannot predict whether future legislative proposals will be enacted and, if enacted, the effect that they, or any implementing regulations, would have on our business, results of operations or financial condition.\\nADDITIONAL INFORMATION\\nAdditional information in response to this Item 1 can be found in the 2022 Annual Report to Shareholders under “Financial Review” and under “Financial Statements.” That information is incorporated into this item by reference.\\nITEM 1A. RISK FACTORS\\nInformation in response to this Item 1A can be found in this report under Item 1 and in the 2022 Annual Report to Shareholders under “Financial Review - Risk Factors.” That information is incorporated into this item by reference.\\nITEM 1B. UNRESOLVED STAFF COMMENTS\\nNot applicable.\\nITEM 2.\", start_char_idx=15361, end_char_idx=36568, text_template='{metadata_str}\\n\\n{content}', metadata_template='{key}: {value}', metadata_seperator='\\n'), score=0.828184), NodeWithScore(node=TextNode(id_='2e01958c-79ca-4301-8b9c-f87c46c71648', embedding=None, metadata={'symbol': 'WFC', 'cik': '72971', 'filingYear': '2023', 'filingType': '10-K'}, excluded_embed_metadata_keys=[], excluded_llm_metadata_keys=[], relationships={<NodeRelationship.SOURCE: '1'>: RelatedNodeInfo(node_id='01de5867-b9af-427e-95ab-5e96a2afb941', node_type=<ObjectType.DOCUMENT: '4'>, metadata={'symbol': 'WFC', 'cik': '72971', 'filingYear': '2023', 'filingType': '10-K'}, hash='9b10520ac2bd34b8a6c6210939167ceb7d79acec2e6a78c8e138e239ecfbca27'), <NodeRelationship.PREVIOUS: '2'>: RelatedNodeInfo(node_id='f40c05a7-86d7-449d-8d9a-d3248f2a02e0', node_type=<ObjectType.TEXT: '1'>, metadata={'symbol': 'WFC', 'cik': '72971', 'filingYear': '2023', 'filingType': '10-K'}, hash='1dbb26265c77f71e4814aac9ca4a6bca50340c0d33723be07ee96f50361f0b1a'), <NodeRelationship.NEXT: '3'>: RelatedNodeInfo(node_id='e0afe6ac-9977-40a6-9859-7130d0e8dcbf', node_type=<ObjectType.TEXT: '1'>, metadata={}, hash='8ddba60c29568baa7f6eb88661107f338adc92296e10122eb34f789193870308')}, text='These methods are used in varying degrees and combinations to directly affect the availability of bank loans and deposits, as well as the interest rates charged on loans and paid on deposits. The policies of the FRB may have a material effect on our business, results of operations and financial condition.\\nPrivacy Provisions of the Gramm-Leach-Bliley Act and Restrictions on Affiliate Marketing\\nFederal banking regulators, as required under the Gramm-Leach-Bliley Act (the GLB Act), have adopted rules limiting the ability of\\nbanks and other financial institutions to disclose nonpublic information about consumers to nonaffiliated third parties. The rules require disclosure of privacy policies to consumers and, in some circumstances, allow consumers to prevent disclosure of certain personal information to nonaffiliated third parties. The privacy provisions of the GLB Act affect how consumer information is transmitted through diversified financial services companies and conveyed to outside vendors. Federal financial regulators have issued regulations under the Fair and Accurate Credit Transactions Act that have the effect of increasing the length of the waiting period, after privacy disclosures are provided to new customers, before information can be shared among different affiliated companies for the purpose of marketing products and services by those affiliated companies.\\nSarbanes-Oxley Act of 2002\\nThe Sarbanes-Oxley Act of 2002 (Sarbanes-Oxley) implemented a broad range of corporate governance and accounting measures to increase corporate responsibility, to provide for enhanced penalties for accounting and auditing improprieties at publicly traded companies, and to protect investors by improving the accuracy and reliability of disclosures under federal securities laws. We are subject to Sarbanes-Oxley because we are required to file periodic reports with the SEC under the Securities Exchange Act of 1934. Among other things, Sarbanes-Oxley and/or its implementing regulations established membership requirements and additional responsibilities for our audit committee, imposed restrictions on the relationship between us and our outside auditors (including restrictions on the types of non-audit services our auditors may provide to us), imposed additional responsibilities for our external financial statements on our chief executive officer and chief financial officer, expanded the disclosure requirements for our corporate insiders, required our management to evaluate our disclosure controls and procedures and our internal control over financial reporting, and required our independent registered public accounting firm to issue a report on our internal control over financial reporting.\\nUSA PATRIOT Act\\nThe Uniting and Strengthening America by Providing Appropriate Tools Required to Intercept and Obstruct Terrorism Act of 2001 (USA PATRIOT Act) is intended to strengthen the ability of U.S. law enforcement agencies and intelligence communities to work together to combat terrorism on a variety of fronts. The USA PATRIOT Act has significant implications for depository institutions, brokers, dealers and other businesses involved in the transfer of money. The USA PATRIOT Act requires the implementation of policies and procedures relating to anti-money laundering, economic sanctions, suspicious activities, and currency transaction reporting and due diligence on customers. The USA PATRIOT Act also requires federal banking regulators to evaluate the effectiveness of an applicant in combating money laundering in determining whether to approve a proposed bank acquisition.\\nFuture Legislation or Regulation\\nEconomic, market and political conditions during the past several years have led to a significant amount of legislation and regulation in the U.S. and abroad affecting the financial services industry, as well as heightened expectations and scrutiny of financial services companies from banking regulators. Further legislative changes and additional regulations may change our operating environment in substantial and unpredictable ways. Such legislation and regulations could increase our cost of doing business, affect our compensation structure, restrict or expand\\nthe activities in which we may engage or affect the competitive balance among banks, savings associations, credit unions, and other financial institutions. We cannot predict whether future legislative proposals will be enacted and, if enacted, the effect that they, or any implementing regulations, would have on our business, results of operations or financial condition.\\nADDITIONAL INFORMATION\\nAdditional information in response to this Item 1 can be found in the 2022 Annual Report to Shareholders under “Financial Review” and under “Financial Statements.” That information is incorporated into this item by reference.\\nITEM 1A. RISK FACTORS\\nInformation in response to this Item 1A can be found in this report under Item 1 and in the 2022 Annual Report to Shareholders under “Financial Review - Risk Factors.” That information is incorporated into this item by reference.\\nITEM 1B. UNRESOLVED STAFF COMMENTS\\nNot applicable.\\nITEM 2. PROPERTIES\\nDecember 31, 2022 Approximate square footage\\n(in millions)\\nWe occupy properties in:\\nUnited States\\nSan Francisco-Oakland-Berkeley, CA metro area\\n420 Montgomery Street (corporate headquarters) 0.4\\nAll other San Francisco metro area locations 2.8\\nTotal San Francisco, CA metro area 3.2\\nTop 10 other U.S. locations:\\nCharlotte-Concord-Gastonia, NC-SC 7.0\\nMinneapolis-St. Paul-Bloomington, MN-WI 4.4\\nNew York-Newark-Jersey City, NY-NJ-PA 3.1\\nLos Angeles-Long Beach-Anaheim, CA 2.9\\nDes Moines-West Des Moines, IA 2.9\\nPhoenix-Mesa-Chandler, AZ 2.9\\nSt. Louis, MO-IL 2.2\\nDallas-Fort Worth-Arlington, TX 1.6\\nPhiladelphia-Camden-Wilmington, PA-NJ-DE-MD 1.5\\nMiami-Fort Lauderdale-Pompano Beach, FL 1.3\\nAll other U.S. locations 32.3\\nTotal United States 65.3\\nTop 5 International locations:\\nIndia 3.9\\nPhilippines 0.9\\nUnited Kingdom 0.3\\nAll other international locations 0.3\\nTotal International 5.4\\nTotal square footage of property occupied for business operations (1) 70.7\\n(1)In addition to the total square footage of property occupied, Wells Fargo held 2.8 million square feet of real estate as of December 31, 2022, that was vacant pending disposition, leased to retail tenants or leased-to-term by third-party office tenants.\\nAs of December 31, 2022, we provided a diversified set of banking, investment and mortgage products and services, as well as consumer and commercial finance, through banking locations and offices under ownership and lease agreements. The locations and offices occupied by the Company are used across all of our reportable operating segments and for corporate purposes. We continue to evaluate our owned and leased properties and may determine from time to time that certain of our properties are no longer necessary for our operations. There is no assurance that we will be able to dispose of any excess properties or that we will not incur charges in connection with such dispositions, which could be material to our operating results in a given period.\\nITEM 3. LEGAL PROCEEDINGS\\nInformation in response to this Item 3 can be found in the 2022 Annual Report to Shareholders under “Financial Statements - Notes to Financial Statements - Note 13 (Legal Actions).” That information is incorporated into this item by reference.\\nITEM 4. MINE SAFETY DISCLOSURES\\nNot applicable.\\nPART II\\nITEM 5. MARKET FOR REGISTRANT’S COMMON EQUITY, RELATED STOCKHOLDER MATTERS AND ISSUER PURCHASES OF EQUITY SECURITIES\\nMARKET INFORMATION\\nThe Company’s common stock is listed on the NYSE (symbol “WFC”). The “Stock Performance” section of the 2022 Annual Report to Shareholders provides stockholder return comparisons and is incorporated herein by reference. At February 10, 2023, there were 231,886 holders of record of the Company’s common stock.\\nDIVIDENDS\\nThe dividend restrictions discussions in the “Regulation and Supervision - Dividend Restrictions” section under Item 1 of this report and in the 2022 Annual Report to Shareholders under “Financial Statements - Notes to Financial Statements - Note 25 (Regulatory Capital Requirements and Other Restrictions)” are incorporated into this item by reference.\\nREPURCHASES OF EQUITY SECURITIES\\nIn January 2021, our Board of Directors authorized the repurchase of up to 500 million shares of our common stock. At December 31, 2022, we had remaining Board authority to repurchase approximately 250 million shares of common stock, subject to regulatory and legal conditions. The authorizations cover shares repurchased to meet employee benefit plan requirements. The Company maintains a variety of retirement plans for its employees and typically is a net issuer of shares of common stock to these plans. From time to time, it also purchases shares of common stock from these plans to accommodate employee preferences. Share repurchases are subtracted from the Company’s repurchase authority without offset for share issuances. Shares may be repurchased from the different benefit plans or in the open market, subject to regulatory approval.\\nThe amount and timing of stock repurchases will be based on various factors, including our capital requirements, the number of shares we expect to issue for employee benefit plans and acquisitions, market conditions (including the trading price of our stock), and regulatory and legal considerations. See the “Capital Management” section in the 2022 Annual Report to Shareholders for additional information about our common stock repurchases.\\nThe following table shows Company repurchases of its common stock for each calendar month in the quarter ended December 31, 2022. In fourth quarter 2022, common stock repurchases were limited to repurchases in connection with the Wells Fargo & Company Stock Purchase Plan and the Company’s deferred compensation plans.\\nCalendar month Total number of\\nshares repurchased (1) Weighted-average\\nprice paid per share Maximum number of\\nshares that may yet\\nbe repurchased under\\nthe authorization\\nOctober 52,876 $ 43.67 250,466,216\\nNovember 43,423 46.77 250,422,793\\nDecember 32,959 42.94 250,389,834\\nTotal 129,258\\n(1)All shares were repurchased under an authorization covering up to 500 million shares of common stock approved by the Board of Directors and publicly announced by the Company on January 15, 2021. Unless modified or revoked by the Board, this authorization does not expire.\\nITEM 6. [RESERVED]\\nITEM 7. MANAGEMENT’S DISCUSSION AND ANALYSIS OF FINANCIAL CONDITION AND RESULTS OF OPERATIONS\\nInformation in response to this Item 7 can be found in the 2022 Annual Report to Shareholders under “Financial Review.” That information is incorporated into this item by reference.\\nITEM 7A. QUANTITATIVE AND QUALITATIVE DISCLOSURES ABOUT MARKET RISK\\nInformation in response to this Item 7A can be found in the 2022 Annual Report to Shareholders under “Financial Review - Risk Management - Asset/Liability Management.” That information is incorporated into this item by reference.\\nITEM 8. FINANCIAL STATEMENTS AND SUPPLEMENTARY DATA\\nInformation in response to this Item 8 can be found in the 2022 Annual Report to Shareholders under “Financial Statements,” under “Notes to Financial Statements” and under “Quarterly Financial Data.” That information is incorporated into this item by reference.\\nITEM 9. CHANGES IN AND DISAGREEMENTS WITH ACCOUNTANTS ON ACCOUNTING AND FINANCIAL DISCLOSURE\\nNot applicable.\\nITEM 9A. CONTROLS AND PROCEDURES\\nInformation in response to this Item 9A can be found in the\\n2022 Annual Report to Shareholders under “Controls and Procedures.” That information is incorporated into this item by reference.\\nITEM 9B. OTHER INFORMATION\\nNot applicable.\\nITEM 9C. DISCLOSURE REGARDING FOREIGN JURISDICTIONS THAT PREVENT INSPECTIONS\\nNot applicable.\\nPART III\\nITEM 10. DIRECTORS, EXECUTIVE OFFICERS AND CORPORATE GOVERNANCE\\nINFORMATION ABOUT OUR EXECUTIVE OFFICERS\\nMuneera S. Carr (age 54)\\nExecutive Vice President, Chief Accounting Officer and Controller since March 2020;\\nExecutive Vice President and Controller from January 2020 to March 2020;\\nExecutive Vice President from February 2013 to October 2019 and Chief Financial Officer from January 2018 to October 2019 at Comerica, Incorporated, a financial services company;\\nChief Accounting Officer at Comerica Incorporated from July 2010 to January 2018.\\nMs. Carr has served with the Company for 3 years.\\nWilliam M. Daley (age 74)\\nVice Chairman of Public Affairs since November 2019;\\nVice Chairman and a member of the Executive Committee at Bank of New York Mellon, a financial services company, from June 2019 to October 2019;\\nManaging Partner at Argentiere Capital, an investment management firm, from May 2014 to June 2019.\\nMr. Daley has served with the Company for 3 years.\\nKristy Fercho (age 56)\\nSenior Executive Vice President, Head of Diverse Segments, Representation and Inclusion and Head of Home Lending since October 2022;\\nExecutive Vice President and Head of Home Lending from July 2020 to October 2022;\\nPresident of the Mortgage Division at Flagstar Bancorp, Inc., a financial services company, from August 2017 to July 2020.\\nMs. Fercho has served with the Company for 2 years.\\nDerek A. Flowers (age 51)\\nSenior Executive Vice President and Chief Risk Officer since January 2022;\\nSenior Executive Vice President and Head of Strategic Execution and Operations from June 2019 to January 2022;\\nExecutive Vice President and Chief Credit and Market Risk Officer from July 2016 to June 2019.\\nMr. Flowers has served with the Company or its predecessors for 24 years.\\nKyle G. Hranicky (age 53)\\nSenior Executive Vice President and CEO of Commercial Banking since September 2021;\\nExecutive Vice President and Head of Wells Fargo Middle Market Banking from August 2018 to September 2021;\\nExecutive Vice President and Head of Wells Fargo Corporate Banking Group from April 2015 to July 2018.\\nMr. Hranicky has served with the Company or its predecessors for 28 years.\\nBei Ling (age 52)\\nSenior Executive Vice President and Head of Human Resources since October 2021;\\nManaging Director, Human Resources at JPMorgan Chase & Co., a financial services company, from April 2013 to September 2021.\\nMs. Ling has served with the Company for 1 year.\\nMary T. Mack (age 60)\\nSenior Executive Vice President and CEO of Consumer and Small Business Banking since February 2020;\\nInterim CEO of Consumer Lending from February 2020 to April 2020;\\nSenior Executive Vice President (Consumer Banking), reflecting the renamed Consumer Banking organization which combined Community Banking and Consumer Lending, from April 2019 to February 2020;\\nSenior Executive Vice President (Consumer Lending) from December 2017 to April 2019 and Senior Executive Vice President (Community Banking) from November 2016 to April 2019.\\nMs. Mack has served with the Company or its predecessors for 38 years.\\nLester J. Owens (age 65)\\nSenior Executive Vice President and Head of Operations since July 2020;\\nSenior Executive Vice President and Head of Operations at Bank of New York Mellon, a financial services company, from February 2019 to April 2020;\\nManaging Director for Wholesale Banking Operations at JPMorgan Chase & Co., a financial services company, from 2007 to December 2018.\\nMr. Owens has served with the Company for 2 years.\\nEllen R. Patterson (age 49)\\nSenior Executive Vice President and General Counsel since March 2020;\\nGroup Head, General Counsel at The Toronto-Dominion Bank, a financial services company, from November 2017 to March 2020.\\nMs. Patterson has served with the Company for 2 years.\\nScott E. Powell (age 60)\\nSenior Executive Vice President and Chief Operating Officer since December 2019;\\nPresident and Chief Executive Officer of Santander Consumer USA Holdings Inc., a financial services company, from August 2017 to December 2019;\\nSenior Executive Vice President of Santander Bank, N.A., a financial services company, from August 2017 to December 2019;\\nPresident and Chief Executive Officer of Santander Holdings USA Inc., a financial services company, from March 2015 to December 2019.\\nMr. Powell has served with the Company for 3 years.\\nMichael P. Santomassimo (age 47)\\nSenior Executive Vice President and Chief Financial Officer since October 2020;\\nSenior Executive Vice President and Chief Financial Officer at Bank of New York Mellon, a financial services company, from January 2018 to July 2020;\\nChief Financial Officer of Investment Services at Bank of New York Mellon from July 2016 to January 2018.\\nMr. Santomassimo has served with the Company for 2 years.\\nKleber R. Santos (age 49)\\nSenior Executive Vice President and CEO of Consumer Lending since July 2022;\\nSenior Executive Vice President and Head of Diverse Segments, Representation and Inclusion from November 2020 to October 2022;\\nPresident, Retail and Direct Banking at Capital One Financial Corporation, a financial services company, from March 2017 to October 2020.\\nMr. Santos has served with the Company for 2 years.\\nCharles W. Scharf (age 57)\\nChief Executive Officer and President since October 2019;\\nChief Executive Officer of Bank of New York Mellon, a financial services company, from July 2017 to September 2019.\\nMr. Scharf has served with the Company for 3 years.\\nBarry Sommers (age 53)\\nSenior Executive Vice President and CEO of Wealth and Investment Management since June 2020;\\nChief Executive Officer of Wealth Management at JPMorgan Chase & Co., a financial services company, from September 2016 to April 2019.\\nMr. Sommers has served with the Company for 2 years.\\nSaul Van Beurden (age 53)\\nSenior Executive Vice President and Head of Technology since April 2019;\\nChief Information Officer of Consumer and Community Banking at JPMorgan Chase & Co., a financial services company, from August 2016 to January 2019.\\nMr. Van Beurden has served with the Company for 3 years.', start_char_idx=31421, end_char_idx=49299, text_template='{metadata_str}\\n\\n{content}', metadata_template='{key}: {value}', metadata_seperator='\\n'), score=0.81928355), NodeWithScore(node=TextNode(id_='11c0aeb0-1f61-414d-aeb1-dd18794749aa', embedding=None, metadata={'symbol': 'WFC', 'cik': '72971', 'filingYear': '2023', 'filingType': '10-K'}, excluded_embed_metadata_keys=[], excluded_llm_metadata_keys=[], relationships={<NodeRelationship.SOURCE: '1'>: RelatedNodeInfo(node_id='01de5867-b9af-427e-95ab-5e96a2afb941', node_type=<ObjectType.DOCUMENT: '4'>, metadata={'symbol': 'WFC', 'cik': '72971', 'filingYear': '2023', 'filingType': '10-K'}, hash='9b10520ac2bd34b8a6c6210939167ceb7d79acec2e6a78c8e138e239ecfbca27'), <NodeRelationship.NEXT: '3'>: RelatedNodeInfo(node_id='f40c05a7-86d7-449d-8d9a-d3248f2a02e0', node_type=<ObjectType.TEXT: '1'>, metadata={}, hash='aa63f5481f1f9559c81d9052c2c3395e02a02a777b4377d44c4c02c88b112c18')}, text=\"ITEM 1. BUSINESS\\nWells Fargo & Company is a corporation organized under the laws of Delaware and a financial holding company and a bank holding company registered under the Bank Holding Company Act of 1956, as amended (BHC Act). Its principal business is to act as a holding company for its subsidiaries. References in this report to “the Parent” mean the holding company. References to “we,” “our,” “us” or “the Company” mean the holding company and its subsidiaries that are consolidated for financial reporting purposes.\\nAt December 31, 2022, we had assets of approximately $1.9 trillion, loans of $955.9 billion, deposits of $1.4 trillion and stockholders’ equity of $180 billion. Based on assets, we were the fourth largest bank holding company in the United States. At December 31, 2022, Wells Fargo Bank, N.A. was the Company’s principal subsidiary with assets of $1.7 trillion, or 91% of the Company’s assets.\\nOur annual reports on Form 10-K, quarterly reports on Form 10-Q, current reports on Form 8-K, and amendments to those reports, are available for free at www.wellsfargo.com/about/investor-relations/filings as soon as reasonably practicable after they are electronically filed with or furnished to the Securities and Exchange Commission (SEC). They are also available for free on the SEC’s website at www.sec.gov1.\\nDESCRIPTION OF BUSINESS\\nGeneral\\nWe are a leading financial services company that provides a diversified set of banking, investment and mortgage products and services, as well as consumer and commercial finance, through banking locations and offices, the internet (www.wellsfargo.com) and other distribution channels to individuals, businesses and institutions in all 50 states, the District of Columbia and in countries outside the U.S. We provide consumer financial products and services including checking and savings accounts, credit and debit cards, and auto, mortgage and home equity, and small business lending. In addition, we offer financial planning, private banking, investment management, and fiduciary services. We also provide financial solutions to businesses through products and services including traditional commercial loans and lines of credit, letters of credit, asset-based lending, trade financing, treasury management, and investment banking services.\\nAs of December 31, 2022, we had four reportable operating segments for management reporting purposes: Consumer Banking and Lending; Commercial Banking; Corporate and Investment Banking; and Wealth and Investment Management. The 2022 Annual Report to Shareholders includes financial information and descriptions of these operating segments.\\nHuman Capital\\nOur people are what set Wells Fargo apart and are critical to our success. Wells Fargo continues to invest in our employees by offering market competitive compensation, career-development opportunities, a broad array of benefits, and strong work-life programs.\\n1 We do not control this website. Wells Fargo has provided this link for your convenience, but does not endorse and is not responsible for the content, links, privacy policy, or security policy of this website.\\nWe have set common expectations for everyone at the Company. These expectations guide how we lead ourselves, collaborate with our colleagues, and make decisions. The following expectations apply to everyone at Wells Fargo, at every level, and in every role:\\n•Embrace candor\\n•Do what’s right\\n•Be great at execution\\n•Learn and grow\\n•Champion diversity and inclusion\\n•Build high-performing teams (for managers)\\nAt December 31, 2022, we had approximately 238,000 active employees, with approximately 81% of employees based in the United States.\\nCompensation and benefits. Wells Fargo's compensation program is linked to performance management and is designed to promote prudent risk management and reinforce its culture and operating standards. The compensation principles include:\\n•Pay for performance: Compensation is linked to company, line of business, and individual performance, including meeting regulatory expectations and creating long-term value consistent with the interests of shareholders.\\n•Promote effective risk management: Compensation promotes effective risk management and discourages imprudent or excessive risk-taking.\\n•Attract and retain talent: People are one of Wells Fargo's competitive advantages; therefore, compensation helps attract, motivate, and retain people with the skills, talent, and experience to drive superior long-term company performance.\\nIn addition, we provide all eligible full- and part-time employees (and their eligible dependents, as applicable) with a comprehensive set of benefits designed to protect their physical and financial health and to help them make the most of their financial future.\\nPay Equity Review. Wells Fargo is committed to fair and equitable compensation practices and, since 2015, has conducted an annual pay equity review through engagement with a third-party expert. The review analyzes employee compensation by taking into account gender, race, and ethnicity and factors such as role, tenure, and geography. The review process can include compensation adjustments in the event we identify gaps. The 2022 review, modified for adjustments as described, showed that women at Wells Fargo earn more than 99 cents for every $1 earned by their male peers, and U.S. employees that are racially/ethnically diverse earn more than 99 cents for every $1 earned by their Caucasian/white peers.\\nPromoting Diversity, Equity and Inclusion. Meeting the increasingly diverse needs of Wells Fargo’s global customer base is critical to our Company’s long-term growth and success. Wells Fargo values and promotes diversity, equity and inclusion (DE&I) in every aspect of our business. We are dedicated to recruitment and career development practices that support our employees and promote diversity in our workforce at all levels of our Company, including leadership positions. We have a strong record of recruiting, promoting, and rewarding women and racially/ethnically diverse employees at all levels of our Company, including a goal to increase diverse representation in leadership roles. Our Head of Diverse Segments, Representation and\\nInclusion reports directly to our CEO and leads our DE&I efforts, with responsibility for driving a Company-wide DE&I strategy.\\nAs of December 31, 2022, our global workforce was 52% female and 48% male, and our U.S. workforce was 55% female and 45% male. Our U.S. workforce was 54% Caucasian/white and 46% racially/ethnically diverse.\\nEmployee training and development. We invest heavily in coaching and training for employees and managers. We believe that when our employees feel properly supported, engaged, and confident in their skills, they are more effective and can provide an even better customer experience. During 2022, we invested approximately $200 million in a variety of employee learning and development programs, including functional training, regulatory compliance, leadership and professional development, early talent development programs, and tuition reimbursement.\\nWork-life programs and the COVID-19 Pandemic. Wells Fargo offers many benefits, programs, and work arrangements intended to provide employees with flexibility and work-life balance. In March 2022, Wells Fargo began its Return to Office program for employees who had been working from home during the COVID-19 pandemic. Wells Fargo believes the Company benefits from employees seeing each other on a regular basis. When together, it is easier to build relationships, get in-the-moment coaching, identify career opportunities, and brainstorm ideas. Ultimately, when employees work together we believe they learn more about the customers and communities the Company serves and how to serve them better. With this in mind, Wells Fargo's approach emphasizes spending time together in the office, and also provides flexible work options for employees in certain jobs. For example, employees in certain non-customer-facing roles have flexibility to have up to two days a week of remote work, and spend a minimum of three days a week in the office. Expectations for other roles, including customer-facing, operations, technology, and non-U.S. based employees, vary by business need.\\nThe health and safety of employees also remains a priority. All employees globally may take up to four hours of paid time away for each COVID-19 vaccine appointment (including boosters). U.S. employees are additionally eligible to receive free COVID-19 test kits from Wells Fargo or through their medical plan, at no additional cost.\\nCompetition\\nThe financial services industry is highly competitive. Our subsidiaries compete with financial services providers such as banks, savings and loan associations, credit unions, finance companies, mortgage banking companies, insurance companies, investment banks and mutual fund companies. They also face increased competition from nonbank institutions such as brokerage houses, private equity firms and online lending companies, as well as from financial services subsidiaries of commercial and manufacturing companies. Many of these competitors enjoy fewer regulatory constraints and some may have lower cost structures.\\nSecurities firms and insurance companies that elect to become financial holding companies may acquire banks and other financial institutions. Combinations of this type could significantly change the competitive environment in which we conduct business. The financial services industry is also likely to become more competitive as further technological advances enable more companies to provide financial services. These technological advances may diminish the importance of\\ndepository institutions and other financial intermediaries in the transfer of funds between parties.\\nREGULATION AND SUPERVISION\\nWe describe below, and in Note 25 (Regulatory Capital Requirements and Other Restrictions) to Financial Statements included in the 2022 Annual Report to Shareholders, the material elements of the regulatory framework applicable to us. Banking statutes, regulations and policies are continually under review by Congress and state legislatures and federal and state regulatory agencies, as well as non-U.S. governments and financial regulators, and a change in them, including changes in how they are interpreted or implemented, could have a material effect on our business. The regulatory framework applicable to depository institutions and bank holding companies (BHCs) is intended to protect depositors, federal deposit insurance funds, consumers and the banking system as a whole, and not necessarily investors in bank holding companies such as the Company.\\nStatutes, regulations and policies could restrict our ability to diversify into other areas of financial services, make acquisitions, and pay dividends on our capital stock. They may also require us to provide financial support to one or more of our subsidiary banks, maintain capital balances in excess of amounts desired by management, and pay higher deposit insurance premiums as a result of assessments or a general deterioration in the financial condition of depository institutions. See the “Regulatory Matters” and “Risk Factors” sections in the 2022 Annual Report to Shareholders for additional information.\\nGeneral\\nParent Bank Holding Company. As a BHC, the Parent is subject to regulation under the BHC Act and to inspection, examination and supervision by its primary regulator, the Board of Governors of the Federal Reserve System (Federal Reserve Board or FRB). The Parent is also subject to the disclosure and regulatory requirements of the Securities Act of 1933, as amended, and the Securities Exchange Act of 1934, as amended, both as administered by the SEC. As a company with securities listed on the New York Stock Exchange (NYSE), the Parent is subject to the rules of the NYSE for listed companies.\\nSubsidiary Banks. Our subsidiary national banks, and their subsidiaries, are subject to regulation and examination primarily by the Office of the Comptroller of the Currency (OCC) and also by the Federal Deposit Insurance Corporation (FDIC), the FRB, the Consumer Financial Protection Bureau (CFPB), the SEC and the Commodities Futures Trading Commission (CFTC). The non-U.S. branches and representative offices of our subsidiary national banks are subject to regulation and examination by their respective financial regulators as well as by the OCC and the FRB. Non-U.S. subsidiaries of our national bank subsidiaries may be subject to the laws and regulations of the countries in which they conduct business.\\nNonbank Subsidiaries. Many of our nonbank subsidiaries are also subject to regulation by the FRB and other applicable federal and state agencies. Our insurance subsidiaries are subject to regulation by applicable state insurance regulatory agencies, as well as the FRB. Our brokerage subsidiaries are regulated by the SEC, the Financial Industry Regulatory Authority (FINRA) and, in some cases, the CFTC and the Municipal Securities Rulemaking Board, and state securities regulators. Our other nonbank subsidiaries may be subject to the laws and regulations of the federal government and/or the various states as well as non-U.S. countries in which they conduct business or operate.\\nParent Bank Holding Company Activities\\n“Financial in Nature” Requirement. We became a financial holding company effective March 13, 2000. We continue to maintain our status as a BHC for purposes of various FRB regulations. As a BHC that has elected to be treated as a financial holding company pursuant to the BHC Act, we may affiliate with securities firms and insurance companies and engage in other activities that are financial in nature or incidental or complementary to activities that are financial in nature. “Financial in nature” activities include securities underwriting, dealing, and market making; sponsoring mutual funds and investment companies; insurance underwriting and agency; merchant banking; and activities that the FRB, in consultation with the Secretary of the U.S. Treasury, determines to be financial in nature or incidental to such financial activity. “Complementary activities” are activities that the FRB determines upon application to be complementary to a financial activity and do not pose a safety and soundness risk.\\nFRB approval is generally not required for us to acquire a company (other than a BHC, bank or savings association) engaged in activities that are financial in nature or incidental to activities that are financial in nature, as determined by the FRB. Prior notice to the FRB may be required, however, if the company to be acquired has total consolidated assets of $10 billion or more. Prior FRB approval is required before we may acquire the beneficial ownership or control of more than 5% of the voting shares or substantially all of the assets of a BHC, bank or savings association. In addition, the FRB has implemented a final rule under the Dodd-Frank Wall Street Reform and Consumer Protection Act (Dodd-Frank Act) that also prohibits our ability to merge, acquire all or substantially all of the assets of, or acquire control of another company if our total resulting consolidated liabilities would exceed 10% of the aggregate consolidated liabilities of all financial companies.\\nBecause we are a financial holding company, if any of our subsidiary banks receives a rating under the Community Reinvestment Act of 1977, as amended (CRA), of less than satisfactory, we will be prohibited, until the rating is raised to satisfactory or better, from engaging in new activities or acquiring companies other than BHCs, banks or savings associations, except that we could engage in new activities, or acquire companies engaged in activities, that are closely related to banking under the BHC Act. CRA performance is also taken into account by regulators in reviewing applications to establish bank branches. In addition, if the FRB finds that the Company or any one of our subsidiary banks is not well capitalized or well managed, we would be required to enter into an agreement with the FRB to comply with all applicable capital and management requirements and which may contain additional limitations or conditions. Until corrected, we could be prohibited from engaging in any new activity or acquiring companies engaged in activities that are not closely related to banking under the BHC Act without prior FRB approval. If we fail to correct any such condition within a prescribed period, the FRB could order us to divest our banking subsidiaries or, in the alternative, to cease engaging in activities other than those closely related to banking under the BHC Act.\\nInterstate Banking. Under the Riegle-Neal Interstate Banking and Branching Act (Riegle-Neal Act), a BHC may acquire banks in states other than its home state, subject to any state requirement that the bank has been organized and operating for a minimum period of time, not to exceed five years, and the requirement that the BHC not control, prior to or following the proposed acquisition, more than 10% of the total amount of\\ndeposits of insured depository institutions nationwide or, unless the acquisition is the bank holding company’s initial entry into the state, more than 30% of such deposits in the state (or such lesser or greater amount set by the state). The Riegle-Neal Act also authorizes banks to merge across state lines, subject to the same deposit limits noted above, thereby creating interstate branches. Banks are also permitted to acquire and to establish new branches in other states.\\nRegulatory Approval. In determining whether to approve a proposed bank acquisition, federal banking regulators will consider, among other factors, the effect of the acquisition on competition, financial condition, and future prospects including current and projected capital ratios and levels, the competence, experience, and integrity of management and record of compliance with laws and regulations, the convenience and needs of the communities to be served, including the acquiring institution’s record of compliance under the CRA, the effectiveness of the acquiring institution in combating money laundering activities and the risk to the stability of the United States banking system.\\nDividend Restrictions\\nThe Parent is a legal entity separate and distinct from its subsidiary banks and other subsidiaries. A significant source of funds to pay dividends on our common and preferred stock and principal and interest on our debt is dividends from the Parent’s subsidiaries. Various federal and state statutory provisions and regulations limit the amount of dividends the Parent’s subsidiary banks and certain other subsidiaries may pay without regulatory approval. Federal banking regulators have the authority to prohibit the Parent’s subsidiary banks from engaging in unsafe or unsound practices in conducting their businesses. The payment of dividends, depending on the financial condition of the bank in question, could be deemed an unsafe or unsound practice. The ability of the Parent’s subsidiary banks to pay dividends in the future is currently, and could be further, influenced by bank regulatory policies and capital requirements. For information about the restrictions applicable to the Parent’s subsidiary banks, see Note 25 (Regulatory Capital Requirements and Other Restrictions) to Financial Statements included in the 2022 Annual Report to Shareholders.\\nFurthermore, under a Support Agreement dated June 28, 2017, as amended and restated on June 26, 2019 (the “Support Agreement”), among the Parent, WFC Holdings, LLC, an intermediate holding company and subsidiary of the Parent (the “IHC”), Wells Fargo Bank, N.A., Wells Fargo Securities, LLC, Wells Fargo Clearing Services, LLC, and certain other subsidiaries of the Parent designated from time to time as material entities for resolution planning purposes or identified from time to time as related support entities in our resolution plan, the IHC may be restricted from making dividend payments to the Parent if certain liquidity and/or capital metrics fall below defined triggers, or if the Parent’s board of directors authorizes it to file a case under the U.S. Bankruptcy Code.\", start_char_idx=0, end_char_idx=20304, text_template='{metadata_str}\\n\\n{content}', metadata_template='{key}: {value}', metadata_seperator='\\n'), score=0.80754626)], metadata={'f40c05a7-86d7-449d-8d9a-d3248f2a02e0': {'symbol': 'WFC', 'cik': '72971', 'filingYear': '2023', 'filingType': '10-K'}, '2e01958c-79ca-4301-8b9c-f87c46c71648': {'symbol': 'WFC', 'cik': '72971', 'filingYear': '2023', 'filingType': '10-K'}, '11c0aeb0-1f61-414d-aeb1-dd18794749aa': {'symbol': 'WFC', 'cik': '72971', 'filingYear': '2023', 'filingType': '10-K'}})"
      ]
     },
     "execution_count": 74,
     "metadata": {},
     "output_type": "execute_result"
    }
   ],
   "source": [
    "wfcEng.query(question)"
   ]
  },
  {
   "cell_type": "code",
   "execution_count": 25,
   "metadata": {},
   "outputs": [],
   "source": [
    "from llama_index.query_engine import SubQuestionQueryEngine\n",
    "from llama_index.tools import QueryEngineTool, ToolMetadata\n",
    "\n",
    "query_engine_tools = [\n",
    "        QueryEngineTool(\n",
    "            query_engine=pncEng, \n",
    "            metadata=ToolMetadata(name='2023PNC_10k', description='Provides information about PNC financials for year 2023')\n",
    "        ),\n",
    "        QueryEngineTool(\n",
    "            query_engine=wfcEng, \n",
    "            metadata=ToolMetadata(name='2023WFC_10k', description='Provides information about WFC financials for year 2023')\n",
    "        )\n",
    "]"
   ]
  },
  {
   "cell_type": "code",
   "execution_count": 26,
   "metadata": {},
   "outputs": [],
   "source": [
    "subQueryEngine = SubQuestionQueryEngine.from_defaults(\n",
    "    query_engine_tools=query_engine_tools,\n",
    "    service_context=serviceContext,\n",
    ")"
   ]
  },
  {
   "cell_type": "code",
   "execution_count": 27,
   "metadata": {},
   "outputs": [],
   "source": [
    "# enable INFO level logging\n",
    "import sys\n",
    "logging.basicConfig(stream=sys.stdout, level=logging.DEBUG)\n",
    "logging.getLogger().addHandler(logging.StreamHandler(stream=sys.stdout))"
   ]
  },
  {
   "cell_type": "code",
   "execution_count": 28,
   "metadata": {},
   "outputs": [],
   "source": [
    "async def queryData(query, subQueryEngine):\n",
    "    #queries the engine with the input text    \n",
    "    response = await subQueryEngine.aquery(query)\n",
    "    return response.response"
   ]
  },
  {
   "cell_type": "code",
   "execution_count": 29,
   "metadata": {},
   "outputs": [
    {
     "name": "stdout",
     "output_type": "stream",
     "text": [
      "Generated 4 sub questions.\n",
      "\u001b[1;3;38;2;237;90;200m[2023PNC_10k] Q: What is the projected revenue growth for PNC in 2023?\n",
      "\u001b[0m\u001b[1;3;38;2;90;149;237m[2023WFC_10k] Q: What is the projected revenue growth for WFC in 2023?\n",
      "\u001b[0m\u001b[1;3;38;2;11;159;203m[2023PNC_10k] Q: What is the business risk assessment for PNC in 2023?\n",
      "\u001b[0m\u001b[1;3;38;2;155;135;227m[2023WFC_10k] Q: What is the business risk assessment for WFC in 2023?\n",
      "\u001b[0m\u001b[1;3;38;2;237;90;200m[2023PNC_10k] A: PNC projects a revenue growth of 6% to 8% for the full year 2023 compared to the full year 2022.\n",
      "\u001b[0m\u001b[1;3;38;2;155;135;227m[2023WFC_10k] A: The provided context information does not include a specific business risk assessment for WFC in 2023.\n",
      "\u001b[0m\u001b[1;3;38;2;90;149;237m[2023WFC_10k] A: The projected revenue growth for WFC in 2023 is not provided in the given context information.\n",
      "\u001b[0m\u001b[1;3;38;2;11;159;203m[2023PNC_10k] A: The business risk assessment for PNC in 2023 includes several key risks. One of the significant risks is the risk associated with the creditworthiness of customers and counterparties. This risk arises from extending credit, purchasing securities, and entering into financial derivative transactions. PNC manages this risk by assessing and monitoring the creditworthiness of customers, diversifying the loan portfolio, obtaining and monitoring collateral, and investing primarily in high-quality securities.\n",
      "\n",
      "Another risk is the risk of failures or breaches occurring in PNC's information systems. PNC has policies, procedures, and systems in place to prevent or limit the impact of such failures or breaches. However, the effectiveness of these measures cannot be guaranteed, and the risk of cyber attacks and data security breaches remains.\n",
      "\n",
      "Additionally, PNC faces risks related to interest rate fluctuations and market conditions. Changes in interest rates and market spreads can impact net interest income, the ability of borrowers to meet obligations, and the demand for interest rate-based products and services. PNC manages interest rate risk through asset and liability management practices.\n",
      "\n",
      "Operational risks, including those related to technology and third-party breaches of data security, are also significant risks for PNC. PNC has programs and frameworks in place to manage operational risks and ensure the proper functioning and resiliency of its information systems. However, the evolving nature of cyber attacks and the reliance on third-party systems present ongoing challenges.\n",
      "\n",
      "Overall, PNC recognizes the importance of effective risk management and continues to allocate significant resources to improve the reliability of its systems, enhance cybersecurity measures, and mitigate potential risks.\n",
      "\u001b[0m"
     ]
    },
    {
     "data": {
      "text/plain": [
       "'The future growth for PNC in 2023 is projected to be between 6% and 8% compared to the previous year. However, the projected revenue growth for WFC in 2023 is not provided in the given context information.\\n\\nIn terms of business risk assessment, PNC faces several key risks in 2023. These include creditworthiness risk, information system failures or breaches, risks related to interest rate fluctuations and market conditions, and operational risks such as technology and third-party breaches of data security. PNC has implemented measures to manage and mitigate these risks, including assessing and monitoring customer creditworthiness, diversifying the loan portfolio, implementing cybersecurity measures, and managing interest rate risk through asset and liability management practices.\\n\\nOn the other hand, the specific business risk assessment for WFC in 2023 is not mentioned in the provided context information.'"
      ]
     },
     "execution_count": 29,
     "metadata": {},
     "output_type": "execute_result"
    }
   ],
   "source": [
    "response = await queryData(question, subQueryEngine)\n",
    "response"
   ]
  },
  {
   "cell_type": "code",
   "execution_count": 42,
   "metadata": {},
   "outputs": [
    {
     "data": {
      "text/plain": [
       "\"Wells Fargo & Company is a financial holding company and bank holding company with assets of approximately $1.9 trillion as of December 31, 2022. The company provides a wide range of banking, investment, and mortgage products and services to individuals, businesses, and institutions in the United States and internationally. Its subsidiaries offer consumer financial products and services, including checking and savings accounts, credit and debit cards, and various types of loans. Wells Fargo also provides financial solutions to businesses through commercial loans, trade financing, and investment banking services. The company has a strong focus on human capital, investing in its employees through competitive compensation, career development opportunities, and work-life programs.\\n\\nWells Fargo operates under the regulatory framework applicable to bank holding companies and is subject to supervision and examination by various federal and state regulatory agencies. The company is required to comply with capital and liquidity requirements, as well as regulations related to risk management, stress testing, and recovery and resolution planning. Wells Fargo's subsidiary banks are insured by the FDIC, and the company is subject to restrictions on the transfer of funds from its subsidiary banks. The company also faces competition from other financial services providers, including banks, credit unions, insurance companies, and nonbank institutions. Additionally, Wells Fargo is committed to promoting diversity, equity, and inclusion in its workforce and has implemented various initiatives to attract, retain, and develop a diverse talent pool.\\n\\nIn summary, Wells Fargo is a leading financial services company that offers a wide range of banking and investment products and services. The company has a strong focus on its employees and is committed to promoting diversity and inclusion. Wells Fargo operates under the regulatory framework applicable to bank holding companies and faces competition from various financial services providers.\""
      ]
     },
     "execution_count": 42,
     "metadata": {},
     "output_type": "execute_result"
    }
   ],
   "source": [
    "from llama_index.response_synthesizers import TreeSummarize\n",
    "summarizer = TreeSummarize(use_async=True, service_context=serviceContext)\n",
    "summarizeTopicPrompt = \"\"\"You are an AI assistant tasked with summarizing documents from \n",
    "        earning call transcripts, annual reports, SEC filings and financial statements like income statement, cashflow and \n",
    "        balance sheets. Additionally you may also be asked to answer questions about financial ratios and other financial metrics.\n",
    "        Your summary should accurately capture the key information in the document while avoiding the omission of any domain-specific words. \n",
    "        Please generate a concise and comprehensive summary that includes details. \n",
    "        Ensure that the summary is easy to understand and provides an accurate representation. \n",
    "        Begin the summary with a brief introduction, followed by the main points.\n",
    "        Generate the summary with minimum of 7 paragraphs and maximum of 10 paragraphs.\n",
    "        Please remember to use clear language and maintain the integrity of the original information without missing any important details:\"\"\"\n",
    "sectionTopicPrompt = \"\"\"You are an AI assistant tasked with summarizing sections from the financial document like 10-K and 10-Q report. \n",
    "            Your summary should accurately capture the key information in the document while avoiding the omission of any domain-specific words. \n",
    "            Please remember to use clear language and maintain the integrity of the original information without missing any important details.\n",
    "            Please generate a concise and comprehensive 3 paragraphs summary of the following document. \n",
    "            Ensure that the summary is generated for each of the following sections:\"\"\"\n",
    "nodes = wfcEng.retrieve(\"Management Negative Sentiment\")\n",
    "textChunks = []\n",
    "# for node in nodes:\n",
    "#     textChunks.append(node.text)\n",
    "textChunks.append(filing['item1'])\n",
    "summary = summarizer.get_response(sectionTopicPrompt, textChunks)\n",
    "summary"
   ]
  },
  {
   "cell_type": "code",
   "execution_count": 76,
   "metadata": {},
   "outputs": [],
   "source": [
    "from llama_index.query_engine import SubQuestionQueryEngine\n",
    "from llama_index.tools import QueryEngineTool, ToolMetadata\n",
    "\n",
    "companies = ['PNC', 'WFC']\n",
    "years = ['2023']\n",
    "filingType = ['10-K']\n",
    "queryEngineTools = []\n",
    "for company in companies:\n",
    "    for year in years:\n",
    "        for filing in filingType:\n",
    "            filters = MetadataFilters(\n",
    "                filters=[ExactMatchFilter(key=\"symbol\", value=company), \n",
    "                        ExactMatchFilter(key=\"filingYear\", value=year), \n",
    "                        ExactMatchFilter(key=\"filingType\", value=filing)]\n",
    "            )\n",
    "            engine = qaIndex.as_query_engine(filters=filters, similarity_top_k=3)\n",
    "            queryEngineTools.append(\n",
    "                QueryEngineTool(query_engine=engine, \n",
    "                                metadata=ToolMetadata(\n",
    "                                    name=f'{year}{company}_{filingType}', \n",
    "                                    description=f'Provides information about {company} for year {year} and filing type {filingType}')\n",
    "                )\n",
    "            )"
   ]
  },
  {
   "cell_type": "code",
   "execution_count": 78,
   "metadata": {},
   "outputs": [],
   "source": [
    "subQueryEngine1 = SubQuestionQueryEngine.from_defaults(\n",
    "    query_engine_tools=queryEngineTools,\n",
    "    service_context=serviceContext,\n",
    ")"
   ]
  },
  {
   "cell_type": "code",
   "execution_count": 87,
   "metadata": {},
   "outputs": [],
   "source": [
    "response = await queryData(question, subQueryEngine1)"
   ]
  },
  {
   "cell_type": "markdown",
   "metadata": {},
   "source": [
    "#### Use Existing Index"
   ]
  },
  {
   "cell_type": "code",
   "execution_count": 89,
   "metadata": {},
   "outputs": [],
   "source": [
    "def createSecFilingsVectorLlamaIndex(SearchService, SearchKey, indexName):\n",
    "    indexClient = SearchIndexClient(endpoint=f\"https://{SearchService}.search.windows.net/\",\n",
    "        credential=AzureKeyCredential(SearchKey))\n",
    "\n",
    "    metadata_fields = {\n",
    "        \"symbol\": \"symbol\",\n",
    "        \"cik\": \"cik\",\n",
    "        \"filingYear\": \"filingYear\",\n",
    "        \"filingType\": \"filingType\",\n",
    "    }\n",
    "    vectorStore = CognitiveSearchVectorStore(\n",
    "        search_or_index_client=indexClient,\n",
    "        index_name=indexName,\n",
    "        filterable_metadata_field_keys=metadata_fields,\n",
    "        index_management=IndexManagement.CREATE_IF_NOT_EXISTS,\n",
    "        id_field_key=\"id\",\n",
    "        chunk_field_key=\"content\",\n",
    "        embedding_field_key=\"contentVector\",\n",
    "        metadata_string_field_key=\"jsonMetadata\",\n",
    "        doc_id_field_key=\"docId\",\n",
    "    )\n",
    "    return vectorStore"
   ]
  },
  {
   "cell_type": "code",
   "execution_count": 94,
   "metadata": {},
   "outputs": [],
   "source": [
    "import asyncio\n",
    "\n",
    "secFilingsVectorIndexName = 'edgardatavector'\n",
    "vectorStore = createSecFilingsVectorLlamaIndex(SearchService, SearchKey, secFilingsVectorIndexName)\n",
    "storageContext = StorageContext.from_defaults(vector_store=vectorStore)\n",
    "sentenceSplitter = SentenceSplitter(chunk_size=4000, chunk_overlap=1000)\n",
    "serviceContext = ServiceContext.from_defaults(\n",
    "        llm=llm,\n",
    "        embed_model=embeddings,\n",
    "        node_parser=None,\n",
    "        text_splitter=sentenceSplitter,\n",
    ")"
   ]
  },
  {
   "cell_type": "code",
   "execution_count": 105,
   "metadata": {},
   "outputs": [],
   "source": [
    "selectedCompanies = ['JPM', 'BAC', 'GS']\n",
    "selectedYears = ['2022','2021', '2020']\n",
    "filingType = '10-K'\n",
    "queryEngineTools = []\n",
    "for company in selectedCompanies:\n",
    "    for filingYear in selectedYears:\n",
    "        try:\n",
    "            # Create the filter to be used for the Query Engine\n",
    "            llamaIndex = VectorStoreIndex.from_documents([], storage_context=storageContext, service_context=serviceContext)\n",
    "            vectorFilters = MetadataFilters(\n",
    "                filters=[ExactMatchFilter(key=\"symbol\", value=company), \n",
    "                        ExactMatchFilter(key=\"filingYear\", value=filingYear), \n",
    "                        ExactMatchFilter(key=\"filingType\", value=filingType)]\n",
    "            )\n",
    "            engine = llamaIndex.as_query_engine(filters=vectorFilters, similarity_top_k=3)\n",
    "            queryEngineTools.append(\n",
    "                QueryEngineTool(query_engine=engine, \n",
    "                                metadata=ToolMetadata(\n",
    "                                    name=f'{filingYear}{company}_{filingType}', \n",
    "                                    description=f'Provides information from financial document like 10-K and 10-Q on {company} for {filingYear}') \n",
    "                )\n",
    "            )\n",
    "        except Exception as e:\n",
    "            logging.info(\"Error in processing Step 3 : \" + str(e))"
   ]
  },
  {
   "cell_type": "code",
   "execution_count": 106,
   "metadata": {},
   "outputs": [],
   "source": [
    "subQueryEngine = SubQuestionQueryEngine.from_defaults(\n",
    "        query_engine_tools=queryEngineTools,\n",
    "        service_context=serviceContext,\n",
    "        )"
   ]
  },
  {
   "cell_type": "code",
   "execution_count": 107,
   "metadata": {},
   "outputs": [],
   "source": [
    "async def subQueryEngineExecute(query, subQueryEngine):\n",
    "    response = await subQueryEngine.aquery(query)\n",
    "    return response.response"
   ]
  },
  {
   "cell_type": "code",
   "execution_count": 108,
   "metadata": {},
   "outputs": [
    {
     "name": "stdout",
     "output_type": "stream",
     "text": [
      "Generated 9 sub questions.\n",
      "\u001b[1;3;38;2;237;90;200m[2022JPM_10-K] Q: What is the sales and trading revenue for equities for JPM in 2022?\n",
      "\u001b[0m\u001b[1;3;38;2;90;149;237m[2021JPM_10-K] Q: What is the sales and trading revenue for equities for JPM in 2021?\n",
      "\u001b[0m\u001b[1;3;38;2;11;159;203m[2020JPM_10-K] Q: What is the sales and trading revenue for equities for JPM in 2020?\n",
      "\u001b[0m\u001b[1;3;38;2;155;135;227m[2022BAC_10-K] Q: What is the sales and trading revenue for equities for BAC in 2022?\n",
      "\u001b[0m\u001b[1;3;38;2;237;90;200m[2021BAC_10-K] Q: What is the sales and trading revenue for equities for BAC in 2021?\n",
      "\u001b[0m\u001b[1;3;38;2;90;149;237m[2020BAC_10-K] Q: What is the sales and trading revenue for equities for BAC in 2020?\n",
      "\u001b[0m\u001b[1;3;38;2;11;159;203m[2022GS_10-K] Q: What is the sales and trading revenue for equities for GS in 2022?\n",
      "\u001b[0m\u001b[1;3;38;2;155;135;227m[2021GS_10-K] Q: What is the sales and trading revenue for equities for GS in 2021?\n",
      "\u001b[0m\u001b[1;3;38;2;237;90;200m[2020GS_10-K] Q: What is the sales and trading revenue for equities for GS in 2020?\n",
      "\u001b[0m\u001b[1;3;38;2;90;149;237m[2020BAC_10-K] A: The sales and trading revenue for equities for BAC in 2020 is not provided in the given context information.\n",
      "\u001b[0m\u001b[1;3;38;2;11;159;203m[2022GS_10-K] A: The sales and trading revenue for equities for GS in 2022 is not provided in the given context information.\n",
      "\u001b[0m\u001b[1;3;38;2;90;149;237m[2021JPM_10-K] A: The provided context information does not include the sales and trading revenue for equities for JPMorgan Chase in 2021.\n",
      "\u001b[0m\u001b[1;3;38;2;237;90;200m[2021BAC_10-K] A: The sales and trading revenue for equities for BAC in 2021 is not provided in the given context information.\n",
      "\u001b[0m\u001b[1;3;38;2;237;90;200m[2022JPM_10-K] A: I'm sorry, but I cannot provide information about future financial results as I am an AI language model and do not have access to real-time or future data.\n",
      "\u001b[0m\u001b[1;3;38;2;237;90;200m[2020GS_10-K] A: I'm sorry, but I cannot provide the sales and trading revenue for equities for GS in 2020 as the context information provided does not include that specific information.\n",
      "\u001b[0m\u001b[1;3;38;2;155;135;227m[2022BAC_10-K] A: I'm sorry, but I cannot provide the sales and trading revenue for equities for BAC in 2022 as the given context information only includes data up until December 31, 2021.\n",
      "\u001b[0m\u001b[1;3;38;2;11;159;203m[2020JPM_10-K] A: I'm sorry, but I cannot provide information about sales and trading revenue for equities for JPMorgan Chase in 2020 as it is not mentioned in the given context.\n",
      "\u001b[0m\u001b[1;3;38;2;155;135;227m[2021GS_10-K] A: I'm sorry, but I cannot provide information about future financial results as I am an AI language model and do not have access to real-time or future data. The context information provided only includes financial information up until December 2020. For the most accurate and up-to-date information on Goldman Sachs' sales and trading revenue for equities in 2021, I would recommend referring to their official financial statements or contacting the company directly.\n",
      "\u001b[0m"
     ]
    }
   ],
   "source": [
    "question = 'What is the sales and trading revenue for equities for all year across all companies.  Display the output as Table with columns as company, year and revenue(figures in million)'\n",
    "response = await subQueryEngineExecute(question, subQueryEngine)"
   ]
  },
  {
   "cell_type": "markdown",
   "metadata": {},
   "source": [
    "#### Let's test it out on default Chunk Size & Chunk Overlap\n",
    "#### Because on 1st attempt it didn't work to build index from \"SEC Extracted data\", 2nd Attempt is loading data from PDF"
   ]
  },
  {
   "cell_type": "code",
   "execution_count": 158,
   "metadata": {},
   "outputs": [],
   "source": [
    "sentenceSplitter = SentenceSplitter(chunk_size=4000, chunk_overlap=1000)\n",
    "serviceContext = ServiceContext.from_defaults(\n",
    "            llm=llm,\n",
    "            embed_model=embeddings,\n",
    "            node_parser=None,\n",
    "            text_splitter=sentenceSplitter,\n",
    ")"
   ]
  },
  {
   "cell_type": "markdown",
   "metadata": {},
   "source": [
    "#### 2nd Attempt - Load BofA Docs Manually from PDF"
   ]
  },
  {
   "cell_type": "code",
   "execution_count": 169,
   "metadata": {},
   "outputs": [],
   "source": [
    "bofA2018Docs = SimpleDirectoryReader(input_files=[\"data/BOFA/BofA 2018.pdf\"]).load_data()\n",
    "for doc in bofA2018Docs:\n",
    "    doc.metadata = {\"symbol\": \"BAC\", \"cik\": \"70858\", \"filingYear\": \"2018\", \"filingType\": \"10-K\"}\n",
    "\n",
    "bofA2019Docs = SimpleDirectoryReader(input_files=[\"data/BOFA/BofA 2019.pdf\"]).load_data()\n",
    "for doc in bofA2019Docs:\n",
    "    doc.metadata = {\"symbol\": \"BAC\", \"cik\": \"70858\", \"filingYear\": \"2019\", \"filingType\": \"10-K\"}\n",
    "\n",
    "bofA2020Docs = SimpleDirectoryReader(input_files=[\"data/BOFA/BofA 2020.pdf\"]).load_data()\n",
    "for doc in bofA2020Docs:\n",
    "    doc.metadata = {\"symbol\": \"BAC\", \"cik\": \"70858\", \"filingYear\": \"2020\", \"filingType\": \"10-K\"}\n",
    "\n",
    "bofA2021Docs = SimpleDirectoryReader(input_files=[\"data/BOFA/BofA 2021.pdf\"]).load_data()\n",
    "for doc in bofA2021Docs:\n",
    "    doc.metadata = {\"symbol\": \"BAC\", \"cik\": \"70858\", \"filingYear\": \"2021\", \"filingType\": \"10-K\"}\n",
    "\n",
    "bofA2022Docs = SimpleDirectoryReader(input_files=[\"data/BOFA/BofA 2022.pdf\"]).load_data()\n",
    "for doc in bofA2022Docs:\n",
    "    doc.metadata = {\"symbol\": \"BAC\", \"cik\": \"70858\", \"filingYear\": \"2022\", \"filingType\": \"10-K\"}"
   ]
  },
  {
   "cell_type": "markdown",
   "metadata": {},
   "source": [
    "#### 2nd Attempt - Load JPMC Docs Manually from PDF"
   ]
  },
  {
   "cell_type": "code",
   "execution_count": 174,
   "metadata": {},
   "outputs": [],
   "source": [
    "JPMC2018Docs = SimpleDirectoryReader(input_files=[\"data/JPMC/JPMC2018.pdf\"]).load_data()\n",
    "for doc in JPMC2018Docs:\n",
    "    doc.metadata = {\"symbol\": \"JPM\", \"cik\": \"19617\", \"filingYear\": \"2018\", \"filingType\": \"10-K\"}\n",
    "\n",
    "JPMC2019Docs = SimpleDirectoryReader(input_files=[\"data/JPMC/JPMC2019.pdf\"]).load_data()\n",
    "for doc in JPMC2019Docs:\n",
    "    doc.metadata = {\"symbol\": \"JPM\", \"cik\": \"19617\", \"filingYear\": \"2019\", \"filingType\": \"10-K\"}\n",
    "\n",
    "JPMC2020Docs = SimpleDirectoryReader(input_files=[\"data/JPMC/JPMC2020.pdf\"]).load_data()\n",
    "for doc in JPMC2020Docs:\n",
    "    doc.metadata = {\"symbol\": \"JPM\", \"cik\": \"19617\", \"filingYear\": \"2020\", \"filingType\": \"10-K\"}\n",
    "\n",
    "JPMC2021Docs = SimpleDirectoryReader(input_files=[\"data/JPMC/JPMC2021.pdf\"]).load_data()\n",
    "for doc in JPMC2021Docs:\n",
    "    doc.metadata = {\"symbol\": \"JPM\", \"cik\": \"19617\", \"filingYear\": \"2021\", \"filingType\": \"10-K\"}\n",
    "\n",
    "JPMC2022Docs = SimpleDirectoryReader(input_files=[\"data/JPMC/JPMC2022.pdf\"]).load_data()\n",
    "for doc in JPMC2022Docs:\n",
    "    doc.metadata = {\"symbol\": \"JPM\", \"cik\": \"19617\", \"filingYear\": \"2022\", \"filingType\": \"10-K\"}"
   ]
  },
  {
   "cell_type": "code",
   "execution_count": 176,
   "metadata": {},
   "outputs": [],
   "source": [
    "JPMC2020Docs = SimpleDirectoryReader(input_files=[\"data/JPMC/JPMC2020.pdf\"]).load_data()\n",
    "for doc in JPMC2020Docs:\n",
    "    doc.metadata = {\"symbol\": \"JPM\", \"cik\": \"19617\", \"filingYear\": \"2020\", \"filingType\": \"10-K\"}"
   ]
  },
  {
   "cell_type": "code",
   "execution_count": 177,
   "metadata": {},
   "outputs": [],
   "source": [
    "JPMC2021Docs = SimpleDirectoryReader(input_files=[\"data/JPMC/JPMC2021.pdf\"]).load_data()\n",
    "for doc in JPMC2021Docs:\n",
    "    doc.metadata = {\"symbol\": \"JPM\", \"cik\": \"19617\", \"filingYear\": \"2021\", \"filingType\": \"10-K\"}"
   ]
  },
  {
   "cell_type": "code",
   "execution_count": 178,
   "metadata": {},
   "outputs": [],
   "source": [
    "JPMC2022Docs = SimpleDirectoryReader(input_files=[\"data/JPMC/JPMC2022.pdf\"]).load_data()\n",
    "for doc in JPMC2022Docs:\n",
    "    doc.metadata = {\"symbol\": \"JPM\", \"cik\": \"19617\", \"filingYear\": \"2022\", \"filingType\": \"10-K\"}"
   ]
  },
  {
   "cell_type": "markdown",
   "metadata": {},
   "source": [
    "#### 2nd Attempt - Load GS Docs Manually from PDF"
   ]
  },
  {
   "cell_type": "code",
   "execution_count": 179,
   "metadata": {},
   "outputs": [],
   "source": [
    "GS2018Docs = SimpleDirectoryReader(input_files=[\"data/GS/GS2018.pdf\"]).load_data()\n",
    "for doc in GS2018Docs:\n",
    "    doc.metadata = {\"symbol\": \"GS\", \"cik\": \"886982\", \"filingYear\": \"2018\", \"filingType\": \"10-K\"}"
   ]
  },
  {
   "cell_type": "code",
   "execution_count": 180,
   "metadata": {},
   "outputs": [],
   "source": [
    "GS2019Docs = SimpleDirectoryReader(input_files=[\"data/GS/GS2019.pdf\"]).load_data()\n",
    "for doc in GS2019Docs:\n",
    "    doc.metadata = {\"symbol\": \"GS\", \"cik\": \"886982\", \"filingYear\": \"2019\", \"filingType\": \"10-K\"}"
   ]
  },
  {
   "cell_type": "code",
   "execution_count": 181,
   "metadata": {},
   "outputs": [],
   "source": [
    "GS2020Docs = SimpleDirectoryReader(input_files=[\"data/GS/GS2020.pdf\"]).load_data()\n",
    "for doc in GS2020Docs:\n",
    "    doc.metadata = {\"symbol\": \"GS\", \"cik\": \"886982\", \"filingYear\": \"2020\", \"filingType\": \"10-K\"}"
   ]
  },
  {
   "cell_type": "code",
   "execution_count": 182,
   "metadata": {},
   "outputs": [],
   "source": [
    "GS2021Docs = SimpleDirectoryReader(input_files=[\"data/GS/GS2021.pdf\"]).load_data()\n",
    "for doc in GS2021Docs:\n",
    "    doc.metadata = {\"symbol\": \"GS\", \"cik\": \"886982\", \"filingYear\": \"2021\", \"filingType\": \"10-K\"}"
   ]
  },
  {
   "cell_type": "code",
   "execution_count": 183,
   "metadata": {},
   "outputs": [],
   "source": [
    "GS2022Docs = SimpleDirectoryReader(input_files=[\"data/GS/GS2022.pdf\"]).load_data()\n",
    "for doc in GS2022Docs:\n",
    "    doc.metadata = {\"symbol\": \"GS\", \"cik\": \"886982\", \"filingYear\": \"2022\", \"filingType\": \"10-K\"}"
   ]
  },
  {
   "cell_type": "code",
   "execution_count": 184,
   "metadata": {},
   "outputs": [],
   "source": [
    "import requests\n",
    "import typing\n",
    "import logging\n",
    "from llama_index import VectorStoreIndex, ServiceContext, StorageContext, Document\n",
    "CONNECT_TIMEOUT = 5\n",
    "READ_TIMEOUT = 30\n",
    "BASE_URL_v3: str = \"https://financialmodelingprep.com/api/v3/\"\n",
    "BASE_URL_v4: str = \"https://financialmodelingprep.com/api/v4/\"\n",
    "DEFAULT_LIMIT: int = 10"
   ]
  },
  {
   "cell_type": "code",
   "execution_count": 185,
   "metadata": {},
   "outputs": [],
   "source": [
    "def __return_json_v4(\n",
    "    path: str, query_vars: typing.Dict\n",
    ") -> typing.Optional[typing.List]:\n",
    "    \"\"\"\n",
    "    Query URL for JSON response for v4 of FMP API.\n",
    "\n",
    "    :param path: Path after TLD of URL\n",
    "    :param query_vars: Dictionary of query values (after \"?\" of URL)\n",
    "    :return: JSON response\n",
    "    \"\"\"\n",
    "    url = f\"{BASE_URL_v4}{path}\"\n",
    "    return_var = None\n",
    "    try:\n",
    "        response = requests.get(\n",
    "            url, params=query_vars, timeout=(CONNECT_TIMEOUT, READ_TIMEOUT)\n",
    "        )\n",
    "        if len(response.content) > 0:\n",
    "            return_var = response.json()\n",
    "\n",
    "        if len(response.content) == 0 or (\n",
    "            isinstance(return_var, dict) and len(return_var.keys()) == 0\n",
    "        ):\n",
    "            logging.warning(\"Response appears to have no data.  Returning empty List.\")\n",
    "            return_var = []\n",
    "\n",
    "    except requests.Timeout:\n",
    "        logging.error(f\"Connection to {url} timed out.\")\n",
    "    except requests.ConnectionError:\n",
    "        logging.error(\n",
    "            f\"Connection to {url} failed:  DNS failure, refused connection or some other connection related \"\n",
    "            f\"issue.\"\n",
    "        )\n",
    "    except requests.TooManyRedirects:\n",
    "        logging.error(\n",
    "            f\"Request to {url} exceeds the maximum number of predefined redirections.\"\n",
    "        )\n",
    "    except Exception as e:\n",
    "        logging.error(\n",
    "            f\"A requests exception has occurred that we have not yet detailed an 'except' clause for.  \"\n",
    "            f\"Error: {e}\"\n",
    "        )\n",
    "    return return_var\n"
   ]
  },
  {
   "cell_type": "code",
   "execution_count": 186,
   "metadata": {},
   "outputs": [],
   "source": [
    "def searchCik(\n",
    "    apikey: str,\n",
    "    ticker: str,\n",
    ") -> typing.Optional[typing.List[typing.Dict]]:\n",
    "    \"\"\"\n",
    "    Query FMP /mapper-cik-company/ API.\n",
    "\n",
    "    Company CIK mapper\n",
    "\n",
    "    :param apikey: Your API key.\n",
    "    :param ticker: String of name.\n",
    "    :return: A list of dictionaries.\n",
    "    \"\"\"\n",
    "    path = f\"mapper-cik-company/{ticker}\"\n",
    "    query_vars = {\"apikey\": apikey}\n",
    "    return __return_json_v4(path=path, query_vars=query_vars)"
   ]
  },
  {
   "cell_type": "code",
   "execution_count": 187,
   "metadata": {},
   "outputs": [],
   "source": [
    "def findSecFiling(SearchService, SearchKey, indexName, cik, filingType, filingYear, returnFields=[\"id\", \"content\", \"sourcefile\"] ):\n",
    "    searchClient = SearchClient(endpoint=f\"https://{SearchService}.search.windows.net\",\n",
    "        index_name=indexName,\n",
    "        credential=AzureKeyCredential(SearchKey))\n",
    "    \n",
    "    try:\n",
    "        r = searchClient.search(  \n",
    "            search_text=\"\",\n",
    "            filter=\"cik eq '\" + cik + \"' and filingType eq '\" + filingType + \"' and filingYear eq '\" + filingYear + \"'\",\n",
    "            select=returnFields,\n",
    "            semantic_configuration_name=\"semanticConfig\",\n",
    "            include_total_count=True\n",
    "        )\n",
    "        return r\n",
    "    except Exception as e:\n",
    "        logging.info(e)\n",
    "\n",
    "    return None"
   ]
  },
  {
   "cell_type": "code",
   "execution_count": 188,
   "metadata": {},
   "outputs": [],
   "source": [
    "def indexSecFilingsSectionsLlama(vectorStore, serviceContext, secData, cik, symbol, filingYear, filingType):\n",
    "    documents = []\n",
    "    documents.append(Document(text=secData, metadata={\"symbol\": symbol, \"cik\": cik, \"filingYear\": filingYear, \"filingType\": filingType}))\n",
    "    storageContext = StorageContext.from_defaults(vector_store=vectorStore)\n",
    "    secIndex = VectorStoreIndex.from_documents(documents, storage_context=storageContext, service_context=serviceContext)"
   ]
  },
  {
   "cell_type": "code",
   "execution_count": 189,
   "metadata": {},
   "outputs": [],
   "source": [
    "def findSecVectorFilings(SearchService, SearchKey, indexName, cik, symbol, filingYear, filingType, returnFields=[\"id\", \"content\", \"sourcefile\"] ):\n",
    "    searchClient = SearchClient(endpoint=f\"https://{SearchService}.search.windows.net\",\n",
    "        index_name=indexName,\n",
    "        credential=AzureKeyCredential(SearchKey))\n",
    "    \n",
    "    try:\n",
    "        r = searchClient.search(  \n",
    "            search_text=\"\",\n",
    "            filter=\"cik eq '\" + cik + \"' and symbol eq '\" + symbol + \"' and filingYear eq '\" + filingYear  + \"' and filingType eq '\" + filingType + \"'\",\n",
    "            select=returnFields,\n",
    "            semantic_configuration_name=\"semanticConfig\",\n",
    "            include_total_count=True\n",
    "        )\n",
    "        return r\n",
    "    except Exception as e:\n",
    "        logging.info(e)\n",
    "\n",
    "    return None"
   ]
  },
  {
   "cell_type": "markdown",
   "metadata": {},
   "source": [
    "#### Load from the PDF Docs (Attempt #2)"
   ]
  },
  {
   "cell_type": "code",
   "execution_count": 190,
   "metadata": {},
   "outputs": [],
   "source": [
    "secFilingsVectorIndexName = 'edgartempvector'\n",
    "vectorStore = createSecFilingsVectorLlamaIndex(SearchService, SearchKey, secFilingsVectorIndexName)\n",
    "storageContext = StorageContext.from_defaults(vector_store=vectorStore)\n",
    "sentenceSplitter = SentenceSplitter(chunk_size=4000, chunk_overlap=1000)\n",
    "serviceContext = ServiceContext.from_defaults(\n",
    "        llm=llm,\n",
    "        embed_model=embeddings,\n",
    "        node_parser=None,\n",
    "        text_splitter=sentenceSplitter,\n",
    ")"
   ]
  },
  {
   "cell_type": "code",
   "execution_count": 191,
   "metadata": {},
   "outputs": [
    {
     "data": {
      "text/plain": [
       "<llama_index.indices.vector_store.base.VectorStoreIndex at 0x218a4bc8f10>"
      ]
     },
     "execution_count": 191,
     "metadata": {},
     "output_type": "execute_result"
    }
   ],
   "source": [
    "VectorStoreIndex.from_documents(bofA2018Docs, storage_context=storageContext, service_context=serviceContext)"
   ]
  },
  {
   "cell_type": "code",
   "execution_count": 192,
   "metadata": {},
   "outputs": [
    {
     "data": {
      "text/plain": [
       "<llama_index.indices.vector_store.base.VectorStoreIndex at 0x218a5279610>"
      ]
     },
     "execution_count": 192,
     "metadata": {},
     "output_type": "execute_result"
    }
   ],
   "source": [
    "VectorStoreIndex.from_documents(bofA2019Docs, storage_context=storageContext, service_context=serviceContext)\n",
    "VectorStoreIndex.from_documents(bofA2020Docs, storage_context=storageContext, service_context=serviceContext)\n",
    "VectorStoreIndex.from_documents(bofA2021Docs, storage_context=storageContext, service_context=serviceContext)\n",
    "VectorStoreIndex.from_documents(bofA2022Docs, storage_context=storageContext, service_context=serviceContext)"
   ]
  },
  {
   "cell_type": "code",
   "execution_count": 193,
   "metadata": {},
   "outputs": [
    {
     "data": {
      "text/plain": [
       "<llama_index.indices.vector_store.base.VectorStoreIndex at 0x21897773e90>"
      ]
     },
     "execution_count": 193,
     "metadata": {},
     "output_type": "execute_result"
    }
   ],
   "source": [
    "VectorStoreIndex.from_documents(JPMC2018Docs, storage_context=storageContext, service_context=serviceContext)\n",
    "VectorStoreIndex.from_documents(JPMC2019Docs, storage_context=storageContext, service_context=serviceContext)\n",
    "VectorStoreIndex.from_documents(JPMC2020Docs, storage_context=storageContext, service_context=serviceContext)\n",
    "VectorStoreIndex.from_documents(JPMC2021Docs, storage_context=storageContext, service_context=serviceContext)\n",
    "VectorStoreIndex.from_documents(JPMC2022Docs, storage_context=storageContext, service_context=serviceContext)"
   ]
  },
  {
   "cell_type": "code",
   "execution_count": 194,
   "metadata": {},
   "outputs": [
    {
     "data": {
      "text/plain": [
       "<llama_index.indices.vector_store.base.VectorStoreIndex at 0x218a5307810>"
      ]
     },
     "execution_count": 194,
     "metadata": {},
     "output_type": "execute_result"
    }
   ],
   "source": [
    "VectorStoreIndex.from_documents(GS2018Docs, storage_context=storageContext, service_context=serviceContext)\n",
    "VectorStoreIndex.from_documents(GS2018Docs, storage_context=storageContext, service_context=serviceContext)\n",
    "VectorStoreIndex.from_documents(GS2020Docs, storage_context=storageContext, service_context=serviceContext)\n",
    "VectorStoreIndex.from_documents(GS2021Docs, storage_context=storageContext, service_context=serviceContext)\n",
    "VectorStoreIndex.from_documents(GS2022Docs, storage_context=storageContext, service_context=serviceContext)"
   ]
  },
  {
   "cell_type": "code",
   "execution_count": 195,
   "metadata": {},
   "outputs": [],
   "source": [
    "selectedCompanies = ['JPM', 'BAC', 'GS']\n",
    "selectedYears = ['2022','2021', '2020']\n",
    "filingType = '10-K'\n",
    "query_engine_tools = []\n",
    "for company in selectedCompanies:\n",
    "    for filingYear in selectedYears:\n",
    "        try:\n",
    "            # Create the filter to be used for the Query Engine\n",
    "            llamaIndex = VectorStoreIndex.from_documents([], storage_context=storageContext, service_context=serviceContext)\n",
    "            vectorFilters = MetadataFilters(\n",
    "                filters=[ExactMatchFilter(key=\"symbol\", value=company), \n",
    "                        ExactMatchFilter(key=\"filingYear\", value=filingYear), \n",
    "                        ExactMatchFilter(key=\"filingType\", value=filingType)]\n",
    "            )\n",
    "            engine = llamaIndex.as_query_engine(filters=vectorFilters)\n",
    "            query_engine_tools.append(\n",
    "                QueryEngineTool(query_engine=engine, \n",
    "                                metadata=ToolMetadata(\n",
    "                                    name=f'{filingYear}{company}_{filingType}', \n",
    "                                    description=f'Provides information from financial document like 10-K and 10-Q on {company} for {filingYear}') \n",
    "                )\n",
    "            )\n",
    "        except Exception as e:\n",
    "            logging.info(\"Error in processing Step 3 : \" + str(e))"
   ]
  },
  {
   "cell_type": "code",
   "execution_count": 196,
   "metadata": {},
   "outputs": [],
   "source": [
    "subQueryEngine = SubQuestionQueryEngine.from_defaults(\n",
    "        query_engine_tools=query_engine_tools,\n",
    "        service_context=serviceContext,\n",
    "        )"
   ]
  },
  {
   "cell_type": "code",
   "execution_count": 197,
   "metadata": {},
   "outputs": [],
   "source": [
    "async def subQueryEngineExecute(query, subQueryEngine):\n",
    "    response = await subQueryEngine.aquery(query)\n",
    "    return response.response"
   ]
  },
  {
   "cell_type": "code",
   "execution_count": 200,
   "metadata": {},
   "outputs": [
    {
     "name": "stdout",
     "output_type": "stream",
     "text": [
      "Generated 9 sub questions.\n",
      "\u001b[1;3;38;2;237;90;200m[2022JPM_10-K] Q: What is the sales and trading revenue for equities for JPM in 2022?\n",
      "\u001b[0m\u001b[1;3;38;2;90;149;237m[2021JPM_10-K] Q: What is the sales and trading revenue for equities for JPM in 2021?\n",
      "\u001b[0m\u001b[1;3;38;2;11;159;203m[2020JPM_10-K] Q: What is the sales and trading revenue for equities for JPM in 2020?\n",
      "\u001b[0m\u001b[1;3;38;2;155;135;227m[2022BAC_10-K] Q: What is the sales and trading revenue for equities for BAC in 2022?\n",
      "\u001b[0m\u001b[1;3;38;2;237;90;200m[2021BAC_10-K] Q: What is the sales and trading revenue for equities for BAC in 2021?\n",
      "\u001b[0m\u001b[1;3;38;2;90;149;237m[2020BAC_10-K] Q: What is the sales and trading revenue for equities for BAC in 2020?\n",
      "\u001b[0m\u001b[1;3;38;2;11;159;203m[2022GS_10-K] Q: What is the sales and trading revenue for equities for GS in 2022?\n",
      "\u001b[0m\u001b[1;3;38;2;155;135;227m[2021GS_10-K] Q: What is the sales and trading revenue for equities for GS in 2021?\n",
      "\u001b[0m\u001b[1;3;38;2;237;90;200m[2020GS_10-K] Q: What is the sales and trading revenue for equities for GS in 2020?\n",
      "\u001b[0m\u001b[1;3;38;2;11;159;203m[2020JPM_10-K] A: The sales and trading revenue for equities for JPMorgan Chase & Co. in 2020 was $8.6 billion.\n",
      "\u001b[0m\u001b[1;3;38;2;237;90;200m[2022JPM_10-K] A: The sales and trading revenue for equities for JPMorgan Chase & Co. in 2022 is not provided in the given context information.\n",
      "\u001b[0m\u001b[1;3;38;2;90;149;237m[2021JPM_10-K] A: The sales and trading revenue for equities for JPMorgan Chase & Co. in 2021 was $7,773 million.\n",
      "\u001b[0m\u001b[1;3;38;2;237;90;200m[2020GS_10-K] A: The sales and trading revenue for equities for GS in 2020 was $9.57 billion.\n",
      "\u001b[0m\u001b[1;3;38;2;237;90;200m[2021BAC_10-K] A: The sales and trading revenue for equities for BAC in 2021 is $6,428 million.\n",
      "\u001b[0m\u001b[1;3;38;2;11;159;203m[2022GS_10-K] A: The sales and trading revenue for equities for GS in 2022 is $11.72 billion.\n",
      "\u001b[0m\u001b[1;3;38;2;90;149;237m[2020BAC_10-K] A: The sales and trading revenue for equities for BAC in 2020 was $5,422 million.\n",
      "\u001b[0m\u001b[1;3;38;2;155;135;227m[2021GS_10-K] A: The sales and trading revenue for equities for GS in 2021 is not explicitly mentioned in the given context information.\n",
      "\u001b[0m\u001b[1;3;38;2;155;135;227m[2022BAC_10-K] A: The sales and trading revenue for equities for BAC in 2022 is $6,572 million.\n",
      "\u001b[0m"
     ]
    },
    {
     "data": {
      "text/plain": [
       "'Company | Year | Revenue (in million)\\n--------|------|--------------------\\nJPM | 2022 | Not provided\\nJPM | 2021 | 7,773\\nJPM | 2020 | 8,600\\nBAC | 2022 | 6,572\\nBAC | 2021 | 6,428\\nBAC | 2020 | 5,422\\nGS | 2022 | 11,720\\nGS | 2021 | Not provided\\nGS | 2020 | 9,570'"
      ]
     },
     "execution_count": 200,
     "metadata": {},
     "output_type": "execute_result"
    }
   ],
   "source": [
    "question = 'What is the sales and trading revenue for equities for all year across all companies.  Display the output as Table with columns as company, year and revenue(figures in million)'\n",
    "response = await subQueryEngineExecute(question, subQueryEngine)\n",
    "response"
   ]
  },
  {
   "cell_type": "code",
   "execution_count": 201,
   "metadata": {},
   "outputs": [
    {
     "name": "stdout",
     "output_type": "stream",
     "text": [
      "Generated 9 sub questions.\n",
      "\u001b[1;3;38;2;237;90;200m[2022JPM_10-K] Q: How did JPM handle CCAR in 2022?\n",
      "\u001b[0m\u001b[1;3;38;2;90;149;237m[2021JPM_10-K] Q: How did JPM handle CCAR in 2021?\n",
      "\u001b[0m\u001b[1;3;38;2;11;159;203m[2020JPM_10-K] Q: How did JPM handle CCAR in 2020?\n",
      "\u001b[0m\u001b[1;3;38;2;155;135;227m[2022BAC_10-K] Q: How did BAC handle CCAR in 2022?\n",
      "\u001b[0m\u001b[1;3;38;2;237;90;200m[2021BAC_10-K] Q: How did BAC handle CCAR in 2021?\n",
      "\u001b[0m\u001b[1;3;38;2;90;149;237m[2020BAC_10-K] Q: How did BAC handle CCAR in 2020?\n",
      "\u001b[0m\u001b[1;3;38;2;11;159;203m[2022GS_10-K] Q: How did GS handle CCAR in 2022?\n",
      "\u001b[0m\u001b[1;3;38;2;155;135;227m[2021GS_10-K] Q: How did GS handle CCAR in 2021?\n",
      "\u001b[0m\u001b[1;3;38;2;237;90;200m[2020GS_10-K] Q: How did GS handle CCAR in 2020?\n",
      "\u001b[0m\u001b[1;3;38;2;90;149;237m[2021JPM_10-K] A: JPMorgan Chase completed the 2021 Comprehensive Capital Analysis and Review (CCAR) stress test process. The Federal Reserve affirmed the Firm's 2021 Stress Capital Buffer (SCB) requirement of 3.2% and the Firm's Standardized CET1 capital ratio requirement of 11.2%. These requirements became effective on October 1, 2021, and will remain in effect until September 30, 2022.\n",
      "\u001b[0m\u001b[1;3;38;2;237;90;200m[2020GS_10-K] A: The given context does not provide any information about how GS (Goldman Sachs) handled CCAR (Comprehensive Capital Analysis and Review) in 2020.\n",
      "\u001b[0m\u001b[1;3;38;2;155;135;227m[2021GS_10-K] A: GS submitted its 2021 CCAR capital plan in April 2021 and published a summary of its annual DFAST results in June 2021. The Federal Reserve Bank (FRB) reduced GS's SCB from 6.6% to 6.4% based on its 2021 CCAR submission. As a result, GS had a Standardized CET1 capital ratio requirement of 13.4% for the period from October 1, 2021, through September 30, 2022.\n",
      "\u001b[0m\u001b[1;3;38;2;155;135;227m[2022BAC_10-K] A: BAC's handling of CCAR in 2022 resulted in an increase in their stress capital buffer (SCB) to 3.4 percent from 2.5 percent. This increase was effective from October 1, 2022, through September 30, 2023. Additionally, BAC repurchased $5.1 billion of common stock in 2022 as part of their capital actions. The timing and amount of these repurchases were subject to various factors and could be suspended at any time.\n",
      "\u001b[0m\u001b[1;3;38;2;237;90;200m[2022JPM_10-K] A: JPMorgan Chase completed the Federal Reserve's 2022 Comprehensive Capital Analysis and Review (CCAR) stress test process. The Federal Reserve affirmed JPMorgan Chase's 2022 Stress Capital Buffer (SCB) requirement of 4.0% and the Firm's Standardized Common Equity Tier 1 (CET1) capital ratio requirement of 12.0%. The SCB requirement became effective on October 1, 2022, and will remain in effect until September 30, 2023.\n",
      "\u001b[0m\u001b[1;3;38;2;11;159;203m[2022GS_10-K] A: GS submitted an annual capital plan for review by the FRB as required by the CCAR rules. The FRB evaluated GS based on various factors, including the capital necessary to continue operating under stress scenarios, the process for identifying risk, controls and governance for capital planning, and guidelines for making capital planning decisions. The FRB also evaluated GS's plan for capital distributions and issuance across different macroeconomic scenarios. Based on GS's 2022 CCAR submission, the FRB reduced the stress capital buffer (SCB) applicable to GS.\n",
      "\u001b[0m\u001b[1;3;38;2;237;90;200m[2021BAC_10-K] A: BAC handled CCAR in 2021 by announcing that the Board renewed the Corporation's $25 billion common stock repurchase program previously announced in April 2021. The Board's authorization replaced the previous program. As with the April authorization, the Board also authorized common stock repurchases to offset shares awarded under the Corporation's equity-based compensation plans. Pursuant to the Board's authorization, during 2021, BAC repurchased $25.1 billion of common stock, including repurchases to offset shares awarded under equity-based compensation plans.\n",
      "\u001b[0m\u001b[1;3;38;2;90;149;237m[2020BAC_10-K] A: BAC handled CCAR in 2020 by integrating the annual quantitative assessment of the CCAR program with the buffer requirements in the U.S. Basel 3 Final Rule. They replaced the static 2.5 percent capital conservation buffer for Basel 3 Standardized approach requirements with a Stress Capital Buffer (SCB). Based on the CCAR 2020 supervisory stress test results, BAC was subject to a 2.5 percent SCB for the period beginning October 1, 2020, and ending on September 30, 2021. They were required to describe their planned capital distributions in their CCAR capital plan, but they were no longer required to seek prior approval if they made capital distributions in excess of those included in their CCAR capital plan. Instead, BAC was subject to automatic distribution limitations if its capital ratios fell below its buffer requirements, which included the SCB.\n",
      "\u001b[0m\u001b[1;3;38;2;11;159;203m[2020JPM_10-K] A: JPMorgan Chase handled the CCAR (Comprehensive Capital Analysis and Review) process in 2020 by completing the stress test and receiving affirmation from the Federal Reserve regarding its SCB (Stress Capital Buffer) requirement and minimum Standardized CET1 capital ratio. The SCB requirement became effective on October 1, 2020. Additionally, JPMorgan Chase updated and resubmitted its capital plans as required by the Federal Reserve due to the impact of the COVID-19 pandemic. The results from the 2020 CCAR Round 2 stress test showed that JPMorgan Chase had strong levels of capital, and the Federal Reserve allowed the bank to resume share repurchases in the first quarter of 2021, subject to certain restrictions. The Federal Reserve will notify JPMorgan Chase by March 31, 2021, whether a revised SCB requirement based on the 2020 CCAR Round 2 stress test will be recalculated ahead of the 2021 annual CCAR assessment.\n",
      "\u001b[0m"
     ]
    },
    {
     "data": {
      "text/plain": [
       "'- JPMorgan Chase:\\n  - 2022: Completed CCAR stress test process, affirmed SCB requirement of 4.0% and CET1 capital ratio requirement of 12.0%.\\n  - 2021: Completed CCAR stress test process, affirmed SCB requirement of 3.2% and CET1 capital ratio requirement of 11.2%.\\n  - 2020: Completed CCAR stress test process, updated and resubmitted capital plans due to COVID-19 impact, allowed to resume share repurchases in Q1 2021.\\n\\n- Bank of America (BAC):\\n  - 2022: Increased SCB to 3.4% from 2.5%, repurchased $5.1 billion of common stock.\\n  - 2021: Renewed $25 billion common stock repurchase program, repurchased $25.1 billion of common stock.\\n  - 2020: Integrated CCAR with Basel 3 Final Rule, subject to 2.5% SCB.\\n\\n- Goldman Sachs (GS):\\n  - 2022: FRB reduced SCB based on CCAR submission.\\n  - 2021: FRB reduced SCB from 6.6% to 6.4% based on CCAR submission.\\n  - 2020: No information provided in the context.'"
      ]
     },
     "execution_count": 201,
     "metadata": {},
     "output_type": "execute_result"
    }
   ],
   "source": [
    "question = 'How differently those banks are handling CCAR.  Give me the answer in bulleted format with breakdown by company and by each year'\n",
    "response = await subQueryEngineExecute(question, subQueryEngine)\n",
    "response"
   ]
  },
  {
   "cell_type": "code",
   "execution_count": 202,
   "metadata": {},
   "outputs": [
    {
     "name": "stdout",
     "output_type": "stream",
     "text": [
      "Generated 6 sub questions.\n",
      "\u001b[1;3;38;2;237;90;200m[2021JPM_10-K] Q: What is the revenue for JPM in 2021?\n",
      "\u001b[0m\u001b[1;3;38;2;90;149;237m[2022JPM_10-K] Q: What is the revenue for JPM in 2022?\n",
      "\u001b[0m\u001b[1;3;38;2;11;159;203m[2021BAC_10-K] Q: What is the revenue for BAC in 2021?\n",
      "\u001b[0m\u001b[1;3;38;2;155;135;227m[2022BAC_10-K] Q: What is the revenue for BAC in 2022?\n",
      "\u001b[0m\u001b[1;3;38;2;237;90;200m[2021GS_10-K] Q: What is the revenue for GS in 2021?\n",
      "\u001b[0m\u001b[1;3;38;2;90;149;237m[2022GS_10-K] Q: What is the revenue for GS in 2022?\n",
      "\u001b[0m\u001b[1;3;38;2;237;90;200m[2021JPM_10-K] A: The revenue for JPM in 2021 is $121,649 million.\n",
      "\u001b[0m\u001b[1;3;38;2;90;149;237m[2022JPM_10-K] A: The revenue for JPM in 2022 is $47.9 billion.\n",
      "\u001b[0m\u001b[1;3;38;2;11;159;203m[2021BAC_10-K] A: The revenue for BAC in 2021 is $89,113 million.\n",
      "\u001b[0m\u001b[1;3;38;2;237;90;200m[2021GS_10-K] A: The revenue for GS in 2021 was $59.34 billion.\n",
      "\u001b[0m\u001b[1;3;38;2;90;149;237m[2022GS_10-K] A: The revenue for GS in 2022 was $47.37 billion.\n",
      "\u001b[0m\u001b[1;3;38;2;155;135;227m[2022BAC_10-K] A: The revenue for BAC in 2022 is $19,273 million.\n",
      "\u001b[0m"
     ]
    },
    {
     "data": {
      "text/plain": [
       "'{\\n  \"JPM\": {\\n    \"2021\": \"$121,649 million\",\\n    \"2022\": \"$47.9 billion\"\\n  },\\n  \"BAC\": {\\n    \"2021\": \"$89,113 million\",\\n    \"2022\": \"$19,273 million\"\\n  },\\n  \"GS\": {\\n    \"2021\": \"$59.34 billion\",\\n    \"2022\": \"$47.37 billion\"\\n  }\\n}'"
      ]
     },
     "execution_count": 202,
     "metadata": {},
     "output_type": "execute_result"
    }
   ],
   "source": [
    "question = 'Compare and contrast the revenue between 2021 and 2022.  Display the output as JSON object with keys as company, year and revenue'\n",
    "response = await subQueryEngineExecute(question, subQueryEngine)\n",
    "response"
   ]
  },
  {
   "cell_type": "markdown",
   "metadata": {},
   "source": [
    "#### Following is for Attempt #1"
   ]
  },
  {
   "cell_type": "code",
   "execution_count": null,
   "metadata": {},
   "outputs": [],
   "source": [
    "selectedCompanies = ['JPM', 'BAC', 'GS']\n",
    "selectedYears = ['2022','2021', '2020']\n",
    "filingType = '10-K'\n",
    "secFilingList = []\n",
    "secFilingIndexName = 'edgardata'\n",
    "for company in selectedCompanies:\n",
    "    cik = str(int(searchCik(apikey=FmpKey, ticker=company)[0][\"companyCik\"]))\n",
    "    for filingYear in selectedYears:\n",
    "        try:\n",
    "            # Create the filter to be used for the Query Engine\n",
    "            llamaIndex = VectorStoreIndex.from_documents([], storage_context=storageContext, service_context=serviceContext)\n",
    "            vectorFilters = MetadataFilters(\n",
    "                filters=[ExactMatchFilter(key=\"symbol\", value=company), \n",
    "                        ExactMatchFilter(key=\"filingYear\", value=filingYear), \n",
    "                        ExactMatchFilter(key=\"filingType\", value=filingType)]\n",
    "            )\n",
    "            r = findSecFiling(SearchService, SearchKey, secFilingIndexName, cik, filingType, filingYear, returnFields=['id', 'cik', 'company', 'filingType', 'filingDate',\n",
    "                                                                                                'periodOfReport', 'sic', 'stateOfInc', 'fiscalYearEnd',\n",
    "                                                                                                'filingHtmlIndex', 'htmFilingLink', 'completeTextFilingLink',\n",
    "                                                                                                'item1', 'item1A', 'item1B', 'item2', 'item3', 'item4', 'item5',\n",
    "                                                                                                'item6', 'item7', 'item7A', 'item8', 'item9', 'item9A', 'item9B',\n",
    "                                                                                                'item10', 'item11', 'item12', 'item13', 'item14', 'item15', 'content',\n",
    "                                                                                                'sourcefile'])\n",
    "            for filing in r:\n",
    "                secFilingList.append({\n",
    "                    \"id\": filing['id'],\n",
    "                    \"cik\": filing['cik'],\n",
    "                    \"company\": filing['company'],\n",
    "                    \"filingType\": filing['filingType'],\n",
    "                    \"filingDate\": filing['filingDate'],\n",
    "                    \"periodOfReport\": filing['periodOfReport'],\n",
    "                    \"sic\": filing['sic'],\n",
    "                    \"stateOfInc\": filing['stateOfInc'],\n",
    "                    \"fiscalYearEnd\": filing['fiscalYearEnd'],\n",
    "                    \"filingHtmlIndex\": filing['filingHtmlIndex'],\n",
    "                    \"completeTextFilingLink\": filing['completeTextFilingLink'],\n",
    "                    \"item1\": filing['item1'],\n",
    "                    \"item1A\": filing['item1A'],\n",
    "                    \"item1B\": filing['item1B'],\n",
    "                    \"item2\": filing['item2'],\n",
    "                    \"item3\": filing['item3'],\n",
    "                    \"item4\": filing['item4'],\n",
    "                    \"item5\": filing['item5'],\n",
    "                    \"item6\": filing['item6'],\n",
    "                    \"item7\": filing['item7'],\n",
    "                    \"item7A\": filing['item7A'],\n",
    "                    \"item8\": filing['item8'],\n",
    "                    \"item9\": filing['item9'],\n",
    "                    \"item9A\": filing['item9A'],\n",
    "                    \"item9B\": filing['item9B'],\n",
    "                    \"item10\": filing['item10'],\n",
    "                    \"item11\": filing['item11'],\n",
    "                    \"item12\": filing['item12'],\n",
    "                    \"item13\": filing['item13'],\n",
    "                    \"item14\": filing['item14'],\n",
    "                    \"item15\": filing['item15'],\n",
    "                    \"sourcefile\": filing['sourcefile']\n",
    "                })\n",
    "\n",
    "            secFilingsVectorIndexName = 'edgartempvector'\n",
    "            #createSecFilingsVectorIndex(SearchService, SearchKey, secFilingsVectorIndexName)\n",
    "            vectorStore = createSecFilingsVectorLlamaIndex(SearchService, SearchKey, secFilingsVectorIndexName)\n",
    "            # Now that we got the vectorStore, let's create the index from the documents\n",
    "            storageContext = StorageContext.from_defaults(vector_store=vectorStore)\n",
    "            llamaIndex = VectorStoreIndex.from_documents([], storage_context=storageContext, service_context=serviceContext)\n",
    "            r = findSecVectorFilings(SearchService, SearchKey, secFilingsVectorIndexName, cik, company, filingYear, filingType, returnFields=['id', 'cik', 'symbol', 'filingYear', 'filingType',\n",
    "                                                                                                                                'content'])\n",
    "\n",
    "            if r.get_count() == 0:\n",
    "                    logging.info(\"Processing SEC Filings for CIK : \" + str(cik) + \" and Symbol : \" + str(company) + \" and Year : \" + str(filingYear) + \" and Filing Type : \" + str(filingType))\n",
    "                    indexSecFilingsSectionsLlama(vectorStore, serviceContext, filing['content'], cik, company, filingYear, filingType)\n",
    "\n",
    "        except Exception as e:\n",
    "            logging.info(\"Error in processing Step 3 : \" + str(e))"
   ]
  },
  {
   "cell_type": "code",
   "execution_count": 135,
   "metadata": {},
   "outputs": [],
   "source": [
    "query_engine_tools = []\n",
    "for company in selectedCompanies:\n",
    "    for filingYear in selectedYears:\n",
    "        try:\n",
    "            # Create the filter to be used for the Query Engine\n",
    "            llamaIndex = VectorStoreIndex.from_documents([], storage_context=storageContext, service_context=serviceContext)\n",
    "            vectorFilters = MetadataFilters(\n",
    "                filters=[ExactMatchFilter(key=\"symbol\", value=company), \n",
    "                        ExactMatchFilter(key=\"filingYear\", value=filingYear), \n",
    "                        ExactMatchFilter(key=\"filingType\", value=filingType)]\n",
    "            )\n",
    "            engine = llamaIndex.as_query_engine(filters=vectorFilters)\n",
    "            query_engine_tools.append(\n",
    "                QueryEngineTool(query_engine=engine, \n",
    "                                metadata=ToolMetadata(\n",
    "                                    name=f'{filingYear}{company}_{filingType}', \n",
    "                                    description=f'Provides information from financial document like 10-K and 10-Q on {company} for {filingYear}') \n",
    "                )\n",
    "            )\n",
    "        except Exception as e:\n",
    "            logging.info(\"Error in processing Step 3 : \" + str(e))"
   ]
  },
  {
   "cell_type": "code",
   "execution_count": 136,
   "metadata": {},
   "outputs": [],
   "source": [
    "subQueryEngine = SubQuestionQueryEngine.from_defaults(\n",
    "        query_engine_tools=query_engine_tools,\n",
    "        service_context=serviceContext,\n",
    "        )"
   ]
  },
  {
   "cell_type": "code",
   "execution_count": 137,
   "metadata": {},
   "outputs": [],
   "source": [
    "async def subQueryEngineExecute(query, subQueryEngine):\n",
    "    response = await subQueryEngine.aquery(query)\n",
    "    return response.response"
   ]
  },
  {
   "cell_type": "code",
   "execution_count": 138,
   "metadata": {},
   "outputs": [
    {
     "name": "stdout",
     "output_type": "stream",
     "text": [
      "Generated 9 sub questions.\n",
      "\u001b[1;3;38;2;237;90;200m[2022JPM_10-K] Q: What is the sales and trading revenue for equities for JPM in 2022?\n",
      "\u001b[0m\u001b[1;3;38;2;90;149;237m[2021JPM_10-K] Q: What is the sales and trading revenue for equities for JPM in 2021?\n",
      "\u001b[0m\u001b[1;3;38;2;11;159;203m[2020JPM_10-K] Q: What is the sales and trading revenue for equities for JPM in 2020?\n",
      "\u001b[0m\u001b[1;3;38;2;155;135;227m[2022BAC_10-K] Q: What is the sales and trading revenue for equities for BAC in 2022?\n",
      "\u001b[0m\u001b[1;3;38;2;237;90;200m[2021BAC_10-K] Q: What is the sales and trading revenue for equities for BAC in 2021?\n",
      "\u001b[0m\u001b[1;3;38;2;90;149;237m[2020BAC_10-K] Q: What is the sales and trading revenue for equities for BAC in 2020?\n",
      "\u001b[0m\u001b[1;3;38;2;11;159;203m[2022GS_10-K] Q: What is the sales and trading revenue for equities for GS in 2022?\n",
      "\u001b[0m\u001b[1;3;38;2;155;135;227m[2021GS_10-K] Q: What is the sales and trading revenue for equities for GS in 2021?\n",
      "\u001b[0m\u001b[1;3;38;2;237;90;200m[2020GS_10-K] Q: What is the sales and trading revenue for equities for GS in 2020?\n",
      "\u001b[0m\u001b[1;3;38;2;90;149;237m[2020BAC_10-K] A: The sales and trading revenue for equities for BAC in 2020 is not provided in the given context information.\n",
      "\u001b[0m\u001b[1;3;38;2;155;135;227m[2021GS_10-K] A: I'm sorry, but I cannot provide the sales and trading revenue for equities for GS in 2021 based on the given context information.\n",
      "\u001b[0m\u001b[1;3;38;2;11;159;203m[2020JPM_10-K] A: The context information does not provide the sales and trading revenue for equities for JPM in 2020.\n",
      "\u001b[0m\u001b[1;3;38;2;155;135;227m[2022BAC_10-K] A: The sales and trading revenue for equities for BAC in 2022 is not provided in the given context information.\n",
      "\u001b[0m\u001b[1;3;38;2;90;149;237m[2021JPM_10-K] A: The context information does not provide the sales and trading revenue for equities for JPM in 2021.\n",
      "\u001b[0m\u001b[1;3;38;2;237;90;200m[2020GS_10-K] A: The context information does not provide any information about the sales and trading revenue for equities for GS in 2020.\n",
      "\u001b[0m\u001b[1;3;38;2;237;90;200m[2021BAC_10-K] A: I'm sorry, but the given context information does not provide any information about the sales and trading revenue for equities for BAC in 2021.\n",
      "\u001b[0m\u001b[1;3;38;2;11;159;203m[2022GS_10-K] A: I'm sorry, but I cannot provide the sales and trading revenue for equities for GS in 2022 as it is not mentioned in the given context information.\n",
      "\u001b[0m\u001b[1;3;38;2;237;90;200m[2022JPM_10-K] A: The context information does not provide the specific sales and trading revenue for equities for JPMorgan Chase (JPM) in 2022.\n",
      "\u001b[0m"
     ]
    }
   ],
   "source": [
    "question = 'What is the sales and trading revenue for equities for all year across all companies.  Display the output as Table with columns as company, year and revenue(figures in million)'\n",
    "response = await subQueryEngineExecute(question, subQueryEngine)"
   ]
  },
  {
   "cell_type": "code",
   "execution_count": 156,
   "metadata": {},
   "outputs": [
    {
     "data": {
      "text/plain": [
       "'Company | Year | Revenue (in millions)\\n--------|------|---------------------\\nBAC     | 2021 | 6,428\\nBAC     | 2020 | 5,422'"
      ]
     },
     "execution_count": 156,
     "metadata": {},
     "output_type": "execute_result"
    }
   ],
   "source": [
    "response = query_engine_tools[3].query_engine.query(\"What is the sales and trading revenue for equities.  Display the output as Table with columns as company, year and revenue(figures in million)\")\n",
    "response.response"
   ]
  }
 ],
 "metadata": {
  "kernelspec": {
   "display_name": "Python 3",
   "language": "python",
   "name": "python3"
  },
  "language_info": {
   "codemirror_mode": {
    "name": "ipython",
    "version": 3
   },
   "file_extension": ".py",
   "mimetype": "text/x-python",
   "name": "python",
   "nbconvert_exporter": "python",
   "pygments_lexer": "ipython3",
   "version": "3.11.0"
  }
 },
 "nbformat": 4,
 "nbformat_minor": 2
}
