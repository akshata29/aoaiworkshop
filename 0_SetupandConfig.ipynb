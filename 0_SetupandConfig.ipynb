{
 "cells": [
  {
   "attachments": {},
   "cell_type": "markdown",
   "metadata": {},
   "source": [
    "### What is Azure OpenAI Service?\n",
    "\n",
    "Azure OpenAI Service provides REST API access to OpenAI's powerful language models including the GPT-3, Codex and Embeddings model series. In addition, the new GPT-4 and ChatGPT (gpt-35-turbo) model series have now reached general availability. These models can be easily adapted to your specific task including but not limited to content generation, summarization, semantic search, and natural language to code translation. Users can access the service through REST APIs, Python SDK, or our web-based interface in the Azure OpenAI Studio."
   ]
  },
  {
   "attachments": {},
   "cell_type": "markdown",
   "metadata": {},
   "source": [
    "#### Azure OpenAI Access\n",
    "\n",
    "Access is currently limited as we navigate high demand, upcoming product improvements, and [Microsoft’s commitment to responsible AI](https://www.microsoft.com/ai/responsible-ai?activetab=pivot1:primaryr6). For now, we're working with customers with an existing partnership with Microsoft, lower risk use cases, and those committed to incorporating mitigations.\n",
    "\n",
    "More specific information is included in the application form. We appreciate your patience as we work to responsibly enable broader access to Azure OpenAI.\n",
    "\n",
    "Apply [here](https://aka.ms/oaiapply) for access"
   ]
  },
  {
   "attachments": {},
   "cell_type": "markdown",
   "metadata": {},
   "source": [
    "#### Key concepts - Prompts & Completions\n",
    "\n",
    "The completions endpoint is the core component of the API service. This API provides access to the model's text-in, text-out interface. Users simply need to provide an input prompt containing the English text command, and the model will generate a text completion.\n",
    "\n",
    "Here's an example of a simple prompt and completion:\n",
    "\n",
    "Prompt: \"\"\" count to 5 in a for loop \"\"\"\n",
    "\n",
    "Completion: for i in range(1, 6): print(i)"
   ]
  },
  {
   "attachments": {},
   "cell_type": "markdown",
   "metadata": {},
   "source": [
    "#### Key concepts - Tokens\n",
    "\n",
    "Azure OpenAI processes text by breaking it down into tokens. Tokens can be words or just chunks of characters. For example, the word “hamburger” gets broken up into the tokens “ham”, “bur” and “ger”, while a short and common word like “pear” is a single token. Many tokens start with a whitespace, for example “ hello” and “ bye”.\n",
    "\n",
    "The total number of tokens processed in a given request depends on the length of your input, output and request parameters. The quantity of tokens being processed will also affect your response latency and throughput for the models."
   ]
  },
  {
   "attachments": {},
   "cell_type": "markdown",
   "metadata": {},
   "source": [
    "#### Key concepts - In-context learning\n",
    "The models used by Azure OpenAI use natural language instructions and examples provided during the generation call to identify the task being asked and skill required. When you use this approach, the first part of the prompt includes natural language instructions and/or examples of the specific task desired. The model then completes the task by predicting the most probable next piece of text. This technique is known as \"in-context\" learning. These models aren't retrained during this step but instead give predictions based on the context you include in the prompt.\n",
    "\n",
    "There are three main approaches for in-context learning: Few-shot, one-shot and zero-shot. These approaches vary based on the amount of task-specific data that is given to the model:\n",
    "\n",
    "- Few-shot: In this case, a user includes several examples in the call prompt that demonstrate the expected answer format and content. The number of examples typically range from 0 to 100 depending on how many can fit in the maximum input length for a single prompt. Maximum input length can vary depending on the specific models you use. Few-shot learning enables a major reduction in the amount of task-specific data required for accurate predictions. This approach will typically perform less accurately than a fine-tuned model.\n",
    "\n",
    "- One-shot: This case is the same as the few-shot approach except only one example is provided.\n",
    "\n",
    "- Zero-shot: In this case, no examples are provided to the model and only the task request is provided."
   ]
  },
  {
   "attachments": {},
   "cell_type": "markdown",
   "metadata": {},
   "source": [
    "#### Pre-requisites\n",
    "\n",
    "An Azure subscription - [Create one for free](https://azure.microsoft.com/free/cognitive-services)\n",
    "\n",
    "Access granted to Azure OpenAI in the desired Azure subscription\n",
    "\n",
    "Currently, access to this service is granted only by application. You can apply for access to Azure OpenAI by completing the form [here](https://aka.ms/oai/access).\n",
    "\n",
    "[Python 3.7.1 or later version](https://www.python.org/)\n",
    "\n",
    "The following Python libraries: os, requests, json, openai\n",
    "\n",
    "An Azure OpenAI Service resource with a model deployed. For more information about model deployment, see the [resource deployment guide](https://learn.microsoft.com/en-us/azure/cognitive-services/openai/how-to/create-resource)."
   ]
  },
  {
   "cell_type": "code",
   "execution_count": 1,
   "metadata": {},
   "outputs": [],
   "source": [
    "#Install the OpenAI Python client library with:\n",
    "# %pip install openai"
   ]
  },
  {
   "attachments": {},
   "cell_type": "markdown",
   "metadata": {},
   "source": [
    "#### Retrieve key and endpoint\n",
    "To successfully make a call against the Azure OpenAI service, you'll need the following:\n",
    "\n",
    "- ENDPOINT -> This value can be found in the Keys & Endpoint section when examining your resource from the Azure portal. Alternatively, you can find the value in Azure OpenAI Studio > Playground > Code View. An example endpoint is: https://docs-test-001.openai.azure.com/.\n",
    "- API-KEY -> This value can be found in the Keys & Endpoint section when examining your resource from the Azure portal. You can use either KEY1 or KEY2.\n",
    "- DEPLOYMENT-NAME -> This value will correspond to the custom name you chose for your deployment when you deployed a model. This value can be found under Resource Management > Deployments in the Azure portal or alternatively under Management > Deployments in Azure OpenAI Studio.\n",
    "\n",
    "Go to your resource in the Azure portal. The Endpoint and Keys can be found in the Resource Management section. Copy your endpoint and access key as you'll need both for authenticating your API calls. You can use either KEY1 or KEY2. Always having two keys allows you to securely rotate and regenerate keys without causing a service disruption."
   ]
  },
  {
   "attachments": {},
   "cell_type": "markdown",
   "metadata": {},
   "source": [
    "#### Environment variables\n",
    "Copy .env.sample to .env and fill in the values for your environment.\n",
    "\n",
    "- OPENAI_API_KEY=\n",
    "- OPENAI_API_BASE=\n"
   ]
  },
  {
   "cell_type": "code",
   "execution_count": 4,
   "metadata": {},
   "outputs": [],
   "source": [
    "# Import Python libraries\n",
    "import os\n",
    "import openai\n",
    "from Utilities.envVars import *\n",
    "from openai import OpenAI, AzureOpenAI, AsyncAzureOpenAI\n",
    "\n",
    "# # Set OpenAI API key and endpoint\n",
    "# openai.api_type = \"azure\"\n",
    "# openai.api_version = OpenAiVersion\n",
    "# openai_api_key = OpenAiKey\n",
    "# assert openai_api_key, \"ERROR: Azure OpenAI Key is missing\"\n",
    "# openai.api_key = openai_api_key\n",
    "# openAiEndPoint = f\"{OpenAiEndPoint}\"\n",
    "# openai.api_base = openAiEndPoint\n",
    "\n",
    "azure_endpoint  = f\"{OpenAiEndPoint}\"\n",
    "api_key = OpenAiKey\n",
    "api_version = OpenAiVersion\n",
    "\n",
    "client = AzureOpenAI(\n",
    "    api_key=api_key,  \n",
    "    api_version=api_version,\n",
    "    #base_url=f\"{os.getenv('OpenAiWestUsEp')}openai/deployments/{os.getenv('OpenAiGpt4v')}/extensions\",\n",
    "    azure_endpoint=azure_endpoint,\n",
    ")"
   ]
  },
  {
   "attachments": {},
   "cell_type": "markdown",
   "metadata": {},
   "source": [
    "#### Basic Completion\n",
    "\n",
    "Let's look at a simple example to summarize a text. Remember that you can always control the output of a prompt via instructions, some typical controls are around:\n",
    "\n",
    "- length of the summary\n",
    "- target audience of the summary"
   ]
  },
  {
   "cell_type": "code",
   "execution_count": 6,
   "metadata": {},
   "outputs": [
    {
     "name": "stdout",
     "output_type": "stream",
     "text": [
      "Jupiter is a really big planet that is far away from the Sun. It is made mostly of gas and is much bigger than all the other planets combined. People have known about Jupiter for a really long time because it is very bright in the sky at night. It is named after a god from ancient Rome. Sometimes, Jupiter is so bright that it can make shadows on Earth. It is one of the brightest things we can see in the sky, after the Moon and Venus.\n"
     ]
    }
   ],
   "source": [
    "# Give your prompt here\n",
    "prompt = \"\"\"Summarize this for a second-grade student:\n",
    "\n",
    "        Jupiter is the fifth planet from the Sun and the largest in the Solar System. It is a gas giant with a mass one-thousandth that of \n",
    "        the Sun, but two-and-a-half times that of all the other planets in the Solar System combined. \n",
    "        Jupiter is one of the brightest objects visible to the naked eye in the night sky, and has been known to ancient\n",
    "        civilizations since before recorded history. It is named after the Roman god Jupiter. \n",
    "        When viewed from Earth, Jupiter can be bright enough for its reflected light to cast visible shadows, \n",
    "        and is on average the third-brightest natural object in the night sky after the Moon and Venus.\"\"\"\n",
    "\n",
    "messages=[\n",
    "        {\"role\": \"system\", \"content\": prompt}\n",
    "    ]\n",
    "\n",
    "try:\n",
    "    # Create a completion for the provided prompt and parameters\n",
    "    # To know more about the parameters, checkout this documentation: https://learn.microsoft.com/en-us/azure/cognitive-services/openai/reference\n",
    "    completion = client.chat.completions.create(\n",
    "                    messages=messages,\n",
    "                    temperature=0,\n",
    "                    max_tokens=500,\n",
    "                    model=OpenAiChat)\n",
    "\n",
    "    # print the completion\n",
    "    print(completion.choices[0].message.content.strip(\" \\n\"))\n",
    "    \n",
    "    # Here indicating if the response is filtered\n",
    "    if completion.choices[0].finish_reason == \"content_filter\":\n",
    "        print(\"The generated content is filtered.\")\n",
    "        \n",
    "except openai.error.APIError as e:\n",
    "    # Handle API error here, e.g. retry or log\n",
    "    print(f\"OpenAI API returned an API Error: {e}\")\n",
    "\n",
    "except openai.error.AuthenticationError as e:\n",
    "    # Handle Authentication error here, e.g. invalid API key\n",
    "    print(f\"OpenAI API returned an Authentication Error: {e}\")\n",
    "\n",
    "except openai.error.APIConnectionError as e:\n",
    "    # Handle connection error here\n",
    "    print(f\"Failed to connect to OpenAI API: {e}\")\n",
    "\n",
    "except openai.error.InvalidRequestError as e:\n",
    "    # Handle connection error here\n",
    "    print(f\"Invalid Request Error: {e}\")\n",
    "\n",
    "except openai.error.RateLimitError as e:\n",
    "    # Handle rate limit error\n",
    "    print(f\"OpenAI API request exceeded rate limit: {e}\")\n",
    "\n",
    "except openai.error.ServiceUnavailableError as e:\n",
    "    # Handle Service Unavailable error\n",
    "    print(f\"Service Unavailable: {e}\")\n",
    "\n",
    "except openai.error.Timeout as e:\n",
    "    # Handle request timeout\n",
    "    print(f\"Request timed out: {e}\")"
   ]
  },
  {
   "cell_type": "code",
   "execution_count": 7,
   "metadata": {},
   "outputs": [
    {
     "name": "stdout",
     "output_type": "stream",
     "text": [
      "Jupiter is a really big planet that is far away from the Sun. It is made of gas and is even bigger than all the other planets combined. People have known about Jupiter for a really long time because it is very bright in the sky at night. It is named after a god from ancient Rome.\n"
     ]
    }
   ],
   "source": [
    "#Let's change the prompt to specify the length of the summary to be 3 sentences.\n",
    "prompt = \"\"\"Summarize this for a second-grade student in 3 sentences:\n",
    "\n",
    "        Jupiter is the fifth planet from the Sun and the largest in the Solar System. It is a gas giant with a mass one-thousandth that of \n",
    "        the Sun, but two-and-a-half times that of all the other planets in the Solar System combined. \n",
    "        Jupiter is one of the brightest objects visible to the naked eye in the night sky, and has been known to ancient\n",
    "        civilizations since before recorded history. It is named after the Roman god Jupiter. \n",
    "        When viewed from Earth, Jupiter can be bright enough for its reflected light to cast visible shadows, \n",
    "        and is on average the third-brightest natural object in the night sky after the Moon and Venus.\"\"\"\n",
    "\n",
    "messages=[\n",
    "        {\"role\": \"system\", \"content\": prompt}\n",
    "    ]\n",
    "\n",
    "# Create a completion for the provided prompt and parameters\n",
    "# To know more about the parameters, checkout this documentation: https://learn.microsoft.com/en-us/azure/cognitive-services/openai/reference\n",
    "completion = client.chat.completions.create(\n",
    "                messages=messages,\n",
    "                temperature=0,\n",
    "                max_tokens=500,\n",
    "                model=OpenAiChat)\n",
    "\n",
    "# print the completion\n",
    "print(completion.choices[0].message.content.strip(\" \\n\"))"
   ]
  },
  {
   "cell_type": "code",
   "execution_count": 8,
   "metadata": {},
   "outputs": [
    {
     "name": "stdout",
     "output_type": "stream",
     "text": [
      "Jupiter is the largest planet in our Solar System and is made mostly of gas. It has a mass that is 1/1000th that of the Sun, but is still 2.5 times more massive than all the other planets combined. It is very bright and can even cast visible shadows on Earth.\n"
     ]
    }
   ],
   "source": [
    "#Let's now change the prompt to specify the target audience of the summary to be a physicist.\n",
    "prompt = \"\"\"Summarize this for a physicist in 3 sentences:\n",
    "\n",
    "        Jupiter is the fifth planet from the Sun and the largest in the Solar System. It is a gas giant with a mass one-thousandth that of \n",
    "        the Sun, but two-and-a-half times that of all the other planets in the Solar System combined. \n",
    "        Jupiter is one of the brightest objects visible to the naked eye in the night sky, and has been known to ancient\n",
    "        civilizations since before recorded history. It is named after the Roman god Jupiter. \n",
    "        When viewed from Earth, Jupiter can be bright enough for its reflected light to cast visible shadows, \n",
    "        and is on average the third-brightest natural object in the night sky after the Moon and Venus.\"\"\"\n",
    "\n",
    "messages=[\n",
    "        {\"role\": \"system\", \"content\": prompt}\n",
    "    ]\n",
    "\n",
    "# Create a completion for the provided prompt and parameters\n",
    "# To know more about the parameters, checkout this documentation: https://learn.microsoft.com/en-us/azure/cognitive-services/openai/reference\n",
    "completion = client.chat.completions.create(\n",
    "                messages=messages,\n",
    "                temperature=0,\n",
    "                max_tokens=500,\n",
    "                model=OpenAiChat)\n",
    "\n",
    "\n",
    "# print the completion\n",
    "print(completion.choices[0].message.content.strip(\" \\n\"))"
   ]
  },
  {
   "cell_type": "code",
   "execution_count": 9,
   "metadata": {},
   "outputs": [
    {
     "name": "stdout",
     "output_type": "stream",
     "text": [
      "- Jupiter is a really big planet that is the fifth one from the Sun.\n",
      "- It is made mostly of gas and is way bigger than all the other planets put together.\n",
      "- People have known about Jupiter for a really long time because it is really bright in the night sky.\n"
     ]
    }
   ],
   "source": [
    "#You can easily control the format of the summarization as well to fit into desired formats. \n",
    "#Let's summarize the same text in a bullet point format.\n",
    "prompt = \"\"\"Summarize this for a second-grade student in 3 sentences in bullet points:\n",
    "\n",
    "        Jupiter is the fifth planet from the Sun and the largest in the Solar System. It is a gas giant with a mass one-thousandth that of \n",
    "        the Sun, but two-and-a-half times that of all the other planets in the Solar System combined. \n",
    "        Jupiter is one of the brightest objects visible to the naked eye in the night sky, and has been known to ancient\n",
    "        civilizations since before recorded history. It is named after the Roman god Jupiter. \n",
    "        When viewed from Earth, Jupiter can be bright enough for its reflected light to cast visible shadows, \n",
    "        and is on average the third-brightest natural object in the night sky after the Moon and Venus.\"\"\"\n",
    "\n",
    "messages=[\n",
    "        {\"role\": \"system\", \"content\": prompt}\n",
    "    ]\n",
    "\n",
    "# Create a completion for the provided prompt and parameters\n",
    "# To know more about the parameters, checkout this documentation: https://learn.microsoft.com/en-us/azure/cognitive-services/openai/reference\n",
    "completion = client.chat.completions.create(\n",
    "                messages=messages,\n",
    "                temperature=0,\n",
    "                max_tokens=500,\n",
    "                model=OpenAiChat)\n",
    "\n",
    "# print the completion\n",
    "print(completion.choices[0].message.content.strip(\" \\n\"))"
   ]
  },
  {
   "cell_type": "code",
   "execution_count": 10,
   "metadata": {},
   "outputs": [
    {
     "name": "stdout",
     "output_type": "stream",
     "text": [
      "Title: \"Jupiter: The Biggest and Brightest Planet\"\n",
      "\n",
      "Abstract: Jupiter is a really big planet that is the fifth one from the Sun. It is so bright that we can see it in the night sky, and it is named after a Roman god.\n"
     ]
    }
   ],
   "source": [
    "#Summarize this for a second-grade student as a title and a one sentence abstract:\n",
    "prompt = \"\"\"Summarize this for a second-grade student as a title and a one sentence abstract:\n",
    "\n",
    "        Jupiter is the fifth planet from the Sun and the largest in the Solar System. It is a gas giant with a mass one-thousandth that of \n",
    "        the Sun, but two-and-a-half times that of all the other planets in the Solar System combined. \n",
    "        Jupiter is one of the brightest objects visible to the naked eye in the night sky, and has been known to ancient\n",
    "        civilizations since before recorded history. It is named after the Roman god Jupiter. \n",
    "        When viewed from Earth, Jupiter can be bright enough for its reflected light to cast visible shadows, \n",
    "        and is on average the third-brightest natural object in the night sky after the Moon and Venus.\"\"\"\n",
    "\n",
    "messages=[\n",
    "        {\"role\": \"system\", \"content\": prompt}\n",
    "    ]\n",
    "\n",
    "# Create a completion for the provided prompt and parameters\n",
    "# To know more about the parameters, checkout this documentation: https://learn.microsoft.com/en-us/azure/cognitive-services/openai/reference\n",
    "completion = client.chat.completions.create(\n",
    "                messages=messages,\n",
    "                temperature=0,\n",
    "                max_tokens=500,\n",
    "                model=OpenAiChat)\n",
    "\n",
    "# print the completion\n",
    "print(completion.choices[0].message.content.strip(\" \\n\"))"
   ]
  },
  {
   "cell_type": "code",
   "execution_count": 11,
   "metadata": {},
   "outputs": [
    {
     "name": "stdout",
     "output_type": "stream",
     "text": [
      "The first customer feedback is negative. The second customer feedback is positive.\n"
     ]
    }
   ],
   "source": [
    "#Sentiment Analysis\n",
    "prompt = \"\"\"Decide whether the following customer feedback is positive or negative.\n",
    "\n",
    "        Q: I was disappointed with the quality of the product. It was very cheaply made and did not meet my expectations at all.\n",
    "        Q: I was happy with this product, it is well made and great quality for the price.\n",
    "        \"\"\"\n",
    "\n",
    "messages=[\n",
    "        {\"role\": \"system\", \"content\": prompt}\n",
    "    ]\n",
    "\n",
    "# Create a completion for the provided prompt and parameters\n",
    "# To know more about the parameters, checkout this documentation: https://learn.microsoft.com/en-us/azure/cognitive-services/openai/reference\n",
    "completion = client.chat.completions.create(\n",
    "                messages=messages,\n",
    "                temperature=0,\n",
    "                max_tokens=500,\n",
    "                model=OpenAiChat)\n",
    "\n",
    "# print the completion\n",
    "print(completion.choices[0].message.content.strip(\" \\n\"))"
   ]
  },
  {
   "cell_type": "code",
   "execution_count": 12,
   "metadata": {},
   "outputs": [
    {
     "name": "stdout",
     "output_type": "stream",
     "text": [
      "- John Doe (name)\n",
      "- 35 (age)\n",
      "- 21 Main Street, New York, NY (address)\n",
      "- Software engineer (occupation)\n",
      "- Google (employer)\n",
      "- Jane Doe (wife's name)\n",
      "- Two children (family information)\n"
     ]
    }
   ],
   "source": [
    "#PII Detection\n",
    "prompt =  \"\"\"List all PII data from following statement:\n",
    "        John Doe is a 35-year old man and he lives at 21 Main Street, New York, NY. He is a software engineer and he works at Google. He has a wife named Jane Doe and they have two children\n",
    "        \"\"\"\n",
    "\n",
    "messages=[\n",
    "        {\"role\": \"system\", \"content\": prompt}\n",
    "    ]\n",
    "\n",
    "# Create a completion for the provided prompt and parameters\n",
    "# To know more about the parameters, checkout this documentation: https://learn.microsoft.com/en-us/azure/cognitive-services/openai/reference\n",
    "completion = client.chat.completions.create(\n",
    "                messages=messages,\n",
    "                temperature=0,\n",
    "                max_tokens=500,\n",
    "                model=OpenAiChat)\n",
    "\n",
    "\n",
    "# print the completion\n",
    "print(completion.choices[0].message.content.strip(\" \\n\"))"
   ]
  },
  {
   "cell_type": "code",
   "execution_count": 13,
   "metadata": {},
   "outputs": [
    {
     "name": "stdout",
     "output_type": "stream",
     "text": [
      "Department.name\n",
      "        FROM Department\n",
      "        INNER JOIN Employee ON Department.id = Employee.department_id\n",
      "        WHERE Employee.id IN (\n",
      "            SELECT employee_id\n",
      "            FROM Salary_Payments\n",
      "            WHERE date >= CURRENT_DATE - INTERVAL '3 months'\n",
      "            GROUP BY employee_id\n",
      "            HAVING COUNT(*) > 10\n",
      "        )\n"
     ]
    }
   ],
   "source": [
    "#Code Generation\n",
    "prompt =  \"\"\"### Postgres SQL tables, with their properties:\n",
    "        #\n",
    "        # Employee(id, name, department_id)\n",
    "        # Department(id, name, address)\n",
    "        # Salary_Payments(id, employee_id, amount, date)\n",
    "        #\n",
    "        ### A query to list the names of the departments which employed more than 10 employees in the last 3 months\n",
    "        query: SELECT\"\"\"\n",
    "\n",
    "messages=[\n",
    "        {\"role\": \"system\", \"content\": prompt}\n",
    "    ]\n",
    "\n",
    "# Create a completion for the provided prompt and parameters\n",
    "# To know more about the parameters, checkout this documentation: https://learn.microsoft.com/en-us/azure/cognitive-services/openai/reference\n",
    "completion = client.chat.completions.create(\n",
    "                messages=messages,\n",
    "                temperature=0,\n",
    "                max_tokens=500,\n",
    "                model=OpenAiChat)\n",
    "\n",
    "# print the completion\n",
    "print(completion.choices[0].message.content.strip(\" \\n\"))"
   ]
  },
  {
   "cell_type": "code",
   "execution_count": 14,
   "metadata": {},
   "outputs": [
    {
     "name": "stdout",
     "output_type": "stream",
     "text": [
      "This code is a SQL query that retrieves the names of departments that have more than 10 employees who have received salary payments in the last 3 months.\n",
      "\n",
      "The query starts by selecting the name column from the Department table. It then joins the Employee table on the condition that the department_id in the Employee table matches the id in the Department table.\n",
      "\n",
      "Next, it uses a subquery to select the employee_id from the Salary_Payments table where the date is greater than the current date minus 3 months.\n",
      "\n",
      "The main query then groups the results by the department name and applies a filter using the HAVING clause. It only includes departments where the count of employees is greater than 10.\n",
      "\n",
      "In summary, this query retrieves the names of departments that have more than 10 employees who have received salary payments in the last 3 months.\n"
     ]
    }
   ],
   "source": [
    "#Code Explanation\n",
    "prompt =  \"\"\"Can you explain what does this code do?\n",
    "        #\n",
    "        # ###\n",
    "        Code:\n",
    "        SELECT d.name FROM Department d JOIN Employee e ON d.id = e.department_id WHERE e.id IN (SELECT employee_id \n",
    "        FROM Salary_Payments WHERE date > now() - interval '3 months') GROUP BY d.name HAVING COUNT(*) > 10\n",
    "        #\n",
    "        #\n",
    "        Answer:\n",
    "        #\"\"\"\n",
    "\n",
    "messages=[\n",
    "        {\"role\": \"system\", \"content\": prompt}\n",
    "    ]\n",
    "\n",
    "# Create a completion for the provided prompt and parameters\n",
    "# To know more about the parameters, checkout this documentation: https://learn.microsoft.com/en-us/azure/cognitive-services/openai/reference\n",
    "completion = client.chat.completions.create(\n",
    "                messages=messages,\n",
    "                temperature=0,\n",
    "                max_tokens=500,\n",
    "                model=OpenAiChat)\n",
    "\n",
    "# print the completion\n",
    "print(completion.choices[0].message.content.strip(\" \\n\"))"
   ]
  },
  {
   "cell_type": "code",
   "execution_count": 15,
   "metadata": {},
   "outputs": [],
   "source": [
    "# Helper Function to call OpenAI\n",
    "def callOpenAi(num_times, messages, temperature):\n",
    "    for i in range(num_times):\n",
    "        response = client.chat.completions.create(\n",
    "            model=OpenAiChat,\n",
    "            messages=messages,\n",
    "            max_tokens=60,\n",
    "            temperature = temperature\n",
    "        )\n",
    "        print(response.choices[0].message.content.strip(\" \\n\"))"
   ]
  },
  {
   "cell_type": "code",
   "execution_count": 16,
   "metadata": {},
   "outputs": [
    {
     "name": "stdout",
     "output_type": "stream",
     "text": [
      "subjective question and can vary depending on individual preferences and circumstances. Some people may prefer dogs as pets because they are loyal, affectionate, and can be trained to perform various tasks. Others may prefer cats because they are independent, low-maintenance, and provide companionship. Some people may prefer smaller\n",
      "subjective question and can vary depending on individual preferences and circumstances. Some people may prefer dogs as pets because they are loyal, affectionate, and can be trained to perform various tasks. Others may prefer cats because they are independent, low-maintenance, and provide companionship. Some people may prefer smaller\n",
      "subjective question and can vary depending on individual preferences and circumstances. Some people may prefer dogs as pets because they are loyal, affectionate, and can be trained to perform various tasks. Others may prefer cats because they are independent, low-maintenance, and provide companionship. Some people may prefer smaller\n",
      "subjective question and can vary depending on individual preferences and circumstances. Some people may prefer dogs as pets because they are loyal, affectionate, and can be trained to perform various tasks. Others may prefer cats because they are independent, low-maintenance, and provide companionship. Some people may prefer smaller\n",
      "subjective question and can vary depending on individual preferences and circumstances. Some people may prefer dogs as pets because they are loyal, affectionate, and can be trained to perform various tasks. Others may prefer cats because they are independent, low-maintenance, and provide companionship. Some people may prefer smaller\n",
      "subjective question and can vary depending on individual preferences and circumstances. Some people may prefer dogs as pets because they are loyal, affectionate, and can be trained to perform various tasks. Others may prefer cats because they are independent, low-maintenance, and provide companionship. Some people may prefer smaller\n",
      "subjective question and can vary depending on individual preferences and circumstances. Some people may prefer dogs as pets because they are loyal, affectionate, and can be trained to perform various tasks. Others may prefer cats because they are independent, low-maintenance, and provide companionship. Some people may prefer smaller\n",
      "subjective question and can vary depending on individual preferences and circumstances. Some people may prefer dogs as pets because they are loyal, affectionate, and can be trained to perform various tasks. Others may prefer cats because they are independent, low-maintenance, and provide companionship. Some people may prefer smaller\n",
      "subjective question and can vary depending on individual preferences and circumstances. Some people may prefer dogs as pets because they are loyal, affectionate, and can be trained to perform various tasks. Others may prefer cats because they are independent, low-maintenance, and provide companionship. Some people may prefer smaller\n",
      "subjective question and can vary depending on individual preferences and circumstances. Some people may prefer dogs as pets because they are loyal, affectionate, and can be trained to perform various tasks. Others may prefer cats because they are independent, low-maintenance, and provide companionship. Some people may prefer smaller\n"
     ]
    }
   ],
   "source": [
    "# Temperature - Defaults to 1\n",
    "# What sampling temperature to use. Higher values means the model will take more risks. \n",
    "# Try 0.9 for more creative applications, and 0 (argmax sampling) for ones with a well-defined answer.\n",
    "#We generally recommend altering this or top_p but not both.\n",
    "messages=[\n",
    "        {\"role\": \"system\", \"content\": 'The best pet is a '}\n",
    "    ]\n",
    "callOpenAi(10, messages, temperature = 0)"
   ]
  },
  {
   "cell_type": "code",
   "execution_count": 17,
   "metadata": {},
   "outputs": [
    {
     "name": "stdout",
     "output_type": "stream",
     "text": [
      "subjective topic and will vary depending on individual preferences, lifestyle, and living situation. Some people may prefer dogs as they are loyal, playful, and can be trained to perform various tasks. Others may prefer cats as they are independent, low maintenance, and provide companionship. Some people may prefer smaller\n",
      "subjective topic and can vary depending on individual preferences and circumstances. Some people may prefer dogs as pets because they are loyal, affectionate, and can be trained to perform various tasks such as fetching, guarding, and assisting people with disabilities. Others may prefer cats because they are independent, low-maintenance\n",
      "subjective topic, as what may be the best pet for one person may not be the best for another. However, some popular options that are often considered the best pets include dogs, cats, and fish.\n",
      "\n",
      "Dogs are often regarded as the best pets due to their loyal and affectionate nature.\n",
      "subjective opinion as different people have different preferences and needs when it comes to choosing a pet. Some may prefer dogs because of their loyalty and companionship, while others may prefer cats due to their independent nature and low maintenance. Some may find reptiles or fish to be the best pets because they are\n",
      "subjective opinion and may vary depending on individual preferences and circumstances. Different people may have different reasons for considering a particular pet as the best. Some may prefer dogs for their loyalty and companionship, while others may prefer cats for their independence and low maintenance. Some people may prefer small pets like hamsters\n",
      "subjective question and depends on individual preferences. Some people may prefer dogs as pets because they are loyal, playful, and can be trained easily. Others may prefer cats as pets because they are independent, low-maintenance, and provide comfort and companionship. Some people may prefer birds as pets because they\n",
      "subjective question and depends on individual preferences. Some people may argue that the best pet is a dog because they are loyal, affectionate, and can be trained to perform various tasks. Others may argue that cats make the best pets because they are independent, low maintenance, and provide comfort and companionship\n",
      "subjective topic, as it ultimately depends on individual preferences and lifestyle. Some people may prefer dogs as pets because they are loyal, loving, and can be trained to perform various tasks. Others may prefer cats because they are low maintenance, independent, and provide companionship. Some people may prefer smaller animals\n",
      "subjective choice that varies from person to person. Some may prefer an active pet like a dog that can go on long walks and play fetch, while others may prefer a low-maintenance pet like a cat that requires less attention. Some people may enjoy the companionship of a small pet like a ham\n",
      "subjective question and would depend on individual preferences and circumstances. Some people may prefer dogs as pets because they are loyal, affectionate, and can provide protection. Others may prefer cats because they are independent, low maintenance, and can provide comfort. Some people may prefer smaller animals such as hamsters or\n"
     ]
    }
   ],
   "source": [
    "# Let's vary the temperature and set it to \"1\"\n",
    "messages=[\n",
    "        {\"role\": \"system\", \"content\": 'The best pet is a '}\n",
    "    ]\n",
    "callOpenAi(10, messages, temperature = 1)"
   ]
  },
  {
   "cell_type": "code",
   "execution_count": 18,
   "metadata": {},
   "outputs": [],
   "source": [
    "# Helper Function to call OpenAI\n",
    "def callOpenAiTopP(num_times, messages, top_p):\n",
    "    for i in range(num_times):\n",
    "        response =client.chat.completions.create(\n",
    "            model=OpenAiChat,\n",
    "            messages=messages,\n",
    "            max_tokens=60,\n",
    "            top_p = top_p\n",
    "        )\n",
    "        print(response.choices[0].message.content.strip(\" \\n\"))"
   ]
  },
  {
   "cell_type": "code",
   "execution_count": 19,
   "metadata": {},
   "outputs": [
    {
     "name": "stdout",
     "output_type": "stream",
     "text": [
      "subjective matter and depends on individual preferences and circumstances. Some people may find dogs to be the best pets due to their loyalty, companionship, and ability to provide protection. Others may prefer cats for their independence and low maintenance nature. Additionally, some people might choose smaller animals like hamsters, birds\n",
      "subjective matter, as different people have different preferences and lifestyles. Some people may prefer dogs, as they are loyal, trainable, and can provide security. Others may prefer cats, as they are independent, low-maintenance, and can provide comfort and companionship. Some people may prefer smaller pets such\n",
      "subjective choice that varies depending on individual preferences and lifestyle. Some may argue that dogs make the best pets because of their loyalty and companionship. Others may say that cats make the best pets because of their independence and low-maintenance nature. Some may prefer smaller pets like hamsters or guinea pigs\n",
      "personal preference and can vary from person to person. Some may prefer dogs because they are loyal and provide companionship, while others may prefer cats because they are independent and low-maintenance. Some may prefer smaller pets like hamsters or guinea pigs because they are easier to care for and require less space\n",
      "subjective question and can vary from person to person. Some people may prefer dogs as they are loyal, affectionate, and can be trained easily. Others may prefer cats as they are independent, low maintenance, and provide great companionship. Other options for pets could include birds, rabbits, hamsters\n"
     ]
    }
   ],
   "source": [
    "# top_p - Defaults to 1\n",
    "# An alternative to sampling with temperature, called nucleus sampling, where the model considers the results of the tokens \n",
    "# with top_p probability mass. So 0.1 means only the tokens comprising the top 10% probability mass are considered.\n",
    "# We generally recommend altering this or temperature but not both.\n",
    "messages=[\n",
    "        {\"role\": \"system\", \"content\": 'The best pet is a '}\n",
    "    ]\n",
    "callOpenAiTopP(5, messages, top_p = 1)"
   ]
  },
  {
   "cell_type": "code",
   "execution_count": 20,
   "metadata": {},
   "outputs": [
    {
     "name": "stdout",
     "output_type": "stream",
     "text": [
      "subjective question and can vary depending on individual preferences and circumstances. Some people may prefer dogs as pets because they are loyal, affectionate, and can be trained to perform various tasks. Others may prefer cats because they are independent, low-maintenance, and provide companionship. Some people may prefer smaller\n",
      "subjective question and can vary depending on individual preferences and circumstances. Some people may prefer dogs as pets because they are loyal, affectionate, and can be trained to perform various tasks. Others may prefer cats because they are independent, low-maintenance, and provide companionship. Some people may prefer smaller\n",
      "subjective question and can vary depending on individual preferences and circumstances. Some people may prefer dogs as pets because they are loyal, affectionate, and can be trained to perform various tasks. Others may prefer cats because they are independent, low-maintenance, and provide companionship. Some people may prefer smaller\n",
      "subjective question and can vary depending on individual preferences and circumstances. Some people may prefer dogs as pets because they are loyal, affectionate, and can be trained to perform various tasks. Others may prefer cats because they are independent, low-maintenance, and provide companionship. Some people may prefer smaller\n",
      "subjective question and can vary depending on individual preferences and circumstances. Some people may prefer dogs as pets because they are loyal, affectionate, and can be trained to perform various tasks. Others may prefer cats because they are independent, low-maintenance, and provide companionship. Some people may prefer smaller\n"
     ]
    }
   ],
   "source": [
    "# Let's vary the top_p and set it to \"0.1\"\n",
    "messages=[\n",
    "        {\"role\": \"system\", \"content\": 'The best pet is a '}\n",
    "    ]\n",
    "callOpenAiTopP(5, messages, top_p = 0.1)"
   ]
  }
 ],
 "metadata": {
  "kernelspec": {
   "display_name": "Python 3",
   "language": "python",
   "name": "python3"
  },
  "language_info": {
   "codemirror_mode": {
    "name": "ipython",
    "version": 3
   },
   "file_extension": ".py",
   "mimetype": "text/x-python",
   "name": "python",
   "nbconvert_exporter": "python",
   "pygments_lexer": "ipython3",
   "version": "3.11.9"
  },
  "orig_nbformat": 4
 },
 "nbformat": 4,
 "nbformat_minor": 2
}
