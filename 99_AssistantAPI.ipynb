{
 "cells": [
  {
   "cell_type": "code",
   "execution_count": 18,
   "metadata": {},
   "outputs": [
    {
     "name": "stderr",
     "output_type": "stream",
     "text": [
      "C:\\Users\\astalati\\AppData\\Roaming\\Python\\Python311\\site-packages\\yfinance\\base.py:48: FutureWarning: The default dtype for empty Series will be 'object' instead of 'float64' in a future version. Specify a dtype explicitly to silence this warning.\n",
      "  _empty_series = pd.Series()\n"
     ]
    }
   ],
   "source": [
    "import html\n",
    "import io\n",
    "import os\n",
    "import time\n",
    "from datetime import datetime\n",
    "from pathlib import Path\n",
    "from typing import Iterable\n",
    "\n",
    "import requests\n",
    "import yfinance as yf\n",
    "from dotenv import load_dotenv\n",
    "from openai import AzureOpenAI\n",
    "from openai.types import FileObject\n",
    "from openai.types.beta import Thread\n",
    "from openai.types.beta.threads import Run\n",
    "from openai.types.beta.threads.message_content_image_file import MessageContentImageFile\n",
    "from openai.types.beta.threads.message_content_text import MessageContentText\n",
    "from openai.types.beta.threads.messages import MessageFile\n",
    "from PIL import Image"
   ]
  },
  {
   "cell_type": "markdown",
   "metadata": {},
   "source": [
    "#### Load the environment variables"
   ]
  },
  {
   "cell_type": "code",
   "execution_count": 19,
   "metadata": {},
   "outputs": [],
   "source": [
    "load_dotenv(\"./.env\")\n",
    "api_endpoint = os.getenv(\"OpenAiAssistantEp\")\n",
    "api_key = os.getenv(\"OpenAiAssistantKey\")\n",
    "api_version = os.getenv(\"OpenAiAssistantVersion\")\n",
    "api_deployment_name = os.getenv(\"OpenAiGpt4Turbo\")"
   ]
  },
  {
   "cell_type": "markdown",
   "metadata": {},
   "source": [
    "#### Create an AzureOpenAI client"
   ]
  },
  {
   "cell_type": "code",
   "execution_count": 7,
   "metadata": {},
   "outputs": [],
   "source": [
    "client = AzureOpenAI(api_key=api_key, api_version=api_version, azure_endpoint=api_endpoint)"
   ]
  },
  {
   "cell_type": "markdown",
   "metadata": {},
   "source": [
    "#### Prepare the tools for function calling"
   ]
  },
  {
   "cell_type": "code",
   "execution_count": 8,
   "metadata": {},
   "outputs": [],
   "source": [
    "tools_list = [\n",
    "    {\"type\": \"code_interpreter\"},\n",
    "]"
   ]
  },
  {
   "cell_type": "code",
   "execution_count": 9,
   "metadata": {},
   "outputs": [],
   "source": [
    "dataFolder = \"./Data/CSV/FailedBanks\"\n",
    "\n",
    "def upload_file(client: AzureOpenAI, path: str) -> FileObject:\n",
    "    with Path(path).open(\"rb\") as f:\n",
    "        return client.files.create(file=f, purpose=\"assistants\")\n",
    "\n",
    "arr = os.listdir(dataFolder)\n",
    "assistant_files = []\n",
    "for file in arr:\n",
    "    filePath = dataFolder + file\n",
    "    assistant_files.append(upload_file(client, filePath))\n",
    "\n",
    "file_ids = [file.id for file in assistant_files]"
   ]
  },
  {
   "cell_type": "markdown",
   "metadata": {},
   "source": [
    "#### Create an Assistant and a Thread"
   ]
  },
  {
   "cell_type": "code",
   "execution_count": 10,
   "metadata": {},
   "outputs": [],
   "source": [
    "assistant = client.beta.assistants.create(\n",
    "    name=\"Failed Banks Assistant\",\n",
    "    instructions=\"You are an assistant that can help find information about failed banks. \"\n",
    "    + \"Use the provided file only.\",\n",
    "    tools=tools_list,\n",
    "    model=api_deployment_name,\n",
    "    file_ids=file_ids,\n",
    ")\n",
    "\n",
    "thread = client.beta.threads.create()"
   ]
  },
  {
   "cell_type": "markdown",
   "metadata": {},
   "source": [
    "#### Format and display the Assistant Messages for text and images"
   ]
  },
  {
   "cell_type": "code",
   "execution_count": 11,
   "metadata": {},
   "outputs": [],
   "source": [
    "def read_assistant_file(file_id:str):\n",
    "    response_content = client.files.content(file_id)\n",
    "    return response_content.read() \n",
    "\n",
    "def print_messages(messages: Iterable[MessageFile]) -> None:\n",
    "    message_list = []\n",
    "\n",
    "    # Get all the messages till the last user message\n",
    "    for message in messages:\n",
    "        message_list.append(message)\n",
    "        if message.role == \"user\":\n",
    "            break\n",
    "\n",
    "    # Reverse the messages to show the last user message first\n",
    "    message_list.reverse()\n",
    "\n",
    "    # Print the user or Assistant messages or images\n",
    "    for message in message_list:\n",
    "        for item in message.content:\n",
    "            # Determine the content type\n",
    "            if isinstance(item, MessageContentText):\n",
    "                print(f\"{message.role}:\\n{item.text.value}\\n\")\n",
    "                file_annotations = item.text.annotations\n",
    "                if file_annotations:\n",
    "                    for annotation in file_annotations:\n",
    "                        file_id = annotation.file_path.file_id\n",
    "                        content = read_assistant_file(file_id)\n",
    "                        print(f\"Annotation Content:\\n{str(content)}\\n\")\n",
    "            elif isinstance(item, MessageContentImageFile):\n",
    "                # Retrieve image from file id                \n",
    "                data_in_bytes = read_assistant_file(item.image_file.file_id)\n",
    "                # Convert bytes to image\n",
    "                readable_buffer = io.BytesIO(data_in_bytes)\n",
    "                image = Image.open(readable_buffer)\n",
    "                # Resize image to fit in terminal\n",
    "                width, height = image.size\n",
    "                image = image.resize((width // 2, height // 2), Image.LANCZOS)\n",
    "                # Display image\n",
    "                image.show()"
   ]
  },
  {
   "cell_type": "markdown",
   "metadata": {},
   "source": [
    "#### Process the user messages"
   ]
  },
  {
   "cell_type": "code",
   "execution_count": 12,
   "metadata": {},
   "outputs": [],
   "source": [
    "def process_prompt(prompt: str) -> None:\n",
    "    client.beta.threads.messages.create(thread_id=thread.id, role=\"user\", content=prompt)\n",
    "    run = client.beta.threads.runs.create(\n",
    "        thread_id=thread.id,\n",
    "        assistant_id=assistant.id,\n",
    "        instructions=\"Please address the user as Jane Doe. The user has a premium account. Be assertive, accurate, and polite. Ask if the user has further questions. \"\n",
    "        + \"The current date and time is: \"\n",
    "        + datetime.now().strftime(\"%x %X\")\n",
    "        + \". \",\n",
    "    )\n",
    "    print(\"processing ...\")\n",
    "    while True:\n",
    "        run = client.beta.threads.runs.retrieve(thread_id=thread.id, run_id=run.id)\n",
    "        if run.status == \"completed\":\n",
    "            # Handle completed\n",
    "            messages = client.beta.threads.messages.list(thread_id=thread.id)\n",
    "            print_messages(messages)\n",
    "            break\n",
    "        if run.status == \"failed\":\n",
    "            messages = client.beta.threads.messages.list(thread_id=thread.id)\n",
    "            answer = messages.data[0].content[0].text.value\n",
    "            print(f\"Failed User:\\n{prompt}\\nAssistant:\\n{answer}\\n\")\n",
    "            # Handle failed\n",
    "            break\n",
    "        if run.status == \"expired\":\n",
    "            # Handle expired\n",
    "            print(run)\n",
    "            break\n",
    "        if run.status == \"cancelled\":\n",
    "            # Handle cancelled\n",
    "            print(run)\n",
    "            break\n",
    "        if run.status == \"requires_action\":\n",
    "            # Handle function calling and continue processing\n",
    "            pass\n",
    "        else:\n",
    "            time.sleep(5)"
   ]
  },
  {
   "cell_type": "markdown",
   "metadata": {},
   "source": [
    "#### Process user requests"
   ]
  },
  {
   "cell_type": "code",
   "execution_count": 13,
   "metadata": {},
   "outputs": [
    {
     "name": "stdout",
     "output_type": "stream",
     "text": [
      "processing ...\n",
      "user:\n",
      "Create a chart of failed banks by state.\n",
      "\n",
      "assistant:\n",
      "To create a chart of failed banks by state, I would need relevant data, which may be contained in one of the files you've uploaded. Let's begin by examining the content of the uploaded files to identify which one contains the information we need to generate the chart. I will go through the files one by one and provide a summary of their contents. After identifying the correct file, I will extract the data and create the chart for you.\n",
      "\n",
      "I will start by examining the first file provided. Please give me a moment.\n",
      "\n",
      "assistant:\n",
      "The first file does not contain data regarding failed banks by state; instead, it contains a set of questions, other ways to ask these questions, responses, and related GRI resource links. Let's move on to examine the next file. Please hold on while I check the content.\n",
      "\n",
      "assistant:\n",
      "The second file contains data related to COVID-19, with information on deaths, hospitalizations, and various testing metrics by state and date. This is not the data we are looking for regarding failed banks.\n",
      "\n",
      "Let's continue and examine the content of the next file for the relevant data on failed banks by state. Please bear with me.\n",
      "\n",
      "assistant:\n",
      "The third file also contains COVID-19 data similar to the second file, reporting on deaths, hospitalizations, and test metrics across different states. This is not the information we need for the failed banks by state.\n",
      "\n",
      "Let's proceed and examine the remaining files to locate the necessary information. Please stay with me for a moment.\n",
      "\n",
      "assistant:\n",
      "The fourth file looks promising; it contains information about banks, including their name, city, state, certification number, acquiring institution, closing date, and a fund number. This data appears to relate to bank closures, so it could be what we need to create the chart of failed banks by state.\n",
      "\n",
      "I will summarize the data by state and prepare the chart accordingly. Please hold on for a short while as I process this information.\n",
      "\n",
      "assistant:\n",
      "Here is the chart displaying the number of failed banks by state, based on the data provided in the fourth file. As you can see, it gives a clear visual representation of the distribution of failed banks across different states.\n",
      "\n",
      "If you have any further questions or need additional analysis, please let me know.\n",
      "\n"
     ]
    }
   ],
   "source": [
    "process_prompt(\"Create a chart of failed banks by state.\")"
   ]
  },
  {
   "cell_type": "code",
   "execution_count": 14,
   "metadata": {},
   "outputs": [
    {
     "name": "stdout",
     "output_type": "stream",
     "text": [
      "processing ...\n",
      "user:\n",
      "What was the last bank to fail?\n",
      "\n",
      "assistant:\n",
      "To determine the last bank to fail, I will sort the data by the \"Closing Date\" and find the most recent entry. I'll do this now for you.\n",
      "\n",
      "assistant:\n",
      "The last bank to fail, according to the data provided, was Citizens Bank, located in Sac City, Iowa. The bank failed on November 3, 2023.\n",
      "\n",
      "If you have any more questions or need further assistance, please feel free to ask.\n",
      "\n"
     ]
    }
   ],
   "source": [
    "process_prompt(\"What was the last bank to fail?\")"
   ]
  },
  {
   "cell_type": "code",
   "execution_count": 15,
   "metadata": {},
   "outputs": [
    {
     "name": "stdout",
     "output_type": "stream",
     "text": [
      "processing ...\n",
      "user:\n",
      "Which state has the most bank failures?\n",
      "\n",
      "assistant:\n",
      "Based on the previously summarized data, I will identify the state with the most bank failures. Let me provide you with that information now.\n",
      "\n",
      "assistant:\n",
      "The state with the most bank failures, as per the data we have, is Georgia (GA), with a total of 93 failed banks.\n",
      "\n",
      "Should you need any additional information or assistance, please let me know.\n",
      "\n"
     ]
    }
   ],
   "source": [
    "process_prompt(\"Which state has the most bank failures?\")"
   ]
  },
  {
   "cell_type": "code",
   "execution_count": 16,
   "metadata": {},
   "outputs": [
    {
     "name": "stdout",
     "output_type": "stream",
     "text": [
      "processing ...\n",
      "user:\n",
      "Which banks failed in Florida in between 2020-2023?\n",
      "\n",
      "assistant:\n",
      "To find out which banks failed in Florida between 2020 and 2023, I will filter the data for banks located in Florida, and then further filter by the closing date to fall within the specified range from January 1, 2020, to December 31, 2023.\n",
      "\n",
      "Let's do this now.\n",
      "\n",
      "assistant:\n",
      "Between 2020 and 2023, the following bank failed in Florida:\n",
      "\n",
      "- First City Bank of Florida in Fort Walton Beach. The bank failed on October 16, 2020.\n",
      "\n",
      "There are no other entries for failed banks in Florida within the specified date range in the dataset provided.\n",
      "\n",
      "If you have any further questions or require more information, please let me know.\n",
      "\n"
     ]
    }
   ],
   "source": [
    "process_prompt(\"Which banks failed in Florida in between 2020-2023?\")"
   ]
  },
  {
   "cell_type": "markdown",
   "metadata": {},
   "source": [
    "#### Cleanup"
   ]
  },
  {
   "cell_type": "code",
   "execution_count": 17,
   "metadata": {},
   "outputs": [],
   "source": [
    "client.beta.assistants.delete(assistant.id)\n",
    "client.beta.threads.delete(thread.id)\n",
    "for file in assistant_files:\n",
    "    client.files.delete(file.id)"
   ]
  },
  {
   "cell_type": "markdown",
   "metadata": {},
   "source": [
    "#### Using Functions"
   ]
  },
  {
   "cell_type": "markdown",
   "metadata": {},
   "source": [
    "###### Get the latest stock price by ticker symbol using Yahoo Finance"
   ]
  },
  {
   "cell_type": "code",
   "execution_count": 20,
   "metadata": {},
   "outputs": [],
   "source": [
    "def get_stock_price(symbol: str) -> float:\n",
    "    stock = yf.Ticker(symbol)\n",
    "    return stock.history(period=\"1d\")[\"Close\"].iloc[-1]"
   ]
  },
  {
   "cell_type": "markdown",
   "metadata": {},
   "source": [
    "#### Define the Assistant tools"
   ]
  },
  {
   "cell_type": "code",
   "execution_count": null,
   "metadata": {},
   "outputs": [],
   "source": [
    "tools_list = [\n",
    "    {\"type\": \"code_interpreter\"},\n",
    "    {\n",
    "        \"type\": \"function\",\n",
    "        \"function\": {\n",
    "            \"name\": \"get_stock_price\",\n",
    "            \"description\": \"Retrieve the latest closing price of a stock using its ticker symbol.\",\n",
    "            \"parameters\": {\n",
    "                \"type\": \"object\",\n",
    "                \"properties\": {\"symbol\": {\"type\": \"string\", \"description\": \"The ticker symbol of the stock\"}},\n",
    "                \"required\": [\"symbol\"],\n",
    "            },\n",
    "        },\n",
    "    },\n",
    "    {\n",
    "        \"type\": \"function\",\n",
    "        \"function\": {\n",
    "            \"name\": \"send_email\",\n",
    "            \"description\": \"Sends an email to a recipient(s).\",\n",
    "            \"parameters\": {\n",
    "                \"type\": \"object\",\n",
    "                \"properties\": {\n",
    "                    \"to\": {\"type\": \"string\", \"description\": \"The email(s) the email should be sent to.\"},\n",
    "                    \"content\": {\"type\": \"string\", \"description\": \"The content of the email.\"},\n",
    "                },\n",
    "                \"required\": [\"to\", \"content\"],\n",
    "            },\n",
    "        },\n",
    "    },\n",
    "]"
   ]
  }
 ],
 "metadata": {
  "kernelspec": {
   "display_name": "Python 3",
   "language": "python",
   "name": "python3"
  },
  "language_info": {
   "codemirror_mode": {
    "name": "ipython",
    "version": 3
   },
   "file_extension": ".py",
   "mimetype": "text/x-python",
   "name": "python",
   "nbconvert_exporter": "python",
   "pygments_lexer": "ipython3",
   "version": "3.11.0"
  }
 },
 "nbformat": 4,
 "nbformat_minor": 2
}
